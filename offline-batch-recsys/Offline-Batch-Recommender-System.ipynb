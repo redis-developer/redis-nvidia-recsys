{
 "cells": [
  {
   "cell_type": "markdown",
   "id": "ca23d058-eefd-45e5-8769-1f277acc032b",
   "metadata": {
    "pycharm": {
     "name": "#%% md\n"
    }
   },
   "source": [
    "# Offline Batch Recommender System\n",
    "\n",
    "In this notebook, we will build a simple offline batch recsys that writes recommendations to Redis for quick retrieval later. The architecture diagram below shows how it comes together from a bird's eye view.\n",
    "\n",
    "![](./img/OfflineBatchRecsys.png)\n",
    "\n",
    "## Architecture\n",
    "Recommender systems commonly have a *multi-stage pipeline*:\n",
    "1) A fast **Candidate Retrieval Model** quickly truncates the large item catalog to a relevant set of hundreds (or thousands) of items.\n",
    "2) Filtering is performed to remove undesirable or already-seen items.\n",
    "3) A finely-tuned deep learning **Ranking Model** (i.e. more powerful) ranks the most likely items that are going to interacted with.\n",
    "4) Results are ordered and returned to the user.\n",
    "\n",
    "In this case, we will write recommendations to a key-value store (Redis) such that a client can request these in near \"realtime\" at a later point.\n",
    "\n",
    "> WHY? This is especially useful for developers who can't afford the complexity of hosting a live multi-stage recsys OR need to get something up and running *quickly*\n",
    "\n",
    "In this notebook, we will:\n",
    "\n",
    "1) Prepare the [**Dataset**]()\n",
    "2) Build a [**Candidate Retrieval Model**](#candidate)\n",
    "3) Build a [**Ranking Model**]()\n",
    "4) [**Write Recommendations**]() to Redis (offline)\n",
    "5) [**Fetch Recommendations**]() from Redis\n",
    "6) [**Export Models**]() for later use"
   ]
  },
  {
   "cell_type": "markdown",
   "id": "bbf37d1b-6aa8-4df8-9ac2-db968b595078",
   "metadata": {},
   "source": [
    "*This notebook was created using the latest stable [merlin-tensorflow](https://catalog.ngc.nvidia.com/orgs/nvidia/teams/merlin/containers/merlin-tensorflow/tags) container and was heavily based on the work done by the NVIDIA Merlin team [here](https://github.com/NVIDIA-Merlin/models/blob/main/examples/05-Retrieval-Model.ipynb)*"
   ]
  },
  {
   "cell_type": "markdown",
   "id": "401daa6d",
   "metadata": {
    "pycharm": {
     "name": "#%% md\n"
    }
   },
   "source": [
    "## Dataset Preparation\n",
    "\n",
    "We will use a synthetic dataset that mimicks the [Ali-CCP: Alibaba Click and Conversion Prediction](https://tianchi.aliyun.com/dataset/dataDetail?dataId=408#1) dataset. This allows us to tune it to our exact needs for demonstration/learning purposes.\n"
   ]
  },
  {
   "cell_type": "markdown",
   "id": "cdac1fea",
   "metadata": {
    "pycharm": {
     "name": "#%% md\n"
    }
   },
   "source": [
    "### Importing Libraries"
   ]
  },
  {
   "cell_type": "code",
   "execution_count": 1,
   "id": "92aa8daa",
   "metadata": {
    "collapsed": true,
    "jupyter": {
     "outputs_hidden": true
    },
    "pycharm": {
     "name": "#%%\n"
    },
    "tags": []
   },
   "outputs": [
    {
     "name": "stderr",
     "output_type": "stream",
     "text": [
      "/usr/local/lib/python3.8/dist-packages/tqdm/auto.py:22: TqdmWarning: IProgress not found. Please update jupyter and ipywidgets. See https://ipywidgets.readthedocs.io/en/stable/user_install.html\n",
      "  from .autonotebook import tqdm as notebook_tqdm\n",
      "2023-01-12 15:50:23.617092: I tensorflow/core/util/util.cc:169] oneDNN custom operations are on. You may see slightly different numerical results due to floating-point round-off errors from different computation orders. To turn them off, set the environment variable `TF_ENABLE_ONEDNN_OPTS=0`.\n",
      "/usr/lib/python3/dist-packages/requests/__init__.py:89: RequestsDependencyWarning: urllib3 (1.26.12) or chardet (3.0.4) doesn't match a supported version!\n",
      "  warnings.warn(\"urllib3 ({}) or chardet ({}) doesn't match a supported \"\n",
      "2023-01-12 15:50:28.778743: I tensorflow/stream_executor/cuda/cuda_gpu_executor.cc:991] successful NUMA node read from SysFS had negative value (-1), but there must be at least one NUMA node, so returning NUMA node zero\n",
      "2023-01-12 15:50:28.781490: I tensorflow/stream_executor/cuda/cuda_gpu_executor.cc:991] successful NUMA node read from SysFS had negative value (-1), but there must be at least one NUMA node, so returning NUMA node zero\n",
      "2023-01-12 15:50:28.782925: I tensorflow/stream_executor/cuda/cuda_gpu_executor.cc:991] successful NUMA node read from SysFS had negative value (-1), but there must be at least one NUMA node, so returning NUMA node zero\n",
      "2023-01-12 15:50:29.604885: I tensorflow/core/platform/cpu_feature_guard.cc:194] This TensorFlow binary is optimized with oneAPI Deep Neural Network Library (oneDNN) to use the following CPU instructions in performance-critical operations:  SSE3 SSE4.1 SSE4.2 AVX\n",
      "To enable them in other operations, rebuild TensorFlow with the appropriate compiler flags.\n",
      "2023-01-12 15:50:29.606403: I tensorflow/stream_executor/cuda/cuda_gpu_executor.cc:991] successful NUMA node read from SysFS had negative value (-1), but there must be at least one NUMA node, so returning NUMA node zero\n",
      "2023-01-12 15:50:29.607950: I tensorflow/stream_executor/cuda/cuda_gpu_executor.cc:991] successful NUMA node read from SysFS had negative value (-1), but there must be at least one NUMA node, so returning NUMA node zero\n",
      "2023-01-12 15:50:29.609365: I tensorflow/stream_executor/cuda/cuda_gpu_executor.cc:991] successful NUMA node read from SysFS had negative value (-1), but there must be at least one NUMA node, so returning NUMA node zero\n",
      "2023-01-12 15:50:33.939854: I tensorflow/stream_executor/cuda/cuda_gpu_executor.cc:991] successful NUMA node read from SysFS had negative value (-1), but there must be at least one NUMA node, so returning NUMA node zero\n",
      "2023-01-12 15:50:33.941561: I tensorflow/stream_executor/cuda/cuda_gpu_executor.cc:991] successful NUMA node read from SysFS had negative value (-1), but there must be at least one NUMA node, so returning NUMA node zero\n",
      "2023-01-12 15:50:33.942995: I tensorflow/stream_executor/cuda/cuda_gpu_executor.cc:991] successful NUMA node read from SysFS had negative value (-1), but there must be at least one NUMA node, so returning NUMA node zero\n",
      "2023-01-12 15:50:33.945309: I tensorflow/core/common_runtime/gpu/gpu_device.cc:1532] Created device /job:localhost/replica:0/task:0/device:GPU:0 with 7680 MB memory:  -> device: 0, name: Tesla T4, pci bus id: 0000:00:1e.0, compute capability: 7.5\n"
     ]
    }
   ],
   "source": [
    "import os\n",
    "import logging\n",
    "\n",
    "import nvtabular as nvt\n",
    "import merlin.models.tf as mm\n",
    "import tensorflow as tf\n",
    "\n",
    "from nvtabular.ops import *\n",
    "\n",
    "from merlin.datasets.synthetic import generate_data\n",
    "from merlin.datasets.ecommerce import transform_aliccp\n",
    "from merlin.models.utils.example_utils import workflow_fit_transform\n",
    "from merlin.models.utils.dataset import unique_rows_by_features\n",
    "from merlin.schema.tags import Tags\n",
    "from merlin.io.dataset import Dataset\n",
    "\n",
    "\n",
    "# disable INFO and DEBUG logging everywhere\n",
    "logging.disable(logging.WARNING)"
   ]
  },
  {
   "cell_type": "markdown",
   "id": "0ac0eef4",
   "metadata": {
    "pycharm": {
     "name": "#%% md\n"
    }
   },
   "source": [
    "### Generate Synthetic Ali-CCP Dataset"
   ]
  },
  {
   "cell_type": "code",
   "execution_count": 2,
   "id": "1dd757a3-2f93-495f-b2c5-5098c997d46e",
   "metadata": {
    "tags": []
   },
   "outputs": [
    {
     "name": "stderr",
     "output_type": "stream",
     "text": [
      "/usr/local/lib/python3.8/dist-packages/merlin/schema/tags.py:148: UserWarning: Compound tags like Tags.USER_ID have been deprecated and will be removed in a future version. Please use the atomic versions of these tags, like [<Tags.USER: 'user'>, <Tags.ID: 'id'>].\n",
      "  warnings.warn(\n",
      "/usr/local/lib/python3.8/dist-packages/merlin/schema/tags.py:148: UserWarning: Compound tags like Tags.ITEM_ID have been deprecated and will be removed in a future version. Please use the atomic versions of these tags, like [<Tags.ITEM: 'item'>, <Tags.ID: 'id'>].\n",
      "  warnings.warn(\n"
     ]
    }
   ],
   "source": [
    "# Generate the synthetic data\n",
    "\n",
    "NUM_ROWS = 1000000\n",
    "TRAIN_SIZE = 0.7\n",
    "VALID_SIZE = 0.3\n",
    "\n",
    "train, valid = generate_data(\"aliccp-raw\", NUM_ROWS, set_sizes=(TRAIN_SIZE, VALID_SIZE))"
   ]
  },
  {
   "cell_type": "markdown",
   "id": "a1787e97-e7c2-4f2b-a728-6329b7d6a8c2",
   "metadata": {},
   "source": [
    "**Note:** To be able to learn from this implicit feedback, we use the naive assumption that the interacted items are **more relevant** for the user than the non-interacted ones.\n",
    "\n",
    "This is an assumption for simplification purposes so we can use a negative sampling technique. "
   ]
  },
  {
   "cell_type": "code",
   "execution_count": 3,
   "id": "f23232bf-7822-498f-a036-23e44ef48e50",
   "metadata": {},
   "outputs": [],
   "source": [
    "# Defin output path for data\n",
    "DATA_DIR = os.environ['PWD'] +\"/data/\"\n",
    "OUTPUT_DATA_DIR = os.path.join(DATA_DIR, \"processed\")\n",
    "OUTPUT_RETRIEVAL_DATA_DIR = os.path.join(OUTPUT_DATA_DIR, \"retrieval\")\n",
    "CATEGORY_TEMP_DIR = os.path.join(DATA_DIR, \"categories\")"
   ]
  },
  {
   "cell_type": "code",
   "execution_count": 4,
   "id": "3d1d91d2-3b6a-457b-8b18-2589ddc5fc99",
   "metadata": {},
   "outputs": [],
   "source": [
    "# Define Feature Transformation Pipeline\n",
    "\n",
    "user_id_raw = [\"user_id\"] >> Rename(postfix='_raw') >> LambdaOp(lambda col: col.astype(\"int32\")) >> TagAsUserFeatures()\n",
    "item_id_raw = [\"item_id\"] >> Rename(postfix='_raw') >> LambdaOp(lambda col: col.astype(\"int32\")) >> TagAsItemFeatures()\n",
    "\n",
    "user_id = [\"user_id\"] >> Categorify(dtype=\"int32\", out_path=CATEGORY_TEMP_DIR) >> TagAsUserID()\n",
    "item_id = [\"item_id\"] >> Categorify(dtype=\"int32\", out_path=CATEGORY_TEMP_DIR) >> TagAsItemID()\n",
    "\n",
    "item_features = (\n",
    "    [\"item_category\", \"item_shop\", \"item_brand\"] >> Categorify(dtype=\"int32\", out_path=CATEGORY_TEMP_DIR) >> TagAsItemFeatures()\n",
    ")\n",
    "\n",
    "user_features = (\n",
    "    [\n",
    "        \"user_shops\",\n",
    "        \"user_profile\",\n",
    "        \"user_group\",\n",
    "        \"user_gender\",\n",
    "        \"user_age\",\n",
    "        \"user_consumption_2\",\n",
    "        \"user_is_occupied\",\n",
    "        \"user_geography\",\n",
    "        \"user_intentions\",\n",
    "        \"user_brands\",\n",
    "        \"user_categories\",\n",
    "    ]\n",
    "    >> Categorify(dtype=\"int32\", out_path=CATEGORY_TEMP_DIR)\n",
    "    >> TagAsUserFeatures()\n",
    ")\n",
    "\n",
    "targets = [\"click\"] >> AddMetadata(tags=[Tags.BINARY_CLASSIFICATION, \"target\"])\n",
    "\n",
    "outputs = user_id + item_id + item_features + user_features +  user_id_raw + item_id_raw + targets\n",
    "\n",
    "# add dropna op to filter rows with nulls\n",
    "outputs = outputs >> Dropna()"
   ]
  },
  {
   "cell_type": "markdown",
   "id": "2aa99f0b",
   "metadata": {
    "pycharm": {
     "name": "#%% md\n"
    }
   },
   "source": [
    "With `transform_aliccp` function, we can execute fit() and transform() on the raw dataset applying the operators defined in the NVTabular workflow pipeline above. The processed parquet files are saved to output_path."
   ]
  },
  {
   "cell_type": "code",
   "execution_count": 7,
   "id": "07ab4edc",
   "metadata": {
    "pycharm": {
     "name": "#%%\n"
    }
   },
   "outputs": [],
   "source": [
    "# Transform data and create files\n",
    "transform_aliccp((train, valid), OUTPUT_DATA_DIR, nvt_workflow=outputs)"
   ]
  },
  {
   "cell_type": "markdown",
   "id": "b97bdb6e-c22e-4679-bf5c-a5213eca444f",
   "metadata": {
    "pycharm": {
     "name": "#%% md\n"
    }
   },
   "source": [
    "## Candidate Retrieval Model\n",
    "\n",
    "We will use a **Two-Tower** model to infer a subset of relevant items from large item corpus for a given user. \n",
    "\n",
    "A Two-Tower Model consists of item (candidate) and user (query) encoder towers. With two towers, the model can learn representations (embeddings) for queries and candidates separately. \n",
    "\n",
    "> NEED TO FIND IMG\n",
    "<img src=\"./images/TwoTower.png\"  width=\"30%\">\n",
    "\n",
    "Image Adapted from: [Off-policy Learning in Two-stage Recommender Systems](https://dl.acm.org/doi/abs/10.1145/3366423.3380130)"
   ]
  },
  {
   "cell_type": "markdown",
   "id": "1bbbb1c4-ae30-44bf-888c-d0d9500a23ea",
   "metadata": {},
   "source": [
    "### Feature Engineering for Candidate Retrieval"
   ]
  },
  {
   "cell_type": "code",
   "execution_count": 8,
   "id": "a7e0c257",
   "metadata": {
    "pycharm": {
     "name": "#%%\n"
    }
   },
   "outputs": [],
   "source": [
    "# Load Datasets from generated files\n",
    "train_retrieval = Dataset(os.path.join(OUTPUT_DATA_DIR, \"train\", \"*.parquet\"))\n",
    "valid_retrieval = Dataset(os.path.join(OUTPUT_DATA_DIR, \"valid\", \"*.parquet\"))valid_retrieval"
   ]
  },
  {
   "cell_type": "code",
   "execution_count": 10,
   "id": "f328b83d-c39d-4dd5-a8b4-c09cb8b5820f",
   "metadata": {},
   "outputs": [
    {
     "name": "stderr",
     "output_type": "stream",
     "text": [
      "/usr/local/lib/python3.8/dist-packages/merlin/schema/tags.py:148: UserWarning: Compound tags like Tags.USER_ID have been deprecated and will be removed in a future version. Please use the atomic versions of these tags, like [<Tags.USER: 'user'>, <Tags.ID: 'id'>].\n",
      "  warnings.warn(\n",
      "/usr/local/lib/python3.8/dist-packages/merlin/schema/tags.py:148: UserWarning: Compound tags like Tags.ITEM_ID have been deprecated and will be removed in a future version. Please use the atomic versions of these tags, like [<Tags.ITEM: 'item'>, <Tags.ID: 'id'>].\n",
      "  warnings.warn(\n"
     ]
    }
   ],
   "source": [
    "# NVTabular Feature Transformations\n",
    "\n",
    "inputs = train_retrieval.schema.column_names\n",
    "\n",
    "# Select only positive interaction rows where click==1 in the dataset with Filter() operator\n",
    "\n",
    "outputs = inputs >> Filter(f=lambda df: df[\"click\"] == 1)\n",
    "\n",
    "workflow = nvt.Workflow(outputs)\n",
    "\n",
    "workflow.fit(train_retrieval)\n",
    "\n",
    "workflow.transform(train_retrieval).to_parquet(\n",
    "    output_path=os.path.join(OUTPUT_RETRIEVAL_DATA_DIR, \"train\")\n",
    ")\n",
    "\n",
    "workflow.transform(valid_retrieval).to_parquet(\n",
    "    output_path=os.path.join(OUTPUT_RETRIEVAL_DATA_DIR, \"valid\")\n",
    ")"
   ]
  },
  {
   "cell_type": "markdown",
   "id": "affeb1d9-a8d9-4bb4-b3b3-dec99b0825e3",
   "metadata": {},
   "source": [
    "*NVTabular exported the schema file, schema.pbtxt a protobuf text file, of our processed dataset. To learn more about the schema object and schema file you can explore [this notebook](https://github.com/NVIDIA-Merlin/models/blob/main/examples/02-Merlin-Models-and-NVTabular-integration.ipynb).*"
   ]
  },
  {
   "cell_type": "code",
   "execution_count": 13,
   "id": "19f7ee51-ddc1-4bfc-b330-fe5c992b60a0",
   "metadata": {},
   "outputs": [],
   "source": [
    "# Read filtered parquet files as Dataset objects\n",
    "\n",
    "train_retrieval = Dataset(os.path.join(OUTPUT_RETRIEVAL_DATA_DIR, \"train\", \"*.parquet\"), part_size=\"500MB\")\n",
    "valid_retrieval = Dataset(os.path.join(OUTPUT_RETRIEVAL_DATA_DIR, \"valid\", \"*.parquet\"), part_size=\"500MB\")"
   ]
  },
  {
   "cell_type": "markdown",
   "id": "fcdb2dbc-9bbd-46ad-aede-44c3ffbaac9d",
   "metadata": {},
   "source": [
    "Now we can use the `schema` object to define the model inputs. We select features with user and item tags, and exclude target column."
   ]
  },
  {
   "cell_type": "code",
   "execution_count": 15,
   "id": "4a0454c8-8eec-47cc-82e8-b45637b76d35",
   "metadata": {},
   "outputs": [],
   "source": [
    "schema = train_retrieval.schema.select_by_tag([Tags.ITEM_ID, Tags.USER_ID, Tags.ITEM, Tags.USER]).without(['user_id_raw', 'item_id_raw', 'click'])\n",
    "train_retrieval.schema = schema\n",
    "valid_retrieval.schema = schema"
   ]
  },
  {
   "cell_type": "code",
   "execution_count": 16,
   "id": "7d9cffc1-21f8-4574-82bd-89ebcd47713f",
   "metadata": {},
   "outputs": [
    {
     "data": {
      "text/html": [
       "<div>\n",
       "<style scoped>\n",
       "    .dataframe tbody tr th:only-of-type {\n",
       "        vertical-align: middle;\n",
       "    }\n",
       "\n",
       "    .dataframe tbody tr th {\n",
       "        vertical-align: top;\n",
       "    }\n",
       "\n",
       "    .dataframe thead th {\n",
       "        text-align: right;\n",
       "    }\n",
       "</style>\n",
       "<table border=\"1\" class=\"dataframe\">\n",
       "  <thead>\n",
       "    <tr style=\"text-align: right;\">\n",
       "      <th></th>\n",
       "      <th>name</th>\n",
       "      <th>tags</th>\n",
       "      <th>dtype</th>\n",
       "      <th>is_list</th>\n",
       "      <th>is_ragged</th>\n",
       "      <th>properties.num_buckets</th>\n",
       "      <th>properties.freq_threshold</th>\n",
       "      <th>properties.max_size</th>\n",
       "      <th>properties.start_index</th>\n",
       "      <th>properties.cat_path</th>\n",
       "      <th>properties.embedding_sizes.cardinality</th>\n",
       "      <th>properties.embedding_sizes.dimension</th>\n",
       "      <th>properties.domain.min</th>\n",
       "      <th>properties.domain.max</th>\n",
       "      <th>properties.domain.name</th>\n",
       "    </tr>\n",
       "  </thead>\n",
       "  <tbody>\n",
       "    <tr>\n",
       "      <th>0</th>\n",
       "      <td>user_id</td>\n",
       "      <td>(Tags.CATEGORICAL, Tags.USER, Tags.USER_ID, Ta...</td>\n",
       "      <td>int32</td>\n",
       "      <td>False</td>\n",
       "      <td>False</td>\n",
       "      <td>None</td>\n",
       "      <td>0.0</td>\n",
       "      <td>0.0</td>\n",
       "      <td>0.0</td>\n",
       "      <td>/workdir/data/processed/workflow/categories/un...</td>\n",
       "      <td>768.0</td>\n",
       "      <td>66.0</td>\n",
       "      <td>0</td>\n",
       "      <td>767</td>\n",
       "      <td>user_id</td>\n",
       "    </tr>\n",
       "    <tr>\n",
       "      <th>1</th>\n",
       "      <td>item_id</td>\n",
       "      <td>(Tags.CATEGORICAL, Tags.ITEM, Tags.ITEM_ID, Ta...</td>\n",
       "      <td>int32</td>\n",
       "      <td>False</td>\n",
       "      <td>False</td>\n",
       "      <td>None</td>\n",
       "      <td>0.0</td>\n",
       "      <td>0.0</td>\n",
       "      <td>0.0</td>\n",
       "      <td>/workdir/data/processed/workflow/categories/un...</td>\n",
       "      <td>763.0</td>\n",
       "      <td>66.0</td>\n",
       "      <td>0</td>\n",
       "      <td>762</td>\n",
       "      <td>item_id</td>\n",
       "    </tr>\n",
       "    <tr>\n",
       "      <th>2</th>\n",
       "      <td>item_category</td>\n",
       "      <td>(Tags.CATEGORICAL, Tags.ITEM)</td>\n",
       "      <td>int32</td>\n",
       "      <td>False</td>\n",
       "      <td>False</td>\n",
       "      <td>None</td>\n",
       "      <td>0.0</td>\n",
       "      <td>0.0</td>\n",
       "      <td>0.0</td>\n",
       "      <td>/workdir/data/processed/workflow/categories/un...</td>\n",
       "      <td>763.0</td>\n",
       "      <td>66.0</td>\n",
       "      <td>0</td>\n",
       "      <td>762</td>\n",
       "      <td>item_category</td>\n",
       "    </tr>\n",
       "    <tr>\n",
       "      <th>3</th>\n",
       "      <td>item_shop</td>\n",
       "      <td>(Tags.CATEGORICAL, Tags.ITEM)</td>\n",
       "      <td>int32</td>\n",
       "      <td>False</td>\n",
       "      <td>False</td>\n",
       "      <td>None</td>\n",
       "      <td>0.0</td>\n",
       "      <td>0.0</td>\n",
       "      <td>0.0</td>\n",
       "      <td>/workdir/data/processed/workflow/categories/un...</td>\n",
       "      <td>763.0</td>\n",
       "      <td>66.0</td>\n",
       "      <td>0</td>\n",
       "      <td>762</td>\n",
       "      <td>item_shop</td>\n",
       "    </tr>\n",
       "    <tr>\n",
       "      <th>4</th>\n",
       "      <td>item_brand</td>\n",
       "      <td>(Tags.CATEGORICAL, Tags.ITEM)</td>\n",
       "      <td>int32</td>\n",
       "      <td>False</td>\n",
       "      <td>False</td>\n",
       "      <td>None</td>\n",
       "      <td>0.0</td>\n",
       "      <td>0.0</td>\n",
       "      <td>0.0</td>\n",
       "      <td>/workdir/data/processed/workflow/categories/un...</td>\n",
       "      <td>763.0</td>\n",
       "      <td>66.0</td>\n",
       "      <td>0</td>\n",
       "      <td>762</td>\n",
       "      <td>item_brand</td>\n",
       "    </tr>\n",
       "    <tr>\n",
       "      <th>5</th>\n",
       "      <td>user_shops</td>\n",
       "      <td>(Tags.CATEGORICAL, Tags.USER)</td>\n",
       "      <td>int32</td>\n",
       "      <td>False</td>\n",
       "      <td>False</td>\n",
       "      <td>None</td>\n",
       "      <td>0.0</td>\n",
       "      <td>0.0</td>\n",
       "      <td>0.0</td>\n",
       "      <td>/workdir/data/processed/workflow/categories/un...</td>\n",
       "      <td>768.0</td>\n",
       "      <td>66.0</td>\n",
       "      <td>0</td>\n",
       "      <td>767</td>\n",
       "      <td>user_shops</td>\n",
       "    </tr>\n",
       "    <tr>\n",
       "      <th>6</th>\n",
       "      <td>user_profile</td>\n",
       "      <td>(Tags.CATEGORICAL, Tags.USER)</td>\n",
       "      <td>int32</td>\n",
       "      <td>False</td>\n",
       "      <td>False</td>\n",
       "      <td>None</td>\n",
       "      <td>0.0</td>\n",
       "      <td>0.0</td>\n",
       "      <td>0.0</td>\n",
       "      <td>/workdir/data/processed/workflow/categories/un...</td>\n",
       "      <td>42.0</td>\n",
       "      <td>16.0</td>\n",
       "      <td>0</td>\n",
       "      <td>41</td>\n",
       "      <td>user_profile</td>\n",
       "    </tr>\n",
       "    <tr>\n",
       "      <th>7</th>\n",
       "      <td>user_group</td>\n",
       "      <td>(Tags.CATEGORICAL, Tags.USER)</td>\n",
       "      <td>int32</td>\n",
       "      <td>False</td>\n",
       "      <td>False</td>\n",
       "      <td>None</td>\n",
       "      <td>0.0</td>\n",
       "      <td>0.0</td>\n",
       "      <td>0.0</td>\n",
       "      <td>/workdir/data/processed/workflow/categories/un...</td>\n",
       "      <td>10.0</td>\n",
       "      <td>16.0</td>\n",
       "      <td>0</td>\n",
       "      <td>9</td>\n",
       "      <td>user_group</td>\n",
       "    </tr>\n",
       "    <tr>\n",
       "      <th>8</th>\n",
       "      <td>user_gender</td>\n",
       "      <td>(Tags.CATEGORICAL, Tags.USER)</td>\n",
       "      <td>int32</td>\n",
       "      <td>False</td>\n",
       "      <td>False</td>\n",
       "      <td>None</td>\n",
       "      <td>0.0</td>\n",
       "      <td>0.0</td>\n",
       "      <td>0.0</td>\n",
       "      <td>/workdir/data/processed/workflow/categories/un...</td>\n",
       "      <td>3.0</td>\n",
       "      <td>16.0</td>\n",
       "      <td>0</td>\n",
       "      <td>2</td>\n",
       "      <td>user_gender</td>\n",
       "    </tr>\n",
       "    <tr>\n",
       "      <th>9</th>\n",
       "      <td>user_age</td>\n",
       "      <td>(Tags.CATEGORICAL, Tags.USER)</td>\n",
       "      <td>int32</td>\n",
       "      <td>False</td>\n",
       "      <td>False</td>\n",
       "      <td>None</td>\n",
       "      <td>0.0</td>\n",
       "      <td>0.0</td>\n",
       "      <td>0.0</td>\n",
       "      <td>/workdir/data/processed/workflow/categories/un...</td>\n",
       "      <td>7.0</td>\n",
       "      <td>16.0</td>\n",
       "      <td>0</td>\n",
       "      <td>6</td>\n",
       "      <td>user_age</td>\n",
       "    </tr>\n",
       "    <tr>\n",
       "      <th>10</th>\n",
       "      <td>user_consumption_2</td>\n",
       "      <td>(Tags.CATEGORICAL, Tags.USER)</td>\n",
       "      <td>int32</td>\n",
       "      <td>False</td>\n",
       "      <td>False</td>\n",
       "      <td>None</td>\n",
       "      <td>0.0</td>\n",
       "      <td>0.0</td>\n",
       "      <td>0.0</td>\n",
       "      <td>/workdir/data/processed/workflow/categories/un...</td>\n",
       "      <td>4.0</td>\n",
       "      <td>16.0</td>\n",
       "      <td>0</td>\n",
       "      <td>3</td>\n",
       "      <td>user_consumption_2</td>\n",
       "    </tr>\n",
       "    <tr>\n",
       "      <th>11</th>\n",
       "      <td>user_is_occupied</td>\n",
       "      <td>(Tags.CATEGORICAL, Tags.USER)</td>\n",
       "      <td>int32</td>\n",
       "      <td>False</td>\n",
       "      <td>False</td>\n",
       "      <td>None</td>\n",
       "      <td>0.0</td>\n",
       "      <td>0.0</td>\n",
       "      <td>0.0</td>\n",
       "      <td>/workdir/data/processed/workflow/categories/un...</td>\n",
       "      <td>3.0</td>\n",
       "      <td>16.0</td>\n",
       "      <td>0</td>\n",
       "      <td>2</td>\n",
       "      <td>user_is_occupied</td>\n",
       "    </tr>\n",
       "    <tr>\n",
       "      <th>12</th>\n",
       "      <td>user_geography</td>\n",
       "      <td>(Tags.CATEGORICAL, Tags.USER)</td>\n",
       "      <td>int32</td>\n",
       "      <td>False</td>\n",
       "      <td>False</td>\n",
       "      <td>None</td>\n",
       "      <td>0.0</td>\n",
       "      <td>0.0</td>\n",
       "      <td>0.0</td>\n",
       "      <td>/workdir/data/processed/workflow/categories/un...</td>\n",
       "      <td>5.0</td>\n",
       "      <td>16.0</td>\n",
       "      <td>0</td>\n",
       "      <td>4</td>\n",
       "      <td>user_geography</td>\n",
       "    </tr>\n",
       "    <tr>\n",
       "      <th>13</th>\n",
       "      <td>user_intentions</td>\n",
       "      <td>(Tags.CATEGORICAL, Tags.USER)</td>\n",
       "      <td>int32</td>\n",
       "      <td>False</td>\n",
       "      <td>False</td>\n",
       "      <td>None</td>\n",
       "      <td>0.0</td>\n",
       "      <td>0.0</td>\n",
       "      <td>0.0</td>\n",
       "      <td>/workdir/data/processed/workflow/categories/un...</td>\n",
       "      <td>768.0</td>\n",
       "      <td>66.0</td>\n",
       "      <td>0</td>\n",
       "      <td>767</td>\n",
       "      <td>user_intentions</td>\n",
       "    </tr>\n",
       "    <tr>\n",
       "      <th>14</th>\n",
       "      <td>user_brands</td>\n",
       "      <td>(Tags.CATEGORICAL, Tags.USER)</td>\n",
       "      <td>int32</td>\n",
       "      <td>False</td>\n",
       "      <td>False</td>\n",
       "      <td>None</td>\n",
       "      <td>0.0</td>\n",
       "      <td>0.0</td>\n",
       "      <td>0.0</td>\n",
       "      <td>/workdir/data/processed/workflow/categories/un...</td>\n",
       "      <td>768.0</td>\n",
       "      <td>66.0</td>\n",
       "      <td>0</td>\n",
       "      <td>767</td>\n",
       "      <td>user_brands</td>\n",
       "    </tr>\n",
       "    <tr>\n",
       "      <th>15</th>\n",
       "      <td>user_categories</td>\n",
       "      <td>(Tags.CATEGORICAL, Tags.USER)</td>\n",
       "      <td>int32</td>\n",
       "      <td>False</td>\n",
       "      <td>False</td>\n",
       "      <td>None</td>\n",
       "      <td>0.0</td>\n",
       "      <td>0.0</td>\n",
       "      <td>0.0</td>\n",
       "      <td>/workdir/data/processed/workflow/categories/un...</td>\n",
       "      <td>768.0</td>\n",
       "      <td>66.0</td>\n",
       "      <td>0</td>\n",
       "      <td>767</td>\n",
       "      <td>user_categories</td>\n",
       "    </tr>\n",
       "  </tbody>\n",
       "</table>\n",
       "</div>"
      ],
      "text/plain": [
       "[{'name': 'user_id', 'tags': {<Tags.CATEGORICAL: 'categorical'>, <Tags.USER: 'user'>, <Tags.USER_ID: 'user_id'>, <Tags.ID: 'id'>}, 'properties': {'num_buckets': None, 'freq_threshold': 0.0, 'max_size': 0.0, 'start_index': 0.0, 'cat_path': '/workdir/data/processed/workflow/categories/unique.user_id.parquet', 'embedding_sizes': {'cardinality': 768.0, 'dimension': 66.0}, 'domain': {'min': 0, 'max': 767, 'name': 'user_id'}}, 'dtype': dtype('int32'), 'is_list': False, 'is_ragged': False}, {'name': 'item_id', 'tags': {<Tags.CATEGORICAL: 'categorical'>, <Tags.ITEM: 'item'>, <Tags.ITEM_ID: 'item_id'>, <Tags.ID: 'id'>}, 'properties': {'num_buckets': None, 'freq_threshold': 0.0, 'max_size': 0.0, 'start_index': 0.0, 'cat_path': '/workdir/data/processed/workflow/categories/unique.item_id.parquet', 'embedding_sizes': {'cardinality': 763.0, 'dimension': 66.0}, 'domain': {'min': 0, 'max': 762, 'name': 'item_id'}}, 'dtype': dtype('int32'), 'is_list': False, 'is_ragged': False}, {'name': 'item_category', 'tags': {<Tags.CATEGORICAL: 'categorical'>, <Tags.ITEM: 'item'>}, 'properties': {'num_buckets': None, 'freq_threshold': 0.0, 'max_size': 0.0, 'start_index': 0.0, 'cat_path': '/workdir/data/processed/workflow/categories/unique.item_category.parquet', 'embedding_sizes': {'cardinality': 763.0, 'dimension': 66.0}, 'domain': {'min': 0, 'max': 762, 'name': 'item_category'}}, 'dtype': dtype('int32'), 'is_list': False, 'is_ragged': False}, {'name': 'item_shop', 'tags': {<Tags.CATEGORICAL: 'categorical'>, <Tags.ITEM: 'item'>}, 'properties': {'num_buckets': None, 'freq_threshold': 0.0, 'max_size': 0.0, 'start_index': 0.0, 'cat_path': '/workdir/data/processed/workflow/categories/unique.item_shop.parquet', 'embedding_sizes': {'cardinality': 763.0, 'dimension': 66.0}, 'domain': {'min': 0, 'max': 762, 'name': 'item_shop'}}, 'dtype': dtype('int32'), 'is_list': False, 'is_ragged': False}, {'name': 'item_brand', 'tags': {<Tags.CATEGORICAL: 'categorical'>, <Tags.ITEM: 'item'>}, 'properties': {'num_buckets': None, 'freq_threshold': 0.0, 'max_size': 0.0, 'start_index': 0.0, 'cat_path': '/workdir/data/processed/workflow/categories/unique.item_brand.parquet', 'embedding_sizes': {'cardinality': 763.0, 'dimension': 66.0}, 'domain': {'min': 0, 'max': 762, 'name': 'item_brand'}}, 'dtype': dtype('int32'), 'is_list': False, 'is_ragged': False}, {'name': 'user_shops', 'tags': {<Tags.CATEGORICAL: 'categorical'>, <Tags.USER: 'user'>}, 'properties': {'num_buckets': None, 'freq_threshold': 0.0, 'max_size': 0.0, 'start_index': 0.0, 'cat_path': '/workdir/data/processed/workflow/categories/unique.user_shops.parquet', 'embedding_sizes': {'cardinality': 768.0, 'dimension': 66.0}, 'domain': {'min': 0, 'max': 767, 'name': 'user_shops'}}, 'dtype': dtype('int32'), 'is_list': False, 'is_ragged': False}, {'name': 'user_profile', 'tags': {<Tags.CATEGORICAL: 'categorical'>, <Tags.USER: 'user'>}, 'properties': {'num_buckets': None, 'freq_threshold': 0.0, 'max_size': 0.0, 'start_index': 0.0, 'cat_path': '/workdir/data/processed/workflow/categories/unique.user_profile.parquet', 'embedding_sizes': {'cardinality': 42.0, 'dimension': 16.0}, 'domain': {'min': 0, 'max': 41, 'name': 'user_profile'}}, 'dtype': dtype('int32'), 'is_list': False, 'is_ragged': False}, {'name': 'user_group', 'tags': {<Tags.CATEGORICAL: 'categorical'>, <Tags.USER: 'user'>}, 'properties': {'num_buckets': None, 'freq_threshold': 0.0, 'max_size': 0.0, 'start_index': 0.0, 'cat_path': '/workdir/data/processed/workflow/categories/unique.user_group.parquet', 'embedding_sizes': {'cardinality': 10.0, 'dimension': 16.0}, 'domain': {'min': 0, 'max': 9, 'name': 'user_group'}}, 'dtype': dtype('int32'), 'is_list': False, 'is_ragged': False}, {'name': 'user_gender', 'tags': {<Tags.CATEGORICAL: 'categorical'>, <Tags.USER: 'user'>}, 'properties': {'num_buckets': None, 'freq_threshold': 0.0, 'max_size': 0.0, 'start_index': 0.0, 'cat_path': '/workdir/data/processed/workflow/categories/unique.user_gender.parquet', 'embedding_sizes': {'cardinality': 3.0, 'dimension': 16.0}, 'domain': {'min': 0, 'max': 2, 'name': 'user_gender'}}, 'dtype': dtype('int32'), 'is_list': False, 'is_ragged': False}, {'name': 'user_age', 'tags': {<Tags.CATEGORICAL: 'categorical'>, <Tags.USER: 'user'>}, 'properties': {'num_buckets': None, 'freq_threshold': 0.0, 'max_size': 0.0, 'start_index': 0.0, 'cat_path': '/workdir/data/processed/workflow/categories/unique.user_age.parquet', 'embedding_sizes': {'cardinality': 7.0, 'dimension': 16.0}, 'domain': {'min': 0, 'max': 6, 'name': 'user_age'}}, 'dtype': dtype('int32'), 'is_list': False, 'is_ragged': False}, {'name': 'user_consumption_2', 'tags': {<Tags.CATEGORICAL: 'categorical'>, <Tags.USER: 'user'>}, 'properties': {'num_buckets': None, 'freq_threshold': 0.0, 'max_size': 0.0, 'start_index': 0.0, 'cat_path': '/workdir/data/processed/workflow/categories/unique.user_consumption_2.parquet', 'embedding_sizes': {'cardinality': 4.0, 'dimension': 16.0}, 'domain': {'min': 0, 'max': 3, 'name': 'user_consumption_2'}}, 'dtype': dtype('int32'), 'is_list': False, 'is_ragged': False}, {'name': 'user_is_occupied', 'tags': {<Tags.CATEGORICAL: 'categorical'>, <Tags.USER: 'user'>}, 'properties': {'num_buckets': None, 'freq_threshold': 0.0, 'max_size': 0.0, 'start_index': 0.0, 'cat_path': '/workdir/data/processed/workflow/categories/unique.user_is_occupied.parquet', 'embedding_sizes': {'cardinality': 3.0, 'dimension': 16.0}, 'domain': {'min': 0, 'max': 2, 'name': 'user_is_occupied'}}, 'dtype': dtype('int32'), 'is_list': False, 'is_ragged': False}, {'name': 'user_geography', 'tags': {<Tags.CATEGORICAL: 'categorical'>, <Tags.USER: 'user'>}, 'properties': {'num_buckets': None, 'freq_threshold': 0.0, 'max_size': 0.0, 'start_index': 0.0, 'cat_path': '/workdir/data/processed/workflow/categories/unique.user_geography.parquet', 'embedding_sizes': {'cardinality': 5.0, 'dimension': 16.0}, 'domain': {'min': 0, 'max': 4, 'name': 'user_geography'}}, 'dtype': dtype('int32'), 'is_list': False, 'is_ragged': False}, {'name': 'user_intentions', 'tags': {<Tags.CATEGORICAL: 'categorical'>, <Tags.USER: 'user'>}, 'properties': {'num_buckets': None, 'freq_threshold': 0.0, 'max_size': 0.0, 'start_index': 0.0, 'cat_path': '/workdir/data/processed/workflow/categories/unique.user_intentions.parquet', 'embedding_sizes': {'cardinality': 768.0, 'dimension': 66.0}, 'domain': {'min': 0, 'max': 767, 'name': 'user_intentions'}}, 'dtype': dtype('int32'), 'is_list': False, 'is_ragged': False}, {'name': 'user_brands', 'tags': {<Tags.CATEGORICAL: 'categorical'>, <Tags.USER: 'user'>}, 'properties': {'num_buckets': None, 'freq_threshold': 0.0, 'max_size': 0.0, 'start_index': 0.0, 'cat_path': '/workdir/data/processed/workflow/categories/unique.user_brands.parquet', 'embedding_sizes': {'cardinality': 768.0, 'dimension': 66.0}, 'domain': {'min': 0, 'max': 767, 'name': 'user_brands'}}, 'dtype': dtype('int32'), 'is_list': False, 'is_ragged': False}, {'name': 'user_categories', 'tags': {<Tags.CATEGORICAL: 'categorical'>, <Tags.USER: 'user'>}, 'properties': {'num_buckets': None, 'freq_threshold': 0.0, 'max_size': 0.0, 'start_index': 0.0, 'cat_path': '/workdir/data/processed/workflow/categories/unique.user_categories.parquet', 'embedding_sizes': {'cardinality': 768.0, 'dimension': 66.0}, 'domain': {'min': 0, 'max': 767, 'name': 'user_categories'}}, 'dtype': dtype('int32'), 'is_list': False, 'is_ragged': False}]"
      ]
     },
     "execution_count": 16,
     "metadata": {},
     "output_type": "execute_result"
    }
   ],
   "source": [
    "# Inspect the schema!\n",
    "\n",
    "schema"
   ]
  },
  {
   "cell_type": "markdown",
   "id": "3095bd9b",
   "metadata": {
    "pycharm": {
     "name": "#%% md\n"
    }
   },
   "source": [
    "As expected, we shouldn't have any label/target data yet"
   ]
  },
  {
   "cell_type": "code",
   "execution_count": 44,
   "id": "68bf449f",
   "metadata": {
    "pycharm": {
     "name": "#%%\n"
    }
   },
   "outputs": [
    {
     "data": {
      "text/plain": [
       "[]"
      ]
     },
     "execution_count": 44,
     "metadata": {},
     "output_type": "execute_result"
    }
   ],
   "source": [
    "label_names = schema.select_by_tag(Tags.TARGET).column_names\n",
    "label_names"
   ]
  },
  {
   "cell_type": "markdown",
   "id": "994ddb84-fd90-4547-ae58-c8f678d3dcd7",
   "metadata": {},
   "source": [
    "### Designing Retrieval Model Architecture\n",
    "\n",
    "The **Two-Tower** model consists of a **User tower** (where all user features are fed) and an **Item tower** (where all item features are fed).\n",
    "\n",
    "The User tower generates an embedding for the User. Then it computes the positive interaction \"score\" (likelihood of interaction event) using the dot-product between the User embedding and the Item embedding, in addition to sampled \"negative\" Items within a batch.\n",
    "\n",
    "##### About Negative Sampling\n",
    "\n",
    "Many datasets for recommender systems contain implicit feedback with logs of user interactions like clicks, add-to-cart, purchases, music listening events, rather than explicit ratings that reflects user preferences over items. \n",
    "\n",
    "In Merlin Models -- NVIDIA provides some scalable negative sampling algorithms for this Item Retrieval task. In this example, we use the `in-batch` sampling algorithm which uses the items interacted by other users as negatives within the same mini-batch."
   ]
  },
  {
   "cell_type": "code",
   "execution_count": 31,
   "id": "30446249-70e8-46c2-98eb-40a5e358d86e",
   "metadata": {},
   "outputs": [],
   "source": [
    "# Function to create the two tower retrieval model\n",
    "\n",
    "def create_two_tower(tower_dim: int, encoder_dim: int, optimizer: str, k: int, tags) -> mm.TwoTowerModelV2:\n",
    "    # User/Query Tower\n",
    "    user_schema = schema.select_by_tag(tags.USER)\n",
    "    # create user (query) tower input block\n",
    "    user_inputs = mm.InputBlockV2(user_schema)\n",
    "    # create user (query) encoder block\n",
    "    query = mm.Encoder(\n",
    "        user_inputs,\n",
    "        mm.MLPBlock([encoder_dim, tower_dim], no_activation_last_layer=True)\n",
    "    )\n",
    "\n",
    "    # Item/Candidate Tower\n",
    "    item_schema = schema.select_by_tag(tags.ITEM)\n",
    "    # create item (candidate) tower input block\n",
    "    item_inputs = mm.InputBlockV2(item_schema)\n",
    "    # create item (candidate) encoder block\n",
    "    candidate = mm.Encoder(\n",
    "        item_inputs,\n",
    "        mm.MLPBlock([encoder_dim, tower_dim], no_activation_last_layer=True)\n",
    "    )\n",
    "    \n",
    "    # Build Model Class\n",
    "    model = mm.TwoTowerModelV2(query, candidate)\n",
    "    model.compile(\n",
    "        optimizer=optimizer,\n",
    "        run_eagerly=False,\n",
    "        loss=\"categorical_crossentropy\",\n",
    "        metrics=[mm.RecallAt(k), mm.NDCGAt(k)]\n",
    "    )\n",
    "    return model"
   ]
  },
  {
   "cell_type": "markdown",
   "id": "25407870-5e59-4562-8c39-2869a13ac8bd",
   "metadata": {},
   "source": [
    "**Notes:**\n",
    "- `no_activation_last_layer:` when set True, no activation is used for top hidden layer. Learn more [here](https://storage.googleapis.com/pub-tools-public-publication-data/pdf/b9f4e78a8830fe5afcf2f0452862fb3c0d6584ea.pdf).\n",
    "- In the `TwoTowerModelV2` function we did not set `negative_samplers` arg. By default, it uses contrastive learning and `in-batch` negative sampling strategy.\n",
    "- Two metrics are used to judge the quality of the recommendations: **Normalized Discounted Cumulative Gain (NDCG@K)** and **Recall@K**.\n",
    "    - NDCG@K accounts for rank of the relevant item in the recommendation list and is a more fine-grained metric than HR, which only verifies whether the relevant item is among the top-k items.\n",
    "    - Recall (Also known as HitRate@K) when there is only one relevant item in the recommendation list. Recall just verifies whether the relevant item is among the top-k items.\n",
    "- When we set `validation_data=valid` in the `model.fit()`, we compute evaluation metrics on validation set using the negative sampling strategy used for training. "
   ]
  },
  {
   "cell_type": "code",
   "execution_count": 19,
   "id": "1280bb4f",
   "metadata": {
    "pycharm": {
     "name": "#%%\n"
    }
   },
   "outputs": [
    {
     "name": "stdout",
     "output_type": "stream",
     "text": [
      "Epoch 1/2\n",
      "86/86 [==============================] - 9s 60ms/step - loss: 8.2954 - recall_at_10: 0.0251 - ndcg_at_10: 0.0234 - regularization_loss: 0.0000e+00 - loss_batch: 8.2701 - val_loss: 8.2923 - val_recall_at_10: 0.0306 - val_ndcg_at_10: 0.0306 - val_regularization_loss: 0.0000e+00 - val_loss_batch: 7.9081\n",
      "Epoch 2/2\n",
      "86/86 [==============================] - 4s 49ms/step - loss: 8.2948 - recall_at_10: 0.0300 - ndcg_at_10: 0.0298 - regularization_loss: 0.0000e+00 - loss_batch: 8.2695 - val_loss: 8.2928 - val_recall_at_10: 0.0170 - val_ndcg_at_10: 0.0156 - val_regularization_loss: 0.0000e+00 - val_loss_batch: 7.9098\n"
     ]
    },
    {
     "data": {
      "text/plain": [
       "<keras.callbacks.History at 0x7f6cd469d6d0>"
      ]
     },
     "execution_count": 19,
     "metadata": {},
     "output_type": "execute_result"
    }
   ],
   "source": [
    "# Initialize model\n",
    "retrieval_model = create_two_tower(\n",
    "    tower_dim=64,\n",
    "    encoder_dim=128,\n",
    "    optimizer=\"adam\",\n",
    "    k=10,\n",
    "    tags=Tags\n",
    ")\n",
    "\n",
    "# Fit model\n",
    "retrieval_model.fit(train_retrieval, validation_data=valid_retrieval, batch_size=4096, epochs=2)"
   ]
  },
  {
   "cell_type": "markdown",
   "id": "423c10c2-ae46-45bf-9623-6214c7570ac8",
   "metadata": {},
   "source": [
    "### Evaluate the model accuracy"
   ]
  },
  {
   "cell_type": "markdown",
   "id": "155af447-97c4-4875-97ad-84e678fd7b40",
   "metadata": {},
   "source": [
    "The validation metric values during training are calculated given the positive and negative scores in each batch, and then averaged over batches per epoch. **That means validation metrics are not computed using the entire item catalog.**\n",
    "\n",
    "To determine the exact accuracy, we need to compute the similarity score between a given query and all possible candidates. Below, by using the `topk_model` we can evaluate the trained retrieval model using the entire item catalog (brute force)."
   ]
  },
  {
   "cell_type": "code",
   "execution_count": 20,
   "id": "d4a15e73-4835-4720-bb64-1d745b3b3f61",
   "metadata": {},
   "outputs": [],
   "source": [
    "# Create candidate/item features for evaluation\n",
    "candidate_features = unique_rows_by_features(train_retrieval, Tags.ITEM, Tags.ITEM_ID)"
   ]
  },
  {
   "cell_type": "code",
   "execution_count": 21,
   "id": "dd362db3-b9d2-4668-bf7b-de139226130a",
   "metadata": {},
   "outputs": [
    {
     "data": {
      "text/html": [
       "<div>\n",
       "<style scoped>\n",
       "    .dataframe tbody tr th:only-of-type {\n",
       "        vertical-align: middle;\n",
       "    }\n",
       "\n",
       "    .dataframe tbody tr th {\n",
       "        vertical-align: top;\n",
       "    }\n",
       "\n",
       "    .dataframe thead th {\n",
       "        text-align: right;\n",
       "    }\n",
       "</style>\n",
       "<table border=\"1\" class=\"dataframe\">\n",
       "  <thead>\n",
       "    <tr style=\"text-align: right;\">\n",
       "      <th></th>\n",
       "      <th>item_id</th>\n",
       "      <th>item_category</th>\n",
       "      <th>item_shop</th>\n",
       "      <th>item_brand</th>\n",
       "    </tr>\n",
       "  </thead>\n",
       "  <tbody>\n",
       "    <tr>\n",
       "      <th>5</th>\n",
       "      <td>1</td>\n",
       "      <td>1</td>\n",
       "      <td>1</td>\n",
       "      <td>1</td>\n",
       "    </tr>\n",
       "    <tr>\n",
       "      <th>43</th>\n",
       "      <td>2</td>\n",
       "      <td>2</td>\n",
       "      <td>2</td>\n",
       "      <td>2</td>\n",
       "    </tr>\n",
       "    <tr>\n",
       "      <th>2</th>\n",
       "      <td>3</td>\n",
       "      <td>3</td>\n",
       "      <td>3</td>\n",
       "      <td>3</td>\n",
       "    </tr>\n",
       "    <tr>\n",
       "      <th>85</th>\n",
       "      <td>4</td>\n",
       "      <td>4</td>\n",
       "      <td>4</td>\n",
       "      <td>4</td>\n",
       "    </tr>\n",
       "    <tr>\n",
       "      <th>7</th>\n",
       "      <td>5</td>\n",
       "      <td>5</td>\n",
       "      <td>5</td>\n",
       "      <td>5</td>\n",
       "    </tr>\n",
       "    <tr>\n",
       "      <th>...</th>\n",
       "      <td>...</td>\n",
       "      <td>...</td>\n",
       "      <td>...</td>\n",
       "      <td>...</td>\n",
       "    </tr>\n",
       "    <tr>\n",
       "      <th>178438</th>\n",
       "      <td>753</td>\n",
       "      <td>753</td>\n",
       "      <td>753</td>\n",
       "      <td>753</td>\n",
       "    </tr>\n",
       "    <tr>\n",
       "      <th>58858</th>\n",
       "      <td>754</td>\n",
       "      <td>754</td>\n",
       "      <td>754</td>\n",
       "      <td>754</td>\n",
       "    </tr>\n",
       "    <tr>\n",
       "      <th>215811</th>\n",
       "      <td>756</td>\n",
       "      <td>756</td>\n",
       "      <td>756</td>\n",
       "      <td>756</td>\n",
       "    </tr>\n",
       "    <tr>\n",
       "      <th>119888</th>\n",
       "      <td>757</td>\n",
       "      <td>757</td>\n",
       "      <td>757</td>\n",
       "      <td>757</td>\n",
       "    </tr>\n",
       "    <tr>\n",
       "      <th>177919</th>\n",
       "      <td>760</td>\n",
       "      <td>760</td>\n",
       "      <td>760</td>\n",
       "      <td>760</td>\n",
       "    </tr>\n",
       "  </tbody>\n",
       "</table>\n",
       "<p>655 rows × 4 columns</p>\n",
       "</div>"
      ],
      "text/plain": [
       "        item_id  item_category  item_shop  item_brand\n",
       "5             1              1          1           1\n",
       "43            2              2          2           2\n",
       "2             3              3          3           3\n",
       "85            4              4          4           4\n",
       "7             5              5          5           5\n",
       "...         ...            ...        ...         ...\n",
       "178438      753            753        753         753\n",
       "58858       754            754        754         754\n",
       "215811      756            756        756         756\n",
       "119888      757            757        757         757\n",
       "177919      760            760        760         760\n",
       "\n",
       "[655 rows x 4 columns]"
      ]
     },
     "execution_count": 21,
     "metadata": {},
     "output_type": "execute_result"
    }
   ],
   "source": [
    "# Here's a display of all of the items\n",
    "candidate_features.to_ddf().compute()"
   ]
  },
  {
   "cell_type": "code",
   "execution_count": 22,
   "id": "288bbf45-2afa-4b1a-ae96-a3a4e525de80",
   "metadata": {},
   "outputs": [
    {
     "name": "stderr",
     "output_type": "stream",
     "text": [
      "/usr/local/lib/python3.8/dist-packages/merlin/schema/tags.py:148: UserWarning: Compound tags like Tags.ITEM_ID have been deprecated and will be removed in a future version. Please use the atomic versions of these tags, like [<Tags.ITEM: 'item'>, <Tags.ID: 'id'>].\n",
      "  warnings.warn(\n"
     ]
    }
   ],
   "source": [
    "# Convert model to a top_k_encoder\n",
    "topk_model = retrieval_model.to_top_k_encoder(candidate_features, k=20, batch_size=128)\n",
    "\n",
    "# we can set `metrics` param in the `compile(), if we want\n",
    "topk_model.compile(run_eagerly=False)"
   ]
  },
  {
   "cell_type": "code",
   "execution_count": 23,
   "id": "2b42eaa0-996e-43e3-a951-fc013e2d0d3d",
   "metadata": {},
   "outputs": [
    {
     "name": "stdout",
     "output_type": "stream",
     "text": [
      "147/147 [==============================] - 4s 14ms/step - loss: 0.3710 - recall_at_10: 0.0824 - mrr_at_10: 0.0307 - ndcg_at_10: 0.0427 - map_at_10: 0.0307 - precision_at_10: 0.0082 - regularization_loss: 0.0000e+00 - loss_batch: 0.3707\n"
     ]
    },
    {
     "data": {
      "text/plain": [
       "{'loss': 0.3710492253303528,\n",
       " 'recall_at_10': 0.08240917325019836,\n",
       " 'mrr_at_10': 0.030697820708155632,\n",
       " 'ndcg_at_10': 0.04271082207560539,\n",
       " 'map_at_10': 0.030697820708155632,\n",
       " 'precision_at_10': 0.008240917697548866,\n",
       " 'regularization_loss': 0.0,\n",
       " 'loss_batch': 0.3309170603752136}"
      ]
     },
     "execution_count": 23,
     "metadata": {},
     "output_type": "execute_result"
    }
   ],
   "source": [
    "# Create data loader for validation data\n",
    "eval_loader = mm.Loader(valid_retrieval, batch_size=1024).map(mm.ToTarget(schema, \"item_id\"))\n",
    "\n",
    "# Evaluation\n",
    "metrics = topk_model.evaluate(eval_loader, return_dict=True)\n",
    "metrics"
   ]
  },
  {
   "cell_type": "markdown",
   "id": "f49037a0-a1c2-4a6f-a89e-e67e0e696445",
   "metadata": {},
   "source": [
    "### Generate top-K recommendations"
   ]
  },
  {
   "cell_type": "markdown",
   "id": "454a1acf-5baf-4f38-8ce4-2c05c6e685cb",
   "metadata": {},
   "source": [
    "Let's generate top-K (k=20 in our example) recommendations for a given batch of 8 samples. The `to_top_k_encoder()` method uses the item/candidate features dataset to compute and store all item/candidate embeddings in an index. The forward method of `topk_model` takes as the query/user features as input, and computes the dot product scores between the given query/user embeddings and all the candidates of the top-k index. Then, it returns the top-k (k=20) item ids with the highest scores."
   ]
  },
  {
   "cell_type": "code",
   "execution_count": 25,
   "id": "96d15826-5e18-4061-8834-c36406455e32",
   "metadata": {},
   "outputs": [],
   "source": [
    "# Create query/user features for evaluation\n",
    "\n",
    "user_features = unique_rows_by_features(train_retrieval, Tags.USER, Tags.USER_ID)"
   ]
  },
  {
   "cell_type": "code",
   "execution_count": 26,
   "id": "831f6021-b260-4001-93b2-ea9e49ea4bd7",
   "metadata": {},
   "outputs": [
    {
     "data": {
      "text/html": [
       "<div>\n",
       "<style scoped>\n",
       "    .dataframe tbody tr th:only-of-type {\n",
       "        vertical-align: middle;\n",
       "    }\n",
       "\n",
       "    .dataframe tbody tr th {\n",
       "        vertical-align: top;\n",
       "    }\n",
       "\n",
       "    .dataframe thead th {\n",
       "        text-align: right;\n",
       "    }\n",
       "</style>\n",
       "<table border=\"1\" class=\"dataframe\">\n",
       "  <thead>\n",
       "    <tr style=\"text-align: right;\">\n",
       "      <th></th>\n",
       "      <th>user_id</th>\n",
       "      <th>user_shops</th>\n",
       "      <th>user_profile</th>\n",
       "      <th>user_group</th>\n",
       "      <th>user_gender</th>\n",
       "      <th>user_age</th>\n",
       "      <th>user_consumption_2</th>\n",
       "      <th>user_is_occupied</th>\n",
       "      <th>user_geography</th>\n",
       "      <th>user_intentions</th>\n",
       "      <th>user_brands</th>\n",
       "      <th>user_categories</th>\n",
       "    </tr>\n",
       "  </thead>\n",
       "  <tbody>\n",
       "    <tr>\n",
       "      <th>17</th>\n",
       "      <td>1</td>\n",
       "      <td>1</td>\n",
       "      <td>1</td>\n",
       "      <td>1</td>\n",
       "      <td>1</td>\n",
       "      <td>1</td>\n",
       "      <td>1</td>\n",
       "      <td>1</td>\n",
       "      <td>1</td>\n",
       "      <td>1</td>\n",
       "      <td>1</td>\n",
       "      <td>1</td>\n",
       "    </tr>\n",
       "    <tr>\n",
       "      <th>55</th>\n",
       "      <td>2</td>\n",
       "      <td>2</td>\n",
       "      <td>1</td>\n",
       "      <td>1</td>\n",
       "      <td>1</td>\n",
       "      <td>1</td>\n",
       "      <td>1</td>\n",
       "      <td>1</td>\n",
       "      <td>1</td>\n",
       "      <td>2</td>\n",
       "      <td>2</td>\n",
       "      <td>2</td>\n",
       "    </tr>\n",
       "    <tr>\n",
       "      <th>18</th>\n",
       "      <td>3</td>\n",
       "      <td>3</td>\n",
       "      <td>1</td>\n",
       "      <td>1</td>\n",
       "      <td>1</td>\n",
       "      <td>1</td>\n",
       "      <td>1</td>\n",
       "      <td>1</td>\n",
       "      <td>1</td>\n",
       "      <td>3</td>\n",
       "      <td>3</td>\n",
       "      <td>3</td>\n",
       "    </tr>\n",
       "    <tr>\n",
       "      <th>24</th>\n",
       "      <td>4</td>\n",
       "      <td>4</td>\n",
       "      <td>1</td>\n",
       "      <td>1</td>\n",
       "      <td>1</td>\n",
       "      <td>1</td>\n",
       "      <td>1</td>\n",
       "      <td>1</td>\n",
       "      <td>1</td>\n",
       "      <td>4</td>\n",
       "      <td>4</td>\n",
       "      <td>4</td>\n",
       "    </tr>\n",
       "    <tr>\n",
       "      <th>117</th>\n",
       "      <td>5</td>\n",
       "      <td>5</td>\n",
       "      <td>1</td>\n",
       "      <td>1</td>\n",
       "      <td>1</td>\n",
       "      <td>1</td>\n",
       "      <td>1</td>\n",
       "      <td>1</td>\n",
       "      <td>1</td>\n",
       "      <td>5</td>\n",
       "      <td>5</td>\n",
       "      <td>5</td>\n",
       "    </tr>\n",
       "    <tr>\n",
       "      <th>...</th>\n",
       "      <td>...</td>\n",
       "      <td>...</td>\n",
       "      <td>...</td>\n",
       "      <td>...</td>\n",
       "      <td>...</td>\n",
       "      <td>...</td>\n",
       "      <td>...</td>\n",
       "      <td>...</td>\n",
       "      <td>...</td>\n",
       "      <td>...</td>\n",
       "      <td>...</td>\n",
       "      <td>...</td>\n",
       "    </tr>\n",
       "    <tr>\n",
       "      <th>264149</th>\n",
       "      <td>763</td>\n",
       "      <td>763</td>\n",
       "      <td>37</td>\n",
       "      <td>5</td>\n",
       "      <td>1</td>\n",
       "      <td>3</td>\n",
       "      <td>2</td>\n",
       "      <td>1</td>\n",
       "      <td>2</td>\n",
       "      <td>763</td>\n",
       "      <td>763</td>\n",
       "      <td>763</td>\n",
       "    </tr>\n",
       "    <tr>\n",
       "      <th>192329</th>\n",
       "      <td>764</td>\n",
       "      <td>764</td>\n",
       "      <td>38</td>\n",
       "      <td>6</td>\n",
       "      <td>1</td>\n",
       "      <td>3</td>\n",
       "      <td>2</td>\n",
       "      <td>1</td>\n",
       "      <td>2</td>\n",
       "      <td>764</td>\n",
       "      <td>764</td>\n",
       "      <td>764</td>\n",
       "    </tr>\n",
       "    <tr>\n",
       "      <th>270949</th>\n",
       "      <td>765</td>\n",
       "      <td>765</td>\n",
       "      <td>39</td>\n",
       "      <td>7</td>\n",
       "      <td>2</td>\n",
       "      <td>4</td>\n",
       "      <td>2</td>\n",
       "      <td>2</td>\n",
       "      <td>4</td>\n",
       "      <td>765</td>\n",
       "      <td>765</td>\n",
       "      <td>765</td>\n",
       "    </tr>\n",
       "    <tr>\n",
       "      <th>271913</th>\n",
       "      <td>766</td>\n",
       "      <td>766</td>\n",
       "      <td>40</td>\n",
       "      <td>8</td>\n",
       "      <td>2</td>\n",
       "      <td>5</td>\n",
       "      <td>3</td>\n",
       "      <td>2</td>\n",
       "      <td>3</td>\n",
       "      <td>766</td>\n",
       "      <td>766</td>\n",
       "      <td>766</td>\n",
       "    </tr>\n",
       "    <tr>\n",
       "      <th>176149</th>\n",
       "      <td>767</td>\n",
       "      <td>767</td>\n",
       "      <td>41</td>\n",
       "      <td>9</td>\n",
       "      <td>2</td>\n",
       "      <td>6</td>\n",
       "      <td>3</td>\n",
       "      <td>2</td>\n",
       "      <td>3</td>\n",
       "      <td>767</td>\n",
       "      <td>767</td>\n",
       "      <td>767</td>\n",
       "    </tr>\n",
       "  </tbody>\n",
       "</table>\n",
       "<p>650 rows × 12 columns</p>\n",
       "</div>"
      ],
      "text/plain": [
       "        user_id  user_shops  user_profile  user_group  user_gender  user_age  \\\n",
       "17            1           1             1           1            1         1   \n",
       "55            2           2             1           1            1         1   \n",
       "18            3           3             1           1            1         1   \n",
       "24            4           4             1           1            1         1   \n",
       "117           5           5             1           1            1         1   \n",
       "...         ...         ...           ...         ...          ...       ...   \n",
       "264149      763         763            37           5            1         3   \n",
       "192329      764         764            38           6            1         3   \n",
       "270949      765         765            39           7            2         4   \n",
       "271913      766         766            40           8            2         5   \n",
       "176149      767         767            41           9            2         6   \n",
       "\n",
       "        user_consumption_2  user_is_occupied  user_geography  user_intentions  \\\n",
       "17                       1                 1               1                1   \n",
       "55                       1                 1               1                2   \n",
       "18                       1                 1               1                3   \n",
       "24                       1                 1               1                4   \n",
       "117                      1                 1               1                5   \n",
       "...                    ...               ...             ...              ...   \n",
       "264149                   2                 1               2              763   \n",
       "192329                   2                 1               2              764   \n",
       "270949                   2                 2               4              765   \n",
       "271913                   3                 2               3              766   \n",
       "176149                   3                 2               3              767   \n",
       "\n",
       "        user_brands  user_categories  \n",
       "17                1                1  \n",
       "55                2                2  \n",
       "18                3                3  \n",
       "24                4                4  \n",
       "117               5                5  \n",
       "...             ...              ...  \n",
       "264149          763              763  \n",
       "192329          764              764  \n",
       "270949          765              765  \n",
       "271913          766              766  \n",
       "176149          767              767  \n",
       "\n",
       "[650 rows x 12 columns]"
      ]
     },
     "execution_count": 26,
     "metadata": {},
     "output_type": "execute_result"
    }
   ],
   "source": [
    "user_features.to_ddf().compute()"
   ]
  },
  {
   "cell_type": "code",
   "execution_count": 27,
   "id": "e9e3c032-0084-46c8-b61c-eb7b8595d71b",
   "metadata": {
    "tags": []
   },
   "outputs": [
    {
     "name": "stdout",
     "output_type": "stream",
     "text": [
      "tf.Tensor(\n",
      "[[1]\n",
      " [2]\n",
      " [3]\n",
      " [4]\n",
      " [5]\n",
      " [6]\n",
      " [7]\n",
      " [8]], shape=(8, 1), dtype=int32)\n"
     ]
    }
   ],
   "source": [
    "# Check out one batch of users\n",
    "loader = mm.Loader(user_features, batch_size=8, shuffle=False)\n",
    "batch = next(iter(loader))\n",
    "print(batch[0]['user_id'])"
   ]
  },
  {
   "cell_type": "markdown",
   "id": "7b7b8048-1a90-4311-8d19-be6e8715fc7f",
   "metadata": {},
   "source": [
    "The recommended top 20 item ids are returned below for each of the 8 selected users (from the validation set). The output of the method is a named tuple `TopKPrediction`, where the first element is the dot product scores and the second element is the encoded item ids (not the original ids)."
   ]
  },
  {
   "cell_type": "code",
   "execution_count": 28,
   "id": "0e720af4-70cd-40c8-857b-75e127e7d867",
   "metadata": {},
   "outputs": [],
   "source": [
    "scores, reccommended_item_ids = topk_model(batch[0])"
   ]
  },
  {
   "cell_type": "code",
   "execution_count": 29,
   "id": "ed2b07aa-ada9-4f37-a5d2-a4dea5940403",
   "metadata": {},
   "outputs": [
    {
     "data": {
      "text/plain": [
       "<tf.Tensor: shape=(8, 20), dtype=int32, numpy=\n",
       "array([[760, 163,  61,  29, 220, 256,  27, 317,  21, 251, 339, 224, 176,\n",
       "         14, 109,  12,  36, 515, 247, 482],\n",
       "       [ 43, 233,   1,  95, 313,  33, 102,   8, 140,  34, 314, 545,   5,\n",
       "        485, 521,  13, 685, 446, 591, 462],\n",
       "       [  5,   8, 301,  34,   4, 357, 213, 140, 257, 453, 567,  14, 591,\n",
       "        612, 125, 273,  97,   2,  43, 496],\n",
       "       [ 18,  11, 255,  86,  50,   7,  61, 408,  12, 535, 290, 389, 159,\n",
       "        115,  96, 355, 283,  73, 650,  44],\n",
       "       [  5,  68,   4, 446, 485, 212, 388, 314, 273, 609, 710, 612,   8,\n",
       "         15, 321, 567, 451, 394, 591, 233],\n",
       "       [  5,  18,  50,  11, 119, 215, 280, 138, 441,   1, 350,  45,  49,\n",
       "         48, 267, 232, 384, 171,  77, 446],\n",
       "       [ 50,  18,  11, 171,  28, 370,  74, 119,  96, 404,  65, 350, 103,\n",
       "        603,   5, 212, 267, 441, 271, 705],\n",
       "       [117,  12,   7, 199, 257, 273,  38, 120,  11, 612,  83,   5, 103,\n",
       "        189, 250, 290,  28,   8, 603,  70]], dtype=int32)>"
      ]
     },
     "execution_count": 29,
     "metadata": {},
     "output_type": "execute_result"
    }
   ],
   "source": [
    "# Recommended Items for the batch of 8 Users\n",
    "reccommended_item_ids"
   ]
  },
  {
   "cell_type": "code",
   "execution_count": 30,
   "id": "59a74673-73ba-4706-be99-c3037f2bd6ba",
   "metadata": {},
   "outputs": [
    {
     "data": {
      "text/plain": [
       "<tf.Tensor: shape=(8, 20), dtype=float32, numpy=\n",
       "array([[0.07148756, 0.0592928 , 0.04263241, 0.04206377, 0.04134098,\n",
       "        0.04126939, 0.03950732, 0.03849062, 0.03766272, 0.03731737,\n",
       "        0.03611607, 0.03563635, 0.03438456, 0.03436154, 0.03428886,\n",
       "        0.03335116, 0.03275171, 0.03250426, 0.03107942, 0.0306492 ],\n",
       "       [0.05896503, 0.0550338 , 0.05237116, 0.05209834, 0.05191278,\n",
       "        0.04809685, 0.0416616 , 0.04103876, 0.04036508, 0.04025036,\n",
       "        0.03998354, 0.03993648, 0.03984115, 0.03883475, 0.03769161,\n",
       "        0.03723952, 0.03710738, 0.03707945, 0.03631726, 0.03543824],\n",
       "       [0.10223916, 0.07071984, 0.05490056, 0.05185218, 0.0435054 ,\n",
       "        0.04271939, 0.03781777, 0.0372151 , 0.03473343, 0.03246345,\n",
       "        0.03245043, 0.03241496, 0.03152925, 0.03114765, 0.03059477,\n",
       "        0.02976292, 0.02886857, 0.02860777, 0.02751431, 0.02698508],\n",
       "       [0.04644962, 0.04082624, 0.04082165, 0.03851781, 0.03596479,\n",
       "        0.0353808 , 0.03353062, 0.03244458, 0.03243339, 0.03084057,\n",
       "        0.02992089, 0.02885828, 0.0282013 , 0.02797446, 0.02738914,\n",
       "        0.02720685, 0.02708288, 0.02636457, 0.02367279, 0.0233992 ],\n",
       "       [0.11343074, 0.05214466, 0.05151695, 0.05139633, 0.05003124,\n",
       "        0.0485681 , 0.0425918 , 0.0424555 , 0.04195931, 0.04032528,\n",
       "        0.03788237, 0.03743594, 0.03699784, 0.03472731, 0.03417552,\n",
       "        0.03333066, 0.03317507, 0.03225895, 0.03050036, 0.02988113],\n",
       "       [0.09707481, 0.07502065, 0.07266605, 0.06086966, 0.05788057,\n",
       "        0.05745415, 0.05589264, 0.05304968, 0.05281289, 0.05176699,\n",
       "        0.05172622, 0.05134577, 0.05078435, 0.04964801, 0.04931153,\n",
       "        0.04889793, 0.04853722, 0.04830625, 0.04668719, 0.04629911],\n",
       "       [0.15871628, 0.1553482 , 0.11032852, 0.10491138, 0.0983049 ,\n",
       "        0.09791663, 0.09527212, 0.09400103, 0.09141099, 0.0912017 ,\n",
       "        0.08971293, 0.0880274 , 0.08571281, 0.08557645, 0.08273445,\n",
       "        0.08159837, 0.08123404, 0.07738294, 0.07515334, 0.07440085],\n",
       "       [0.05115118, 0.04862768, 0.04360105, 0.04193025, 0.04170968,\n",
       "        0.03798456, 0.0361592 , 0.0330539 , 0.0321739 , 0.03128332,\n",
       "        0.03078704, 0.03040715, 0.03039792, 0.02981563, 0.02931309,\n",
       "        0.02888842, 0.02864624, 0.0282623 , 0.02802197, 0.02800045]],\n",
       "      dtype=float32)>"
      ]
     },
     "execution_count": 30,
     "metadata": {},
     "output_type": "execute_result"
    }
   ],
   "source": [
    "# Recommendation \"scores\" (higher is better) for each item in topK for each User in the batch of 8\n",
    "scores"
   ]
  },
  {
   "cell_type": "markdown",
   "id": "5ac898a1-ebbf-4771-8f4d-fc8b6f47f587",
   "metadata": {},
   "source": [
    "## Ranking Model\n",
    "\n",
    "We will use a Deep Learning Recommendation Model [(DLRM)](https://arxiv.org/abs/1906.00091) architecture (published by Facebook/Meta in 2019) to score and rank User/Item pairs. The model was introduced as a personalization deep learning model that uses embeddings to process sparse features that represent categorical data and a multilayer perceptron (MLP) to process dense features, then interacts these features explicitly using the statistical techniques proposed in [here](https://ieeexplore.ieee.org/stamp/stamp.jsp?tp=&arnumber=5694074). To learn more about DLRM architetcture please visit [this notebook](https://github.com/NVIDIA-Merlin/models/blob/main/examples/04-Exporting-ranking-models.ipynb) in the Merlin Models GH repo.\n"
   ]
  },
  {
   "cell_type": "markdown",
   "id": "d6559bcc-de8c-48e8-b709-2f6ed2bb25d0",
   "metadata": {},
   "source": [
    "### Feature Engineering for DLRM"
   ]
  },
  {
   "cell_type": "code",
   "execution_count": 35,
   "id": "6b1667ea-73dc-4dee-bafc-bf93af122996",
   "metadata": {},
   "outputs": [],
   "source": [
    "# Define train and valid dataset objects\n",
    "train_rank = Dataset(os.path.join(OUTPUT_DATA_DIR, \"train\", \"*.parquet\"), part_size=\"500MB\")\n",
    "valid_rank = Dataset(os.path.join(OUTPUT_DATA_DIR, \"valid\", \"*.parquet\"), part_size=\"500MB\")\n",
    "\n",
    "# Define schema object\n",
    "schema = train_rank.schema.without(['user_id_raw', 'item_id_raw'])"
   ]
  },
  {
   "cell_type": "code",
   "execution_count": 36,
   "id": "782fc973-47e4-40ef-89af-57d3bcd28f67",
   "metadata": {},
   "outputs": [
    {
     "data": {
      "text/html": [
       "<div>\n",
       "<style scoped>\n",
       "    .dataframe tbody tr th:only-of-type {\n",
       "        vertical-align: middle;\n",
       "    }\n",
       "\n",
       "    .dataframe tbody tr th {\n",
       "        vertical-align: top;\n",
       "    }\n",
       "\n",
       "    .dataframe thead th {\n",
       "        text-align: right;\n",
       "    }\n",
       "</style>\n",
       "<table border=\"1\" class=\"dataframe\">\n",
       "  <thead>\n",
       "    <tr style=\"text-align: right;\">\n",
       "      <th></th>\n",
       "      <th>name</th>\n",
       "      <th>tags</th>\n",
       "      <th>dtype</th>\n",
       "      <th>is_list</th>\n",
       "      <th>is_ragged</th>\n",
       "      <th>properties.num_buckets</th>\n",
       "      <th>properties.freq_threshold</th>\n",
       "      <th>properties.max_size</th>\n",
       "      <th>properties.start_index</th>\n",
       "      <th>properties.cat_path</th>\n",
       "      <th>properties.embedding_sizes.cardinality</th>\n",
       "      <th>properties.embedding_sizes.dimension</th>\n",
       "      <th>properties.domain.min</th>\n",
       "      <th>properties.domain.max</th>\n",
       "      <th>properties.domain.name</th>\n",
       "    </tr>\n",
       "  </thead>\n",
       "  <tbody>\n",
       "    <tr>\n",
       "      <th>0</th>\n",
       "      <td>user_id</td>\n",
       "      <td>(Tags.CATEGORICAL, Tags.USER, Tags.USER_ID, Ta...</td>\n",
       "      <td>int32</td>\n",
       "      <td>False</td>\n",
       "      <td>False</td>\n",
       "      <td>NaN</td>\n",
       "      <td>0.0</td>\n",
       "      <td>0.0</td>\n",
       "      <td>0.0</td>\n",
       "      <td>/workdir/data/processed/workflow/categories/un...</td>\n",
       "      <td>768.0</td>\n",
       "      <td>66.0</td>\n",
       "      <td>0</td>\n",
       "      <td>767</td>\n",
       "      <td>user_id</td>\n",
       "    </tr>\n",
       "    <tr>\n",
       "      <th>1</th>\n",
       "      <td>item_id</td>\n",
       "      <td>(Tags.CATEGORICAL, Tags.ITEM, Tags.ITEM_ID, Ta...</td>\n",
       "      <td>int32</td>\n",
       "      <td>False</td>\n",
       "      <td>False</td>\n",
       "      <td>NaN</td>\n",
       "      <td>0.0</td>\n",
       "      <td>0.0</td>\n",
       "      <td>0.0</td>\n",
       "      <td>/workdir/data/processed/workflow/categories/un...</td>\n",
       "      <td>763.0</td>\n",
       "      <td>66.0</td>\n",
       "      <td>0</td>\n",
       "      <td>762</td>\n",
       "      <td>item_id</td>\n",
       "    </tr>\n",
       "    <tr>\n",
       "      <th>2</th>\n",
       "      <td>item_category</td>\n",
       "      <td>(Tags.CATEGORICAL, Tags.ITEM)</td>\n",
       "      <td>int32</td>\n",
       "      <td>False</td>\n",
       "      <td>False</td>\n",
       "      <td>NaN</td>\n",
       "      <td>0.0</td>\n",
       "      <td>0.0</td>\n",
       "      <td>0.0</td>\n",
       "      <td>/workdir/data/processed/workflow/categories/un...</td>\n",
       "      <td>763.0</td>\n",
       "      <td>66.0</td>\n",
       "      <td>0</td>\n",
       "      <td>762</td>\n",
       "      <td>item_category</td>\n",
       "    </tr>\n",
       "    <tr>\n",
       "      <th>3</th>\n",
       "      <td>item_shop</td>\n",
       "      <td>(Tags.CATEGORICAL, Tags.ITEM)</td>\n",
       "      <td>int32</td>\n",
       "      <td>False</td>\n",
       "      <td>False</td>\n",
       "      <td>NaN</td>\n",
       "      <td>0.0</td>\n",
       "      <td>0.0</td>\n",
       "      <td>0.0</td>\n",
       "      <td>/workdir/data/processed/workflow/categories/un...</td>\n",
       "      <td>763.0</td>\n",
       "      <td>66.0</td>\n",
       "      <td>0</td>\n",
       "      <td>762</td>\n",
       "      <td>item_shop</td>\n",
       "    </tr>\n",
       "    <tr>\n",
       "      <th>4</th>\n",
       "      <td>item_brand</td>\n",
       "      <td>(Tags.CATEGORICAL, Tags.ITEM)</td>\n",
       "      <td>int32</td>\n",
       "      <td>False</td>\n",
       "      <td>False</td>\n",
       "      <td>NaN</td>\n",
       "      <td>0.0</td>\n",
       "      <td>0.0</td>\n",
       "      <td>0.0</td>\n",
       "      <td>/workdir/data/processed/workflow/categories/un...</td>\n",
       "      <td>763.0</td>\n",
       "      <td>66.0</td>\n",
       "      <td>0</td>\n",
       "      <td>762</td>\n",
       "      <td>item_brand</td>\n",
       "    </tr>\n",
       "    <tr>\n",
       "      <th>5</th>\n",
       "      <td>user_shops</td>\n",
       "      <td>(Tags.CATEGORICAL, Tags.USER)</td>\n",
       "      <td>int32</td>\n",
       "      <td>False</td>\n",
       "      <td>False</td>\n",
       "      <td>NaN</td>\n",
       "      <td>0.0</td>\n",
       "      <td>0.0</td>\n",
       "      <td>0.0</td>\n",
       "      <td>/workdir/data/processed/workflow/categories/un...</td>\n",
       "      <td>768.0</td>\n",
       "      <td>66.0</td>\n",
       "      <td>0</td>\n",
       "      <td>767</td>\n",
       "      <td>user_shops</td>\n",
       "    </tr>\n",
       "    <tr>\n",
       "      <th>6</th>\n",
       "      <td>user_profile</td>\n",
       "      <td>(Tags.CATEGORICAL, Tags.USER)</td>\n",
       "      <td>int32</td>\n",
       "      <td>False</td>\n",
       "      <td>False</td>\n",
       "      <td>NaN</td>\n",
       "      <td>0.0</td>\n",
       "      <td>0.0</td>\n",
       "      <td>0.0</td>\n",
       "      <td>/workdir/data/processed/workflow/categories/un...</td>\n",
       "      <td>42.0</td>\n",
       "      <td>16.0</td>\n",
       "      <td>0</td>\n",
       "      <td>41</td>\n",
       "      <td>user_profile</td>\n",
       "    </tr>\n",
       "    <tr>\n",
       "      <th>7</th>\n",
       "      <td>user_group</td>\n",
       "      <td>(Tags.CATEGORICAL, Tags.USER)</td>\n",
       "      <td>int32</td>\n",
       "      <td>False</td>\n",
       "      <td>False</td>\n",
       "      <td>NaN</td>\n",
       "      <td>0.0</td>\n",
       "      <td>0.0</td>\n",
       "      <td>0.0</td>\n",
       "      <td>/workdir/data/processed/workflow/categories/un...</td>\n",
       "      <td>10.0</td>\n",
       "      <td>16.0</td>\n",
       "      <td>0</td>\n",
       "      <td>9</td>\n",
       "      <td>user_group</td>\n",
       "    </tr>\n",
       "    <tr>\n",
       "      <th>8</th>\n",
       "      <td>user_gender</td>\n",
       "      <td>(Tags.CATEGORICAL, Tags.USER)</td>\n",
       "      <td>int32</td>\n",
       "      <td>False</td>\n",
       "      <td>False</td>\n",
       "      <td>NaN</td>\n",
       "      <td>0.0</td>\n",
       "      <td>0.0</td>\n",
       "      <td>0.0</td>\n",
       "      <td>/workdir/data/processed/workflow/categories/un...</td>\n",
       "      <td>3.0</td>\n",
       "      <td>16.0</td>\n",
       "      <td>0</td>\n",
       "      <td>2</td>\n",
       "      <td>user_gender</td>\n",
       "    </tr>\n",
       "    <tr>\n",
       "      <th>9</th>\n",
       "      <td>user_age</td>\n",
       "      <td>(Tags.CATEGORICAL, Tags.USER)</td>\n",
       "      <td>int32</td>\n",
       "      <td>False</td>\n",
       "      <td>False</td>\n",
       "      <td>NaN</td>\n",
       "      <td>0.0</td>\n",
       "      <td>0.0</td>\n",
       "      <td>0.0</td>\n",
       "      <td>/workdir/data/processed/workflow/categories/un...</td>\n",
       "      <td>7.0</td>\n",
       "      <td>16.0</td>\n",
       "      <td>0</td>\n",
       "      <td>6</td>\n",
       "      <td>user_age</td>\n",
       "    </tr>\n",
       "    <tr>\n",
       "      <th>10</th>\n",
       "      <td>user_consumption_2</td>\n",
       "      <td>(Tags.CATEGORICAL, Tags.USER)</td>\n",
       "      <td>int32</td>\n",
       "      <td>False</td>\n",
       "      <td>False</td>\n",
       "      <td>NaN</td>\n",
       "      <td>0.0</td>\n",
       "      <td>0.0</td>\n",
       "      <td>0.0</td>\n",
       "      <td>/workdir/data/processed/workflow/categories/un...</td>\n",
       "      <td>4.0</td>\n",
       "      <td>16.0</td>\n",
       "      <td>0</td>\n",
       "      <td>3</td>\n",
       "      <td>user_consumption_2</td>\n",
       "    </tr>\n",
       "    <tr>\n",
       "      <th>11</th>\n",
       "      <td>user_is_occupied</td>\n",
       "      <td>(Tags.CATEGORICAL, Tags.USER)</td>\n",
       "      <td>int32</td>\n",
       "      <td>False</td>\n",
       "      <td>False</td>\n",
       "      <td>NaN</td>\n",
       "      <td>0.0</td>\n",
       "      <td>0.0</td>\n",
       "      <td>0.0</td>\n",
       "      <td>/workdir/data/processed/workflow/categories/un...</td>\n",
       "      <td>3.0</td>\n",
       "      <td>16.0</td>\n",
       "      <td>0</td>\n",
       "      <td>2</td>\n",
       "      <td>user_is_occupied</td>\n",
       "    </tr>\n",
       "    <tr>\n",
       "      <th>12</th>\n",
       "      <td>user_geography</td>\n",
       "      <td>(Tags.CATEGORICAL, Tags.USER)</td>\n",
       "      <td>int32</td>\n",
       "      <td>False</td>\n",
       "      <td>False</td>\n",
       "      <td>NaN</td>\n",
       "      <td>0.0</td>\n",
       "      <td>0.0</td>\n",
       "      <td>0.0</td>\n",
       "      <td>/workdir/data/processed/workflow/categories/un...</td>\n",
       "      <td>5.0</td>\n",
       "      <td>16.0</td>\n",
       "      <td>0</td>\n",
       "      <td>4</td>\n",
       "      <td>user_geography</td>\n",
       "    </tr>\n",
       "    <tr>\n",
       "      <th>13</th>\n",
       "      <td>user_intentions</td>\n",
       "      <td>(Tags.CATEGORICAL, Tags.USER)</td>\n",
       "      <td>int32</td>\n",
       "      <td>False</td>\n",
       "      <td>False</td>\n",
       "      <td>NaN</td>\n",
       "      <td>0.0</td>\n",
       "      <td>0.0</td>\n",
       "      <td>0.0</td>\n",
       "      <td>/workdir/data/processed/workflow/categories/un...</td>\n",
       "      <td>768.0</td>\n",
       "      <td>66.0</td>\n",
       "      <td>0</td>\n",
       "      <td>767</td>\n",
       "      <td>user_intentions</td>\n",
       "    </tr>\n",
       "    <tr>\n",
       "      <th>14</th>\n",
       "      <td>user_brands</td>\n",
       "      <td>(Tags.CATEGORICAL, Tags.USER)</td>\n",
       "      <td>int32</td>\n",
       "      <td>False</td>\n",
       "      <td>False</td>\n",
       "      <td>NaN</td>\n",
       "      <td>0.0</td>\n",
       "      <td>0.0</td>\n",
       "      <td>0.0</td>\n",
       "      <td>/workdir/data/processed/workflow/categories/un...</td>\n",
       "      <td>768.0</td>\n",
       "      <td>66.0</td>\n",
       "      <td>0</td>\n",
       "      <td>767</td>\n",
       "      <td>user_brands</td>\n",
       "    </tr>\n",
       "    <tr>\n",
       "      <th>15</th>\n",
       "      <td>user_categories</td>\n",
       "      <td>(Tags.CATEGORICAL, Tags.USER)</td>\n",
       "      <td>int32</td>\n",
       "      <td>False</td>\n",
       "      <td>False</td>\n",
       "      <td>NaN</td>\n",
       "      <td>0.0</td>\n",
       "      <td>0.0</td>\n",
       "      <td>0.0</td>\n",
       "      <td>/workdir/data/processed/workflow/categories/un...</td>\n",
       "      <td>768.0</td>\n",
       "      <td>66.0</td>\n",
       "      <td>0</td>\n",
       "      <td>767</td>\n",
       "      <td>user_categories</td>\n",
       "    </tr>\n",
       "    <tr>\n",
       "      <th>16</th>\n",
       "      <td>click</td>\n",
       "      <td>(Tags.BINARY_CLASSIFICATION, Tags.TARGET)</td>\n",
       "      <td>int64</td>\n",
       "      <td>False</td>\n",
       "      <td>False</td>\n",
       "      <td>NaN</td>\n",
       "      <td>NaN</td>\n",
       "      <td>NaN</td>\n",
       "      <td>NaN</td>\n",
       "      <td>NaN</td>\n",
       "      <td>NaN</td>\n",
       "      <td>NaN</td>\n",
       "      <td>0</td>\n",
       "      <td>2</td>\n",
       "      <td>click</td>\n",
       "    </tr>\n",
       "  </tbody>\n",
       "</table>\n",
       "</div>"
      ],
      "text/plain": [
       "[{'name': 'user_id', 'tags': {<Tags.CATEGORICAL: 'categorical'>, <Tags.USER: 'user'>, <Tags.USER_ID: 'user_id'>, <Tags.ID: 'id'>}, 'properties': {'num_buckets': None, 'freq_threshold': 0.0, 'max_size': 0.0, 'start_index': 0.0, 'cat_path': '/workdir/data/processed/workflow/categories/unique.user_id.parquet', 'embedding_sizes': {'cardinality': 768.0, 'dimension': 66.0}, 'domain': {'min': 0, 'max': 767, 'name': 'user_id'}}, 'dtype': dtype('int32'), 'is_list': False, 'is_ragged': False}, {'name': 'item_id', 'tags': {<Tags.CATEGORICAL: 'categorical'>, <Tags.ITEM: 'item'>, <Tags.ITEM_ID: 'item_id'>, <Tags.ID: 'id'>}, 'properties': {'num_buckets': None, 'freq_threshold': 0.0, 'max_size': 0.0, 'start_index': 0.0, 'cat_path': '/workdir/data/processed/workflow/categories/unique.item_id.parquet', 'embedding_sizes': {'cardinality': 763.0, 'dimension': 66.0}, 'domain': {'min': 0, 'max': 762, 'name': 'item_id'}}, 'dtype': dtype('int32'), 'is_list': False, 'is_ragged': False}, {'name': 'item_category', 'tags': {<Tags.CATEGORICAL: 'categorical'>, <Tags.ITEM: 'item'>}, 'properties': {'num_buckets': None, 'freq_threshold': 0.0, 'max_size': 0.0, 'start_index': 0.0, 'cat_path': '/workdir/data/processed/workflow/categories/unique.item_category.parquet', 'embedding_sizes': {'cardinality': 763.0, 'dimension': 66.0}, 'domain': {'min': 0, 'max': 762, 'name': 'item_category'}}, 'dtype': dtype('int32'), 'is_list': False, 'is_ragged': False}, {'name': 'item_shop', 'tags': {<Tags.CATEGORICAL: 'categorical'>, <Tags.ITEM: 'item'>}, 'properties': {'num_buckets': None, 'freq_threshold': 0.0, 'max_size': 0.0, 'start_index': 0.0, 'cat_path': '/workdir/data/processed/workflow/categories/unique.item_shop.parquet', 'embedding_sizes': {'cardinality': 763.0, 'dimension': 66.0}, 'domain': {'min': 0, 'max': 762, 'name': 'item_shop'}}, 'dtype': dtype('int32'), 'is_list': False, 'is_ragged': False}, {'name': 'item_brand', 'tags': {<Tags.CATEGORICAL: 'categorical'>, <Tags.ITEM: 'item'>}, 'properties': {'num_buckets': None, 'freq_threshold': 0.0, 'max_size': 0.0, 'start_index': 0.0, 'cat_path': '/workdir/data/processed/workflow/categories/unique.item_brand.parquet', 'embedding_sizes': {'cardinality': 763.0, 'dimension': 66.0}, 'domain': {'min': 0, 'max': 762, 'name': 'item_brand'}}, 'dtype': dtype('int32'), 'is_list': False, 'is_ragged': False}, {'name': 'user_shops', 'tags': {<Tags.CATEGORICAL: 'categorical'>, <Tags.USER: 'user'>}, 'properties': {'num_buckets': None, 'freq_threshold': 0.0, 'max_size': 0.0, 'start_index': 0.0, 'cat_path': '/workdir/data/processed/workflow/categories/unique.user_shops.parquet', 'embedding_sizes': {'cardinality': 768.0, 'dimension': 66.0}, 'domain': {'min': 0, 'max': 767, 'name': 'user_shops'}}, 'dtype': dtype('int32'), 'is_list': False, 'is_ragged': False}, {'name': 'user_profile', 'tags': {<Tags.CATEGORICAL: 'categorical'>, <Tags.USER: 'user'>}, 'properties': {'num_buckets': None, 'freq_threshold': 0.0, 'max_size': 0.0, 'start_index': 0.0, 'cat_path': '/workdir/data/processed/workflow/categories/unique.user_profile.parquet', 'embedding_sizes': {'cardinality': 42.0, 'dimension': 16.0}, 'domain': {'min': 0, 'max': 41, 'name': 'user_profile'}}, 'dtype': dtype('int32'), 'is_list': False, 'is_ragged': False}, {'name': 'user_group', 'tags': {<Tags.CATEGORICAL: 'categorical'>, <Tags.USER: 'user'>}, 'properties': {'num_buckets': None, 'freq_threshold': 0.0, 'max_size': 0.0, 'start_index': 0.0, 'cat_path': '/workdir/data/processed/workflow/categories/unique.user_group.parquet', 'embedding_sizes': {'cardinality': 10.0, 'dimension': 16.0}, 'domain': {'min': 0, 'max': 9, 'name': 'user_group'}}, 'dtype': dtype('int32'), 'is_list': False, 'is_ragged': False}, {'name': 'user_gender', 'tags': {<Tags.CATEGORICAL: 'categorical'>, <Tags.USER: 'user'>}, 'properties': {'num_buckets': None, 'freq_threshold': 0.0, 'max_size': 0.0, 'start_index': 0.0, 'cat_path': '/workdir/data/processed/workflow/categories/unique.user_gender.parquet', 'embedding_sizes': {'cardinality': 3.0, 'dimension': 16.0}, 'domain': {'min': 0, 'max': 2, 'name': 'user_gender'}}, 'dtype': dtype('int32'), 'is_list': False, 'is_ragged': False}, {'name': 'user_age', 'tags': {<Tags.CATEGORICAL: 'categorical'>, <Tags.USER: 'user'>}, 'properties': {'num_buckets': None, 'freq_threshold': 0.0, 'max_size': 0.0, 'start_index': 0.0, 'cat_path': '/workdir/data/processed/workflow/categories/unique.user_age.parquet', 'embedding_sizes': {'cardinality': 7.0, 'dimension': 16.0}, 'domain': {'min': 0, 'max': 6, 'name': 'user_age'}}, 'dtype': dtype('int32'), 'is_list': False, 'is_ragged': False}, {'name': 'user_consumption_2', 'tags': {<Tags.CATEGORICAL: 'categorical'>, <Tags.USER: 'user'>}, 'properties': {'num_buckets': None, 'freq_threshold': 0.0, 'max_size': 0.0, 'start_index': 0.0, 'cat_path': '/workdir/data/processed/workflow/categories/unique.user_consumption_2.parquet', 'embedding_sizes': {'cardinality': 4.0, 'dimension': 16.0}, 'domain': {'min': 0, 'max': 3, 'name': 'user_consumption_2'}}, 'dtype': dtype('int32'), 'is_list': False, 'is_ragged': False}, {'name': 'user_is_occupied', 'tags': {<Tags.CATEGORICAL: 'categorical'>, <Tags.USER: 'user'>}, 'properties': {'num_buckets': None, 'freq_threshold': 0.0, 'max_size': 0.0, 'start_index': 0.0, 'cat_path': '/workdir/data/processed/workflow/categories/unique.user_is_occupied.parquet', 'embedding_sizes': {'cardinality': 3.0, 'dimension': 16.0}, 'domain': {'min': 0, 'max': 2, 'name': 'user_is_occupied'}}, 'dtype': dtype('int32'), 'is_list': False, 'is_ragged': False}, {'name': 'user_geography', 'tags': {<Tags.CATEGORICAL: 'categorical'>, <Tags.USER: 'user'>}, 'properties': {'num_buckets': None, 'freq_threshold': 0.0, 'max_size': 0.0, 'start_index': 0.0, 'cat_path': '/workdir/data/processed/workflow/categories/unique.user_geography.parquet', 'embedding_sizes': {'cardinality': 5.0, 'dimension': 16.0}, 'domain': {'min': 0, 'max': 4, 'name': 'user_geography'}}, 'dtype': dtype('int32'), 'is_list': False, 'is_ragged': False}, {'name': 'user_intentions', 'tags': {<Tags.CATEGORICAL: 'categorical'>, <Tags.USER: 'user'>}, 'properties': {'num_buckets': None, 'freq_threshold': 0.0, 'max_size': 0.0, 'start_index': 0.0, 'cat_path': '/workdir/data/processed/workflow/categories/unique.user_intentions.parquet', 'embedding_sizes': {'cardinality': 768.0, 'dimension': 66.0}, 'domain': {'min': 0, 'max': 767, 'name': 'user_intentions'}}, 'dtype': dtype('int32'), 'is_list': False, 'is_ragged': False}, {'name': 'user_brands', 'tags': {<Tags.CATEGORICAL: 'categorical'>, <Tags.USER: 'user'>}, 'properties': {'num_buckets': None, 'freq_threshold': 0.0, 'max_size': 0.0, 'start_index': 0.0, 'cat_path': '/workdir/data/processed/workflow/categories/unique.user_brands.parquet', 'embedding_sizes': {'cardinality': 768.0, 'dimension': 66.0}, 'domain': {'min': 0, 'max': 767, 'name': 'user_brands'}}, 'dtype': dtype('int32'), 'is_list': False, 'is_ragged': False}, {'name': 'user_categories', 'tags': {<Tags.CATEGORICAL: 'categorical'>, <Tags.USER: 'user'>}, 'properties': {'num_buckets': None, 'freq_threshold': 0.0, 'max_size': 0.0, 'start_index': 0.0, 'cat_path': '/workdir/data/processed/workflow/categories/unique.user_categories.parquet', 'embedding_sizes': {'cardinality': 768.0, 'dimension': 66.0}, 'domain': {'min': 0, 'max': 767, 'name': 'user_categories'}}, 'dtype': dtype('int32'), 'is_list': False, 'is_ragged': False}, {'name': 'click', 'tags': {<Tags.BINARY_CLASSIFICATION: 'binary_classification'>, <Tags.TARGET: 'target'>}, 'properties': {'domain': {'min': 0, 'max': 2, 'name': 'click'}}, 'dtype': dtype('int64'), 'is_list': False, 'is_ragged': False}]"
      ]
     },
     "execution_count": 36,
     "metadata": {},
     "output_type": "execute_result"
    }
   ],
   "source": [
    "# Inspect schema - DLRM takes all of these features as input!\n",
    "schema"
   ]
  },
  {
   "cell_type": "code",
   "execution_count": 34,
   "id": "6fbf24bf-faf9-44c8-95f7-36554172346c",
   "metadata": {},
   "outputs": [
    {
     "data": {
      "text/plain": [
       "'click'"
      ]
     },
     "execution_count": 34,
     "metadata": {},
     "output_type": "execute_result"
    }
   ],
   "source": [
    "# Target column here is \"click\" (binary classification)\n",
    "target_column = schema.select_by_tag(Tags.TARGET).column_names[0]\n",
    "target_column"
   ]
  },
  {
   "cell_type": "markdown",
   "id": "9a4b9bd9-3f7e-4bbf-baa7-f39453b2dbbb",
   "metadata": {},
   "source": [
    "### Building DLRM"
   ]
  },
  {
   "cell_type": "code",
   "execution_count": 39,
   "id": "fc3fe4bc-54e4-4b98-b5f2-39e14c328854",
   "metadata": {},
   "outputs": [],
   "source": [
    "def create_dlrm(optimizer: str, schema, target_column: str, embedding_dim: int):\n",
    "    model = mm.DLRMModel(\n",
    "        schema,\n",
    "        embedding_dim=embedding_dim,\n",
    "        bottom_block=mm.MLPBlock([128, 64]),\n",
    "        top_block=mm.MLPBlock([128, 64, 32]),\n",
    "        prediction_tasks=mm.BinaryClassificationTask(target_column),\n",
    "    )\n",
    "    model.compile(optimizer=optimizer, run_eagerly=False, metrics=[tf.keras.metrics.AUC()])\n",
    "    return model\n"
   ]
  },
  {
   "cell_type": "code",
   "execution_count": 53,
   "id": "37756986-80a7-41ff-bb61-d275139dced7",
   "metadata": {},
   "outputs": [
    {
     "name": "stdout",
     "output_type": "stream",
     "text": [
      "Epoch 1/3\n",
      "43/43 [==============================] - 5s 56ms/step - loss: 0.6932 - auc_1: 0.4998 - regularization_loss: 0.0000e+00 - loss_batch: 0.6932 - val_loss: 0.6931 - val_auc_1: 0.5000 - val_regularization_loss: 0.0000e+00 - val_loss_batch: 0.6931\n",
      "Epoch 2/3\n",
      "43/43 [==============================] - 1s 24ms/step - loss: 0.6931 - auc_1: 0.5062 - regularization_loss: 0.0000e+00 - loss_batch: 0.6931 - val_loss: 0.6932 - val_auc_1: 0.5010 - val_regularization_loss: 0.0000e+00 - val_loss_batch: 0.6933\n",
      "Epoch 3/3\n",
      "43/43 [==============================] - 1s 24ms/step - loss: 0.6925 - auc_1: 0.5210 - regularization_loss: 0.0000e+00 - loss_batch: 0.6925 - val_loss: 0.6938 - val_auc_1: 0.5014 - val_regularization_loss: 0.0000e+00 - val_loss_batch: 0.6940\n"
     ]
    },
    {
     "data": {
      "text/plain": [
       "<keras.callbacks.History at 0x7f6cbfd9f490>"
      ]
     },
     "execution_count": 53,
     "metadata": {},
     "output_type": "execute_result"
    }
   ],
   "source": [
    "dlrm = create_dlrm(\n",
    "    optimizer=\"adam\",\n",
    "    schema=schema,\n",
    "    target_column=target_column,\n",
    "    embedding_dim=64\n",
    ")\n",
    "\n",
    "dlrm.fit(train_rank, validation_data=valid_rank, batch_size=16 * 1024, epochs=3)"
   ]
  },
  {
   "cell_type": "code",
   "execution_count": 54,
   "id": "46cdbd5a-ea3d-4523-99cb-a22bc92c4dde",
   "metadata": {
    "tags": []
   },
   "outputs": [
    {
     "name": "stdout",
     "output_type": "stream",
     "text": [
      "tf.Tensor(\n",
      "[[ 39]\n",
      " [ 35]\n",
      " [ 76]\n",
      " [  6]\n",
      " [138]\n",
      " [  9]\n",
      " [ 12]\n",
      " [108]], shape=(8, 1), dtype=int32)\n"
     ]
    }
   ],
   "source": [
    "# Check out one batch of users\n",
    "loader = mm.Loader(valid_rank, batch_size=8, shuffle=False)\n",
    "batch = next(iter(loader))\n",
    "print(batch[0]['user_id'])"
   ]
  },
  {
   "cell_type": "code",
   "execution_count": 56,
   "id": "f768e0ec-8770-4471-bcad-fde461300988",
   "metadata": {},
   "outputs": [
    {
     "data": {
      "text/plain": [
       "<tf.Tensor: shape=(8, 1), dtype=float32, numpy=\n",
       "array([[0.48006314],\n",
       "       [0.52211267],\n",
       "       [0.47032687],\n",
       "       [0.53310156],\n",
       "       [0.51482207],\n",
       "       [0.49466288],\n",
       "       [0.53760624],\n",
       "       [0.50179195]], dtype=float32)>"
      ]
     },
     "execution_count": 56,
     "metadata": {},
     "output_type": "execute_result"
    }
   ],
   "source": [
    "# Test the DLRM model I/O with the user batch\n",
    "dlrm(batch[0])"
   ]
  },
  {
   "cell_type": "markdown",
   "id": "d811ff92-49f5-481b-a4b1-513edbf80c51",
   "metadata": {},
   "source": [
    "### Test the entire pipeline\n",
    "\n",
    "So now that we have a **Candidate Retrieval Model** and a **Ranking Model** (DLRM) we can test the end to end flow (locally). In order to do this live, like in the next multi-stage section, you need a Feature Store (Redis/Feast), VSS Index (Redis), and means to host/serve the entire DAG of operations (Triton).\n",
    "\n",
    "Below is a very brute force approach for a single batch of users"
   ]
  },
  {
   "cell_type": "code",
   "execution_count": 215,
   "id": "6dadfbfe-4a84-44fc-a669-d2aa98430c5e",
   "metadata": {
    "tags": []
   },
   "outputs": [],
   "source": [
    "# Test full pipeline\n",
    "import numpy as np\n",
    "\n",
    "BATCH_SIZE=8\n",
    "\n",
    "# User and Item Feature \"Stores\"\n",
    "item_features = unique_rows_by_features(train_retrieval, Tags.ITEM, Tags.ITEM_ID).to_ddf().compute()\n",
    "user_features = unique_rows_by_features(train_retrieval, Tags.USER, Tags.USER_ID).to_ddf().compute()\n",
    "\n",
    "# User batch loader\n",
    "user_loader = mm.Loader(unique_rows_by_features(train_retrieval, Tags.USER, Tags.USER_ID), batch_size=BATCH_SIZE, shuffle=False)\n",
    "\n",
    "# Sample batch\n",
    "user_batch = next(iter(user_loader))\n",
    "users = user_batch[0]['user_id']"
   ]
  },
  {
   "cell_type": "code",
   "execution_count": 216,
   "id": "1468f561-2713-44de-8cb0-a17f9d1668c5",
   "metadata": {
    "tags": []
   },
   "outputs": [],
   "source": [
    "# Retrieve candidates\n",
    "_, candidate_item_ids = topk_model(user_batch[0])\n",
    "\n",
    "for user, candidates in zip(users.numpy(), candidate_item_ids.numpy()):\n",
    "    \n",
    "    num_recs = len(candidates)\n",
    "    user_id = user[0]\n",
    "    \n",
    "    # user features\n",
    "    u_features = user_features[user_features.user_id == user_id]\n",
    "    u_features = u_features.append([u_features]*(num_recs-1), ignore_index=True)\n",
    "\n",
    "\n",
    "    # item features\n",
    "    top_items = item_features[item_features.item_id.isin(candidates)].reset_index(drop=True)\n",
    "    \n",
    "    # combined features\n",
    "    top_items[user_features.columns] = u_features\n",
    "    top_items = Dataset(top_items)\n",
    "    top_items.schema = schema.without(['click'])\n",
    "    \n",
    "    # Score with DLRM\n",
    "    inputs = mm.Loader(top_items, batch_size=num_recs)\n",
    "    inputs = next(iter(inputs))\n",
    "    scores = dlrm(inputs[0]).numpy().reshape(-1)\n",
    "    \n",
    "    # Rank\n",
    "    recs = candidates[np.where(scores > 0.5)].tolist()\n",
    "    \n",
    "    "
   ]
  },
  {
   "cell_type": "code",
   "execution_count": 217,
   "id": "f29e6b18-84c5-4d3d-9c9a-fbce08358f47",
   "metadata": {},
   "outputs": [
    {
     "data": {
      "text/plain": [
       "[117, 12, 7, 257, 273, 120, 11, 612, 5, 103, 189, 250, 603, 70]"
      ]
     },
     "execution_count": 217,
     "metadata": {},
     "output_type": "execute_result"
    }
   ],
   "source": [
    "recs"
   ]
  },
  {
   "cell_type": "markdown",
   "id": "ea442dd4-e570-4500-80ae-7996f9acaed5",
   "metadata": {},
   "source": [
    "## Write Recommendations to Redis\n",
    "\n",
    "Redis is used (low latency k-v store) to persist recommendations for each User.\n"
   ]
  },
  {
   "cell_type": "code",
   "execution_count": 220,
   "id": "c8fd929c-ec80-49d8-ba44-7a7a81ce9a26",
   "metadata": {},
   "outputs": [],
   "source": [
    "import asyncio\n",
    "import redis.asyncio as redis\n",
    "\n",
    "from redis.commands.json.path import Path\n",
    "\n",
    "\n",
    "def generate_recs(topk_model, dlrm, input_data, batch_size: int, tags):\n",
    "    user_loader = mm.Loader(unique_rows_by_features(input_data, tags.USER, tags.USER_ID), batch_size=batch_size, shuffle=False)\n",
    "    # Load a batch\n",
    "    for batch in loader:\n",
    "        \n",
    "        users = batch[0]['user_id']\n",
    "        \n",
    "        # Generate candidates per user\n",
    "        _, candidate_item_ids = topk_model(batch[0])\n",
    "        \n",
    "        # Score candidates per user\n",
    "        for user, candidates in zip(users.numpy(), candidate_item_ids.numpy()):\n",
    "\n",
    "            num_recs = len(candidates)\n",
    "            user_id = user[0]\n",
    "\n",
    "            # user features\n",
    "            u_features = user_features[user_features.user_id == user_id]\n",
    "            u_features = u_features.append([u_features]*(num_recs-1), ignore_index=True)\n",
    "\n",
    "\n",
    "            # item features\n",
    "            top_items = item_features[item_features.item_id.isin(candidates)].reset_index(drop=True)\n",
    "\n",
    "            # combined features\n",
    "            top_items[user_features.columns] = u_features\n",
    "            top_items = Dataset(top_items)\n",
    "            top_items.schema = schema.without(['click'])\n",
    "\n",
    "            # Score with DLRM\n",
    "            inputs = mm.Loader(top_items, batch_size=num_recs)\n",
    "            inputs = next(iter(inputs))\n",
    "            scores = dlrm(inputs[0]).numpy().reshape(-1)\n",
    "\n",
    "            # Rank\n",
    "            recs = candidates[np.where(scores > 0.5)].tolist()\n",
    "            \n",
    "            yield user_id, recs"
   ]
  },
  {
   "cell_type": "code",
   "execution_count": 222,
   "id": "69da8ced-ddb5-4593-a43d-dfe4f562d2be",
   "metadata": {},
   "outputs": [
    {
     "data": {
      "text/plain": [
       "(39, [115, 18, 5, 50, 272, 370, 174, 58, 82, 710, 446, 179, 217])"
      ]
     },
     "execution_count": 222,
     "metadata": {},
     "output_type": "execute_result"
    }
   ],
   "source": [
    "# Test Recommendation Generator\n",
    "next(generate_recs(topk_model, dlrm, train_retrieval, 32, Tags))\n",
    "\n",
    "# SEE BELOW: User ID --> Top K Item IDs"
   ]
  },
  {
   "cell_type": "code",
   "execution_count": 223,
   "id": "1dd3991a-3810-4683-bad6-8438ba4a5fd4",
   "metadata": {},
   "outputs": [],
   "source": [
    "async def store_recommendations(topk_model, dlrm, data_input, tags, n: int, redis_conn: redis.Redis):\n",
    "    \"\"\"\n",
    "    Store recommendations generated for each User.\n",
    "    \"\"\"\n",
    "    semaphore = asyncio.Semaphore(n)\n",
    "    async def store(user_id: str, recs: list):\n",
    "        \"\"\"\n",
    "        Store and individual User's latest recommendations in Redis.\n",
    "        \"\"\"\n",
    "        async with semaphore:\n",
    "            entry = {\n",
    "                \"user_id\": int(user_id),\n",
    "                \"recommendations\": [int(rec) for rec in recs]\n",
    "            }\n",
    "            # Set the JSON object in Redis\n",
    "            await redis_conn.json().set(f\"USER:{user_id}\", Path.root_path(), entry)\n",
    "    \n",
    "    # create generator\n",
    "    top_recs_per_user = generate_recs(topk_model, dlrm, data_input, 32, tags)\n",
    "    # gather with \"concurrency\"\n",
    "    await asyncio.gather(*[store(user_id, recs) for user_id, recs in top_recs_per_user])"
   ]
  },
  {
   "cell_type": "code",
   "execution_count": 226,
   "id": "8bd57904-4419-4b77-9ece-eb323c0a3349",
   "metadata": {},
   "outputs": [
    {
     "name": "stderr",
     "output_type": "stream",
     "text": [
      "/tmp/ipykernel_102/3240227347.py:21: RuntimeWarning: coroutine 'store_recommendations.<locals>.store' was never awaited\n",
      "  await asyncio.gather(*[store(user_id, recs) for user_id, recs in top_recs_per_user])\n",
      "RuntimeWarning: Enable tracemalloc to get the object allocation traceback\n"
     ]
    },
    {
     "ename": "ValueError",
     "evalue": "Column must have no nulls.",
     "output_type": "error",
     "traceback": [
      "\u001b[0;31m---------------------------------------------------------------------------\u001b[0m",
      "\u001b[0;31mValueError\u001b[0m                                Traceback (most recent call last)",
      "Cell \u001b[0;32mIn [226], line 8\u001b[0m\n\u001b[1;32m      1\u001b[0m redis_conn \u001b[38;5;241m=\u001b[39m redis\u001b[38;5;241m.\u001b[39mRedis(\n\u001b[1;32m      2\u001b[0m     host\u001b[38;5;241m=\u001b[39m\u001b[38;5;124m\"\u001b[39m\u001b[38;5;124mredis-inference-store\u001b[39m\u001b[38;5;124m\"\u001b[39m,\n\u001b[1;32m      3\u001b[0m     port\u001b[38;5;241m=\u001b[39m\u001b[38;5;241m6379\u001b[39m,\n\u001b[1;32m      4\u001b[0m     decode_responses\u001b[38;5;241m=\u001b[39m\u001b[38;5;28;01mTrue\u001b[39;00m\n\u001b[1;32m      5\u001b[0m )\n\u001b[1;32m      7\u001b[0m \u001b[38;5;66;03m# Run the process\u001b[39;00m\n\u001b[0;32m----> 8\u001b[0m \u001b[38;5;28;01mawait\u001b[39;00m store_recommendations(topk_model, dlrm, train_retrieval, Tags, n\u001b[38;5;241m=\u001b[39m\u001b[38;5;241m100\u001b[39m, redis_conn\u001b[38;5;241m=\u001b[39mredis_conn)\n",
      "Cell \u001b[0;32mIn [223], line 21\u001b[0m, in \u001b[0;36mstore_recommendations\u001b[0;34m(topk_model, dlrm, data_input, tags, n, redis_conn)\u001b[0m\n\u001b[1;32m     19\u001b[0m top_recs_per_user \u001b[38;5;241m=\u001b[39m generate_recs(topk_model, dlrm, data_input, \u001b[38;5;241m32\u001b[39m, tags)\n\u001b[1;32m     20\u001b[0m \u001b[38;5;66;03m# gather with \"concurrency\"\u001b[39;00m\n\u001b[0;32m---> 21\u001b[0m \u001b[38;5;28;01mawait\u001b[39;00m asyncio\u001b[38;5;241m.\u001b[39mgather(\u001b[38;5;241m*\u001b[39m[store(user_id, recs) \u001b[38;5;28;01mfor\u001b[39;00m user_id, recs \u001b[38;5;129;01min\u001b[39;00m top_recs_per_user])\n",
      "Cell \u001b[0;32mIn [223], line 21\u001b[0m, in \u001b[0;36m<listcomp>\u001b[0;34m(.0)\u001b[0m\n\u001b[1;32m     19\u001b[0m top_recs_per_user \u001b[38;5;241m=\u001b[39m generate_recs(topk_model, dlrm, data_input, \u001b[38;5;241m32\u001b[39m, tags)\n\u001b[1;32m     20\u001b[0m \u001b[38;5;66;03m# gather with \"concurrency\"\u001b[39;00m\n\u001b[0;32m---> 21\u001b[0m \u001b[38;5;28;01mawait\u001b[39;00m asyncio\u001b[38;5;241m.\u001b[39mgather(\u001b[38;5;241m*\u001b[39m[store(user_id, recs) \u001b[38;5;28;01mfor\u001b[39;00m user_id, recs \u001b[38;5;129;01min\u001b[39;00m top_recs_per_user])\n",
      "Cell \u001b[0;32mIn [220], line 38\u001b[0m, in \u001b[0;36mgenerate_recs\u001b[0;34m(topk_model, dlrm, input_data, batch_size, tags)\u001b[0m\n\u001b[1;32m     36\u001b[0m \u001b[38;5;66;03m# Score with DLRM\u001b[39;00m\n\u001b[1;32m     37\u001b[0m inputs \u001b[38;5;241m=\u001b[39m mm\u001b[38;5;241m.\u001b[39mLoader(top_items, batch_size\u001b[38;5;241m=\u001b[39mnum_recs)\n\u001b[0;32m---> 38\u001b[0m inputs \u001b[38;5;241m=\u001b[39m \u001b[38;5;28;43mnext\u001b[39;49m\u001b[43m(\u001b[49m\u001b[38;5;28;43miter\u001b[39;49m\u001b[43m(\u001b[49m\u001b[43minputs\u001b[49m\u001b[43m)\u001b[49m\u001b[43m)\u001b[49m\n\u001b[1;32m     39\u001b[0m scores \u001b[38;5;241m=\u001b[39m dlrm(inputs[\u001b[38;5;241m0\u001b[39m])\u001b[38;5;241m.\u001b[39mnumpy()\u001b[38;5;241m.\u001b[39mreshape(\u001b[38;5;241m-\u001b[39m\u001b[38;5;241m1\u001b[39m)\n\u001b[1;32m     41\u001b[0m \u001b[38;5;66;03m# Rank\u001b[39;00m\n",
      "File \u001b[0;32m/usr/local/lib/python3.8/dist-packages/keras/utils/data_utils.py:500\u001b[0m, in \u001b[0;36mSequence.__iter__\u001b[0;34m(self)\u001b[0m\n\u001b[1;32m    498\u001b[0m \u001b[38;5;28;01mdef\u001b[39;00m \u001b[38;5;21m__iter__\u001b[39m(\u001b[38;5;28mself\u001b[39m):\n\u001b[1;32m    499\u001b[0m   \u001b[38;5;124;03m\"\"\"Create a generator that iterate over the Sequence.\"\"\"\u001b[39;00m\n\u001b[0;32m--> 500\u001b[0m   \u001b[38;5;28;01mfor\u001b[39;00m item \u001b[38;5;129;01min\u001b[39;00m (\u001b[38;5;28mself\u001b[39m[i] \u001b[38;5;28;01mfor\u001b[39;00m i \u001b[38;5;129;01min\u001b[39;00m \u001b[38;5;28mrange\u001b[39m(\u001b[38;5;28mlen\u001b[39m(\u001b[38;5;28mself\u001b[39m))):\n\u001b[1;32m    501\u001b[0m     \u001b[38;5;28;01myield\u001b[39;00m item\n",
      "File \u001b[0;32m/usr/local/lib/python3.8/dist-packages/keras/utils/data_utils.py:500\u001b[0m, in \u001b[0;36m<genexpr>\u001b[0;34m(.0)\u001b[0m\n\u001b[1;32m    498\u001b[0m \u001b[38;5;28;01mdef\u001b[39;00m \u001b[38;5;21m__iter__\u001b[39m(\u001b[38;5;28mself\u001b[39m):\n\u001b[1;32m    499\u001b[0m   \u001b[38;5;124;03m\"\"\"Create a generator that iterate over the Sequence.\"\"\"\u001b[39;00m\n\u001b[0;32m--> 500\u001b[0m   \u001b[38;5;28;01mfor\u001b[39;00m item \u001b[38;5;129;01min\u001b[39;00m (\u001b[38;5;28;43mself\u001b[39;49m\u001b[43m[\u001b[49m\u001b[43mi\u001b[49m\u001b[43m]\u001b[49m \u001b[38;5;28;01mfor\u001b[39;00m i \u001b[38;5;129;01min\u001b[39;00m \u001b[38;5;28mrange\u001b[39m(\u001b[38;5;28mlen\u001b[39m(\u001b[38;5;28mself\u001b[39m))):\n\u001b[1;32m    501\u001b[0m     \u001b[38;5;28;01myield\u001b[39;00m item\n",
      "File \u001b[0;32m/usr/local/lib/python3.8/dist-packages/merlin/models/tf/loader.py:342\u001b[0m, in \u001b[0;36mLoader.__getitem__\u001b[0;34m(self, idx)\u001b[0m\n\u001b[1;32m    336\u001b[0m \u001b[38;5;28;01mdef\u001b[39;00m \u001b[38;5;21m__getitem__\u001b[39m(\u001b[38;5;28mself\u001b[39m, idx):\n\u001b[1;32m    337\u001b[0m     \u001b[38;5;124;03m\"\"\"\u001b[39;00m\n\u001b[1;32m    338\u001b[0m \u001b[38;5;124;03m    implemented exclusively for consistency\u001b[39;00m\n\u001b[1;32m    339\u001b[0m \u001b[38;5;124;03m    with Keras model.fit. Does not leverage\u001b[39;00m\n\u001b[1;32m    340\u001b[0m \u001b[38;5;124;03m    passed idx in any way\u001b[39;00m\n\u001b[1;32m    341\u001b[0m \u001b[38;5;124;03m    \"\"\"\u001b[39;00m\n\u001b[0;32m--> 342\u001b[0m     \u001b[38;5;28;01mreturn\u001b[39;00m \u001b[43mDataLoader\u001b[49m\u001b[38;5;241;43m.\u001b[39;49m\u001b[38;5;21;43m__next__\u001b[39;49m\u001b[43m(\u001b[49m\u001b[38;5;28;43mself\u001b[39;49m\u001b[43m)\u001b[49m\n",
      "File \u001b[0;32m/usr/local/lib/python3.8/dist-packages/merlin/models/loader/backend.py:356\u001b[0m, in \u001b[0;36mDataLoader.__next__\u001b[0;34m(self)\u001b[0m\n\u001b[1;32m    355\u001b[0m \u001b[38;5;28;01mdef\u001b[39;00m \u001b[38;5;21m__next__\u001b[39m(\u001b[38;5;28mself\u001b[39m):\n\u001b[0;32m--> 356\u001b[0m     \u001b[38;5;28;01mreturn\u001b[39;00m \u001b[38;5;28;43mself\u001b[39;49m\u001b[38;5;241;43m.\u001b[39;49m\u001b[43m_get_next_batch\u001b[49m\u001b[43m(\u001b[49m\u001b[43m)\u001b[49m\n",
      "File \u001b[0;32m/usr/local/lib/python3.8/dist-packages/merlin/models/loader/backend.py:389\u001b[0m, in \u001b[0;36mDataLoader._get_next_batch\u001b[0;34m(self)\u001b[0m\n\u001b[1;32m    387\u001b[0m \u001b[38;5;66;03m# get the first chunks\u001b[39;00m\n\u001b[1;32m    388\u001b[0m \u001b[38;5;28;01mif\u001b[39;00m \u001b[38;5;28mself\u001b[39m\u001b[38;5;241m.\u001b[39m_batch_itr \u001b[38;5;129;01mis\u001b[39;00m \u001b[38;5;28;01mNone\u001b[39;00m:\n\u001b[0;32m--> 389\u001b[0m     \u001b[38;5;28;43mself\u001b[39;49m\u001b[38;5;241;43m.\u001b[39;49m\u001b[43m_fetch_chunk\u001b[49m\u001b[43m(\u001b[49m\u001b[43m)\u001b[49m\n\u001b[1;32m    391\u001b[0m \u001b[38;5;66;03m# try to iterate through existing batches\u001b[39;00m\n\u001b[1;32m    392\u001b[0m \u001b[38;5;28;01mtry\u001b[39;00m:\n",
      "File \u001b[0;32m/usr/local/lib/python3.8/dist-packages/merlin/models/loader/backend.py:368\u001b[0m, in \u001b[0;36mDataLoader._fetch_chunk\u001b[0;34m(self)\u001b[0m\n\u001b[1;32m    366\u001b[0m \u001b[38;5;28;01mif\u001b[39;00m \u001b[38;5;28misinstance\u001b[39m(chunks, \u001b[38;5;167;01mException\u001b[39;00m):\n\u001b[1;32m    367\u001b[0m     \u001b[38;5;28mself\u001b[39m\u001b[38;5;241m.\u001b[39mstop()\n\u001b[0;32m--> 368\u001b[0m     \u001b[38;5;28;01mraise\u001b[39;00m chunks\n\u001b[1;32m    369\u001b[0m \u001b[38;5;28mself\u001b[39m\u001b[38;5;241m.\u001b[39m_batch_itr \u001b[38;5;241m=\u001b[39m \u001b[38;5;28miter\u001b[39m(chunks)\n",
      "File \u001b[0;32m/usr/local/lib/python3.8/dist-packages/merlin/models/loader/backend.py:156\u001b[0m, in \u001b[0;36mChunkQueue.load_chunks\u001b[0;34m(self, dev)\u001b[0m\n\u001b[1;32m    154\u001b[0m \u001b[38;5;28;01mif\u001b[39;00m \u001b[38;5;28mself\u001b[39m\u001b[38;5;241m.\u001b[39mdataloader\u001b[38;5;241m.\u001b[39mdevice \u001b[38;5;241m!=\u001b[39m \u001b[38;5;124m\"\u001b[39m\u001b[38;5;124mcpu\u001b[39m\u001b[38;5;124m\"\u001b[39m:\n\u001b[1;32m    155\u001b[0m     \u001b[38;5;28;01mwith\u001b[39;00m \u001b[38;5;28mself\u001b[39m\u001b[38;5;241m.\u001b[39mdataloader\u001b[38;5;241m.\u001b[39m_get_device_ctx(dev):\n\u001b[0;32m--> 156\u001b[0m         \u001b[38;5;28;43mself\u001b[39;49m\u001b[38;5;241;43m.\u001b[39;49m\u001b[43mchunk_logic\u001b[49m\u001b[43m(\u001b[49m\u001b[43mitr\u001b[49m\u001b[43m)\u001b[49m\n\u001b[1;32m    157\u001b[0m \u001b[38;5;28;01melse\u001b[39;00m:\n\u001b[1;32m    158\u001b[0m     \u001b[38;5;28mself\u001b[39m\u001b[38;5;241m.\u001b[39mchunk_logic(itr)\n",
      "File \u001b[0;32m/usr/local/lib/python3.8/dist-packages/nvtx/nvtx.py:101\u001b[0m, in \u001b[0;36mannotate.__call__.<locals>.inner\u001b[0;34m(*args, **kwargs)\u001b[0m\n\u001b[1;32m     98\u001b[0m \u001b[38;5;129m@wraps\u001b[39m(func)\n\u001b[1;32m     99\u001b[0m \u001b[38;5;28;01mdef\u001b[39;00m \u001b[38;5;21minner\u001b[39m(\u001b[38;5;241m*\u001b[39margs, \u001b[38;5;241m*\u001b[39m\u001b[38;5;241m*\u001b[39mkwargs):\n\u001b[1;32m    100\u001b[0m     libnvtx_push_range(\u001b[38;5;28mself\u001b[39m\u001b[38;5;241m.\u001b[39mattributes, \u001b[38;5;28mself\u001b[39m\u001b[38;5;241m.\u001b[39mdomain\u001b[38;5;241m.\u001b[39mhandle)\n\u001b[0;32m--> 101\u001b[0m     result \u001b[38;5;241m=\u001b[39m \u001b[43mfunc\u001b[49m\u001b[43m(\u001b[49m\u001b[38;5;241;43m*\u001b[39;49m\u001b[43margs\u001b[49m\u001b[43m,\u001b[49m\u001b[43m \u001b[49m\u001b[38;5;241;43m*\u001b[39;49m\u001b[38;5;241;43m*\u001b[39;49m\u001b[43mkwargs\u001b[49m\u001b[43m)\u001b[49m\n\u001b[1;32m    102\u001b[0m     libnvtx_pop_range(\u001b[38;5;28mself\u001b[39m\u001b[38;5;241m.\u001b[39mdomain\u001b[38;5;241m.\u001b[39mhandle)\n\u001b[1;32m    103\u001b[0m     \u001b[38;5;28;01mreturn\u001b[39;00m result\n",
      "File \u001b[0;32m/usr/local/lib/python3.8/dist-packages/merlin/models/loader/backend.py:138\u001b[0m, in \u001b[0;36mChunkQueue.chunk_logic\u001b[0;34m(self, itr)\u001b[0m\n\u001b[1;32m    135\u001b[0m     chunks \u001b[38;5;241m=\u001b[39m shuffle_df(chunks)\n\u001b[1;32m    137\u001b[0m \u001b[38;5;28;01mif\u001b[39;00m \u001b[38;5;28mlen\u001b[39m(chunks) \u001b[38;5;241m>\u001b[39m \u001b[38;5;241m0\u001b[39m:\n\u001b[0;32m--> 138\u001b[0m     chunks \u001b[38;5;241m=\u001b[39m \u001b[38;5;28;43mself\u001b[39;49m\u001b[38;5;241;43m.\u001b[39;49m\u001b[43mdataloader\u001b[49m\u001b[38;5;241;43m.\u001b[39;49m\u001b[43mmake_tensors\u001b[49m\u001b[43m(\u001b[49m\u001b[43mchunks\u001b[49m\u001b[43m,\u001b[49m\u001b[43m \u001b[49m\u001b[38;5;28;43mself\u001b[39;49m\u001b[38;5;241;43m.\u001b[39;49m\u001b[43mdataloader\u001b[49m\u001b[38;5;241;43m.\u001b[39;49m\u001b[43m_use_nnz\u001b[49m\u001b[43m)\u001b[49m\n\u001b[1;32m    139\u001b[0m     \u001b[38;5;66;03m# put returns True if buffer is stopped before\u001b[39;00m\n\u001b[1;32m    140\u001b[0m     \u001b[38;5;66;03m# packet can be put in queue. Keeps us from\u001b[39;00m\n\u001b[1;32m    141\u001b[0m     \u001b[38;5;66;03m# freezing on a put on a full queue\u001b[39;00m\n\u001b[1;32m    142\u001b[0m     \u001b[38;5;28;01mif\u001b[39;00m \u001b[38;5;28mself\u001b[39m\u001b[38;5;241m.\u001b[39mput(chunks):\n",
      "File \u001b[0;32m/usr/local/lib/python3.8/dist-packages/nvtx/nvtx.py:101\u001b[0m, in \u001b[0;36mannotate.__call__.<locals>.inner\u001b[0;34m(*args, **kwargs)\u001b[0m\n\u001b[1;32m     98\u001b[0m \u001b[38;5;129m@wraps\u001b[39m(func)\n\u001b[1;32m     99\u001b[0m \u001b[38;5;28;01mdef\u001b[39;00m \u001b[38;5;21minner\u001b[39m(\u001b[38;5;241m*\u001b[39margs, \u001b[38;5;241m*\u001b[39m\u001b[38;5;241m*\u001b[39mkwargs):\n\u001b[1;32m    100\u001b[0m     libnvtx_push_range(\u001b[38;5;28mself\u001b[39m\u001b[38;5;241m.\u001b[39mattributes, \u001b[38;5;28mself\u001b[39m\u001b[38;5;241m.\u001b[39mdomain\u001b[38;5;241m.\u001b[39mhandle)\n\u001b[0;32m--> 101\u001b[0m     result \u001b[38;5;241m=\u001b[39m \u001b[43mfunc\u001b[49m\u001b[43m(\u001b[49m\u001b[38;5;241;43m*\u001b[39;49m\u001b[43margs\u001b[49m\u001b[43m,\u001b[49m\u001b[43m \u001b[49m\u001b[38;5;241;43m*\u001b[39;49m\u001b[38;5;241;43m*\u001b[39;49m\u001b[43mkwargs\u001b[49m\u001b[43m)\u001b[49m\n\u001b[1;32m    102\u001b[0m     libnvtx_pop_range(\u001b[38;5;28mself\u001b[39m\u001b[38;5;241m.\u001b[39mdomain\u001b[38;5;241m.\u001b[39mhandle)\n\u001b[1;32m    103\u001b[0m     \u001b[38;5;28;01mreturn\u001b[39;00m result\n",
      "File \u001b[0;32m/usr/local/lib/python3.8/dist-packages/merlin/models/loader/backend.py:418\u001b[0m, in \u001b[0;36mDataLoader.make_tensors\u001b[0;34m(self, gdf, use_nnz)\u001b[0m\n\u001b[1;32m    415\u001b[0m split_idx \u001b[38;5;241m=\u001b[39m \u001b[38;5;28mself\u001b[39m\u001b[38;5;241m.\u001b[39m_get_segment_lengths(\u001b[38;5;28mlen\u001b[39m(gdf))\n\u001b[1;32m    417\u001b[0m \u001b[38;5;66;03m# map from big chunk to framework-specific tensors\u001b[39;00m\n\u001b[0;32m--> 418\u001b[0m chunks \u001b[38;5;241m=\u001b[39m \u001b[38;5;28;43mself\u001b[39;49m\u001b[38;5;241;43m.\u001b[39;49m\u001b[43m_create_tensors\u001b[49m\u001b[43m(\u001b[49m\u001b[43mgdf\u001b[49m\u001b[43m)\u001b[49m\n\u001b[1;32m    420\u001b[0m \u001b[38;5;66;03m# if we have any offsets, calculate nnzs up front\u001b[39;00m\n\u001b[1;32m    421\u001b[0m \u001b[38;5;28;01mif\u001b[39;00m \u001b[38;5;28mlen\u001b[39m(chunks) \u001b[38;5;241m==\u001b[39m \u001b[38;5;241m4\u001b[39m:\n",
      "File \u001b[0;32m/usr/local/lib/python3.8/dist-packages/nvtx/nvtx.py:101\u001b[0m, in \u001b[0;36mannotate.__call__.<locals>.inner\u001b[0;34m(*args, **kwargs)\u001b[0m\n\u001b[1;32m     98\u001b[0m \u001b[38;5;129m@wraps\u001b[39m(func)\n\u001b[1;32m     99\u001b[0m \u001b[38;5;28;01mdef\u001b[39;00m \u001b[38;5;21minner\u001b[39m(\u001b[38;5;241m*\u001b[39margs, \u001b[38;5;241m*\u001b[39m\u001b[38;5;241m*\u001b[39mkwargs):\n\u001b[1;32m    100\u001b[0m     libnvtx_push_range(\u001b[38;5;28mself\u001b[39m\u001b[38;5;241m.\u001b[39mattributes, \u001b[38;5;28mself\u001b[39m\u001b[38;5;241m.\u001b[39mdomain\u001b[38;5;241m.\u001b[39mhandle)\n\u001b[0;32m--> 101\u001b[0m     result \u001b[38;5;241m=\u001b[39m \u001b[43mfunc\u001b[49m\u001b[43m(\u001b[49m\u001b[38;5;241;43m*\u001b[39;49m\u001b[43margs\u001b[49m\u001b[43m,\u001b[49m\u001b[43m \u001b[49m\u001b[38;5;241;43m*\u001b[39;49m\u001b[38;5;241;43m*\u001b[39;49m\u001b[43mkwargs\u001b[49m\u001b[43m)\u001b[49m\n\u001b[1;32m    102\u001b[0m     libnvtx_pop_range(\u001b[38;5;28mself\u001b[39m\u001b[38;5;241m.\u001b[39mdomain\u001b[38;5;241m.\u001b[39mhandle)\n\u001b[1;32m    103\u001b[0m     \u001b[38;5;28;01mreturn\u001b[39;00m result\n",
      "File \u001b[0;32m/usr/local/lib/python3.8/dist-packages/merlin/models/loader/backend.py:587\u001b[0m, in \u001b[0;36mDataLoader._create_tensors\u001b[0;34m(self, gdf)\u001b[0m\n\u001b[1;32m    584\u001b[0m x \u001b[38;5;241m=\u001b[39m \u001b[38;5;28;01mNone\u001b[39;00m\n\u001b[1;32m    585\u001b[0m \u001b[38;5;28;01mif\u001b[39;00m scalars:\n\u001b[1;32m    586\u001b[0m     \u001b[38;5;66;03m# should always return dict column_name: values, offsets (optional)\u001b[39;00m\n\u001b[0;32m--> 587\u001b[0m     x \u001b[38;5;241m=\u001b[39m \u001b[38;5;28;43mself\u001b[39;49m\u001b[38;5;241;43m.\u001b[39;49m\u001b[43m_to_tensor\u001b[49m\u001b[43m(\u001b[49m\u001b[43mgdf_i\u001b[49m\u001b[43m[\u001b[49m\u001b[43mscalars\u001b[49m\u001b[43m]\u001b[49m\u001b[43m,\u001b[49m\u001b[43m \u001b[49m\u001b[43mdtype\u001b[49m\u001b[43m)\u001b[49m\n\u001b[1;32m    588\u001b[0m \u001b[38;5;28;01mif\u001b[39;00m lists:\n\u001b[1;32m    589\u001b[0m     list_tensors \u001b[38;5;241m=\u001b[39m OrderedDict()\n",
      "File \u001b[0;32m/usr/local/lib/python3.8/dist-packages/merlin/models/tf/loader.py:439\u001b[0m, in \u001b[0;36mLoader._to_tensor\u001b[0;34m(self, gdf, dtype)\u001b[0m\n\u001b[1;32m    437\u001b[0m     dlpack \u001b[38;5;241m=\u001b[39m \u001b[38;5;28mself\u001b[39m\u001b[38;5;241m.\u001b[39m_pack(gdf\u001b[38;5;241m.\u001b[39mvalues[\u001b[38;5;241m0\u001b[39m])\n\u001b[1;32m    438\u001b[0m \u001b[38;5;28;01melse\u001b[39;00m:\n\u001b[0;32m--> 439\u001b[0m     dlpack \u001b[38;5;241m=\u001b[39m \u001b[38;5;28mself\u001b[39m\u001b[38;5;241m.\u001b[39m_pack(\u001b[43mgdf\u001b[49m\u001b[38;5;241;43m.\u001b[39;49m\u001b[43mvalues\u001b[49m\u001b[38;5;241m.\u001b[39mT)\n\u001b[1;32m    440\u001b[0m \u001b[38;5;66;03m# catch error caused by tf eager context\u001b[39;00m\n\u001b[1;32m    441\u001b[0m \u001b[38;5;66;03m# not being initialized\u001b[39;00m\n\u001b[1;32m    443\u001b[0m \u001b[38;5;28;01mtry\u001b[39;00m:\n",
      "File \u001b[0;32m/usr/local/lib/python3.8/dist-packages/cudf/core/frame.py:455\u001b[0m, in \u001b[0;36mFrame.values\u001b[0;34m(self)\u001b[0m\n\u001b[1;32m    442\u001b[0m \u001b[38;5;129m@property\u001b[39m\n\u001b[1;32m    443\u001b[0m \u001b[38;5;28;01mdef\u001b[39;00m \u001b[38;5;21mvalues\u001b[39m(\u001b[38;5;28mself\u001b[39m):\n\u001b[1;32m    444\u001b[0m     \u001b[38;5;124;03m\"\"\"\u001b[39;00m\n\u001b[1;32m    445\u001b[0m \u001b[38;5;124;03m    Return a CuPy representation of the DataFrame.\u001b[39;00m\n\u001b[1;32m    446\u001b[0m \n\u001b[0;32m   (...)\u001b[0m\n\u001b[1;32m    453\u001b[0m \u001b[38;5;124;03m        The values of the DataFrame.\u001b[39;00m\n\u001b[1;32m    454\u001b[0m \u001b[38;5;124;03m    \"\"\"\u001b[39;00m\n\u001b[0;32m--> 455\u001b[0m     \u001b[38;5;28;01mreturn\u001b[39;00m \u001b[38;5;28;43mself\u001b[39;49m\u001b[38;5;241;43m.\u001b[39;49m\u001b[43mto_cupy\u001b[49m\u001b[43m(\u001b[49m\u001b[43m)\u001b[49m\n",
      "File \u001b[0;32m/usr/local/lib/python3.8/dist-packages/nvtx/nvtx.py:101\u001b[0m, in \u001b[0;36mannotate.__call__.<locals>.inner\u001b[0;34m(*args, **kwargs)\u001b[0m\n\u001b[1;32m     98\u001b[0m \u001b[38;5;129m@wraps\u001b[39m(func)\n\u001b[1;32m     99\u001b[0m \u001b[38;5;28;01mdef\u001b[39;00m \u001b[38;5;21minner\u001b[39m(\u001b[38;5;241m*\u001b[39margs, \u001b[38;5;241m*\u001b[39m\u001b[38;5;241m*\u001b[39mkwargs):\n\u001b[1;32m    100\u001b[0m     libnvtx_push_range(\u001b[38;5;28mself\u001b[39m\u001b[38;5;241m.\u001b[39mattributes, \u001b[38;5;28mself\u001b[39m\u001b[38;5;241m.\u001b[39mdomain\u001b[38;5;241m.\u001b[39mhandle)\n\u001b[0;32m--> 101\u001b[0m     result \u001b[38;5;241m=\u001b[39m \u001b[43mfunc\u001b[49m\u001b[43m(\u001b[49m\u001b[38;5;241;43m*\u001b[39;49m\u001b[43margs\u001b[49m\u001b[43m,\u001b[49m\u001b[43m \u001b[49m\u001b[38;5;241;43m*\u001b[39;49m\u001b[38;5;241;43m*\u001b[39;49m\u001b[43mkwargs\u001b[49m\u001b[43m)\u001b[49m\n\u001b[1;32m    102\u001b[0m     libnvtx_pop_range(\u001b[38;5;28mself\u001b[39m\u001b[38;5;241m.\u001b[39mdomain\u001b[38;5;241m.\u001b[39mhandle)\n\u001b[1;32m    103\u001b[0m     \u001b[38;5;28;01mreturn\u001b[39;00m result\n",
      "File \u001b[0;32m/usr/local/lib/python3.8/dist-packages/cudf/core/frame.py:555\u001b[0m, in \u001b[0;36mFrame.to_cupy\u001b[0;34m(self, dtype, copy, na_value)\u001b[0m\n\u001b[1;32m    529\u001b[0m \u001b[38;5;129m@_cudf_nvtx_annotate\u001b[39m\n\u001b[1;32m    530\u001b[0m \u001b[38;5;28;01mdef\u001b[39;00m \u001b[38;5;21mto_cupy\u001b[39m(\n\u001b[1;32m    531\u001b[0m     \u001b[38;5;28mself\u001b[39m,\n\u001b[0;32m   (...)\u001b[0m\n\u001b[1;32m    534\u001b[0m     na_value\u001b[38;5;241m=\u001b[39m\u001b[38;5;28;01mNone\u001b[39;00m,\n\u001b[1;32m    535\u001b[0m ) \u001b[38;5;241m-\u001b[39m\u001b[38;5;241m>\u001b[39m cupy\u001b[38;5;241m.\u001b[39mndarray:\n\u001b[1;32m    536\u001b[0m     \u001b[38;5;124;03m\"\"\"Convert the Frame to a CuPy array.\u001b[39;00m\n\u001b[1;32m    537\u001b[0m \n\u001b[1;32m    538\u001b[0m \u001b[38;5;124;03m    Parameters\u001b[39;00m\n\u001b[0;32m   (...)\u001b[0m\n\u001b[1;32m    553\u001b[0m \u001b[38;5;124;03m    cupy.ndarray\u001b[39;00m\n\u001b[1;32m    554\u001b[0m \u001b[38;5;124;03m    \"\"\"\u001b[39;00m\n\u001b[0;32m--> 555\u001b[0m     \u001b[38;5;28;01mreturn\u001b[39;00m \u001b[38;5;28;43mself\u001b[39;49m\u001b[38;5;241;43m.\u001b[39;49m\u001b[43m_to_array\u001b[49m\u001b[43m(\u001b[49m\n\u001b[1;32m    556\u001b[0m \u001b[43m        \u001b[49m\u001b[43m(\u001b[49m\u001b[38;5;28;43;01mlambda\u001b[39;49;00m\u001b[43m \u001b[49m\u001b[43mcol\u001b[49m\u001b[43m:\u001b[49m\u001b[43m \u001b[49m\u001b[43mcol\u001b[49m\u001b[38;5;241;43m.\u001b[39;49m\u001b[43mvalues\u001b[49m\u001b[38;5;241;43m.\u001b[39;49m\u001b[43mcopy\u001b[49m\u001b[43m(\u001b[49m\u001b[43m)\u001b[49m\u001b[43m)\u001b[49m\n\u001b[1;32m    557\u001b[0m \u001b[43m        \u001b[49m\u001b[38;5;28;43;01mif\u001b[39;49;00m\u001b[43m \u001b[49m\u001b[43mcopy\u001b[49m\n\u001b[1;32m    558\u001b[0m \u001b[43m        \u001b[49m\u001b[38;5;28;43;01melse\u001b[39;49;00m\u001b[43m \u001b[49m\u001b[43m(\u001b[49m\u001b[38;5;28;43;01mlambda\u001b[39;49;00m\u001b[43m \u001b[49m\u001b[43mcol\u001b[49m\u001b[43m:\u001b[49m\u001b[43m \u001b[49m\u001b[43mcol\u001b[49m\u001b[38;5;241;43m.\u001b[39;49m\u001b[43mvalues\u001b[49m\u001b[43m)\u001b[49m\u001b[43m,\u001b[49m\n\u001b[1;32m    559\u001b[0m \u001b[43m        \u001b[49m\u001b[43mcupy\u001b[49m\u001b[38;5;241;43m.\u001b[39;49m\u001b[43mempty\u001b[49m\u001b[43m,\u001b[49m\n\u001b[1;32m    560\u001b[0m \u001b[43m        \u001b[49m\u001b[43mdtype\u001b[49m\u001b[43m,\u001b[49m\n\u001b[1;32m    561\u001b[0m \u001b[43m        \u001b[49m\u001b[43mna_value\u001b[49m\u001b[43m,\u001b[49m\n\u001b[1;32m    562\u001b[0m \u001b[43m    \u001b[49m\u001b[43m)\u001b[49m\n",
      "File \u001b[0;32m/usr/local/lib/python3.8/dist-packages/cudf/core/frame.py:520\u001b[0m, in \u001b[0;36mFrame._to_array\u001b[0;34m(self, get_column_values, make_empty_matrix, dtype, na_value)\u001b[0m\n\u001b[1;32m    513\u001b[0m matrix \u001b[38;5;241m=\u001b[39m make_empty_matrix(\n\u001b[1;32m    514\u001b[0m     shape\u001b[38;5;241m=\u001b[39m(\u001b[38;5;28mlen\u001b[39m(\u001b[38;5;28mself\u001b[39m), ncol), dtype\u001b[38;5;241m=\u001b[39mdtype, order\u001b[38;5;241m=\u001b[39m\u001b[38;5;124m\"\u001b[39m\u001b[38;5;124mF\u001b[39m\u001b[38;5;124m\"\u001b[39m\n\u001b[1;32m    515\u001b[0m )\n\u001b[1;32m    516\u001b[0m \u001b[38;5;28;01mfor\u001b[39;00m i, col \u001b[38;5;129;01min\u001b[39;00m \u001b[38;5;28menumerate\u001b[39m(\u001b[38;5;28mself\u001b[39m\u001b[38;5;241m.\u001b[39m_data\u001b[38;5;241m.\u001b[39mvalues()):\n\u001b[1;32m    517\u001b[0m     \u001b[38;5;66;03m# TODO: col.values may fail if there is nullable data or an\u001b[39;00m\n\u001b[1;32m    518\u001b[0m     \u001b[38;5;66;03m# unsupported dtype. We may want to catch and provide a more\u001b[39;00m\n\u001b[1;32m    519\u001b[0m     \u001b[38;5;66;03m# suitable error.\u001b[39;00m\n\u001b[0;32m--> 520\u001b[0m     matrix[:, i] \u001b[38;5;241m=\u001b[39m \u001b[43mget_column_values_na\u001b[49m\u001b[43m(\u001b[49m\u001b[43mcol\u001b[49m\u001b[43m)\u001b[49m\n\u001b[1;32m    521\u001b[0m \u001b[38;5;28;01mreturn\u001b[39;00m matrix\n",
      "File \u001b[0;32m/usr/local/lib/python3.8/dist-packages/cudf/core/frame.py:499\u001b[0m, in \u001b[0;36mFrame._to_array.<locals>.get_column_values_na\u001b[0;34m(col)\u001b[0m\n\u001b[1;32m    497\u001b[0m \u001b[38;5;28;01mif\u001b[39;00m na_value \u001b[38;5;129;01mis\u001b[39;00m \u001b[38;5;129;01mnot\u001b[39;00m \u001b[38;5;28;01mNone\u001b[39;00m:\n\u001b[1;32m    498\u001b[0m     col \u001b[38;5;241m=\u001b[39m col\u001b[38;5;241m.\u001b[39mfillna(na_value)\n\u001b[0;32m--> 499\u001b[0m \u001b[38;5;28;01mreturn\u001b[39;00m \u001b[43mget_column_values\u001b[49m\u001b[43m(\u001b[49m\u001b[43mcol\u001b[49m\u001b[43m)\u001b[49m\n",
      "File \u001b[0;32m/usr/local/lib/python3.8/dist-packages/cudf/core/frame.py:558\u001b[0m, in \u001b[0;36mFrame.to_cupy.<locals>.<lambda>\u001b[0;34m(col)\u001b[0m\n\u001b[1;32m    529\u001b[0m \u001b[38;5;129m@_cudf_nvtx_annotate\u001b[39m\n\u001b[1;32m    530\u001b[0m \u001b[38;5;28;01mdef\u001b[39;00m \u001b[38;5;21mto_cupy\u001b[39m(\n\u001b[1;32m    531\u001b[0m     \u001b[38;5;28mself\u001b[39m,\n\u001b[0;32m   (...)\u001b[0m\n\u001b[1;32m    534\u001b[0m     na_value\u001b[38;5;241m=\u001b[39m\u001b[38;5;28;01mNone\u001b[39;00m,\n\u001b[1;32m    535\u001b[0m ) \u001b[38;5;241m-\u001b[39m\u001b[38;5;241m>\u001b[39m cupy\u001b[38;5;241m.\u001b[39mndarray:\n\u001b[1;32m    536\u001b[0m     \u001b[38;5;124;03m\"\"\"Convert the Frame to a CuPy array.\u001b[39;00m\n\u001b[1;32m    537\u001b[0m \n\u001b[1;32m    538\u001b[0m \u001b[38;5;124;03m    Parameters\u001b[39;00m\n\u001b[0;32m   (...)\u001b[0m\n\u001b[1;32m    553\u001b[0m \u001b[38;5;124;03m    cupy.ndarray\u001b[39;00m\n\u001b[1;32m    554\u001b[0m \u001b[38;5;124;03m    \"\"\"\u001b[39;00m\n\u001b[1;32m    555\u001b[0m     \u001b[38;5;28;01mreturn\u001b[39;00m \u001b[38;5;28mself\u001b[39m\u001b[38;5;241m.\u001b[39m_to_array(\n\u001b[1;32m    556\u001b[0m         (\u001b[38;5;28;01mlambda\u001b[39;00m col: col\u001b[38;5;241m.\u001b[39mvalues\u001b[38;5;241m.\u001b[39mcopy())\n\u001b[1;32m    557\u001b[0m         \u001b[38;5;28;01mif\u001b[39;00m copy\n\u001b[0;32m--> 558\u001b[0m         \u001b[38;5;28;01melse\u001b[39;00m (\u001b[38;5;28;01mlambda\u001b[39;00m col: \u001b[43mcol\u001b[49m\u001b[38;5;241;43m.\u001b[39;49m\u001b[43mvalues\u001b[49m),\n\u001b[1;32m    559\u001b[0m         cupy\u001b[38;5;241m.\u001b[39mempty,\n\u001b[1;32m    560\u001b[0m         dtype,\n\u001b[1;32m    561\u001b[0m         na_value,\n\u001b[1;32m    562\u001b[0m     )\n",
      "File \u001b[0;32m/usr/local/lib/python3.8/dist-packages/cudf/core/column/column.py:166\u001b[0m, in \u001b[0;36mColumnBase.values\u001b[0;34m(self)\u001b[0m\n\u001b[1;32m    163\u001b[0m     \u001b[38;5;28;01mreturn\u001b[39;00m cupy\u001b[38;5;241m.\u001b[39marray([], dtype\u001b[38;5;241m=\u001b[39m\u001b[38;5;28mself\u001b[39m\u001b[38;5;241m.\u001b[39mdtype)\n\u001b[1;32m    165\u001b[0m \u001b[38;5;28;01mif\u001b[39;00m \u001b[38;5;28mself\u001b[39m\u001b[38;5;241m.\u001b[39mhas_nulls():\n\u001b[0;32m--> 166\u001b[0m     \u001b[38;5;28;01mraise\u001b[39;00m \u001b[38;5;167;01mValueError\u001b[39;00m(\u001b[38;5;124m\"\u001b[39m\u001b[38;5;124mColumn must have no nulls.\u001b[39m\u001b[38;5;124m\"\u001b[39m)\n\u001b[1;32m    168\u001b[0m \u001b[38;5;28;01mreturn\u001b[39;00m cupy\u001b[38;5;241m.\u001b[39masarray(\u001b[38;5;28mself\u001b[39m\u001b[38;5;241m.\u001b[39mdata_array_view)\n",
      "\u001b[0;31mValueError\u001b[0m: Column must have no nulls."
     ]
    }
   ],
   "source": [
    "redis_conn = redis.Redis(\n",
    "    host=\"redis-inference-store\",\n",
    "    port=6379,\n",
    "    decode_responses=True\n",
    ")\n",
    "\n",
    "# Run the process\n",
    "await store_recommendations(topk_model, dlrm, train_retrieval, Tags, n=100, redis_conn=redis_conn)"
   ]
  },
  {
   "cell_type": "code",
   "execution_count": null,
   "id": "b2b44758-b274-4f39-b1f0-b21193f2e94b",
   "metadata": {},
   "outputs": [],
   "source": [
    "!redis-cli -h redis-inference-store -p 6379 hgetall USER:1"
   ]
  },
  {
   "cell_type": "markdown",
   "id": "287e905a-41e9-4077-a05d-f5106cba15c4",
   "metadata": {},
   "source": [
    "## Conclusion\n",
    "\n",
    "Now you have all of the tools to **train**\n",
    "\n",
    "blah blah blah"
   ]
  },
  {
   "cell_type": "markdown",
   "id": "b19062ef",
   "metadata": {
    "pycharm": {
     "name": "#%% md\n"
    }
   },
   "source": [
    "## Exporting Models"
   ]
  },
  {
   "cell_type": "markdown",
   "id": "abf8cb35",
   "metadata": {
    "pycharm": {
     "name": "#%% md\n"
    }
   },
   "source": [
    "So far we have trained and evaluated our Retrieval model. Now, the next step is to deploy our model and generate top-K recommendations given a user (query). We can efficiently serve our model by indexing the trained item embeddings into an **Approximate Nearest Neighbors (ANN)** engine. Basically, for a given user query vector, that is generated passing the user features into user tower of retrieval model, we do an ANN search query to find the ids of nearby item vectors, and at serve time, we score user embeddings over all indexed top-K item embeddings within the ANN engine.\n",
    "\n",
    "In doing so, we need to export\n",
    " \n",
    "- user (query) tower\n",
    "- item and user features\n",
    "- item embeddings"
   ]
  },
  {
   "cell_type": "markdown",
   "id": "a01df11e",
   "metadata": {
    "pycharm": {
     "name": "#%% md\n"
    }
   },
   "source": [
    "#### Save and Load User (query) tower"
   ]
  },
  {
   "cell_type": "markdown",
   "id": "f4dc5e2c",
   "metadata": {
    "pycharm": {
     "name": "#%% md\n"
    }
   },
   "source": [
    "We are able to save the user tower model as a TF model to disk. The user tower model is needed to generate a user embedding vector when a user feature vector <i>x</i> is fed into that model."
   ]
  },
  {
   "cell_type": "code",
   "execution_count": 167,
   "id": "07c68eb4",
   "metadata": {
    "pycharm": {
     "name": "#%%\n"
    }
   },
   "outputs": [],
   "source": [
    "query_tower = model.query_encoder\n",
    "query_tower.save(os.path.join(DATA_DIR, \"query_tower\"))\n",
    "\n",
    "## we can load back the saved model via the following script.\n",
    "#query_tower_loaded = tf.keras.models.load_model(os.path.join(DATA_FOLDER, 'query_tower'))"
   ]
  },
  {
   "cell_type": "markdown",
   "id": "e4c031f8",
   "metadata": {
    "pycharm": {
     "name": "#%% md\n"
    }
   },
   "source": [
    "#### Extract and save User features"
   ]
  },
  {
   "cell_type": "markdown",
   "id": "9cdd88a9",
   "metadata": {
    "pycharm": {
     "name": "#%% md\n"
    }
   },
   "source": [
    "With `unique_rows_by_features` utility function we can easily extract both unique user and item features tables as cuDF dataframes. Note that for user features table, we use `USER` and `USER_ID` tags."
   ]
  },
  {
   "cell_type": "code",
   "execution_count": 168,
   "id": "1f861ac4",
   "metadata": {
    "pycharm": {
     "name": "#%%\n"
    }
   },
   "outputs": [],
   "source": [
    "user_features = (\n",
    "    unique_rows_by_features(train, Tags.USER, Tags.USER_ID).compute().reset_index(drop=True)\n",
    ")"
   ]
  },
  {
   "cell_type": "code",
   "execution_count": 169,
   "id": "f88fcb3a",
   "metadata": {
    "pycharm": {
     "name": "#%%\n"
    }
   },
   "outputs": [
    {
     "data": {
      "text/html": [
       "<div>\n",
       "<style scoped>\n",
       "    .dataframe tbody tr th:only-of-type {\n",
       "        vertical-align: middle;\n",
       "    }\n",
       "\n",
       "    .dataframe tbody tr th {\n",
       "        vertical-align: top;\n",
       "    }\n",
       "\n",
       "    .dataframe thead th {\n",
       "        text-align: right;\n",
       "    }\n",
       "</style>\n",
       "<table border=\"1\" class=\"dataframe\">\n",
       "  <thead>\n",
       "    <tr style=\"text-align: right;\">\n",
       "      <th></th>\n",
       "      <th>user_id</th>\n",
       "      <th>user_shops</th>\n",
       "      <th>user_profile</th>\n",
       "      <th>user_group</th>\n",
       "      <th>user_gender</th>\n",
       "      <th>user_age</th>\n",
       "      <th>user_consumption_2</th>\n",
       "      <th>user_is_occupied</th>\n",
       "      <th>user_geography</th>\n",
       "      <th>user_intentions</th>\n",
       "      <th>user_brands</th>\n",
       "      <th>user_categories</th>\n",
       "    </tr>\n",
       "  </thead>\n",
       "  <tbody>\n",
       "    <tr>\n",
       "      <th>0</th>\n",
       "      <td>1</td>\n",
       "      <td>1</td>\n",
       "      <td>1</td>\n",
       "      <td>1</td>\n",
       "      <td>1</td>\n",
       "      <td>1</td>\n",
       "      <td>1</td>\n",
       "      <td>1</td>\n",
       "      <td>1</td>\n",
       "      <td>1</td>\n",
       "      <td>1</td>\n",
       "      <td>1</td>\n",
       "    </tr>\n",
       "    <tr>\n",
       "      <th>1</th>\n",
       "      <td>2</td>\n",
       "      <td>2</td>\n",
       "      <td>1</td>\n",
       "      <td>1</td>\n",
       "      <td>1</td>\n",
       "      <td>1</td>\n",
       "      <td>1</td>\n",
       "      <td>1</td>\n",
       "      <td>1</td>\n",
       "      <td>2</td>\n",
       "      <td>2</td>\n",
       "      <td>2</td>\n",
       "    </tr>\n",
       "    <tr>\n",
       "      <th>2</th>\n",
       "      <td>3</td>\n",
       "      <td>3</td>\n",
       "      <td>1</td>\n",
       "      <td>1</td>\n",
       "      <td>1</td>\n",
       "      <td>1</td>\n",
       "      <td>1</td>\n",
       "      <td>1</td>\n",
       "      <td>1</td>\n",
       "      <td>3</td>\n",
       "      <td>3</td>\n",
       "      <td>3</td>\n",
       "    </tr>\n",
       "    <tr>\n",
       "      <th>3</th>\n",
       "      <td>4</td>\n",
       "      <td>4</td>\n",
       "      <td>1</td>\n",
       "      <td>1</td>\n",
       "      <td>1</td>\n",
       "      <td>1</td>\n",
       "      <td>1</td>\n",
       "      <td>1</td>\n",
       "      <td>1</td>\n",
       "      <td>4</td>\n",
       "      <td>4</td>\n",
       "      <td>4</td>\n",
       "    </tr>\n",
       "    <tr>\n",
       "      <th>4</th>\n",
       "      <td>5</td>\n",
       "      <td>5</td>\n",
       "      <td>1</td>\n",
       "      <td>1</td>\n",
       "      <td>1</td>\n",
       "      <td>1</td>\n",
       "      <td>1</td>\n",
       "      <td>1</td>\n",
       "      <td>1</td>\n",
       "      <td>5</td>\n",
       "      <td>5</td>\n",
       "      <td>5</td>\n",
       "    </tr>\n",
       "  </tbody>\n",
       "</table>\n",
       "</div>"
      ],
      "text/plain": [
       "   user_id  user_shops  user_profile  user_group  user_gender  user_age  \\\n",
       "0        1           1             1           1            1         1   \n",
       "1        2           2             1           1            1         1   \n",
       "2        3           3             1           1            1         1   \n",
       "3        4           4             1           1            1         1   \n",
       "4        5           5             1           1            1         1   \n",
       "\n",
       "   user_consumption_2  user_is_occupied  user_geography  user_intentions  \\\n",
       "0                   1                 1               1                1   \n",
       "1                   1                 1               1                2   \n",
       "2                   1                 1               1                3   \n",
       "3                   1                 1               1                4   \n",
       "4                   1                 1               1                5   \n",
       "\n",
       "   user_brands  user_categories  \n",
       "0            1                1  \n",
       "1            2                2  \n",
       "2            3                3  \n",
       "3            4                4  \n",
       "4            5                5  "
      ]
     },
     "execution_count": 169,
     "metadata": {},
     "output_type": "execute_result"
    }
   ],
   "source": [
    "user_features.head()"
   ]
  },
  {
   "cell_type": "code",
   "execution_count": 171,
   "id": "33758417",
   "metadata": {
    "pycharm": {
     "name": "#%%\n"
    }
   },
   "outputs": [],
   "source": [
    "# save to disk\n",
    "user_features.to_parquet(os.path.join(DATA_DIR, \"user_features.parquet\"))"
   ]
  },
  {
   "cell_type": "markdown",
   "id": "184f6cf6-cc5e-459e-9d87-5fdcd01d8c85",
   "metadata": {},
   "source": [
    "#### Generate Query embeddings for entire user catalog"
   ]
  },
  {
   "cell_type": "code",
   "execution_count": 172,
   "id": "5d31a12c-ca41-4b02-9288-7d6b31d54e39",
   "metadata": {},
   "outputs": [
    {
     "name": "stderr",
     "output_type": "stream",
     "text": [
      "/usr/local/lib/python3.8/dist-packages/merlin/schema/tags.py:148: UserWarning: Compound tags like Tags.USER_ID have been deprecated and will be removed in a future version. Please use the atomic versions of these tags, like [<Tags.USER: 'user'>, <Tags.ID: 'id'>].\n",
      "  warnings.warn(\n"
     ]
    }
   ],
   "source": [
    "queries = model.query_embeddings(Dataset(user_features, schema=schema), batch_size=1024, index=Tags.USER_ID)\n",
    "query_embs_df = queries.compute(scheduler=\"synchronous\").reset_index()"
   ]
  },
  {
   "cell_type": "code",
   "execution_count": 173,
   "id": "42b45f67-b3b3-42c3-8d76-b7ac0e391d7d",
   "metadata": {},
   "outputs": [
    {
     "data": {
      "text/html": [
       "<div>\n",
       "<style scoped>\n",
       "    .dataframe tbody tr th:only-of-type {\n",
       "        vertical-align: middle;\n",
       "    }\n",
       "\n",
       "    .dataframe tbody tr th {\n",
       "        vertical-align: top;\n",
       "    }\n",
       "\n",
       "    .dataframe thead th {\n",
       "        text-align: right;\n",
       "    }\n",
       "</style>\n",
       "<table border=\"1\" class=\"dataframe\">\n",
       "  <thead>\n",
       "    <tr style=\"text-align: right;\">\n",
       "      <th></th>\n",
       "      <th>user_id</th>\n",
       "      <th>0</th>\n",
       "      <th>1</th>\n",
       "      <th>2</th>\n",
       "      <th>3</th>\n",
       "      <th>4</th>\n",
       "      <th>5</th>\n",
       "      <th>6</th>\n",
       "      <th>7</th>\n",
       "      <th>8</th>\n",
       "      <th>...</th>\n",
       "      <th>54</th>\n",
       "      <th>55</th>\n",
       "      <th>56</th>\n",
       "      <th>57</th>\n",
       "      <th>58</th>\n",
       "      <th>59</th>\n",
       "      <th>60</th>\n",
       "      <th>61</th>\n",
       "      <th>62</th>\n",
       "      <th>63</th>\n",
       "    </tr>\n",
       "  </thead>\n",
       "  <tbody>\n",
       "    <tr>\n",
       "      <th>0</th>\n",
       "      <td>1</td>\n",
       "      <td>-0.044415</td>\n",
       "      <td>-0.079928</td>\n",
       "      <td>0.141791</td>\n",
       "      <td>-0.054618</td>\n",
       "      <td>0.071080</td>\n",
       "      <td>-0.129675</td>\n",
       "      <td>-0.022908</td>\n",
       "      <td>-0.098638</td>\n",
       "      <td>-0.165534</td>\n",
       "      <td>...</td>\n",
       "      <td>0.069087</td>\n",
       "      <td>-0.041935</td>\n",
       "      <td>-0.088211</td>\n",
       "      <td>0.009338</td>\n",
       "      <td>0.042672</td>\n",
       "      <td>0.064693</td>\n",
       "      <td>0.089439</td>\n",
       "      <td>-0.046101</td>\n",
       "      <td>0.019635</td>\n",
       "      <td>0.063172</td>\n",
       "    </tr>\n",
       "    <tr>\n",
       "      <th>1</th>\n",
       "      <td>2</td>\n",
       "      <td>0.050006</td>\n",
       "      <td>0.048904</td>\n",
       "      <td>0.122381</td>\n",
       "      <td>-0.045254</td>\n",
       "      <td>0.087561</td>\n",
       "      <td>-0.083287</td>\n",
       "      <td>0.047019</td>\n",
       "      <td>-0.062766</td>\n",
       "      <td>-0.025593</td>\n",
       "      <td>...</td>\n",
       "      <td>-0.034007</td>\n",
       "      <td>0.008304</td>\n",
       "      <td>0.003901</td>\n",
       "      <td>-0.041683</td>\n",
       "      <td>0.066743</td>\n",
       "      <td>0.026556</td>\n",
       "      <td>0.051612</td>\n",
       "      <td>-0.048407</td>\n",
       "      <td>0.101967</td>\n",
       "      <td>0.016460</td>\n",
       "    </tr>\n",
       "    <tr>\n",
       "      <th>2</th>\n",
       "      <td>3</td>\n",
       "      <td>0.032441</td>\n",
       "      <td>0.068938</td>\n",
       "      <td>0.144220</td>\n",
       "      <td>0.025580</td>\n",
       "      <td>-0.021241</td>\n",
       "      <td>-0.087041</td>\n",
       "      <td>-0.005831</td>\n",
       "      <td>-0.011544</td>\n",
       "      <td>-0.028608</td>\n",
       "      <td>...</td>\n",
       "      <td>-0.039868</td>\n",
       "      <td>0.022170</td>\n",
       "      <td>-0.067877</td>\n",
       "      <td>-0.045480</td>\n",
       "      <td>0.029166</td>\n",
       "      <td>0.085423</td>\n",
       "      <td>-0.011185</td>\n",
       "      <td>-0.077492</td>\n",
       "      <td>0.052504</td>\n",
       "      <td>0.085522</td>\n",
       "    </tr>\n",
       "    <tr>\n",
       "      <th>3</th>\n",
       "      <td>4</td>\n",
       "      <td>-0.000057</td>\n",
       "      <td>0.027755</td>\n",
       "      <td>0.110519</td>\n",
       "      <td>0.004052</td>\n",
       "      <td>0.026682</td>\n",
       "      <td>-0.023924</td>\n",
       "      <td>0.000899</td>\n",
       "      <td>-0.079054</td>\n",
       "      <td>-0.121010</td>\n",
       "      <td>...</td>\n",
       "      <td>0.042694</td>\n",
       "      <td>-0.068973</td>\n",
       "      <td>-0.055938</td>\n",
       "      <td>-0.039705</td>\n",
       "      <td>0.065993</td>\n",
       "      <td>-0.022096</td>\n",
       "      <td>0.046860</td>\n",
       "      <td>-0.075874</td>\n",
       "      <td>0.105141</td>\n",
       "      <td>0.074089</td>\n",
       "    </tr>\n",
       "    <tr>\n",
       "      <th>4</th>\n",
       "      <td>5</td>\n",
       "      <td>0.038788</td>\n",
       "      <td>0.093953</td>\n",
       "      <td>0.085692</td>\n",
       "      <td>-0.030298</td>\n",
       "      <td>0.056857</td>\n",
       "      <td>-0.076180</td>\n",
       "      <td>0.046644</td>\n",
       "      <td>-0.035246</td>\n",
       "      <td>-0.080857</td>\n",
       "      <td>...</td>\n",
       "      <td>-0.020631</td>\n",
       "      <td>-0.004258</td>\n",
       "      <td>0.006572</td>\n",
       "      <td>-0.032787</td>\n",
       "      <td>0.025109</td>\n",
       "      <td>-0.013951</td>\n",
       "      <td>-0.019807</td>\n",
       "      <td>-0.078905</td>\n",
       "      <td>0.125748</td>\n",
       "      <td>0.012741</td>\n",
       "    </tr>\n",
       "  </tbody>\n",
       "</table>\n",
       "<p>5 rows × 65 columns</p>\n",
       "</div>"
      ],
      "text/plain": [
       "   user_id         0         1         2         3         4         5  \\\n",
       "0        1 -0.044415 -0.079928  0.141791 -0.054618  0.071080 -0.129675   \n",
       "1        2  0.050006  0.048904  0.122381 -0.045254  0.087561 -0.083287   \n",
       "2        3  0.032441  0.068938  0.144220  0.025580 -0.021241 -0.087041   \n",
       "3        4 -0.000057  0.027755  0.110519  0.004052  0.026682 -0.023924   \n",
       "4        5  0.038788  0.093953  0.085692 -0.030298  0.056857 -0.076180   \n",
       "\n",
       "          6         7         8  ...        54        55        56        57  \\\n",
       "0 -0.022908 -0.098638 -0.165534  ...  0.069087 -0.041935 -0.088211  0.009338   \n",
       "1  0.047019 -0.062766 -0.025593  ... -0.034007  0.008304  0.003901 -0.041683   \n",
       "2 -0.005831 -0.011544 -0.028608  ... -0.039868  0.022170 -0.067877 -0.045480   \n",
       "3  0.000899 -0.079054 -0.121010  ...  0.042694 -0.068973 -0.055938 -0.039705   \n",
       "4  0.046644 -0.035246 -0.080857  ... -0.020631 -0.004258  0.006572 -0.032787   \n",
       "\n",
       "         58        59        60        61        62        63  \n",
       "0  0.042672  0.064693  0.089439 -0.046101  0.019635  0.063172  \n",
       "1  0.066743  0.026556  0.051612 -0.048407  0.101967  0.016460  \n",
       "2  0.029166  0.085423 -0.011185 -0.077492  0.052504  0.085522  \n",
       "3  0.065993 -0.022096  0.046860 -0.075874  0.105141  0.074089  \n",
       "4  0.025109 -0.013951 -0.019807 -0.078905  0.125748  0.012741  \n",
       "\n",
       "[5 rows x 65 columns]"
      ]
     },
     "execution_count": 173,
     "metadata": {},
     "output_type": "execute_result"
    }
   ],
   "source": [
    "query_embs_df.head()"
   ]
  },
  {
   "cell_type": "markdown",
   "id": "595b1578",
   "metadata": {
    "pycharm": {
     "name": "#%% md\n"
    }
   },
   "source": [
    "#### Extract and save Item features"
   ]
  },
  {
   "cell_type": "code",
   "execution_count": 174,
   "id": "3ae320ec",
   "metadata": {
    "pycharm": {
     "name": "#%%\n"
    }
   },
   "outputs": [],
   "source": [
    "item_features = (\n",
    "    unique_rows_by_features(train, Tags.ITEM, Tags.ITEM_ID).compute().reset_index(drop=True)\n",
    ")"
   ]
  },
  {
   "cell_type": "code",
   "execution_count": 175,
   "id": "8a24dcb8",
   "metadata": {
    "pycharm": {
     "name": "#%%\n"
    }
   },
   "outputs": [
    {
     "data": {
      "text/html": [
       "<div>\n",
       "<style scoped>\n",
       "    .dataframe tbody tr th:only-of-type {\n",
       "        vertical-align: middle;\n",
       "    }\n",
       "\n",
       "    .dataframe tbody tr th {\n",
       "        vertical-align: top;\n",
       "    }\n",
       "\n",
       "    .dataframe thead th {\n",
       "        text-align: right;\n",
       "    }\n",
       "</style>\n",
       "<table border=\"1\" class=\"dataframe\">\n",
       "  <thead>\n",
       "    <tr style=\"text-align: right;\">\n",
       "      <th></th>\n",
       "      <th>item_id</th>\n",
       "      <th>item_category</th>\n",
       "      <th>item_shop</th>\n",
       "      <th>item_brand</th>\n",
       "    </tr>\n",
       "  </thead>\n",
       "  <tbody>\n",
       "    <tr>\n",
       "      <th>0</th>\n",
       "      <td>1</td>\n",
       "      <td>1</td>\n",
       "      <td>1</td>\n",
       "      <td>1</td>\n",
       "    </tr>\n",
       "    <tr>\n",
       "      <th>1</th>\n",
       "      <td>2</td>\n",
       "      <td>2</td>\n",
       "      <td>2</td>\n",
       "      <td>2</td>\n",
       "    </tr>\n",
       "    <tr>\n",
       "      <th>2</th>\n",
       "      <td>3</td>\n",
       "      <td>3</td>\n",
       "      <td>3</td>\n",
       "      <td>3</td>\n",
       "    </tr>\n",
       "    <tr>\n",
       "      <th>3</th>\n",
       "      <td>4</td>\n",
       "      <td>4</td>\n",
       "      <td>4</td>\n",
       "      <td>4</td>\n",
       "    </tr>\n",
       "    <tr>\n",
       "      <th>4</th>\n",
       "      <td>5</td>\n",
       "      <td>5</td>\n",
       "      <td>5</td>\n",
       "      <td>5</td>\n",
       "    </tr>\n",
       "  </tbody>\n",
       "</table>\n",
       "</div>"
      ],
      "text/plain": [
       "   item_id  item_category  item_shop  item_brand\n",
       "0        1              1          1           1\n",
       "1        2              2          2           2\n",
       "2        3              3          3           3\n",
       "3        4              4          4           4\n",
       "4        5              5          5           5"
      ]
     },
     "execution_count": 175,
     "metadata": {},
     "output_type": "execute_result"
    }
   ],
   "source": [
    "item_features.head()"
   ]
  },
  {
   "cell_type": "code",
   "execution_count": 177,
   "id": "40102380",
   "metadata": {
    "pycharm": {
     "name": "#%%\n"
    }
   },
   "outputs": [],
   "source": [
    "# save to disk\n",
    "item_features.to_parquet(os.path.join(DATA_DIR, \"item_features.parquet\"))"
   ]
  },
  {
   "cell_type": "markdown",
   "id": "f57f5a3e",
   "metadata": {
    "pycharm": {
     "name": "#%% md\n"
    }
   },
   "source": [
    "#### Extract and save Item embeddings"
   ]
  },
  {
   "cell_type": "code",
   "execution_count": 178,
   "id": "30f50d2a-dbf3-4459-af46-1a8194730896",
   "metadata": {},
   "outputs": [
    {
     "name": "stderr",
     "output_type": "stream",
     "text": [
      "/usr/local/lib/python3.8/dist-packages/merlin/schema/tags.py:148: UserWarning: Compound tags like Tags.ITEM_ID have been deprecated and will be removed in a future version. Please use the atomic versions of these tags, like [<Tags.ITEM: 'item'>, <Tags.ID: 'id'>].\n",
      "  warnings.warn(\n"
     ]
    }
   ],
   "source": [
    "item_embs = model.candidate_embeddings(Dataset(item_features, schema=schema), batch_size=1024, index=Tags.ITEM_ID)"
   ]
  },
  {
   "cell_type": "code",
   "execution_count": 179,
   "id": "138678ae",
   "metadata": {
    "pycharm": {
     "name": "#%%\n"
    }
   },
   "outputs": [],
   "source": [
    "item_embs_df = item_embs.compute(scheduler=\"synchronous\")"
   ]
  },
  {
   "cell_type": "code",
   "execution_count": 180,
   "id": "a69694b0",
   "metadata": {
    "pycharm": {
     "name": "#%%\n"
    }
   },
   "outputs": [
    {
     "data": {
      "text/html": [
       "<div>\n",
       "<style scoped>\n",
       "    .dataframe tbody tr th:only-of-type {\n",
       "        vertical-align: middle;\n",
       "    }\n",
       "\n",
       "    .dataframe tbody tr th {\n",
       "        vertical-align: top;\n",
       "    }\n",
       "\n",
       "    .dataframe thead th {\n",
       "        text-align: right;\n",
       "    }\n",
       "</style>\n",
       "<table border=\"1\" class=\"dataframe\">\n",
       "  <thead>\n",
       "    <tr style=\"text-align: right;\">\n",
       "      <th></th>\n",
       "      <th>0</th>\n",
       "      <th>1</th>\n",
       "      <th>2</th>\n",
       "      <th>3</th>\n",
       "      <th>4</th>\n",
       "      <th>5</th>\n",
       "      <th>6</th>\n",
       "      <th>7</th>\n",
       "      <th>8</th>\n",
       "      <th>9</th>\n",
       "      <th>...</th>\n",
       "      <th>54</th>\n",
       "      <th>55</th>\n",
       "      <th>56</th>\n",
       "      <th>57</th>\n",
       "      <th>58</th>\n",
       "      <th>59</th>\n",
       "      <th>60</th>\n",
       "      <th>61</th>\n",
       "      <th>62</th>\n",
       "      <th>63</th>\n",
       "    </tr>\n",
       "    <tr>\n",
       "      <th>item_id</th>\n",
       "      <th></th>\n",
       "      <th></th>\n",
       "      <th></th>\n",
       "      <th></th>\n",
       "      <th></th>\n",
       "      <th></th>\n",
       "      <th></th>\n",
       "      <th></th>\n",
       "      <th></th>\n",
       "      <th></th>\n",
       "      <th></th>\n",
       "      <th></th>\n",
       "      <th></th>\n",
       "      <th></th>\n",
       "      <th></th>\n",
       "      <th></th>\n",
       "      <th></th>\n",
       "      <th></th>\n",
       "      <th></th>\n",
       "      <th></th>\n",
       "      <th></th>\n",
       "    </tr>\n",
       "  </thead>\n",
       "  <tbody>\n",
       "    <tr>\n",
       "      <th>1</th>\n",
       "      <td>-0.086588</td>\n",
       "      <td>-0.035170</td>\n",
       "      <td>0.038872</td>\n",
       "      <td>-0.030351</td>\n",
       "      <td>-0.005060</td>\n",
       "      <td>-0.026615</td>\n",
       "      <td>0.036075</td>\n",
       "      <td>-0.019011</td>\n",
       "      <td>-0.025655</td>\n",
       "      <td>0.061539</td>\n",
       "      <td>...</td>\n",
       "      <td>0.079430</td>\n",
       "      <td>-0.023591</td>\n",
       "      <td>0.039861</td>\n",
       "      <td>0.001400</td>\n",
       "      <td>0.047819</td>\n",
       "      <td>-0.046945</td>\n",
       "      <td>0.080522</td>\n",
       "      <td>-0.049821</td>\n",
       "      <td>0.011490</td>\n",
       "      <td>-0.034052</td>\n",
       "    </tr>\n",
       "    <tr>\n",
       "      <th>2</th>\n",
       "      <td>-0.020607</td>\n",
       "      <td>-0.028564</td>\n",
       "      <td>0.052904</td>\n",
       "      <td>-0.044290</td>\n",
       "      <td>0.044060</td>\n",
       "      <td>-0.077663</td>\n",
       "      <td>0.063523</td>\n",
       "      <td>-0.002706</td>\n",
       "      <td>-0.049997</td>\n",
       "      <td>-0.046659</td>\n",
       "      <td>...</td>\n",
       "      <td>-0.019446</td>\n",
       "      <td>0.017111</td>\n",
       "      <td>0.047408</td>\n",
       "      <td>0.014948</td>\n",
       "      <td>0.037164</td>\n",
       "      <td>-0.055093</td>\n",
       "      <td>0.080557</td>\n",
       "      <td>-0.004503</td>\n",
       "      <td>0.046443</td>\n",
       "      <td>-0.029852</td>\n",
       "    </tr>\n",
       "    <tr>\n",
       "      <th>3</th>\n",
       "      <td>0.014424</td>\n",
       "      <td>0.062466</td>\n",
       "      <td>0.026331</td>\n",
       "      <td>-0.016829</td>\n",
       "      <td>0.067588</td>\n",
       "      <td>-0.040853</td>\n",
       "      <td>0.049609</td>\n",
       "      <td>-0.068072</td>\n",
       "      <td>-0.040935</td>\n",
       "      <td>-0.016965</td>\n",
       "      <td>...</td>\n",
       "      <td>0.029904</td>\n",
       "      <td>0.049761</td>\n",
       "      <td>0.036740</td>\n",
       "      <td>-0.054622</td>\n",
       "      <td>0.017131</td>\n",
       "      <td>-0.079658</td>\n",
       "      <td>-0.063603</td>\n",
       "      <td>-0.020487</td>\n",
       "      <td>0.013681</td>\n",
       "      <td>0.013386</td>\n",
       "    </tr>\n",
       "    <tr>\n",
       "      <th>4</th>\n",
       "      <td>-0.100455</td>\n",
       "      <td>-0.087459</td>\n",
       "      <td>-0.002279</td>\n",
       "      <td>0.015967</td>\n",
       "      <td>-0.054807</td>\n",
       "      <td>0.021265</td>\n",
       "      <td>-0.003342</td>\n",
       "      <td>0.098855</td>\n",
       "      <td>-0.029481</td>\n",
       "      <td>0.007833</td>\n",
       "      <td>...</td>\n",
       "      <td>0.119475</td>\n",
       "      <td>0.023623</td>\n",
       "      <td>0.032304</td>\n",
       "      <td>-0.038052</td>\n",
       "      <td>0.066611</td>\n",
       "      <td>-0.063890</td>\n",
       "      <td>0.049579</td>\n",
       "      <td>-0.140459</td>\n",
       "      <td>0.029618</td>\n",
       "      <td>-0.030336</td>\n",
       "    </tr>\n",
       "    <tr>\n",
       "      <th>5</th>\n",
       "      <td>-0.010816</td>\n",
       "      <td>0.033060</td>\n",
       "      <td>0.055615</td>\n",
       "      <td>0.017870</td>\n",
       "      <td>0.008282</td>\n",
       "      <td>-0.040606</td>\n",
       "      <td>0.008903</td>\n",
       "      <td>-0.037174</td>\n",
       "      <td>-0.029034</td>\n",
       "      <td>0.012322</td>\n",
       "      <td>...</td>\n",
       "      <td>0.061865</td>\n",
       "      <td>-0.025471</td>\n",
       "      <td>0.040039</td>\n",
       "      <td>-0.002353</td>\n",
       "      <td>0.021088</td>\n",
       "      <td>-0.013709</td>\n",
       "      <td>0.019025</td>\n",
       "      <td>-0.025305</td>\n",
       "      <td>-0.004278</td>\n",
       "      <td>0.054150</td>\n",
       "    </tr>\n",
       "    <tr>\n",
       "      <th>...</th>\n",
       "      <td>...</td>\n",
       "      <td>...</td>\n",
       "      <td>...</td>\n",
       "      <td>...</td>\n",
       "      <td>...</td>\n",
       "      <td>...</td>\n",
       "      <td>...</td>\n",
       "      <td>...</td>\n",
       "      <td>...</td>\n",
       "      <td>...</td>\n",
       "      <td>...</td>\n",
       "      <td>...</td>\n",
       "      <td>...</td>\n",
       "      <td>...</td>\n",
       "      <td>...</td>\n",
       "      <td>...</td>\n",
       "      <td>...</td>\n",
       "      <td>...</td>\n",
       "      <td>...</td>\n",
       "      <td>...</td>\n",
       "      <td>...</td>\n",
       "    </tr>\n",
       "    <tr>\n",
       "      <th>668</th>\n",
       "      <td>-0.011978</td>\n",
       "      <td>0.008819</td>\n",
       "      <td>0.016523</td>\n",
       "      <td>-0.073915</td>\n",
       "      <td>0.054216</td>\n",
       "      <td>-0.067495</td>\n",
       "      <td>0.008583</td>\n",
       "      <td>-0.067215</td>\n",
       "      <td>0.014997</td>\n",
       "      <td>0.033973</td>\n",
       "      <td>...</td>\n",
       "      <td>0.052676</td>\n",
       "      <td>0.002763</td>\n",
       "      <td>0.043437</td>\n",
       "      <td>-0.001684</td>\n",
       "      <td>0.025481</td>\n",
       "      <td>-0.051444</td>\n",
       "      <td>0.030094</td>\n",
       "      <td>-0.034564</td>\n",
       "      <td>-0.005135</td>\n",
       "      <td>-0.015033</td>\n",
       "    </tr>\n",
       "    <tr>\n",
       "      <th>669</th>\n",
       "      <td>-0.051683</td>\n",
       "      <td>-0.021606</td>\n",
       "      <td>0.018060</td>\n",
       "      <td>-0.038789</td>\n",
       "      <td>-0.007095</td>\n",
       "      <td>-0.028825</td>\n",
       "      <td>0.026450</td>\n",
       "      <td>0.028714</td>\n",
       "      <td>-0.007321</td>\n",
       "      <td>0.013074</td>\n",
       "      <td>...</td>\n",
       "      <td>0.093724</td>\n",
       "      <td>0.010164</td>\n",
       "      <td>0.032347</td>\n",
       "      <td>-0.009498</td>\n",
       "      <td>-0.022861</td>\n",
       "      <td>-0.095878</td>\n",
       "      <td>0.034653</td>\n",
       "      <td>-0.067983</td>\n",
       "      <td>-0.050209</td>\n",
       "      <td>-0.018708</td>\n",
       "    </tr>\n",
       "    <tr>\n",
       "      <th>670</th>\n",
       "      <td>-0.014077</td>\n",
       "      <td>-0.005224</td>\n",
       "      <td>0.057278</td>\n",
       "      <td>-0.001175</td>\n",
       "      <td>-0.005469</td>\n",
       "      <td>0.012073</td>\n",
       "      <td>0.023982</td>\n",
       "      <td>-0.001092</td>\n",
       "      <td>-0.052760</td>\n",
       "      <td>0.024767</td>\n",
       "      <td>...</td>\n",
       "      <td>0.066937</td>\n",
       "      <td>-0.007940</td>\n",
       "      <td>0.025360</td>\n",
       "      <td>-0.028201</td>\n",
       "      <td>0.024175</td>\n",
       "      <td>-0.053981</td>\n",
       "      <td>0.062025</td>\n",
       "      <td>-0.054338</td>\n",
       "      <td>-0.030390</td>\n",
       "      <td>0.019311</td>\n",
       "    </tr>\n",
       "    <tr>\n",
       "      <th>671</th>\n",
       "      <td>-0.001167</td>\n",
       "      <td>-0.023767</td>\n",
       "      <td>0.016283</td>\n",
       "      <td>-0.048372</td>\n",
       "      <td>0.009309</td>\n",
       "      <td>-0.022098</td>\n",
       "      <td>0.010793</td>\n",
       "      <td>0.003111</td>\n",
       "      <td>-0.034449</td>\n",
       "      <td>0.045869</td>\n",
       "      <td>...</td>\n",
       "      <td>0.045344</td>\n",
       "      <td>0.004631</td>\n",
       "      <td>-0.002546</td>\n",
       "      <td>-0.008917</td>\n",
       "      <td>-0.022978</td>\n",
       "      <td>0.001993</td>\n",
       "      <td>0.026103</td>\n",
       "      <td>-0.005468</td>\n",
       "      <td>-0.046113</td>\n",
       "      <td>0.056712</td>\n",
       "    </tr>\n",
       "    <tr>\n",
       "      <th>672</th>\n",
       "      <td>-0.029653</td>\n",
       "      <td>-0.047901</td>\n",
       "      <td>-0.006311</td>\n",
       "      <td>0.007980</td>\n",
       "      <td>-0.039106</td>\n",
       "      <td>-0.021128</td>\n",
       "      <td>-0.029696</td>\n",
       "      <td>0.035004</td>\n",
       "      <td>-0.011495</td>\n",
       "      <td>0.029177</td>\n",
       "      <td>...</td>\n",
       "      <td>0.019204</td>\n",
       "      <td>0.055312</td>\n",
       "      <td>-0.020833</td>\n",
       "      <td>0.001113</td>\n",
       "      <td>0.020340</td>\n",
       "      <td>0.005962</td>\n",
       "      <td>-0.003546</td>\n",
       "      <td>-0.034808</td>\n",
       "      <td>0.010631</td>\n",
       "      <td>-0.026929</td>\n",
       "    </tr>\n",
       "  </tbody>\n",
       "</table>\n",
       "<p>672 rows × 64 columns</p>\n",
       "</div>"
      ],
      "text/plain": [
       "                0         1         2         3         4         5         6  \\\n",
       "item_id                                                                         \n",
       "1       -0.086588 -0.035170  0.038872 -0.030351 -0.005060 -0.026615  0.036075   \n",
       "2       -0.020607 -0.028564  0.052904 -0.044290  0.044060 -0.077663  0.063523   \n",
       "3        0.014424  0.062466  0.026331 -0.016829  0.067588 -0.040853  0.049609   \n",
       "4       -0.100455 -0.087459 -0.002279  0.015967 -0.054807  0.021265 -0.003342   \n",
       "5       -0.010816  0.033060  0.055615  0.017870  0.008282 -0.040606  0.008903   \n",
       "...           ...       ...       ...       ...       ...       ...       ...   \n",
       "668     -0.011978  0.008819  0.016523 -0.073915  0.054216 -0.067495  0.008583   \n",
       "669     -0.051683 -0.021606  0.018060 -0.038789 -0.007095 -0.028825  0.026450   \n",
       "670     -0.014077 -0.005224  0.057278 -0.001175 -0.005469  0.012073  0.023982   \n",
       "671     -0.001167 -0.023767  0.016283 -0.048372  0.009309 -0.022098  0.010793   \n",
       "672     -0.029653 -0.047901 -0.006311  0.007980 -0.039106 -0.021128 -0.029696   \n",
       "\n",
       "                7         8         9  ...        54        55        56  \\\n",
       "item_id                                ...                                 \n",
       "1       -0.019011 -0.025655  0.061539  ...  0.079430 -0.023591  0.039861   \n",
       "2       -0.002706 -0.049997 -0.046659  ... -0.019446  0.017111  0.047408   \n",
       "3       -0.068072 -0.040935 -0.016965  ...  0.029904  0.049761  0.036740   \n",
       "4        0.098855 -0.029481  0.007833  ...  0.119475  0.023623  0.032304   \n",
       "5       -0.037174 -0.029034  0.012322  ...  0.061865 -0.025471  0.040039   \n",
       "...           ...       ...       ...  ...       ...       ...       ...   \n",
       "668     -0.067215  0.014997  0.033973  ...  0.052676  0.002763  0.043437   \n",
       "669      0.028714 -0.007321  0.013074  ...  0.093724  0.010164  0.032347   \n",
       "670     -0.001092 -0.052760  0.024767  ...  0.066937 -0.007940  0.025360   \n",
       "671      0.003111 -0.034449  0.045869  ...  0.045344  0.004631 -0.002546   \n",
       "672      0.035004 -0.011495  0.029177  ...  0.019204  0.055312 -0.020833   \n",
       "\n",
       "               57        58        59        60        61        62        63  \n",
       "item_id                                                                        \n",
       "1        0.001400  0.047819 -0.046945  0.080522 -0.049821  0.011490 -0.034052  \n",
       "2        0.014948  0.037164 -0.055093  0.080557 -0.004503  0.046443 -0.029852  \n",
       "3       -0.054622  0.017131 -0.079658 -0.063603 -0.020487  0.013681  0.013386  \n",
       "4       -0.038052  0.066611 -0.063890  0.049579 -0.140459  0.029618 -0.030336  \n",
       "5       -0.002353  0.021088 -0.013709  0.019025 -0.025305 -0.004278  0.054150  \n",
       "...           ...       ...       ...       ...       ...       ...       ...  \n",
       "668     -0.001684  0.025481 -0.051444  0.030094 -0.034564 -0.005135 -0.015033  \n",
       "669     -0.009498 -0.022861 -0.095878  0.034653 -0.067983 -0.050209 -0.018708  \n",
       "670     -0.028201  0.024175 -0.053981  0.062025 -0.054338 -0.030390  0.019311  \n",
       "671     -0.008917 -0.022978  0.001993  0.026103 -0.005468 -0.046113  0.056712  \n",
       "672      0.001113  0.020340  0.005962 -0.003546 -0.034808  0.010631 -0.026929  \n",
       "\n",
       "[672 rows x 64 columns]"
      ]
     },
     "execution_count": 180,
     "metadata": {},
     "output_type": "execute_result"
    }
   ],
   "source": [
    "item_embs_df"
   ]
  },
  {
   "cell_type": "code",
   "execution_count": 182,
   "id": "5d152e82",
   "metadata": {
    "pycharm": {
     "name": "#%%\n"
    }
   },
   "outputs": [],
   "source": [
    "# save to disk\n",
    "item_embs_df.to_parquet(os.path.join(DATA_DIR, \"item_embeddings.parquet\"))"
   ]
  },
  {
   "cell_type": "markdown",
   "id": "1eed43c3",
   "metadata": {
    "pycharm": {
     "name": "#%% md\n"
    }
   },
   "source": [
    "That's it. You have learned how to train and evaluate your Two-Tower retrieval model, and then how to export the required components to be able to deploy this model to generate recommendations. In order to learn more on serving a model to [Triton Inference Server](https://github.com/triton-inference-server/server), please explore the examples in the [Merlin](https://github.com/NVIDIA-Merlin/Merlin) and [Merlin Systems](https://github.com/NVIDIA-Merlin/systems) repos."
   ]
  }
 ],
 "metadata": {
  "kernelspec": {
   "display_name": "Python 3 (ipykernel)",
   "language": "python",
   "name": "python3"
  },
  "language_info": {
   "codemirror_mode": {
    "name": "ipython",
    "version": 3
   },
   "file_extension": ".py",
   "mimetype": "text/x-python",
   "name": "python",
   "nbconvert_exporter": "python",
   "pygments_lexer": "ipython3",
   "version": "3.8.10"
  },
  "merlin": {
   "containers": [
    "nvcr.io/nvidia/merlin/merlin-tensorflow:latest"
   ]
  },
  "vscode": {
   "interpreter": {
    "hash": "31f2aee4e71d21fbe5cf8b01ff0e069b9275f58929596ceb00d14d90e3e16cd6"
   }
  }
 },
 "nbformat": 4,
 "nbformat_minor": 5
}
