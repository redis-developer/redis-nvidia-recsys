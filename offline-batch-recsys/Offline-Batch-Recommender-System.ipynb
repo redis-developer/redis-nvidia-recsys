{
 "cells": [
  {
   "cell_type": "markdown",
   "id": "ca23d058-eefd-45e5-8769-1f277acc032b",
   "metadata": {
    "pycharm": {
     "name": "#%% md\n"
    }
   },
   "source": [
    "# Offline Batch Recommender System\n",
    "\n",
    "In this notebook, we will build a simple offline batch recsys that writes recommendations to Redis for quick retrieval later. The architecture diagram below shows how it comes together from a bird's eye view.\n",
    "\n",
    "![](./img/OfflineBatchRecsys.png)\n",
    "\n",
    "## Architecture\n",
    "Recommender systems commonly have a *multi-stage pipeline*:\n",
    "1) A fast **Candidate Retrieval Model** quickly truncates the large item catalog to a relevant set of hundreds (or thousands) of items.\n",
    "2) Filtering is performed to remove undesirable or already-seen items.\n",
    "3) A finely-tuned deep learning **Ranking Model** (i.e. more powerful) ranks the most likely items that are going to interacted with.\n",
    "4) Results are ordered and returned to the user.\n",
    "\n",
    "In this case, we will write recommendations to a key-value store (Redis) such that a client can request these in near \"realtime\" at a later point.\n",
    "\n",
    "> WHY? This is especially useful for developers who can't afford the complexity of hosting a live multi-stage recsys OR need to get something up and running *quickly*\n",
    "\n",
    "In this notebook, we will:\n",
    "\n",
    "1) Prepare the [**Dataset**](#Dataset-Preparation)\n",
    "2) Build a [**Candidate Retrieval Model**](#Candidate-Retrieval-Model)\n",
    "3) Build a [**Ranking Model**](#Ranking-Model)\n",
    "4) [**Write Recommendations**](#Write-Recommendations-to-Redis) to Redis (offline)\n",
    "5) [**Fetch Recommendations**](#Fetch-Recommendations-from-Redis) from Redis\n",
    "6) [**Export Models**](#Export-Models) for later use"
   ]
  },
  {
   "cell_type": "markdown",
   "id": "bbf37d1b-6aa8-4df8-9ac2-db968b595078",
   "metadata": {},
   "source": [
    "*This notebook was created using the latest stable [merlin-tensorflow](https://catalog.ngc.nvidia.com/orgs/nvidia/teams/merlin/containers/merlin-tensorflow/tags) container and was heavily based on the work done by the NVIDIA Merlin team [here](https://github.com/NVIDIA-Merlin/models/blob/main/examples/05-Retrieval-Model.ipynb)*"
   ]
  },
  {
   "cell_type": "markdown",
   "id": "401daa6d",
   "metadata": {
    "pycharm": {
     "name": "#%% md\n"
    }
   },
   "source": [
    "## Dataset Preparation\n",
    "\n",
    "We will use a synthetic dataset that mimicks the [Ali-CCP: Alibaba Click and Conversion Prediction](https://tianchi.aliyun.com/dataset/dataDetail?dataId=408#1) dataset. This allows us to tune it to our exact needs for demonstration/learning purposes.\n"
   ]
  },
  {
   "cell_type": "markdown",
   "id": "cdac1fea",
   "metadata": {
    "pycharm": {
     "name": "#%% md\n"
    }
   },
   "source": [
    "### Importing Libraries"
   ]
  },
  {
   "cell_type": "code",
   "execution_count": 1,
   "id": "92aa8daa",
   "metadata": {
    "pycharm": {
     "name": "#%%\n"
    },
    "tags": []
   },
   "outputs": [
    {
     "name": "stderr",
     "output_type": "stream",
     "text": [
      "/usr/local/lib/python3.8/dist-packages/tqdm/auto.py:22: TqdmWarning: IProgress not found. Please update jupyter and ipywidgets. See https://ipywidgets.readthedocs.io/en/stable/user_install.html\n",
      "  from .autonotebook import tqdm as notebook_tqdm\n",
      "2023-01-13 17:36:22.281381: I tensorflow/core/util/util.cc:169] oneDNN custom operations are on. You may see slightly different numerical results due to floating-point round-off errors from different computation orders. To turn them off, set the environment variable `TF_ENABLE_ONEDNN_OPTS=0`.\n",
      "/usr/lib/python3/dist-packages/requests/__init__.py:89: RequestsDependencyWarning: urllib3 (1.26.12) or chardet (3.0.4) doesn't match a supported version!\n",
      "  warnings.warn(\"urllib3 ({}) or chardet ({}) doesn't match a supported \"\n",
      "2023-01-13 17:36:23.741804: I tensorflow/stream_executor/cuda/cuda_gpu_executor.cc:991] successful NUMA node read from SysFS had negative value (-1), but there must be at least one NUMA node, so returning NUMA node zero\n",
      "2023-01-13 17:36:23.743734: I tensorflow/stream_executor/cuda/cuda_gpu_executor.cc:991] successful NUMA node read from SysFS had negative value (-1), but there must be at least one NUMA node, so returning NUMA node zero\n",
      "2023-01-13 17:36:23.745222: I tensorflow/stream_executor/cuda/cuda_gpu_executor.cc:991] successful NUMA node read from SysFS had negative value (-1), but there must be at least one NUMA node, so returning NUMA node zero\n",
      "2023-01-13 17:36:24.150186: I tensorflow/core/platform/cpu_feature_guard.cc:194] This TensorFlow binary is optimized with oneAPI Deep Neural Network Library (oneDNN) to use the following CPU instructions in performance-critical operations:  SSE3 SSE4.1 SSE4.2 AVX\n",
      "To enable them in other operations, rebuild TensorFlow with the appropriate compiler flags.\n",
      "2023-01-13 17:36:24.150648: I tensorflow/stream_executor/cuda/cuda_gpu_executor.cc:991] successful NUMA node read from SysFS had negative value (-1), but there must be at least one NUMA node, so returning NUMA node zero\n",
      "2023-01-13 17:36:24.152641: I tensorflow/stream_executor/cuda/cuda_gpu_executor.cc:991] successful NUMA node read from SysFS had negative value (-1), but there must be at least one NUMA node, so returning NUMA node zero\n",
      "2023-01-13 17:36:24.154092: I tensorflow/stream_executor/cuda/cuda_gpu_executor.cc:991] successful NUMA node read from SysFS had negative value (-1), but there must be at least one NUMA node, so returning NUMA node zero\n",
      "2023-01-13 17:36:25.592670: I tensorflow/stream_executor/cuda/cuda_gpu_executor.cc:991] successful NUMA node read from SysFS had negative value (-1), but there must be at least one NUMA node, so returning NUMA node zero\n",
      "2023-01-13 17:36:25.594368: I tensorflow/stream_executor/cuda/cuda_gpu_executor.cc:991] successful NUMA node read from SysFS had negative value (-1), but there must be at least one NUMA node, so returning NUMA node zero\n",
      "2023-01-13 17:36:25.595812: I tensorflow/stream_executor/cuda/cuda_gpu_executor.cc:991] successful NUMA node read from SysFS had negative value (-1), but there must be at least one NUMA node, so returning NUMA node zero\n",
      "2023-01-13 17:36:25.597196: I tensorflow/core/common_runtime/gpu/gpu_device.cc:1532] Created device /job:localhost/replica:0/task:0/device:GPU:0 with 7680 MB memory:  -> device: 0, name: Tesla T4, pci bus id: 0000:00:1e.0, compute capability: 7.5\n"
     ]
    }
   ],
   "source": [
    "import os\n",
    "import logging\n",
    "import time\n",
    "\n",
    "import nvtabular as nvt\n",
    "import merlin.models.tf as mm\n",
    "import tensorflow as tf\n",
    "\n",
    "from nvtabular.ops import *\n",
    "\n",
    "from merlin.datasets.synthetic import generate_data\n",
    "from merlin.datasets.ecommerce import transform_aliccp\n",
    "from merlin.models.utils.example_utils import workflow_fit_transform\n",
    "from merlin.models.utils.dataset import unique_rows_by_features\n",
    "from merlin.schema.tags import Tags\n",
    "from merlin.io.dataset import Dataset\n",
    "\n",
    "\n",
    "# disable INFO and DEBUG logging everywhere\n",
    "logging.disable(logging.WARNING)"
   ]
  },
  {
   "cell_type": "markdown",
   "id": "0ac0eef4",
   "metadata": {
    "pycharm": {
     "name": "#%% md\n"
    }
   },
   "source": [
    "### Generate Synthetic Ali-CCP Dataset"
   ]
  },
  {
   "cell_type": "code",
   "execution_count": 2,
   "id": "1dd757a3-2f93-495f-b2c5-5098c997d46e",
   "metadata": {
    "tags": []
   },
   "outputs": [
    {
     "name": "stderr",
     "output_type": "stream",
     "text": [
      "/usr/local/lib/python3.8/dist-packages/merlin/schema/tags.py:148: UserWarning: Compound tags like Tags.USER_ID have been deprecated and will be removed in a future version. Please use the atomic versions of these tags, like [<Tags.USER: 'user'>, <Tags.ID: 'id'>].\n",
      "  warnings.warn(\n",
      "/usr/local/lib/python3.8/dist-packages/merlin/schema/tags.py:148: UserWarning: Compound tags like Tags.ITEM_ID have been deprecated and will be removed in a future version. Please use the atomic versions of these tags, like [<Tags.ITEM: 'item'>, <Tags.ID: 'id'>].\n",
      "  warnings.warn(\n"
     ]
    }
   ],
   "source": [
    "# Generate the synthetic data\n",
    "NUM_ROWS = 1000000\n",
    "TRAIN_SIZE = 0.7\n",
    "VALID_SIZE = 0.3\n",
    "\n",
    "train, valid = generate_data(\"aliccp-raw\", NUM_ROWS, set_sizes=(TRAIN_SIZE, VALID_SIZE))"
   ]
  },
  {
   "cell_type": "code",
   "execution_count": 3,
   "id": "f23232bf-7822-498f-a036-23e44ef48e50",
   "metadata": {},
   "outputs": [],
   "source": [
    "# Defin output path for data\n",
    "DATA_DIR = os.environ['PWD'] +\"/data/\"\n",
    "OUTPUT_DATA_DIR = os.path.join(DATA_DIR, \"processed\")\n",
    "OUTPUT_RETRIEVAL_DATA_DIR = os.path.join(OUTPUT_DATA_DIR, \"retrieval\")\n",
    "CATEGORY_TEMP_DIR = os.path.join(DATA_DIR, \"categories\")"
   ]
  },
  {
   "cell_type": "code",
   "execution_count": 4,
   "id": "3d1d91d2-3b6a-457b-8b18-2589ddc5fc99",
   "metadata": {},
   "outputs": [],
   "source": [
    "# Define NVTabular Feature Transformation Pipeline\n",
    "\n",
    "user_id_raw = [\"user_id\"] >> Rename(postfix='_raw') >> LambdaOp(lambda col: col.astype(\"int32\")) >> TagAsUserFeatures()\n",
    "item_id_raw = [\"item_id\"] >> Rename(postfix='_raw') >> LambdaOp(lambda col: col.astype(\"int32\")) >> TagAsItemFeatures()\n",
    "\n",
    "user_id = [\"user_id\"] >> Categorify(dtype=\"int32\", out_path=CATEGORY_TEMP_DIR) >> TagAsUserID()\n",
    "item_id = [\"item_id\"] >> Categorify(dtype=\"int32\", out_path=CATEGORY_TEMP_DIR) >> TagAsItemID()\n",
    "\n",
    "item_features = (\n",
    "    [\"item_category\", \"item_shop\", \"item_brand\"] >> Categorify(dtype=\"int32\", out_path=CATEGORY_TEMP_DIR) >> TagAsItemFeatures()\n",
    ")\n",
    "\n",
    "user_features = (\n",
    "    [\n",
    "        \"user_shops\",\n",
    "        \"user_profile\",\n",
    "        \"user_group\",\n",
    "        \"user_gender\",\n",
    "        \"user_age\",\n",
    "        \"user_consumption_2\",\n",
    "        \"user_is_occupied\",\n",
    "        \"user_geography\",\n",
    "        \"user_intentions\",\n",
    "        \"user_brands\",\n",
    "        \"user_categories\",\n",
    "    ]\n",
    "    >> Categorify(dtype=\"int32\", out_path=CATEGORY_TEMP_DIR)\n",
    "    >> TagAsUserFeatures()\n",
    ")\n",
    "\n",
    "targets = [\"click\"] >> AddMetadata(tags=[Tags.BINARY_CLASSIFICATION, \"target\"])\n",
    "\n",
    "outputs = user_id + item_id + item_features + user_features +  user_id_raw + item_id_raw + targets\n",
    "\n",
    "# add dropna op to filter rows with nulls\n",
    "outputs = outputs >> Dropna()"
   ]
  },
  {
   "cell_type": "markdown",
   "id": "2aa99f0b",
   "metadata": {
    "pycharm": {
     "name": "#%% md\n"
    }
   },
   "source": [
    "With `transform_aliccp` function, we transform the raw dataset... applying the operators defined in the NVTabular workflow pipeline above. The processed parquet files are saved to the output path."
   ]
  },
  {
   "cell_type": "code",
   "execution_count": 5,
   "id": "07ab4edc",
   "metadata": {
    "pycharm": {
     "name": "#%%\n"
    }
   },
   "outputs": [],
   "source": [
    "# Transform data and create files\n",
    "transform_aliccp((train, valid), OUTPUT_DATA_DIR, nvt_workflow=outputs)"
   ]
  },
  {
   "cell_type": "markdown",
   "id": "b97bdb6e-c22e-4679-bf5c-a5213eca444f",
   "metadata": {
    "pycharm": {
     "name": "#%% md\n"
    }
   },
   "source": [
    "## Candidate Retrieval Model\n",
    "\n",
    "We will use a **Two-Tower** model to infer a subset of relevant items from large item corpus for a given user. \n",
    "\n",
    "A Two-Tower Model consists of item (candidate) and user (query) encoder towers. With two towers, the model can learn representations (embeddings) for queries and candidates separately. \n",
    "\n",
    "<img src=\"https://d3i71xaburhd42.cloudfront.net/8c32706b6af49db5d9cd9217e5196f701e473537/2-Figure1-1.png\"  width=\"30%\">\n",
    "\n",
    "Image from: [Mixed Negative Sampling for Learning Two-tower Neural Networks in Recommendations](https://www.semanticscholar.org/paper/Mixed-Negative-Sampling-for-Learning-Two-tower-in-Yang-Yi/29f080a1bb6df6f45afd82c443f72da745983bee)"
   ]
  },
  {
   "cell_type": "markdown",
   "id": "1bbbb1c4-ae30-44bf-888c-d0d9500a23ea",
   "metadata": {},
   "source": [
    "### Feature Engineering for Candidate Retrieval"
   ]
  },
  {
   "cell_type": "code",
   "execution_count": 6,
   "id": "a7e0c257",
   "metadata": {
    "pycharm": {
     "name": "#%%\n"
    }
   },
   "outputs": [],
   "source": [
    "# Load Datasets from generated files\n",
    "train_retrieval = Dataset(os.path.join(OUTPUT_DATA_DIR, \"train\", \"*.parquet\"))\n",
    "valid_retrieval = Dataset(os.path.join(OUTPUT_DATA_DIR, \"valid\", \"*.parquet\"))"
   ]
  },
  {
   "cell_type": "code",
   "execution_count": 7,
   "id": "f328b83d-c39d-4dd5-a8b4-c09cb8b5820f",
   "metadata": {},
   "outputs": [],
   "source": [
    "# Define NVTabular Feature Transformation Pipeline\n",
    "\n",
    "inputs = train_retrieval.schema.column_names\n",
    "\n",
    "# Select only positive interaction rows where click==1 in the dataset with Filter() operator\n",
    "outputs = inputs >> Filter(f=lambda df: df[\"click\"] == 1)\n",
    "\n",
    "# Execute the transformation workflow for both datasets\n",
    "workflow = nvt.Workflow(outputs)\n",
    "workflow.fit(train_retrieval)\n",
    "workflow.transform(train_retrieval).to_parquet(\n",
    "    output_path=os.path.join(OUTPUT_RETRIEVAL_DATA_DIR, \"train\")\n",
    ")\n",
    "workflow.transform(valid_retrieval).to_parquet(\n",
    "    output_path=os.path.join(OUTPUT_RETRIEVAL_DATA_DIR, \"valid\")\n",
    ")"
   ]
  },
  {
   "cell_type": "markdown",
   "id": "affeb1d9-a8d9-4bb4-b3b3-dec99b0825e3",
   "metadata": {},
   "source": [
    "*NVTabular exported the schema file, schema.pbtxt a protobuf text file, of our processed dataset. To learn more about the schema object and schema file you can explore [this notebook](https://github.com/NVIDIA-Merlin/models/blob/main/examples/02-Merlin-Models-and-NVTabular-integration.ipynb).*"
   ]
  },
  {
   "cell_type": "code",
   "execution_count": 8,
   "id": "19f7ee51-ddc1-4bfc-b330-fe5c992b60a0",
   "metadata": {},
   "outputs": [],
   "source": [
    "# Read transformed parquet files as Dataset objects\n",
    "train_retrieval = Dataset(os.path.join(OUTPUT_RETRIEVAL_DATA_DIR, \"train\", \"*.parquet\"), part_size=\"500MB\")\n",
    "valid_retrieval = Dataset(os.path.join(OUTPUT_RETRIEVAL_DATA_DIR, \"valid\", \"*.parquet\"), part_size=\"500MB\")"
   ]
  },
  {
   "cell_type": "markdown",
   "id": "fcdb2dbc-9bbd-46ad-aede-44c3ffbaac9d",
   "metadata": {},
   "source": [
    "Now we can use the `schema` object to define the model inputs. We select features with user and item tags, and exclude raw IDs and target column."
   ]
  },
  {
   "cell_type": "code",
   "execution_count": 9,
   "id": "4a0454c8-8eec-47cc-82e8-b45637b76d35",
   "metadata": {},
   "outputs": [],
   "source": [
    "# Create model input schema\n",
    "schema = train_retrieval.schema.select_by_tag([Tags.ITEM_ID, Tags.USER_ID, Tags.ITEM, Tags.USER]).without(['user_id_raw', 'item_id_raw', 'click'])\n",
    "train_retrieval.schema = schema\n",
    "valid_retrieval.schema = schema"
   ]
  },
  {
   "cell_type": "code",
   "execution_count": 10,
   "id": "7d9cffc1-21f8-4574-82bd-89ebcd47713f",
   "metadata": {},
   "outputs": [
    {
     "data": {
      "text/html": [
       "<div>\n",
       "<style scoped>\n",
       "    .dataframe tbody tr th:only-of-type {\n",
       "        vertical-align: middle;\n",
       "    }\n",
       "\n",
       "    .dataframe tbody tr th {\n",
       "        vertical-align: top;\n",
       "    }\n",
       "\n",
       "    .dataframe thead th {\n",
       "        text-align: right;\n",
       "    }\n",
       "</style>\n",
       "<table border=\"1\" class=\"dataframe\">\n",
       "  <thead>\n",
       "    <tr style=\"text-align: right;\">\n",
       "      <th></th>\n",
       "      <th>name</th>\n",
       "      <th>tags</th>\n",
       "      <th>dtype</th>\n",
       "      <th>is_list</th>\n",
       "      <th>is_ragged</th>\n",
       "      <th>properties.num_buckets</th>\n",
       "      <th>properties.freq_threshold</th>\n",
       "      <th>properties.max_size</th>\n",
       "      <th>properties.start_index</th>\n",
       "      <th>properties.cat_path</th>\n",
       "      <th>properties.embedding_sizes.cardinality</th>\n",
       "      <th>properties.embedding_sizes.dimension</th>\n",
       "      <th>properties.domain.min</th>\n",
       "      <th>properties.domain.max</th>\n",
       "      <th>properties.domain.name</th>\n",
       "    </tr>\n",
       "  </thead>\n",
       "  <tbody>\n",
       "    <tr>\n",
       "      <th>0</th>\n",
       "      <td>user_id</td>\n",
       "      <td>(Tags.USER, Tags.ID, Tags.USER_ID, Tags.CATEGO...</td>\n",
       "      <td>int32</td>\n",
       "      <td>False</td>\n",
       "      <td>False</td>\n",
       "      <td>None</td>\n",
       "      <td>0.0</td>\n",
       "      <td>0.0</td>\n",
       "      <td>0.0</td>\n",
       "      <td>/workdir/data/categories/categories/unique.use...</td>\n",
       "      <td>752.0</td>\n",
       "      <td>65.0</td>\n",
       "      <td>0</td>\n",
       "      <td>751</td>\n",
       "      <td>user_id</td>\n",
       "    </tr>\n",
       "    <tr>\n",
       "      <th>1</th>\n",
       "      <td>item_id</td>\n",
       "      <td>(Tags.ID, Tags.ITEM, Tags.ITEM_ID, Tags.CATEGO...</td>\n",
       "      <td>int32</td>\n",
       "      <td>False</td>\n",
       "      <td>False</td>\n",
       "      <td>None</td>\n",
       "      <td>0.0</td>\n",
       "      <td>0.0</td>\n",
       "      <td>0.0</td>\n",
       "      <td>/workdir/data/categories/categories/unique.ite...</td>\n",
       "      <td>759.0</td>\n",
       "      <td>66.0</td>\n",
       "      <td>0</td>\n",
       "      <td>758</td>\n",
       "      <td>item_id</td>\n",
       "    </tr>\n",
       "    <tr>\n",
       "      <th>2</th>\n",
       "      <td>item_category</td>\n",
       "      <td>(Tags.ITEM, Tags.CATEGORICAL)</td>\n",
       "      <td>int32</td>\n",
       "      <td>False</td>\n",
       "      <td>False</td>\n",
       "      <td>None</td>\n",
       "      <td>0.0</td>\n",
       "      <td>0.0</td>\n",
       "      <td>0.0</td>\n",
       "      <td>/workdir/data/categories/categories/unique.ite...</td>\n",
       "      <td>759.0</td>\n",
       "      <td>66.0</td>\n",
       "      <td>0</td>\n",
       "      <td>758</td>\n",
       "      <td>item_category</td>\n",
       "    </tr>\n",
       "    <tr>\n",
       "      <th>3</th>\n",
       "      <td>item_shop</td>\n",
       "      <td>(Tags.ITEM, Tags.CATEGORICAL)</td>\n",
       "      <td>int32</td>\n",
       "      <td>False</td>\n",
       "      <td>False</td>\n",
       "      <td>None</td>\n",
       "      <td>0.0</td>\n",
       "      <td>0.0</td>\n",
       "      <td>0.0</td>\n",
       "      <td>/workdir/data/categories/categories/unique.ite...</td>\n",
       "      <td>759.0</td>\n",
       "      <td>66.0</td>\n",
       "      <td>0</td>\n",
       "      <td>758</td>\n",
       "      <td>item_shop</td>\n",
       "    </tr>\n",
       "    <tr>\n",
       "      <th>4</th>\n",
       "      <td>item_brand</td>\n",
       "      <td>(Tags.ITEM, Tags.CATEGORICAL)</td>\n",
       "      <td>int32</td>\n",
       "      <td>False</td>\n",
       "      <td>False</td>\n",
       "      <td>None</td>\n",
       "      <td>0.0</td>\n",
       "      <td>0.0</td>\n",
       "      <td>0.0</td>\n",
       "      <td>/workdir/data/categories/categories/unique.ite...</td>\n",
       "      <td>759.0</td>\n",
       "      <td>66.0</td>\n",
       "      <td>0</td>\n",
       "      <td>758</td>\n",
       "      <td>item_brand</td>\n",
       "    </tr>\n",
       "    <tr>\n",
       "      <th>5</th>\n",
       "      <td>user_shops</td>\n",
       "      <td>(Tags.USER, Tags.CATEGORICAL)</td>\n",
       "      <td>int32</td>\n",
       "      <td>False</td>\n",
       "      <td>False</td>\n",
       "      <td>None</td>\n",
       "      <td>0.0</td>\n",
       "      <td>0.0</td>\n",
       "      <td>0.0</td>\n",
       "      <td>/workdir/data/categories/categories/unique.use...</td>\n",
       "      <td>752.0</td>\n",
       "      <td>65.0</td>\n",
       "      <td>0</td>\n",
       "      <td>751</td>\n",
       "      <td>user_shops</td>\n",
       "    </tr>\n",
       "    <tr>\n",
       "      <th>6</th>\n",
       "      <td>user_profile</td>\n",
       "      <td>(Tags.USER, Tags.CATEGORICAL)</td>\n",
       "      <td>int32</td>\n",
       "      <td>False</td>\n",
       "      <td>False</td>\n",
       "      <td>None</td>\n",
       "      <td>0.0</td>\n",
       "      <td>0.0</td>\n",
       "      <td>0.0</td>\n",
       "      <td>/workdir/data/categories/categories/unique.use...</td>\n",
       "      <td>49.0</td>\n",
       "      <td>16.0</td>\n",
       "      <td>0</td>\n",
       "      <td>48</td>\n",
       "      <td>user_profile</td>\n",
       "    </tr>\n",
       "    <tr>\n",
       "      <th>7</th>\n",
       "      <td>user_group</td>\n",
       "      <td>(Tags.USER, Tags.CATEGORICAL)</td>\n",
       "      <td>int32</td>\n",
       "      <td>False</td>\n",
       "      <td>False</td>\n",
       "      <td>None</td>\n",
       "      <td>0.0</td>\n",
       "      <td>0.0</td>\n",
       "      <td>0.0</td>\n",
       "      <td>/workdir/data/categories/categories/unique.use...</td>\n",
       "      <td>8.0</td>\n",
       "      <td>16.0</td>\n",
       "      <td>0</td>\n",
       "      <td>7</td>\n",
       "      <td>user_group</td>\n",
       "    </tr>\n",
       "    <tr>\n",
       "      <th>8</th>\n",
       "      <td>user_gender</td>\n",
       "      <td>(Tags.USER, Tags.CATEGORICAL)</td>\n",
       "      <td>int32</td>\n",
       "      <td>False</td>\n",
       "      <td>False</td>\n",
       "      <td>None</td>\n",
       "      <td>0.0</td>\n",
       "      <td>0.0</td>\n",
       "      <td>0.0</td>\n",
       "      <td>/workdir/data/categories/categories/unique.use...</td>\n",
       "      <td>3.0</td>\n",
       "      <td>16.0</td>\n",
       "      <td>0</td>\n",
       "      <td>2</td>\n",
       "      <td>user_gender</td>\n",
       "    </tr>\n",
       "    <tr>\n",
       "      <th>9</th>\n",
       "      <td>user_age</td>\n",
       "      <td>(Tags.USER, Tags.CATEGORICAL)</td>\n",
       "      <td>int32</td>\n",
       "      <td>False</td>\n",
       "      <td>False</td>\n",
       "      <td>None</td>\n",
       "      <td>0.0</td>\n",
       "      <td>0.0</td>\n",
       "      <td>0.0</td>\n",
       "      <td>/workdir/data/categories/categories/unique.use...</td>\n",
       "      <td>5.0</td>\n",
       "      <td>16.0</td>\n",
       "      <td>0</td>\n",
       "      <td>4</td>\n",
       "      <td>user_age</td>\n",
       "    </tr>\n",
       "    <tr>\n",
       "      <th>10</th>\n",
       "      <td>user_consumption_2</td>\n",
       "      <td>(Tags.USER, Tags.CATEGORICAL)</td>\n",
       "      <td>int32</td>\n",
       "      <td>False</td>\n",
       "      <td>False</td>\n",
       "      <td>None</td>\n",
       "      <td>0.0</td>\n",
       "      <td>0.0</td>\n",
       "      <td>0.0</td>\n",
       "      <td>/workdir/data/categories/categories/unique.use...</td>\n",
       "      <td>3.0</td>\n",
       "      <td>16.0</td>\n",
       "      <td>0</td>\n",
       "      <td>2</td>\n",
       "      <td>user_consumption_2</td>\n",
       "    </tr>\n",
       "    <tr>\n",
       "      <th>11</th>\n",
       "      <td>user_is_occupied</td>\n",
       "      <td>(Tags.USER, Tags.CATEGORICAL)</td>\n",
       "      <td>int32</td>\n",
       "      <td>False</td>\n",
       "      <td>False</td>\n",
       "      <td>None</td>\n",
       "      <td>0.0</td>\n",
       "      <td>0.0</td>\n",
       "      <td>0.0</td>\n",
       "      <td>/workdir/data/categories/categories/unique.use...</td>\n",
       "      <td>3.0</td>\n",
       "      <td>16.0</td>\n",
       "      <td>0</td>\n",
       "      <td>2</td>\n",
       "      <td>user_is_occupied</td>\n",
       "    </tr>\n",
       "    <tr>\n",
       "      <th>12</th>\n",
       "      <td>user_geography</td>\n",
       "      <td>(Tags.USER, Tags.CATEGORICAL)</td>\n",
       "      <td>int32</td>\n",
       "      <td>False</td>\n",
       "      <td>False</td>\n",
       "      <td>None</td>\n",
       "      <td>0.0</td>\n",
       "      <td>0.0</td>\n",
       "      <td>0.0</td>\n",
       "      <td>/workdir/data/categories/categories/unique.use...</td>\n",
       "      <td>4.0</td>\n",
       "      <td>16.0</td>\n",
       "      <td>0</td>\n",
       "      <td>3</td>\n",
       "      <td>user_geography</td>\n",
       "    </tr>\n",
       "    <tr>\n",
       "      <th>13</th>\n",
       "      <td>user_intentions</td>\n",
       "      <td>(Tags.USER, Tags.CATEGORICAL)</td>\n",
       "      <td>int32</td>\n",
       "      <td>False</td>\n",
       "      <td>False</td>\n",
       "      <td>None</td>\n",
       "      <td>0.0</td>\n",
       "      <td>0.0</td>\n",
       "      <td>0.0</td>\n",
       "      <td>/workdir/data/categories/categories/unique.use...</td>\n",
       "      <td>752.0</td>\n",
       "      <td>65.0</td>\n",
       "      <td>0</td>\n",
       "      <td>751</td>\n",
       "      <td>user_intentions</td>\n",
       "    </tr>\n",
       "    <tr>\n",
       "      <th>14</th>\n",
       "      <td>user_brands</td>\n",
       "      <td>(Tags.USER, Tags.CATEGORICAL)</td>\n",
       "      <td>int32</td>\n",
       "      <td>False</td>\n",
       "      <td>False</td>\n",
       "      <td>None</td>\n",
       "      <td>0.0</td>\n",
       "      <td>0.0</td>\n",
       "      <td>0.0</td>\n",
       "      <td>/workdir/data/categories/categories/unique.use...</td>\n",
       "      <td>752.0</td>\n",
       "      <td>65.0</td>\n",
       "      <td>0</td>\n",
       "      <td>751</td>\n",
       "      <td>user_brands</td>\n",
       "    </tr>\n",
       "    <tr>\n",
       "      <th>15</th>\n",
       "      <td>user_categories</td>\n",
       "      <td>(Tags.USER, Tags.CATEGORICAL)</td>\n",
       "      <td>int32</td>\n",
       "      <td>False</td>\n",
       "      <td>False</td>\n",
       "      <td>None</td>\n",
       "      <td>0.0</td>\n",
       "      <td>0.0</td>\n",
       "      <td>0.0</td>\n",
       "      <td>/workdir/data/categories/categories/unique.use...</td>\n",
       "      <td>752.0</td>\n",
       "      <td>65.0</td>\n",
       "      <td>0</td>\n",
       "      <td>751</td>\n",
       "      <td>user_categories</td>\n",
       "    </tr>\n",
       "  </tbody>\n",
       "</table>\n",
       "</div>"
      ],
      "text/plain": [
       "[{'name': 'user_id', 'tags': {<Tags.USER: 'user'>, <Tags.ID: 'id'>, <Tags.USER_ID: 'user_id'>, <Tags.CATEGORICAL: 'categorical'>}, 'properties': {'num_buckets': None, 'freq_threshold': 0.0, 'max_size': 0.0, 'start_index': 0.0, 'cat_path': '/workdir/data/categories/categories/unique.user_id.parquet', 'embedding_sizes': {'cardinality': 752.0, 'dimension': 65.0}, 'domain': {'min': 0, 'max': 751, 'name': 'user_id'}}, 'dtype': dtype('int32'), 'is_list': False, 'is_ragged': False}, {'name': 'item_id', 'tags': {<Tags.ID: 'id'>, <Tags.ITEM: 'item'>, <Tags.ITEM_ID: 'item_id'>, <Tags.CATEGORICAL: 'categorical'>}, 'properties': {'num_buckets': None, 'freq_threshold': 0.0, 'max_size': 0.0, 'start_index': 0.0, 'cat_path': '/workdir/data/categories/categories/unique.item_id.parquet', 'embedding_sizes': {'cardinality': 759.0, 'dimension': 66.0}, 'domain': {'min': 0, 'max': 758, 'name': 'item_id'}}, 'dtype': dtype('int32'), 'is_list': False, 'is_ragged': False}, {'name': 'item_category', 'tags': {<Tags.ITEM: 'item'>, <Tags.CATEGORICAL: 'categorical'>}, 'properties': {'num_buckets': None, 'freq_threshold': 0.0, 'max_size': 0.0, 'start_index': 0.0, 'cat_path': '/workdir/data/categories/categories/unique.item_category.parquet', 'embedding_sizes': {'cardinality': 759.0, 'dimension': 66.0}, 'domain': {'min': 0, 'max': 758, 'name': 'item_category'}}, 'dtype': dtype('int32'), 'is_list': False, 'is_ragged': False}, {'name': 'item_shop', 'tags': {<Tags.ITEM: 'item'>, <Tags.CATEGORICAL: 'categorical'>}, 'properties': {'num_buckets': None, 'freq_threshold': 0.0, 'max_size': 0.0, 'start_index': 0.0, 'cat_path': '/workdir/data/categories/categories/unique.item_shop.parquet', 'embedding_sizes': {'cardinality': 759.0, 'dimension': 66.0}, 'domain': {'min': 0, 'max': 758, 'name': 'item_shop'}}, 'dtype': dtype('int32'), 'is_list': False, 'is_ragged': False}, {'name': 'item_brand', 'tags': {<Tags.ITEM: 'item'>, <Tags.CATEGORICAL: 'categorical'>}, 'properties': {'num_buckets': None, 'freq_threshold': 0.0, 'max_size': 0.0, 'start_index': 0.0, 'cat_path': '/workdir/data/categories/categories/unique.item_brand.parquet', 'embedding_sizes': {'cardinality': 759.0, 'dimension': 66.0}, 'domain': {'min': 0, 'max': 758, 'name': 'item_brand'}}, 'dtype': dtype('int32'), 'is_list': False, 'is_ragged': False}, {'name': 'user_shops', 'tags': {<Tags.USER: 'user'>, <Tags.CATEGORICAL: 'categorical'>}, 'properties': {'num_buckets': None, 'freq_threshold': 0.0, 'max_size': 0.0, 'start_index': 0.0, 'cat_path': '/workdir/data/categories/categories/unique.user_shops.parquet', 'embedding_sizes': {'cardinality': 752.0, 'dimension': 65.0}, 'domain': {'min': 0, 'max': 751, 'name': 'user_shops'}}, 'dtype': dtype('int32'), 'is_list': False, 'is_ragged': False}, {'name': 'user_profile', 'tags': {<Tags.USER: 'user'>, <Tags.CATEGORICAL: 'categorical'>}, 'properties': {'num_buckets': None, 'freq_threshold': 0.0, 'max_size': 0.0, 'start_index': 0.0, 'cat_path': '/workdir/data/categories/categories/unique.user_profile.parquet', 'embedding_sizes': {'cardinality': 49.0, 'dimension': 16.0}, 'domain': {'min': 0, 'max': 48, 'name': 'user_profile'}}, 'dtype': dtype('int32'), 'is_list': False, 'is_ragged': False}, {'name': 'user_group', 'tags': {<Tags.USER: 'user'>, <Tags.CATEGORICAL: 'categorical'>}, 'properties': {'num_buckets': None, 'freq_threshold': 0.0, 'max_size': 0.0, 'start_index': 0.0, 'cat_path': '/workdir/data/categories/categories/unique.user_group.parquet', 'embedding_sizes': {'cardinality': 8.0, 'dimension': 16.0}, 'domain': {'min': 0, 'max': 7, 'name': 'user_group'}}, 'dtype': dtype('int32'), 'is_list': False, 'is_ragged': False}, {'name': 'user_gender', 'tags': {<Tags.USER: 'user'>, <Tags.CATEGORICAL: 'categorical'>}, 'properties': {'num_buckets': None, 'freq_threshold': 0.0, 'max_size': 0.0, 'start_index': 0.0, 'cat_path': '/workdir/data/categories/categories/unique.user_gender.parquet', 'embedding_sizes': {'cardinality': 3.0, 'dimension': 16.0}, 'domain': {'min': 0, 'max': 2, 'name': 'user_gender'}}, 'dtype': dtype('int32'), 'is_list': False, 'is_ragged': False}, {'name': 'user_age', 'tags': {<Tags.USER: 'user'>, <Tags.CATEGORICAL: 'categorical'>}, 'properties': {'num_buckets': None, 'freq_threshold': 0.0, 'max_size': 0.0, 'start_index': 0.0, 'cat_path': '/workdir/data/categories/categories/unique.user_age.parquet', 'embedding_sizes': {'cardinality': 5.0, 'dimension': 16.0}, 'domain': {'min': 0, 'max': 4, 'name': 'user_age'}}, 'dtype': dtype('int32'), 'is_list': False, 'is_ragged': False}, {'name': 'user_consumption_2', 'tags': {<Tags.USER: 'user'>, <Tags.CATEGORICAL: 'categorical'>}, 'properties': {'num_buckets': None, 'freq_threshold': 0.0, 'max_size': 0.0, 'start_index': 0.0, 'cat_path': '/workdir/data/categories/categories/unique.user_consumption_2.parquet', 'embedding_sizes': {'cardinality': 3.0, 'dimension': 16.0}, 'domain': {'min': 0, 'max': 2, 'name': 'user_consumption_2'}}, 'dtype': dtype('int32'), 'is_list': False, 'is_ragged': False}, {'name': 'user_is_occupied', 'tags': {<Tags.USER: 'user'>, <Tags.CATEGORICAL: 'categorical'>}, 'properties': {'num_buckets': None, 'freq_threshold': 0.0, 'max_size': 0.0, 'start_index': 0.0, 'cat_path': '/workdir/data/categories/categories/unique.user_is_occupied.parquet', 'embedding_sizes': {'cardinality': 3.0, 'dimension': 16.0}, 'domain': {'min': 0, 'max': 2, 'name': 'user_is_occupied'}}, 'dtype': dtype('int32'), 'is_list': False, 'is_ragged': False}, {'name': 'user_geography', 'tags': {<Tags.USER: 'user'>, <Tags.CATEGORICAL: 'categorical'>}, 'properties': {'num_buckets': None, 'freq_threshold': 0.0, 'max_size': 0.0, 'start_index': 0.0, 'cat_path': '/workdir/data/categories/categories/unique.user_geography.parquet', 'embedding_sizes': {'cardinality': 4.0, 'dimension': 16.0}, 'domain': {'min': 0, 'max': 3, 'name': 'user_geography'}}, 'dtype': dtype('int32'), 'is_list': False, 'is_ragged': False}, {'name': 'user_intentions', 'tags': {<Tags.USER: 'user'>, <Tags.CATEGORICAL: 'categorical'>}, 'properties': {'num_buckets': None, 'freq_threshold': 0.0, 'max_size': 0.0, 'start_index': 0.0, 'cat_path': '/workdir/data/categories/categories/unique.user_intentions.parquet', 'embedding_sizes': {'cardinality': 752.0, 'dimension': 65.0}, 'domain': {'min': 0, 'max': 751, 'name': 'user_intentions'}}, 'dtype': dtype('int32'), 'is_list': False, 'is_ragged': False}, {'name': 'user_brands', 'tags': {<Tags.USER: 'user'>, <Tags.CATEGORICAL: 'categorical'>}, 'properties': {'num_buckets': None, 'freq_threshold': 0.0, 'max_size': 0.0, 'start_index': 0.0, 'cat_path': '/workdir/data/categories/categories/unique.user_brands.parquet', 'embedding_sizes': {'cardinality': 752.0, 'dimension': 65.0}, 'domain': {'min': 0, 'max': 751, 'name': 'user_brands'}}, 'dtype': dtype('int32'), 'is_list': False, 'is_ragged': False}, {'name': 'user_categories', 'tags': {<Tags.USER: 'user'>, <Tags.CATEGORICAL: 'categorical'>}, 'properties': {'num_buckets': None, 'freq_threshold': 0.0, 'max_size': 0.0, 'start_index': 0.0, 'cat_path': '/workdir/data/categories/categories/unique.user_categories.parquet', 'embedding_sizes': {'cardinality': 752.0, 'dimension': 65.0}, 'domain': {'min': 0, 'max': 751, 'name': 'user_categories'}}, 'dtype': dtype('int32'), 'is_list': False, 'is_ragged': False}]"
      ]
     },
     "execution_count": 10,
     "metadata": {},
     "output_type": "execute_result"
    }
   ],
   "source": [
    "# Inspect the schema!\n",
    "schema"
   ]
  },
  {
   "cell_type": "markdown",
   "id": "3095bd9b",
   "metadata": {
    "pycharm": {
     "name": "#%% md\n"
    }
   },
   "source": [
    "As expected, we shouldn't have any label/target data yet"
   ]
  },
  {
   "cell_type": "code",
   "execution_count": 11,
   "id": "68bf449f",
   "metadata": {
    "pycharm": {
     "name": "#%%\n"
    }
   },
   "outputs": [
    {
     "data": {
      "text/plain": [
       "[]"
      ]
     },
     "execution_count": 11,
     "metadata": {},
     "output_type": "execute_result"
    }
   ],
   "source": [
    "label_names = schema.select_by_tag(Tags.TARGET).column_names\n",
    "label_names"
   ]
  },
  {
   "cell_type": "markdown",
   "id": "994ddb84-fd90-4547-ae58-c8f678d3dcd7",
   "metadata": {},
   "source": [
    "### Designing Retrieval Model Architecture\n",
    "\n",
    "The **Two-Tower** model consists of a **User tower** (where all user features are fed) and an **Item tower** (where all item features are fed).\n",
    "\n",
    "The User tower generates an embedding for the User. Then it computes the positive interaction \"score\" (likelihood of interaction event) using the dot-product between the User embedding and the Item embedding, in addition to sampled \"negative\" Items within a batch.\n",
    "\n",
    "##### About Negative Sampling\n",
    "\n",
    "Many datasets for recommender systems contain implicit feedback with logs of user interactions like clicks, add-to-cart, purchases, music listening events, rather than explicit ratings that reflects user preferences over items. \n",
    "\n",
    "In Merlin Models -- NVIDIA provides some scalable negative sampling algorithms for this Item Retrieval task. In this example, we use the `in-batch` sampling algorithm which uses the items interacted by other users as negatives within the same mini-batch."
   ]
  },
  {
   "cell_type": "code",
   "execution_count": 12,
   "id": "30446249-70e8-46c2-98eb-40a5e358d86e",
   "metadata": {},
   "outputs": [],
   "source": [
    "# Function to create the two tower retrieval model\n",
    "\n",
    "def create_two_tower(tower_dim: int, encoder_dim: int, optimizer: str, k: int, tags) -> mm.TwoTowerModelV2:\n",
    "    # User/Query Tower\n",
    "    user_schema = schema.select_by_tag(tags.USER)\n",
    "    # create user (query) tower input block\n",
    "    user_inputs = mm.InputBlockV2(user_schema)\n",
    "    # create user (query) encoder block\n",
    "    query = mm.Encoder(\n",
    "        user_inputs,\n",
    "        mm.MLPBlock([encoder_dim, tower_dim], no_activation_last_layer=True)\n",
    "    )\n",
    "\n",
    "    # Item/Candidate Tower\n",
    "    item_schema = schema.select_by_tag(tags.ITEM)\n",
    "    # create item (candidate) tower input block\n",
    "    item_inputs = mm.InputBlockV2(item_schema)\n",
    "    # create item (candidate) encoder block\n",
    "    candidate = mm.Encoder(\n",
    "        item_inputs,\n",
    "        mm.MLPBlock([encoder_dim, tower_dim], no_activation_last_layer=True)\n",
    "    )\n",
    "    \n",
    "    # Build Model Class\n",
    "    model = mm.TwoTowerModelV2(query, candidate)\n",
    "    model.compile(\n",
    "        optimizer=optimizer,\n",
    "        run_eagerly=False,\n",
    "        loss=\"categorical_crossentropy\",\n",
    "        metrics=[mm.RecallAt(k), mm.NDCGAt(k)]\n",
    "    )\n",
    "    return model"
   ]
  },
  {
   "cell_type": "markdown",
   "id": "25407870-5e59-4562-8c39-2869a13ac8bd",
   "metadata": {},
   "source": [
    "**Notes:**\n",
    "- `no_activation_last_layer:` when set True, no activation is used for top hidden layer. Learn more [here](https://storage.googleapis.com/pub-tools-public-publication-data/pdf/b9f4e78a8830fe5afcf2f0452862fb3c0d6584ea.pdf).\n",
    "- In the `TwoTowerModelV2` function we did not set `negative_samplers` arg. By default, it uses contrastive learning and `in-batch` negative sampling strategy.\n",
    "- Two metrics are used to judge the quality of the recommendations: **Normalized Discounted Cumulative Gain (NDCG@K)** and **Recall@K**.\n",
    "    - NDCG@K accounts for rank of the relevant item in the recommendation list and is a more fine-grained metric than HR, which only verifies whether the relevant item is among the top-k items.\n",
    "    - Recall (Also known as HitRate@K) when there is only one relevant item in the recommendation list. Recall just verifies whether the relevant item is among the top-k items.\n",
    "- When we set `validation_data=valid` in the `model.fit()`, we compute evaluation metrics on validation set using the negative sampling strategy used for training. "
   ]
  },
  {
   "cell_type": "code",
   "execution_count": 13,
   "id": "1280bb4f",
   "metadata": {
    "pycharm": {
     "name": "#%%\n"
    }
   },
   "outputs": [
    {
     "name": "stdout",
     "output_type": "stream",
     "text": [
      "Epoch 1/2\n",
      "86/86 [==============================] - 11s 58ms/step - loss: 8.2958 - recall_at_10: 0.0271 - ndcg_at_10: 0.0258 - regularization_loss: 0.0000e+00 - loss_batch: 8.2868 - val_loss: 8.2903 - val_recall_at_10: 0.0295 - val_ndcg_at_10: 0.0295 - val_regularization_loss: 0.0000e+00 - val_loss_batch: 7.6540\n",
      "Epoch 2/2\n",
      "86/86 [==============================] - 4s 47ms/step - loss: 8.2953 - recall_at_10: 0.0306 - ndcg_at_10: 0.0305 - regularization_loss: 0.0000e+00 - loss_batch: 8.2863 - val_loss: 8.2908 - val_recall_at_10: 0.0206 - val_ndcg_at_10: 0.0194 - val_regularization_loss: 0.0000e+00 - val_loss_batch: 7.6539\n"
     ]
    },
    {
     "data": {
      "text/plain": [
       "<keras.callbacks.History at 0x7f2abbaf7610>"
      ]
     },
     "execution_count": 13,
     "metadata": {},
     "output_type": "execute_result"
    }
   ],
   "source": [
    "# Initialize model\n",
    "retrieval_model = create_two_tower(\n",
    "    tower_dim=64,\n",
    "    encoder_dim=128,\n",
    "    optimizer=\"adam\",\n",
    "    k=10,\n",
    "    tags=Tags\n",
    ")\n",
    "\n",
    "# Fit model\n",
    "retrieval_model.fit(train_retrieval, validation_data=valid_retrieval, batch_size=4096, epochs=2)"
   ]
  },
  {
   "cell_type": "markdown",
   "id": "423c10c2-ae46-45bf-9623-6214c7570ac8",
   "metadata": {},
   "source": [
    "### Evaluate the model accuracy"
   ]
  },
  {
   "cell_type": "markdown",
   "id": "155af447-97c4-4875-97ad-84e678fd7b40",
   "metadata": {},
   "source": [
    "The validation metric values during training are calculated given the positive and negative scores in each batch, and then averaged over batches per epoch. **That means validation metrics are not computed using the entire item catalog.**\n",
    "\n",
    "To determine the exact accuracy, we need to compute the similarity score between a given query and all possible candidates. Below, by using the `topk_model` we can evaluate the trained retrieval model using the entire item catalog (brute force)."
   ]
  },
  {
   "cell_type": "code",
   "execution_count": 14,
   "id": "d4a15e73-4835-4720-bb64-1d745b3b3f61",
   "metadata": {},
   "outputs": [
    {
     "data": {
      "text/html": [
       "<div>\n",
       "<style scoped>\n",
       "    .dataframe tbody tr th:only-of-type {\n",
       "        vertical-align: middle;\n",
       "    }\n",
       "\n",
       "    .dataframe tbody tr th {\n",
       "        vertical-align: top;\n",
       "    }\n",
       "\n",
       "    .dataframe thead th {\n",
       "        text-align: right;\n",
       "    }\n",
       "</style>\n",
       "<table border=\"1\" class=\"dataframe\">\n",
       "  <thead>\n",
       "    <tr style=\"text-align: right;\">\n",
       "      <th></th>\n",
       "      <th>item_id</th>\n",
       "      <th>item_category</th>\n",
       "      <th>item_shop</th>\n",
       "      <th>item_brand</th>\n",
       "    </tr>\n",
       "  </thead>\n",
       "  <tbody>\n",
       "    <tr>\n",
       "      <th>24</th>\n",
       "      <td>1</td>\n",
       "      <td>1</td>\n",
       "      <td>1</td>\n",
       "      <td>1</td>\n",
       "    </tr>\n",
       "    <tr>\n",
       "      <th>93</th>\n",
       "      <td>2</td>\n",
       "      <td>2</td>\n",
       "      <td>2</td>\n",
       "      <td>2</td>\n",
       "    </tr>\n",
       "    <tr>\n",
       "      <th>11</th>\n",
       "      <td>3</td>\n",
       "      <td>3</td>\n",
       "      <td>3</td>\n",
       "      <td>3</td>\n",
       "    </tr>\n",
       "    <tr>\n",
       "      <th>3</th>\n",
       "      <td>4</td>\n",
       "      <td>4</td>\n",
       "      <td>4</td>\n",
       "      <td>4</td>\n",
       "    </tr>\n",
       "    <tr>\n",
       "      <th>37</th>\n",
       "      <td>5</td>\n",
       "      <td>5</td>\n",
       "      <td>5</td>\n",
       "      <td>5</td>\n",
       "    </tr>\n",
       "  </tbody>\n",
       "</table>\n",
       "</div>"
      ],
      "text/plain": [
       "    item_id  item_category  item_shop  item_brand\n",
       "24        1              1          1           1\n",
       "93        2              2          2           2\n",
       "11        3              3          3           3\n",
       "3         4              4          4           4\n",
       "37        5              5          5           5"
      ]
     },
     "execution_count": 14,
     "metadata": {},
     "output_type": "execute_result"
    }
   ],
   "source": [
    "# Create candidate/item features for evaluation\n",
    "candidate_features = unique_rows_by_features(train_retrieval, Tags.ITEM, Tags.ITEM_ID)\n",
    "\n",
    "# Here's a sneek peek of the item features data\n",
    "candidate_features.head()"
   ]
  },
  {
   "cell_type": "code",
   "execution_count": 15,
   "id": "288bbf45-2afa-4b1a-ae96-a3a4e525de80",
   "metadata": {},
   "outputs": [
    {
     "name": "stderr",
     "output_type": "stream",
     "text": [
      "/usr/local/lib/python3.8/dist-packages/merlin/schema/tags.py:148: UserWarning: Compound tags like Tags.ITEM_ID have been deprecated and will be removed in a future version. Please use the atomic versions of these tags, like [<Tags.ITEM: 'item'>, <Tags.ID: 'id'>].\n",
      "  warnings.warn(\n"
     ]
    }
   ],
   "source": [
    "# Convert model to a top_k_encoder\n",
    "topk_model = retrieval_model.to_top_k_encoder(candidate_features, k=20, batch_size=128)\n",
    "topk_model.compile(run_eagerly=False)"
   ]
  },
  {
   "cell_type": "code",
   "execution_count": 16,
   "id": "2b42eaa0-996e-43e3-a951-fc013e2d0d3d",
   "metadata": {},
   "outputs": [
    {
     "name": "stdout",
     "output_type": "stream",
     "text": [
      "147/147 [==============================] - 3s 13ms/step - loss: 0.4620 - recall_at_10: 0.1104 - mrr_at_10: 0.0386 - ndcg_at_10: 0.0552 - map_at_10: 0.0386 - precision_at_10: 0.0110 - regularization_loss: 0.0000e+00 - loss_batch: 0.4596\n"
     ]
    },
    {
     "data": {
      "text/plain": [
       "{'loss': 0.46201813220977783,\n",
       " 'recall_at_10': 0.11041296273469925,\n",
       " 'mrr_at_10': 0.038629066199064255,\n",
       " 'ndcg_at_10': 0.055212415754795074,\n",
       " 'map_at_10': 0.038629066199064255,\n",
       " 'precision_at_10': 0.01104129757732153,\n",
       " 'regularization_loss': 0.0,\n",
       " 'loss_batch': 0.27507323026657104}"
      ]
     },
     "execution_count": 16,
     "metadata": {},
     "output_type": "execute_result"
    }
   ],
   "source": [
    "# Create data loader for validation data\n",
    "eval_loader = mm.Loader(valid_retrieval, batch_size=1024).map(mm.ToTarget(schema, \"item_id\"))\n",
    "\n",
    "# Evaluation\n",
    "metrics = topk_model.evaluate(eval_loader, return_dict=True)\n",
    "metrics"
   ]
  },
  {
   "cell_type": "markdown",
   "id": "f49037a0-a1c2-4a6f-a89e-e67e0e696445",
   "metadata": {},
   "source": [
    "### Generate top-K recommendations"
   ]
  },
  {
   "cell_type": "markdown",
   "id": "454a1acf-5baf-4f38-8ce4-2c05c6e685cb",
   "metadata": {},
   "source": [
    "Let's generate top-K (k=20 in our example) recommendations for a given batch of 8 samples.\n",
    "- The `to_top_k_encoder()` method uses the item/candidate features dataset to compute and store all item/candidate embeddings in an index.\n",
    "- The forward method of `topk_model` takes as the query/user features as input, and computes the dot product scores between the given query/user embeddings and all the candidates of the top-k index.\n",
    "- Then, it returns the top-k (k=20) item ids with the highest scores."
   ]
  },
  {
   "cell_type": "code",
   "execution_count": 17,
   "id": "96d15826-5e18-4061-8834-c36406455e32",
   "metadata": {},
   "outputs": [
    {
     "data": {
      "text/html": [
       "<div>\n",
       "<style scoped>\n",
       "    .dataframe tbody tr th:only-of-type {\n",
       "        vertical-align: middle;\n",
       "    }\n",
       "\n",
       "    .dataframe tbody tr th {\n",
       "        vertical-align: top;\n",
       "    }\n",
       "\n",
       "    .dataframe thead th {\n",
       "        text-align: right;\n",
       "    }\n",
       "</style>\n",
       "<table border=\"1\" class=\"dataframe\">\n",
       "  <thead>\n",
       "    <tr style=\"text-align: right;\">\n",
       "      <th></th>\n",
       "      <th>user_id</th>\n",
       "      <th>user_shops</th>\n",
       "      <th>user_profile</th>\n",
       "      <th>user_group</th>\n",
       "      <th>user_gender</th>\n",
       "      <th>user_age</th>\n",
       "      <th>user_consumption_2</th>\n",
       "      <th>user_is_occupied</th>\n",
       "      <th>user_geography</th>\n",
       "      <th>user_intentions</th>\n",
       "      <th>user_brands</th>\n",
       "      <th>user_categories</th>\n",
       "    </tr>\n",
       "  </thead>\n",
       "  <tbody>\n",
       "    <tr>\n",
       "      <th>4400</th>\n",
       "      <td>0</td>\n",
       "      <td>0</td>\n",
       "      <td>20</td>\n",
       "      <td>3</td>\n",
       "      <td>1</td>\n",
       "      <td>2</td>\n",
       "      <td>1</td>\n",
       "      <td>1</td>\n",
       "      <td>1</td>\n",
       "      <td>0</td>\n",
       "      <td>0</td>\n",
       "      <td>0</td>\n",
       "    </tr>\n",
       "    <tr>\n",
       "      <th>9</th>\n",
       "      <td>1</td>\n",
       "      <td>1</td>\n",
       "      <td>1</td>\n",
       "      <td>1</td>\n",
       "      <td>1</td>\n",
       "      <td>1</td>\n",
       "      <td>1</td>\n",
       "      <td>1</td>\n",
       "      <td>1</td>\n",
       "      <td>1</td>\n",
       "      <td>1</td>\n",
       "      <td>1</td>\n",
       "    </tr>\n",
       "    <tr>\n",
       "      <th>26</th>\n",
       "      <td>2</td>\n",
       "      <td>2</td>\n",
       "      <td>1</td>\n",
       "      <td>1</td>\n",
       "      <td>1</td>\n",
       "      <td>1</td>\n",
       "      <td>1</td>\n",
       "      <td>1</td>\n",
       "      <td>1</td>\n",
       "      <td>2</td>\n",
       "      <td>2</td>\n",
       "      <td>2</td>\n",
       "    </tr>\n",
       "    <tr>\n",
       "      <th>53</th>\n",
       "      <td>3</td>\n",
       "      <td>3</td>\n",
       "      <td>1</td>\n",
       "      <td>1</td>\n",
       "      <td>1</td>\n",
       "      <td>1</td>\n",
       "      <td>1</td>\n",
       "      <td>1</td>\n",
       "      <td>1</td>\n",
       "      <td>3</td>\n",
       "      <td>3</td>\n",
       "      <td>3</td>\n",
       "    </tr>\n",
       "    <tr>\n",
       "      <th>25</th>\n",
       "      <td>4</td>\n",
       "      <td>4</td>\n",
       "      <td>1</td>\n",
       "      <td>1</td>\n",
       "      <td>1</td>\n",
       "      <td>1</td>\n",
       "      <td>1</td>\n",
       "      <td>1</td>\n",
       "      <td>1</td>\n",
       "      <td>4</td>\n",
       "      <td>4</td>\n",
       "      <td>4</td>\n",
       "    </tr>\n",
       "  </tbody>\n",
       "</table>\n",
       "</div>"
      ],
      "text/plain": [
       "      user_id  user_shops  user_profile  user_group  user_gender  user_age  \\\n",
       "4400        0           0            20           3            1         2   \n",
       "9           1           1             1           1            1         1   \n",
       "26          2           2             1           1            1         1   \n",
       "53          3           3             1           1            1         1   \n",
       "25          4           4             1           1            1         1   \n",
       "\n",
       "      user_consumption_2  user_is_occupied  user_geography  user_intentions  \\\n",
       "4400                   1                 1               1                0   \n",
       "9                      1                 1               1                1   \n",
       "26                     1                 1               1                2   \n",
       "53                     1                 1               1                3   \n",
       "25                     1                 1               1                4   \n",
       "\n",
       "      user_brands  user_categories  \n",
       "4400            0                0  \n",
       "9               1                1  \n",
       "26              2                2  \n",
       "53              3                3  \n",
       "25              4                4  "
      ]
     },
     "execution_count": 17,
     "metadata": {},
     "output_type": "execute_result"
    }
   ],
   "source": [
    "# Create query/user features for evaluation\n",
    "user_features = unique_rows_by_features(valid_retrieval, Tags.USER, Tags.USER_ID)\n",
    "user_features.head()"
   ]
  },
  {
   "cell_type": "code",
   "execution_count": 18,
   "id": "e9e3c032-0084-46c8-b61c-eb7b8595d71b",
   "metadata": {
    "tags": []
   },
   "outputs": [
    {
     "name": "stdout",
     "output_type": "stream",
     "text": [
      "tf.Tensor(\n",
      "[[0]\n",
      " [1]\n",
      " [2]\n",
      " [3]\n",
      " [4]\n",
      " [5]\n",
      " [6]\n",
      " [7]], shape=(8, 1), dtype=int32)\n"
     ]
    }
   ],
   "source": [
    "# Check out one batch of 8 Users\n",
    "loader = mm.Loader(user_features, batch_size=8, shuffle=False)\n",
    "batch = next(iter(loader))\n",
    "print(batch[0]['user_id'])"
   ]
  },
  {
   "cell_type": "markdown",
   "id": "7b7b8048-1a90-4311-8d19-be6e8715fc7f",
   "metadata": {},
   "source": [
    "The recommended top 20 item ids and scores are returned below from the candidate retrieval model for each of the 8 selected users (from the validation set)."
   ]
  },
  {
   "cell_type": "code",
   "execution_count": 19,
   "id": "0e720af4-70cd-40c8-857b-75e127e7d867",
   "metadata": {},
   "outputs": [],
   "source": [
    "scores, reccommended_item_ids = topk_model(batch[0])"
   ]
  },
  {
   "cell_type": "code",
   "execution_count": 20,
   "id": "ed2b07aa-ada9-4f37-a5d2-a4dea5940403",
   "metadata": {},
   "outputs": [
    {
     "data": {
      "text/plain": [
       "<tf.Tensor: shape=(8, 20), dtype=int32, numpy=\n",
       "array([[  9,   8, 133,   1,  31,  12, 399,  28, 407,  41,   3, 377, 169,\n",
       "        437,  10, 265, 328,  13, 220, 235],\n",
       "       [ 46, 150,   6,  49, 248, 121,   5,  41,  40, 736,  17, 149, 357,\n",
       "         93, 183,  13, 434, 293, 103, 199],\n",
       "       [ 49, 150,  46, 736,   6, 357,  17,   5, 248,   7, 121,  93, 119,\n",
       "         13, 670, 183, 622, 149,  40, 224],\n",
       "       [ 11,  49,   4,   6,  14,  38,  40,  19,  41, 138, 154, 271, 149,\n",
       "        377, 432, 736, 475, 352,  31, 353],\n",
       "       [ 53, 227,   2,  10,  51, 252, 188,  98, 114,  11,  79, 164, 260,\n",
       "        372, 628, 217, 141, 400, 465,  29],\n",
       "       [ 41,  28,   4,  12, 158,  90, 199, 297, 286,   1, 335, 378,  49,\n",
       "        419, 674, 328, 358,   3, 212, 679],\n",
       "       [ 41, 199,   9,  28, 437,  31,   8, 204,  13,  84,   1, 172,   5,\n",
       "        475,  39, 297, 235, 476, 250, 185],\n",
       "       [ 20,  46, 119, 541,  49, 150, 231,  13, 283,  41, 367, 144, 351,\n",
       "         36, 161,  86,  16,  28, 206, 405]], dtype=int32)>"
      ]
     },
     "execution_count": 20,
     "metadata": {},
     "output_type": "execute_result"
    }
   ],
   "source": [
    "# Recommended Items for the batch of 8 Users\n",
    "reccommended_item_ids"
   ]
  },
  {
   "cell_type": "code",
   "execution_count": 21,
   "id": "59a74673-73ba-4706-be99-c3037f2bd6ba",
   "metadata": {},
   "outputs": [
    {
     "data": {
      "text/plain": [
       "<tf.Tensor: shape=(8, 20), dtype=float32, numpy=\n",
       "array([[0.04822209, 0.03811773, 0.03137591, 0.02973269, 0.0297016 ,\n",
       "        0.0294863 , 0.02825383, 0.02756989, 0.02693252, 0.02579422,\n",
       "        0.02547731, 0.02464605, 0.02369959, 0.02304306, 0.02284535,\n",
       "        0.02267022, 0.02261037, 0.0224703 , 0.02204175, 0.02201148],\n",
       "       [0.07010886, 0.06604874, 0.0622276 , 0.06199696, 0.05799136,\n",
       "        0.05622398, 0.05363223, 0.05351985, 0.05214779, 0.0504364 ,\n",
       "        0.04894517, 0.0485014 , 0.04741625, 0.04698368, 0.04684058,\n",
       "        0.04681647, 0.04489934, 0.04478962, 0.04435818, 0.04322811],\n",
       "       [0.05997518, 0.05802372, 0.05706425, 0.04934998, 0.04920235,\n",
       "        0.04612496, 0.04592583, 0.0453655 , 0.04535462, 0.04380718,\n",
       "        0.04362945, 0.04173674, 0.04139153, 0.04094845, 0.04082045,\n",
       "        0.03983249, 0.03905755, 0.03840206, 0.03795295, 0.03658341],\n",
       "       [0.05653799, 0.0493288 , 0.03923938, 0.0361588 , 0.03259742,\n",
       "        0.03182421, 0.03178427, 0.02825179, 0.0281584 , 0.02712989,\n",
       "        0.02690288, 0.02682148, 0.02619759, 0.02614046, 0.02561042,\n",
       "        0.02552536, 0.02533843, 0.02481729, 0.02470453, 0.0235796 ],\n",
       "       [0.10904012, 0.089017  , 0.08766594, 0.08656438, 0.08434112,\n",
       "        0.07534351, 0.07417285, 0.07126699, 0.07042356, 0.07004452,\n",
       "        0.069102  , 0.0689683 , 0.06501068, 0.06480231, 0.06399126,\n",
       "        0.062012  , 0.06171327, 0.06068937, 0.06039515, 0.06036257],\n",
       "       [0.08635427, 0.07139436, 0.06123863, 0.0570074 , 0.05581661,\n",
       "        0.0522179 , 0.04991789, 0.04831863, 0.04800625, 0.04702238,\n",
       "        0.04547084, 0.04518273, 0.04474692, 0.04455654, 0.04309371,\n",
       "        0.04216417, 0.04103218, 0.0392363 , 0.03916445, 0.03773368],\n",
       "       [0.06013657, 0.05332731, 0.04516523, 0.04193706, 0.03889639,\n",
       "        0.03736496, 0.0331219 , 0.03242745, 0.03207304, 0.03060235,\n",
       "        0.03010379, 0.02873138, 0.02825055, 0.02782929, 0.02605993,\n",
       "        0.0258774 , 0.02526014, 0.02494121, 0.02476026, 0.0243664 ],\n",
       "       [0.10157297, 0.08568609, 0.08534492, 0.0720868 , 0.06984565,\n",
       "        0.06616823, 0.06594344, 0.06587489, 0.0614179 , 0.06135508,\n",
       "        0.06020717, 0.06010962, 0.05959956, 0.05854082, 0.0584203 ,\n",
       "        0.05762099, 0.05724657, 0.05415488, 0.05411175, 0.05346268]],\n",
       "      dtype=float32)>"
      ]
     },
     "execution_count": 21,
     "metadata": {},
     "output_type": "execute_result"
    }
   ],
   "source": [
    "# Recommendation \"scores\" (higher is better) for each recommended item for the batch of 8 Users\n",
    "scores"
   ]
  },
  {
   "cell_type": "markdown",
   "id": "c4fd2484-38df-4b28-9b5b-961e3e46b29f",
   "metadata": {},
   "source": [
    "At this point - we now have a trained **Candidate Retrieval Model**. Input a **User** and find the topK most likely **Items** to be interacted with. These will serve as inputs to the next model in the pipeline..."
   ]
  },
  {
   "cell_type": "markdown",
   "id": "5ac898a1-ebbf-4771-8f4d-fc8b6f47f587",
   "metadata": {},
   "source": [
    "## Ranking Model\n",
    "\n",
    "We will use a Deep Learning Recommendation Model [(DLRM)](https://arxiv.org/abs/1906.00091) architecture (published by Facebook/Meta in 2019) to score and rank User/Item pairs. The model was introduced as a personalization deep learning model that uses embeddings to process sparse features that represent categorical data and a multilayer perceptron (MLP) to process dense features, then interacts these features explicitly using the statistical techniques proposed in [here](https://ieeexplore.ieee.org/stamp/stamp.jsp?tp=&arnumber=5694074). To learn more about DLRM architetcture please visit [this notebook](https://github.com/NVIDIA-Merlin/models/blob/main/examples/04-Exporting-ranking-models.ipynb) in the Merlin Models GH repo.\n"
   ]
  },
  {
   "cell_type": "markdown",
   "id": "d6559bcc-de8c-48e8-b709-2f6ed2bb25d0",
   "metadata": {},
   "source": [
    "### Feature Engineering for DLRM"
   ]
  },
  {
   "cell_type": "code",
   "execution_count": 22,
   "id": "6b1667ea-73dc-4dee-bafc-bf93af122996",
   "metadata": {},
   "outputs": [
    {
     "name": "stderr",
     "output_type": "stream",
     "text": [
      "/usr/local/lib/python3.8/dist-packages/merlin/schema/tags.py:148: UserWarning: Compound tags like Tags.USER_ID have been deprecated and will be removed in a future version. Please use the atomic versions of these tags, like [<Tags.USER: 'user'>, <Tags.ID: 'id'>].\n",
      "  warnings.warn(\n",
      "/usr/local/lib/python3.8/dist-packages/merlin/schema/tags.py:148: UserWarning: Compound tags like Tags.ITEM_ID have been deprecated and will be removed in a future version. Please use the atomic versions of these tags, like [<Tags.ITEM: 'item'>, <Tags.ID: 'id'>].\n",
      "  warnings.warn(\n"
     ]
    }
   ],
   "source": [
    "# Define train and valid dataset objects\n",
    "train_rank = Dataset(os.path.join(OUTPUT_DATA_DIR, \"train\", \"*.parquet\"), part_size=\"500MB\")\n",
    "valid_rank = Dataset(os.path.join(OUTPUT_DATA_DIR, \"valid\", \"*.parquet\"), part_size=\"500MB\")\n",
    "\n",
    "# Define schema object\n",
    "schema = train_rank.schema.without(['user_id_raw', 'item_id_raw'])"
   ]
  },
  {
   "cell_type": "code",
   "execution_count": 23,
   "id": "782fc973-47e4-40ef-89af-57d3bcd28f67",
   "metadata": {},
   "outputs": [
    {
     "data": {
      "text/html": [
       "<div>\n",
       "<style scoped>\n",
       "    .dataframe tbody tr th:only-of-type {\n",
       "        vertical-align: middle;\n",
       "    }\n",
       "\n",
       "    .dataframe tbody tr th {\n",
       "        vertical-align: top;\n",
       "    }\n",
       "\n",
       "    .dataframe thead th {\n",
       "        text-align: right;\n",
       "    }\n",
       "</style>\n",
       "<table border=\"1\" class=\"dataframe\">\n",
       "  <thead>\n",
       "    <tr style=\"text-align: right;\">\n",
       "      <th></th>\n",
       "      <th>name</th>\n",
       "      <th>tags</th>\n",
       "      <th>dtype</th>\n",
       "      <th>is_list</th>\n",
       "      <th>is_ragged</th>\n",
       "      <th>properties.num_buckets</th>\n",
       "      <th>properties.freq_threshold</th>\n",
       "      <th>properties.max_size</th>\n",
       "      <th>properties.start_index</th>\n",
       "      <th>properties.cat_path</th>\n",
       "      <th>properties.embedding_sizes.cardinality</th>\n",
       "      <th>properties.embedding_sizes.dimension</th>\n",
       "      <th>properties.domain.min</th>\n",
       "      <th>properties.domain.max</th>\n",
       "      <th>properties.domain.name</th>\n",
       "    </tr>\n",
       "  </thead>\n",
       "  <tbody>\n",
       "    <tr>\n",
       "      <th>0</th>\n",
       "      <td>user_id</td>\n",
       "      <td>(Tags.USER, Tags.ID, Tags.USER_ID, Tags.CATEGO...</td>\n",
       "      <td>int32</td>\n",
       "      <td>False</td>\n",
       "      <td>False</td>\n",
       "      <td>NaN</td>\n",
       "      <td>0.0</td>\n",
       "      <td>0.0</td>\n",
       "      <td>0.0</td>\n",
       "      <td>/workdir/data/categories/categories/unique.use...</td>\n",
       "      <td>752.0</td>\n",
       "      <td>65.0</td>\n",
       "      <td>0</td>\n",
       "      <td>751</td>\n",
       "      <td>user_id</td>\n",
       "    </tr>\n",
       "    <tr>\n",
       "      <th>1</th>\n",
       "      <td>item_id</td>\n",
       "      <td>(Tags.ID, Tags.ITEM, Tags.ITEM_ID, Tags.CATEGO...</td>\n",
       "      <td>int32</td>\n",
       "      <td>False</td>\n",
       "      <td>False</td>\n",
       "      <td>NaN</td>\n",
       "      <td>0.0</td>\n",
       "      <td>0.0</td>\n",
       "      <td>0.0</td>\n",
       "      <td>/workdir/data/categories/categories/unique.ite...</td>\n",
       "      <td>759.0</td>\n",
       "      <td>66.0</td>\n",
       "      <td>0</td>\n",
       "      <td>758</td>\n",
       "      <td>item_id</td>\n",
       "    </tr>\n",
       "    <tr>\n",
       "      <th>2</th>\n",
       "      <td>item_category</td>\n",
       "      <td>(Tags.ITEM, Tags.CATEGORICAL)</td>\n",
       "      <td>int32</td>\n",
       "      <td>False</td>\n",
       "      <td>False</td>\n",
       "      <td>NaN</td>\n",
       "      <td>0.0</td>\n",
       "      <td>0.0</td>\n",
       "      <td>0.0</td>\n",
       "      <td>/workdir/data/categories/categories/unique.ite...</td>\n",
       "      <td>759.0</td>\n",
       "      <td>66.0</td>\n",
       "      <td>0</td>\n",
       "      <td>758</td>\n",
       "      <td>item_category</td>\n",
       "    </tr>\n",
       "    <tr>\n",
       "      <th>3</th>\n",
       "      <td>item_shop</td>\n",
       "      <td>(Tags.ITEM, Tags.CATEGORICAL)</td>\n",
       "      <td>int32</td>\n",
       "      <td>False</td>\n",
       "      <td>False</td>\n",
       "      <td>NaN</td>\n",
       "      <td>0.0</td>\n",
       "      <td>0.0</td>\n",
       "      <td>0.0</td>\n",
       "      <td>/workdir/data/categories/categories/unique.ite...</td>\n",
       "      <td>759.0</td>\n",
       "      <td>66.0</td>\n",
       "      <td>0</td>\n",
       "      <td>758</td>\n",
       "      <td>item_shop</td>\n",
       "    </tr>\n",
       "    <tr>\n",
       "      <th>4</th>\n",
       "      <td>item_brand</td>\n",
       "      <td>(Tags.ITEM, Tags.CATEGORICAL)</td>\n",
       "      <td>int32</td>\n",
       "      <td>False</td>\n",
       "      <td>False</td>\n",
       "      <td>NaN</td>\n",
       "      <td>0.0</td>\n",
       "      <td>0.0</td>\n",
       "      <td>0.0</td>\n",
       "      <td>/workdir/data/categories/categories/unique.ite...</td>\n",
       "      <td>759.0</td>\n",
       "      <td>66.0</td>\n",
       "      <td>0</td>\n",
       "      <td>758</td>\n",
       "      <td>item_brand</td>\n",
       "    </tr>\n",
       "    <tr>\n",
       "      <th>5</th>\n",
       "      <td>user_shops</td>\n",
       "      <td>(Tags.USER, Tags.CATEGORICAL)</td>\n",
       "      <td>int32</td>\n",
       "      <td>False</td>\n",
       "      <td>False</td>\n",
       "      <td>NaN</td>\n",
       "      <td>0.0</td>\n",
       "      <td>0.0</td>\n",
       "      <td>0.0</td>\n",
       "      <td>/workdir/data/categories/categories/unique.use...</td>\n",
       "      <td>752.0</td>\n",
       "      <td>65.0</td>\n",
       "      <td>0</td>\n",
       "      <td>751</td>\n",
       "      <td>user_shops</td>\n",
       "    </tr>\n",
       "    <tr>\n",
       "      <th>6</th>\n",
       "      <td>user_profile</td>\n",
       "      <td>(Tags.USER, Tags.CATEGORICAL)</td>\n",
       "      <td>int32</td>\n",
       "      <td>False</td>\n",
       "      <td>False</td>\n",
       "      <td>NaN</td>\n",
       "      <td>0.0</td>\n",
       "      <td>0.0</td>\n",
       "      <td>0.0</td>\n",
       "      <td>/workdir/data/categories/categories/unique.use...</td>\n",
       "      <td>49.0</td>\n",
       "      <td>16.0</td>\n",
       "      <td>0</td>\n",
       "      <td>48</td>\n",
       "      <td>user_profile</td>\n",
       "    </tr>\n",
       "    <tr>\n",
       "      <th>7</th>\n",
       "      <td>user_group</td>\n",
       "      <td>(Tags.USER, Tags.CATEGORICAL)</td>\n",
       "      <td>int32</td>\n",
       "      <td>False</td>\n",
       "      <td>False</td>\n",
       "      <td>NaN</td>\n",
       "      <td>0.0</td>\n",
       "      <td>0.0</td>\n",
       "      <td>0.0</td>\n",
       "      <td>/workdir/data/categories/categories/unique.use...</td>\n",
       "      <td>8.0</td>\n",
       "      <td>16.0</td>\n",
       "      <td>0</td>\n",
       "      <td>7</td>\n",
       "      <td>user_group</td>\n",
       "    </tr>\n",
       "    <tr>\n",
       "      <th>8</th>\n",
       "      <td>user_gender</td>\n",
       "      <td>(Tags.USER, Tags.CATEGORICAL)</td>\n",
       "      <td>int32</td>\n",
       "      <td>False</td>\n",
       "      <td>False</td>\n",
       "      <td>NaN</td>\n",
       "      <td>0.0</td>\n",
       "      <td>0.0</td>\n",
       "      <td>0.0</td>\n",
       "      <td>/workdir/data/categories/categories/unique.use...</td>\n",
       "      <td>3.0</td>\n",
       "      <td>16.0</td>\n",
       "      <td>0</td>\n",
       "      <td>2</td>\n",
       "      <td>user_gender</td>\n",
       "    </tr>\n",
       "    <tr>\n",
       "      <th>9</th>\n",
       "      <td>user_age</td>\n",
       "      <td>(Tags.USER, Tags.CATEGORICAL)</td>\n",
       "      <td>int32</td>\n",
       "      <td>False</td>\n",
       "      <td>False</td>\n",
       "      <td>NaN</td>\n",
       "      <td>0.0</td>\n",
       "      <td>0.0</td>\n",
       "      <td>0.0</td>\n",
       "      <td>/workdir/data/categories/categories/unique.use...</td>\n",
       "      <td>5.0</td>\n",
       "      <td>16.0</td>\n",
       "      <td>0</td>\n",
       "      <td>4</td>\n",
       "      <td>user_age</td>\n",
       "    </tr>\n",
       "    <tr>\n",
       "      <th>10</th>\n",
       "      <td>user_consumption_2</td>\n",
       "      <td>(Tags.USER, Tags.CATEGORICAL)</td>\n",
       "      <td>int32</td>\n",
       "      <td>False</td>\n",
       "      <td>False</td>\n",
       "      <td>NaN</td>\n",
       "      <td>0.0</td>\n",
       "      <td>0.0</td>\n",
       "      <td>0.0</td>\n",
       "      <td>/workdir/data/categories/categories/unique.use...</td>\n",
       "      <td>3.0</td>\n",
       "      <td>16.0</td>\n",
       "      <td>0</td>\n",
       "      <td>2</td>\n",
       "      <td>user_consumption_2</td>\n",
       "    </tr>\n",
       "    <tr>\n",
       "      <th>11</th>\n",
       "      <td>user_is_occupied</td>\n",
       "      <td>(Tags.USER, Tags.CATEGORICAL)</td>\n",
       "      <td>int32</td>\n",
       "      <td>False</td>\n",
       "      <td>False</td>\n",
       "      <td>NaN</td>\n",
       "      <td>0.0</td>\n",
       "      <td>0.0</td>\n",
       "      <td>0.0</td>\n",
       "      <td>/workdir/data/categories/categories/unique.use...</td>\n",
       "      <td>3.0</td>\n",
       "      <td>16.0</td>\n",
       "      <td>0</td>\n",
       "      <td>2</td>\n",
       "      <td>user_is_occupied</td>\n",
       "    </tr>\n",
       "    <tr>\n",
       "      <th>12</th>\n",
       "      <td>user_geography</td>\n",
       "      <td>(Tags.USER, Tags.CATEGORICAL)</td>\n",
       "      <td>int32</td>\n",
       "      <td>False</td>\n",
       "      <td>False</td>\n",
       "      <td>NaN</td>\n",
       "      <td>0.0</td>\n",
       "      <td>0.0</td>\n",
       "      <td>0.0</td>\n",
       "      <td>/workdir/data/categories/categories/unique.use...</td>\n",
       "      <td>4.0</td>\n",
       "      <td>16.0</td>\n",
       "      <td>0</td>\n",
       "      <td>3</td>\n",
       "      <td>user_geography</td>\n",
       "    </tr>\n",
       "    <tr>\n",
       "      <th>13</th>\n",
       "      <td>user_intentions</td>\n",
       "      <td>(Tags.USER, Tags.CATEGORICAL)</td>\n",
       "      <td>int32</td>\n",
       "      <td>False</td>\n",
       "      <td>False</td>\n",
       "      <td>NaN</td>\n",
       "      <td>0.0</td>\n",
       "      <td>0.0</td>\n",
       "      <td>0.0</td>\n",
       "      <td>/workdir/data/categories/categories/unique.use...</td>\n",
       "      <td>752.0</td>\n",
       "      <td>65.0</td>\n",
       "      <td>0</td>\n",
       "      <td>751</td>\n",
       "      <td>user_intentions</td>\n",
       "    </tr>\n",
       "    <tr>\n",
       "      <th>14</th>\n",
       "      <td>user_brands</td>\n",
       "      <td>(Tags.USER, Tags.CATEGORICAL)</td>\n",
       "      <td>int32</td>\n",
       "      <td>False</td>\n",
       "      <td>False</td>\n",
       "      <td>NaN</td>\n",
       "      <td>0.0</td>\n",
       "      <td>0.0</td>\n",
       "      <td>0.0</td>\n",
       "      <td>/workdir/data/categories/categories/unique.use...</td>\n",
       "      <td>752.0</td>\n",
       "      <td>65.0</td>\n",
       "      <td>0</td>\n",
       "      <td>751</td>\n",
       "      <td>user_brands</td>\n",
       "    </tr>\n",
       "    <tr>\n",
       "      <th>15</th>\n",
       "      <td>user_categories</td>\n",
       "      <td>(Tags.USER, Tags.CATEGORICAL)</td>\n",
       "      <td>int32</td>\n",
       "      <td>False</td>\n",
       "      <td>False</td>\n",
       "      <td>NaN</td>\n",
       "      <td>0.0</td>\n",
       "      <td>0.0</td>\n",
       "      <td>0.0</td>\n",
       "      <td>/workdir/data/categories/categories/unique.use...</td>\n",
       "      <td>752.0</td>\n",
       "      <td>65.0</td>\n",
       "      <td>0</td>\n",
       "      <td>751</td>\n",
       "      <td>user_categories</td>\n",
       "    </tr>\n",
       "    <tr>\n",
       "      <th>16</th>\n",
       "      <td>click</td>\n",
       "      <td>(Tags.BINARY_CLASSIFICATION, Tags.TARGET)</td>\n",
       "      <td>int64</td>\n",
       "      <td>False</td>\n",
       "      <td>False</td>\n",
       "      <td>NaN</td>\n",
       "      <td>NaN</td>\n",
       "      <td>NaN</td>\n",
       "      <td>NaN</td>\n",
       "      <td>NaN</td>\n",
       "      <td>NaN</td>\n",
       "      <td>NaN</td>\n",
       "      <td>0</td>\n",
       "      <td>2</td>\n",
       "      <td>click</td>\n",
       "    </tr>\n",
       "  </tbody>\n",
       "</table>\n",
       "</div>"
      ],
      "text/plain": [
       "[{'name': 'user_id', 'tags': {<Tags.USER: 'user'>, <Tags.ID: 'id'>, <Tags.USER_ID: 'user_id'>, <Tags.CATEGORICAL: 'categorical'>}, 'properties': {'num_buckets': None, 'freq_threshold': 0.0, 'max_size': 0.0, 'start_index': 0.0, 'cat_path': '/workdir/data/categories/categories/unique.user_id.parquet', 'embedding_sizes': {'cardinality': 752.0, 'dimension': 65.0}, 'domain': {'min': 0, 'max': 751, 'name': 'user_id'}}, 'dtype': dtype('int32'), 'is_list': False, 'is_ragged': False}, {'name': 'item_id', 'tags': {<Tags.ID: 'id'>, <Tags.ITEM: 'item'>, <Tags.ITEM_ID: 'item_id'>, <Tags.CATEGORICAL: 'categorical'>}, 'properties': {'num_buckets': None, 'freq_threshold': 0.0, 'max_size': 0.0, 'start_index': 0.0, 'cat_path': '/workdir/data/categories/categories/unique.item_id.parquet', 'embedding_sizes': {'cardinality': 759.0, 'dimension': 66.0}, 'domain': {'min': 0, 'max': 758, 'name': 'item_id'}}, 'dtype': dtype('int32'), 'is_list': False, 'is_ragged': False}, {'name': 'item_category', 'tags': {<Tags.ITEM: 'item'>, <Tags.CATEGORICAL: 'categorical'>}, 'properties': {'num_buckets': None, 'freq_threshold': 0.0, 'max_size': 0.0, 'start_index': 0.0, 'cat_path': '/workdir/data/categories/categories/unique.item_category.parquet', 'embedding_sizes': {'cardinality': 759.0, 'dimension': 66.0}, 'domain': {'min': 0, 'max': 758, 'name': 'item_category'}}, 'dtype': dtype('int32'), 'is_list': False, 'is_ragged': False}, {'name': 'item_shop', 'tags': {<Tags.ITEM: 'item'>, <Tags.CATEGORICAL: 'categorical'>}, 'properties': {'num_buckets': None, 'freq_threshold': 0.0, 'max_size': 0.0, 'start_index': 0.0, 'cat_path': '/workdir/data/categories/categories/unique.item_shop.parquet', 'embedding_sizes': {'cardinality': 759.0, 'dimension': 66.0}, 'domain': {'min': 0, 'max': 758, 'name': 'item_shop'}}, 'dtype': dtype('int32'), 'is_list': False, 'is_ragged': False}, {'name': 'item_brand', 'tags': {<Tags.ITEM: 'item'>, <Tags.CATEGORICAL: 'categorical'>}, 'properties': {'num_buckets': None, 'freq_threshold': 0.0, 'max_size': 0.0, 'start_index': 0.0, 'cat_path': '/workdir/data/categories/categories/unique.item_brand.parquet', 'embedding_sizes': {'cardinality': 759.0, 'dimension': 66.0}, 'domain': {'min': 0, 'max': 758, 'name': 'item_brand'}}, 'dtype': dtype('int32'), 'is_list': False, 'is_ragged': False}, {'name': 'user_shops', 'tags': {<Tags.USER: 'user'>, <Tags.CATEGORICAL: 'categorical'>}, 'properties': {'num_buckets': None, 'freq_threshold': 0.0, 'max_size': 0.0, 'start_index': 0.0, 'cat_path': '/workdir/data/categories/categories/unique.user_shops.parquet', 'embedding_sizes': {'cardinality': 752.0, 'dimension': 65.0}, 'domain': {'min': 0, 'max': 751, 'name': 'user_shops'}}, 'dtype': dtype('int32'), 'is_list': False, 'is_ragged': False}, {'name': 'user_profile', 'tags': {<Tags.USER: 'user'>, <Tags.CATEGORICAL: 'categorical'>}, 'properties': {'num_buckets': None, 'freq_threshold': 0.0, 'max_size': 0.0, 'start_index': 0.0, 'cat_path': '/workdir/data/categories/categories/unique.user_profile.parquet', 'embedding_sizes': {'cardinality': 49.0, 'dimension': 16.0}, 'domain': {'min': 0, 'max': 48, 'name': 'user_profile'}}, 'dtype': dtype('int32'), 'is_list': False, 'is_ragged': False}, {'name': 'user_group', 'tags': {<Tags.USER: 'user'>, <Tags.CATEGORICAL: 'categorical'>}, 'properties': {'num_buckets': None, 'freq_threshold': 0.0, 'max_size': 0.0, 'start_index': 0.0, 'cat_path': '/workdir/data/categories/categories/unique.user_group.parquet', 'embedding_sizes': {'cardinality': 8.0, 'dimension': 16.0}, 'domain': {'min': 0, 'max': 7, 'name': 'user_group'}}, 'dtype': dtype('int32'), 'is_list': False, 'is_ragged': False}, {'name': 'user_gender', 'tags': {<Tags.USER: 'user'>, <Tags.CATEGORICAL: 'categorical'>}, 'properties': {'num_buckets': None, 'freq_threshold': 0.0, 'max_size': 0.0, 'start_index': 0.0, 'cat_path': '/workdir/data/categories/categories/unique.user_gender.parquet', 'embedding_sizes': {'cardinality': 3.0, 'dimension': 16.0}, 'domain': {'min': 0, 'max': 2, 'name': 'user_gender'}}, 'dtype': dtype('int32'), 'is_list': False, 'is_ragged': False}, {'name': 'user_age', 'tags': {<Tags.USER: 'user'>, <Tags.CATEGORICAL: 'categorical'>}, 'properties': {'num_buckets': None, 'freq_threshold': 0.0, 'max_size': 0.0, 'start_index': 0.0, 'cat_path': '/workdir/data/categories/categories/unique.user_age.parquet', 'embedding_sizes': {'cardinality': 5.0, 'dimension': 16.0}, 'domain': {'min': 0, 'max': 4, 'name': 'user_age'}}, 'dtype': dtype('int32'), 'is_list': False, 'is_ragged': False}, {'name': 'user_consumption_2', 'tags': {<Tags.USER: 'user'>, <Tags.CATEGORICAL: 'categorical'>}, 'properties': {'num_buckets': None, 'freq_threshold': 0.0, 'max_size': 0.0, 'start_index': 0.0, 'cat_path': '/workdir/data/categories/categories/unique.user_consumption_2.parquet', 'embedding_sizes': {'cardinality': 3.0, 'dimension': 16.0}, 'domain': {'min': 0, 'max': 2, 'name': 'user_consumption_2'}}, 'dtype': dtype('int32'), 'is_list': False, 'is_ragged': False}, {'name': 'user_is_occupied', 'tags': {<Tags.USER: 'user'>, <Tags.CATEGORICAL: 'categorical'>}, 'properties': {'num_buckets': None, 'freq_threshold': 0.0, 'max_size': 0.0, 'start_index': 0.0, 'cat_path': '/workdir/data/categories/categories/unique.user_is_occupied.parquet', 'embedding_sizes': {'cardinality': 3.0, 'dimension': 16.0}, 'domain': {'min': 0, 'max': 2, 'name': 'user_is_occupied'}}, 'dtype': dtype('int32'), 'is_list': False, 'is_ragged': False}, {'name': 'user_geography', 'tags': {<Tags.USER: 'user'>, <Tags.CATEGORICAL: 'categorical'>}, 'properties': {'num_buckets': None, 'freq_threshold': 0.0, 'max_size': 0.0, 'start_index': 0.0, 'cat_path': '/workdir/data/categories/categories/unique.user_geography.parquet', 'embedding_sizes': {'cardinality': 4.0, 'dimension': 16.0}, 'domain': {'min': 0, 'max': 3, 'name': 'user_geography'}}, 'dtype': dtype('int32'), 'is_list': False, 'is_ragged': False}, {'name': 'user_intentions', 'tags': {<Tags.USER: 'user'>, <Tags.CATEGORICAL: 'categorical'>}, 'properties': {'num_buckets': None, 'freq_threshold': 0.0, 'max_size': 0.0, 'start_index': 0.0, 'cat_path': '/workdir/data/categories/categories/unique.user_intentions.parquet', 'embedding_sizes': {'cardinality': 752.0, 'dimension': 65.0}, 'domain': {'min': 0, 'max': 751, 'name': 'user_intentions'}}, 'dtype': dtype('int32'), 'is_list': False, 'is_ragged': False}, {'name': 'user_brands', 'tags': {<Tags.USER: 'user'>, <Tags.CATEGORICAL: 'categorical'>}, 'properties': {'num_buckets': None, 'freq_threshold': 0.0, 'max_size': 0.0, 'start_index': 0.0, 'cat_path': '/workdir/data/categories/categories/unique.user_brands.parquet', 'embedding_sizes': {'cardinality': 752.0, 'dimension': 65.0}, 'domain': {'min': 0, 'max': 751, 'name': 'user_brands'}}, 'dtype': dtype('int32'), 'is_list': False, 'is_ragged': False}, {'name': 'user_categories', 'tags': {<Tags.USER: 'user'>, <Tags.CATEGORICAL: 'categorical'>}, 'properties': {'num_buckets': None, 'freq_threshold': 0.0, 'max_size': 0.0, 'start_index': 0.0, 'cat_path': '/workdir/data/categories/categories/unique.user_categories.parquet', 'embedding_sizes': {'cardinality': 752.0, 'dimension': 65.0}, 'domain': {'min': 0, 'max': 751, 'name': 'user_categories'}}, 'dtype': dtype('int32'), 'is_list': False, 'is_ragged': False}, {'name': 'click', 'tags': {<Tags.BINARY_CLASSIFICATION: 'binary_classification'>, <Tags.TARGET: 'target'>}, 'properties': {'domain': {'min': 0, 'max': 2, 'name': 'click'}}, 'dtype': dtype('int64'), 'is_list': False, 'is_ragged': False}]"
      ]
     },
     "execution_count": 23,
     "metadata": {},
     "output_type": "execute_result"
    }
   ],
   "source": [
    "# Inspect schema - DLRM takes all of these features as input!\n",
    "schema"
   ]
  },
  {
   "cell_type": "code",
   "execution_count": 24,
   "id": "6fbf24bf-faf9-44c8-95f7-36554172346c",
   "metadata": {},
   "outputs": [
    {
     "data": {
      "text/plain": [
       "'click'"
      ]
     },
     "execution_count": 24,
     "metadata": {},
     "output_type": "execute_result"
    }
   ],
   "source": [
    "# Target column here is \"click\" (binary classification)\n",
    "target_column = schema.select_by_tag(Tags.TARGET).column_names[0]\n",
    "target_column"
   ]
  },
  {
   "cell_type": "markdown",
   "id": "9a4b9bd9-3f7e-4bbf-baa7-f39453b2dbbb",
   "metadata": {},
   "source": [
    "### Building DLRM"
   ]
  },
  {
   "cell_type": "code",
   "execution_count": 25,
   "id": "fc3fe4bc-54e4-4b98-b5f2-39e14c328854",
   "metadata": {},
   "outputs": [],
   "source": [
    "def create_dlrm(optimizer: str, schema, target_column: str, embedding_dim: int):\n",
    "    model = mm.DLRMModel(\n",
    "        schema,\n",
    "        embedding_dim=embedding_dim,\n",
    "        bottom_block=mm.MLPBlock([128, 64]),\n",
    "        top_block=mm.MLPBlock([128, 64, 32]),\n",
    "        prediction_tasks=mm.BinaryClassificationTask(target_column),\n",
    "    )\n",
    "    model.compile(optimizer=optimizer, run_eagerly=False, metrics=[tf.keras.metrics.AUC()])\n",
    "    return model\n"
   ]
  },
  {
   "cell_type": "code",
   "execution_count": 26,
   "id": "37756986-80a7-41ff-bb61-d275139dced7",
   "metadata": {},
   "outputs": [
    {
     "name": "stdout",
     "output_type": "stream",
     "text": [
      "Epoch 1/3\n",
      "43/43 [==============================] - 5s 40ms/step - loss: 0.6932 - auc: 0.4999 - regularization_loss: 0.0000e+00 - loss_batch: 0.6932 - val_loss: 0.6931 - val_auc: 0.5000 - val_regularization_loss: 0.0000e+00 - val_loss_batch: 0.6932\n",
      "Epoch 2/3\n",
      "43/43 [==============================] - 1s 23ms/step - loss: 0.6931 - auc: 0.5031 - regularization_loss: 0.0000e+00 - loss_batch: 0.6931 - val_loss: 0.6932 - val_auc: 0.5008 - val_regularization_loss: 0.0000e+00 - val_loss_batch: 0.6932\n",
      "Epoch 3/3\n",
      "43/43 [==============================] - 1s 22ms/step - loss: 0.6928 - auc: 0.5144 - regularization_loss: 0.0000e+00 - loss_batch: 0.6928 - val_loss: 0.6936 - val_auc: 0.5004 - val_regularization_loss: 0.0000e+00 - val_loss_batch: 0.6936\n"
     ]
    },
    {
     "data": {
      "text/plain": [
       "<keras.callbacks.History at 0x7f2a98581c40>"
      ]
     },
     "execution_count": 26,
     "metadata": {},
     "output_type": "execute_result"
    }
   ],
   "source": [
    "dlrm = create_dlrm(\n",
    "    optimizer=\"adam\",\n",
    "    schema=schema,\n",
    "    target_column=target_column,\n",
    "    embedding_dim=64\n",
    ")\n",
    "\n",
    "dlrm.fit(train_rank, validation_data=valid_rank, batch_size=16 * 1024, epochs=3)"
   ]
  },
  {
   "cell_type": "code",
   "execution_count": 27,
   "id": "46cdbd5a-ea3d-4523-99cb-a22bc92c4dde",
   "metadata": {
    "tags": []
   },
   "outputs": [
    {
     "name": "stdout",
     "output_type": "stream",
     "text": [
      "tf.Tensor(\n",
      "[[ 7]\n",
      " [33]\n",
      " [51]\n",
      " [19]\n",
      " [25]\n",
      " [13]\n",
      " [38]\n",
      " [51]], shape=(8, 1), dtype=int32)\n"
     ]
    }
   ],
   "source": [
    "# Check out one batch of users\n",
    "loader = mm.Loader(valid_rank, batch_size=8, shuffle=False)\n",
    "batch = next(iter(loader))\n",
    "print(batch[0]['user_id'])"
   ]
  },
  {
   "cell_type": "code",
   "execution_count": 28,
   "id": "f768e0ec-8770-4471-bcad-fde461300988",
   "metadata": {},
   "outputs": [
    {
     "data": {
      "text/plain": [
       "<tf.Tensor: shape=(8, 1), dtype=float32, numpy=\n",
       "array([[0.5076402 ],\n",
       "       [0.4976217 ],\n",
       "       [0.51428837],\n",
       "       [0.50732696],\n",
       "       [0.5092731 ],\n",
       "       [0.51470715],\n",
       "       [0.5204432 ],\n",
       "       [0.5047823 ]], dtype=float32)>"
      ]
     },
     "execution_count": 28,
     "metadata": {},
     "output_type": "execute_result"
    }
   ],
   "source": [
    "# Test the DLRM model I/O with the user batch\n",
    "dlrm(batch[0])"
   ]
  },
  {
   "cell_type": "markdown",
   "id": "d811ff92-49f5-481b-a4b1-513edbf80c51",
   "metadata": {},
   "source": [
    "### Test the entire pipeline\n",
    "\n",
    "So now that we have a **Candidate Retrieval Model** and a **Ranking Model** (DLRM) we can test the end to end flow locally. In order to do this live, like in the next multi-stage section, you need a **Feature Store** (Redis/Feast), **ANN Index** (Redis), and means to host/serve the entire DAG of operations (Triton).\n",
    "\n",
    "*Below is a very brute force approach for a single batch of users.*"
   ]
  },
  {
   "cell_type": "code",
   "execution_count": 29,
   "id": "ac6c095b-0e8d-4f06-b4aa-5bceeb2511cd",
   "metadata": {
    "tags": []
   },
   "outputs": [],
   "source": [
    "# Test full pipeline\n",
    "import numpy as np\n",
    "\n",
    "# Reload Dataset\n",
    "train_retrieval = Dataset(os.path.join(OUTPUT_RETRIEVAL_DATA_DIR, \"train\", \"*.parquet\"), part_size=\"500MB\")\n",
    "schema = train_retrieval.schema.select_by_tag([Tags.ITEM_ID, Tags.USER_ID, Tags.ITEM, Tags.USER]).without(['click'])\n",
    "train_retrieval.schema = schema\n",
    "\n",
    "# User and Item Feature \"Stores\"\n",
    "item_fs = unique_rows_by_features(train_retrieval, Tags.ITEM, Tags.ITEM_ID).to_ddf().compute()\n",
    "user_fs = unique_rows_by_features(train_retrieval, Tags.USER, Tags.USER_ID).to_ddf().compute()"
   ]
  },
  {
   "cell_type": "code",
   "execution_count": 30,
   "id": "99ddc0f2-3e9d-41cc-9793-4f93a11f5e17",
   "metadata": {
    "tags": []
   },
   "outputs": [
    {
     "data": {
      "text/plain": [
       "<tf.Tensor: shape=(8, 1), dtype=int32, numpy=\n",
       "array([[1],\n",
       "       [2],\n",
       "       [3],\n",
       "       [4],\n",
       "       [5],\n",
       "       [6],\n",
       "       [7],\n",
       "       [8]], dtype=int32)>"
      ]
     },
     "execution_count": 30,
     "metadata": {},
     "output_type": "execute_result"
    }
   ],
   "source": [
    "# User batch loader\n",
    "user_loader = mm.Loader(unique_rows_by_features(train_retrieval, Tags.USER, Tags.USER_ID), batch_size=8, shuffle=False)\n",
    "\n",
    "# Sample User batch\n",
    "user_batch = next(iter(user_loader))\n",
    "users = user_batch[0]['user_id']\n",
    "users"
   ]
  },
  {
   "cell_type": "code",
   "execution_count": 31,
   "id": "ca5c2c58-0b1c-4bf7-b997-738a5a12f95c",
   "metadata": {
    "tags": []
   },
   "outputs": [
    {
     "data": {
      "text/plain": [
       "<tf.Tensor: shape=(8, 20), dtype=int32, numpy=\n",
       "array([[ 46, 150,   6,  49, 248, 121,   5,  41,  40, 736,  17, 149, 357,\n",
       "         93, 183,  13, 434, 293, 103, 199],\n",
       "       [ 49, 150,  46, 736,   6, 357,  17,   5, 248,   7, 121,  93, 119,\n",
       "         13, 670, 183, 622, 149,  40, 224],\n",
       "       [ 11,  49,   4,   6,  14,  38,  40,  19,  41, 138, 154, 271, 149,\n",
       "        377, 432, 736, 475, 352,  31, 353],\n",
       "       [ 53, 227,   2,  10,  51, 252, 188,  98, 114,  11,  79, 164, 260,\n",
       "        372, 628, 217, 141, 400, 465,  29],\n",
       "       [ 41,  28,   4,  12, 158,  90, 199, 297, 286,   1, 335, 378,  49,\n",
       "        419, 674, 328, 358,   3, 212, 679],\n",
       "       [ 41, 199,   9,  28, 437,  31,   8, 204,  13,  84,   1, 172,   5,\n",
       "        475,  39, 297, 235, 476, 250, 185],\n",
       "       [ 20,  46, 119, 541,  49, 150, 231,  13, 283,  41, 367, 144, 351,\n",
       "         36, 161,  86,  16,  28, 206, 405],\n",
       "       [ 46,  11,  49,  13,   6, 104, 223, 357,  14, 148, 106, 121, 736,\n",
       "        701, 391,  91,  26, 186, 388, 449]], dtype=int32)>"
      ]
     },
     "execution_count": 31,
     "metadata": {},
     "output_type": "execute_result"
    }
   ],
   "source": [
    "# Retrieve candidate Items for each User\n",
    "_, candidate_item_ids = topk_model(user_batch[0])\n",
    "candidate_item_ids"
   ]
  },
  {
   "cell_type": "code",
   "execution_count": 32,
   "id": "033901bf-a1f3-4dcd-bdc0-ba06add7ba9b",
   "metadata": {
    "tags": []
   },
   "outputs": [
    {
     "name": "stderr",
     "output_type": "stream",
     "text": [
      "/usr/local/lib/python3.8/dist-packages/cudf/core/indexed_frame.py:2328: FutureWarning: The append method is deprecated and will be removed in a future version. Use cudf.concat instead.\n",
      "  warnings.warn(\n"
     ]
    }
   ],
   "source": [
    "# For each user + candidate items, score with the DLRM\n",
    "for user, candidates in zip(users.numpy(), candidate_item_ids.numpy()):\n",
    "    \n",
    "    num_recs = len(candidates)\n",
    "    user_id = user[0]\n",
    "    \n",
    "    # Pull user features from feature store\n",
    "    user_features = user_fs[user_fs.user_id == user_id]\n",
    "    raw_user_id = user_features.user_id_raw.to_numpy()[0]\n",
    "    user_features = user_features.append([user_features]*(num_recs-1), ignore_index=True)\n",
    "\n",
    "    # Pull item features from feature store\n",
    "    item_features = item_fs[item_fs.item_id.isin(candidates)].reset_index(drop=True)\n",
    "    raw_item_ids = item_features.item_id_raw.to_numpy()\n",
    "    \n",
    "    # combined features\n",
    "    item_features[user_features.columns] = user_features\n",
    "    item_features = Dataset(item_features)\n",
    "    item_features.schema = schema.without(['click'])\n",
    "    \n",
    "    # Score with DLRM - TODO -- can we do this without the Loader???\n",
    "    inputs = mm.Loader(item_features, batch_size=num_recs)\n",
    "    inputs = next(iter(inputs))\n",
    "    scores = dlrm(inputs[0]).numpy().reshape(-1)\n",
    "    \n",
    "    # Rank\n",
    "    recs = raw_item_ids[np.where(scores > 0.5)].tolist() "
   ]
  },
  {
   "cell_type": "code",
   "execution_count": 33,
   "id": "f29e6b18-84c5-4d3d-9c9a-fbce08358f47",
   "metadata": {},
   "outputs": [
    {
     "data": {
      "text/plain": [
       "[10, 14, 3, 16, 27, 46, 49, 91, 104, 121, 149, 180, 228, 388, 398, 508, 1006]"
      ]
     },
     "execution_count": 33,
     "metadata": {},
     "output_type": "execute_result"
    }
   ],
   "source": [
    "# Look at one of the recommendations for a User\n",
    "recs"
   ]
  },
  {
   "cell_type": "markdown",
   "id": "ea442dd4-e570-4500-80ae-7996f9acaed5",
   "metadata": {},
   "source": [
    "## Write Recommendations to Redis\n",
    "\n",
    "Redis is used (low latency k-v store) to persist recommendations for each User.\n"
   ]
  },
  {
   "cell_type": "code",
   "execution_count": 34,
   "id": "c8fd929c-ec80-49d8-ba44-7a7a81ce9a26",
   "metadata": {},
   "outputs": [],
   "source": [
    "import asyncio\n",
    "import redis.asyncio as redis\n",
    "from redis.commands.json.path import Path\n",
    "\n",
    "def generate_recs(topk_model, dlrm, input_data, batch_size: int, tags):\n",
    "    user_loader = mm.Loader(unique_rows_by_features(input_data, tags.USER, tags.USER_ID), batch_size=batch_size, shuffle=False)\n",
    "    # Load a batch\n",
    "    for batch in user_loader:\n",
    "        \n",
    "        users = batch[0]['user_id']\n",
    "        \n",
    "        # Generate candidates per user\n",
    "        _, candidate_item_ids = topk_model(batch[0])\n",
    "        \n",
    "        # For each user + candidate items, score with the DLRM\n",
    "        for user, candidates in zip(users.numpy(), candidate_item_ids.numpy()):\n",
    "            try:\n",
    "                num_recs = len(candidates)\n",
    "                user_id = user[0]\n",
    "\n",
    "                # Pull user features from feature store\n",
    "                user_features = user_fs[user_fs.user_id == user_id]\n",
    "                raw_user_id = user_features.user_id_raw.to_numpy()[0]\n",
    "                user_features = user_features.append([user_features]*(num_recs-1), ignore_index=True)\n",
    "\n",
    "                # Pull item features from feature store\n",
    "                item_features = item_fs[item_fs.item_id.isin(candidates)].reset_index(drop=True)\n",
    "                raw_item_ids = item_features.item_id_raw.to_numpy()\n",
    "\n",
    "                # combined features\n",
    "                item_features[user_features.columns] = user_features\n",
    "                item_features = Dataset(item_features)\n",
    "                item_features.schema = schema.without(['click'])\n",
    "\n",
    "                # Score with DLRM - TODO -- can we do this without the Loader???\n",
    "                inputs = mm.Loader(item_features, batch_size=num_recs)\n",
    "                inputs = next(iter(inputs))\n",
    "                scores = dlrm(inputs[0]).numpy().reshape(-1)\n",
    "\n",
    "                # Rank\n",
    "                recs = raw_item_ids[np.where(scores > 0.5)].tolist() \n",
    "\n",
    "                yield raw_user_id, recs\n",
    "            except Exception as e:\n",
    "                logging.info(user_id, str(e))"
   ]
  },
  {
   "cell_type": "code",
   "execution_count": 35,
   "id": "69da8ced-ddb5-4593-a43d-dfe4f562d2be",
   "metadata": {},
   "outputs": [
    {
     "data": {
      "text/plain": [
       "(7, [9, 10, 3, 19, 40, 41, 49, 93, 150, 183, 196, 236, 309, 339, 1006])"
      ]
     },
     "execution_count": 35,
     "metadata": {},
     "output_type": "execute_result"
    }
   ],
   "source": [
    "# Test Recommendation Generator\n",
    "next(generate_recs(topk_model, dlrm, train_retrieval, 32, Tags))\n",
    "\n",
    "# SEE BELOW: User ID --> Recommended IDs"
   ]
  },
  {
   "cell_type": "code",
   "execution_count": 36,
   "id": "1dd3991a-3810-4683-bad6-8438ba4a5fd4",
   "metadata": {},
   "outputs": [],
   "source": [
    "async def store_recommendations(rec_gen, redis_conn: redis.Redis):\n",
    "    \"\"\"\n",
    "    Store recommendations generated for each User.\n",
    "    \"\"\"\n",
    "    async def store(user_id: str, recs: list):\n",
    "        \"\"\"\n",
    "        Store and individual User's latest recommendations in Redis.\n",
    "        \"\"\"\n",
    "        entry = {\n",
    "            \"user_id\": int(user_id),\n",
    "            \"recommendations\": [int(rec) for rec in recs]\n",
    "        }\n",
    "        # Set the JSON object in Redis\n",
    "        await redis_conn.json().set(f\"USER:{user_id}\", Path.root_path(), entry)\n",
    "    # Write to Redis\n",
    "    for user_id, recs in top_recs_per_user:\n",
    "        await store(user_id, recs)"
   ]
  },
  {
   "cell_type": "code",
   "execution_count": 37,
   "id": "8bd57904-4419-4b77-9ece-eb323c0a3349",
   "metadata": {},
   "outputs": [],
   "source": [
    "redis_conn = redis.Redis(\n",
    "    host=\"redis-inference-store\",\n",
    "    port=6379,\n",
    "    decode_responses=True\n",
    ")\n",
    "\n",
    "# Create Recommendation Denerator\n",
    "top_recs_per_user = generate_recs(topk_model, dlrm, train_retrieval, 32, Tags)\n",
    "\n",
    "# Run the process - may take a few minutes\n",
    "await store_recommendations(top_recs_per_user, redis_conn=redis_conn)"
   ]
  },
  {
   "cell_type": "markdown",
   "id": "fe25e4e6-11af-42b5-922d-c5252ec335fe",
   "metadata": {},
   "source": [
    "## Fetch Recommendations from Redis\n",
    "\n",
    "Now that you've written a list of recommended item IDs for each User - we can use the Redis CLI to take a peek at one example. Your application can now fetch these when needed (at low latency)."
   ]
  },
  {
   "cell_type": "code",
   "execution_count": 48,
   "id": "b2b44758-b274-4f39-b1f0-b21193f2e94b",
   "metadata": {},
   "outputs": [
    {
     "name": "stdout",
     "output_type": "stream",
     "text": [
      "\"{\\\"user_id\\\":1,\\\"recommendations\\\":[21,1,35,44,51,57,186,228,264,307,308,342,422,481,693]}\"\n",
      "\"{\\\"user_id\\\":1,\\\"recommendations\\\":[21,1,35,44,51,57,186,228,264,307,308,342,422,481,693]}\"\n",
      "\"{\\\"user_id\\\":1,\\\"recommendations\\\":[21,1,35,44,51,57,186,228,264,307,308,342,422,481,693]}\"\n",
      "\"{\\\"user_id\\\":1,\\\"recommendations\\\":[21,1,35,44,51,57,186,228,264,307,308,342,422,481,693]}\"\n",
      "\"{\\\"user_id\\\":1,\\\"recommendations\\\":[21,1,35,44,51,57,186,228,264,307,308,342,422,481,693]}\"\n",
      "\"{\\\"user_id\\\":1,\\\"recommendations\\\":[21,1,35,44,51,57,186,228,264,307,308,342,422,481,693]}\"\n",
      "\"{\\\"user_id\\\":1,\\\"recommendations\\\":[21,1,35,44,51,57,186,228,264,307,308,342,422,481,693]}\"\n",
      "\"{\\\"user_id\\\":1,\\\"recommendations\\\":[21,1,35,44,51,57,186,228,264,307,308,342,422,481,693]}\"\n",
      "695 ms ± 2.66 ms per loop (mean ± std. dev. of 7 runs, 1 loop each)\n"
     ]
    }
   ],
   "source": [
    "!redis-cli -h redis-inference-store -p 6379 JSON.GET USER:1"
   ]
  },
  {
   "cell_type": "code",
   "execution_count": 56,
   "id": "ee5f1991-5160-45aa-97a9-4b13fe877581",
   "metadata": {},
   "outputs": [],
   "source": [
    "# Simple benchmark with async Python client\n",
    "times = []\n",
    "for i in range(300):\n",
    "    t = time.time()\n",
    "    await redis_conn.json().get(f\"USER:{i}\")\n",
    "    times.append(time.time()-t)"
   ]
  },
  {
   "cell_type": "code",
   "execution_count": 57,
   "id": "6ce7bce2-8356-4b3e-836d-23768a60bd2c",
   "metadata": {},
   "outputs": [
    {
     "data": {
      "text/plain": [
       "0.00019584973653157553"
      ]
     },
     "execution_count": 57,
     "metadata": {},
     "output_type": "execute_result"
    }
   ],
   "source": [
    "# Average read time from Redis --> less than a ms likely\n",
    "np.average(times)"
   ]
  },
  {
   "cell_type": "markdown",
   "id": "b19062ef",
   "metadata": {
    "pycharm": {
     "name": "#%% md\n"
    }
   },
   "source": [
    "## Export Models"
   ]
  },
  {
   "cell_type": "markdown",
   "id": "abf8cb35",
   "metadata": {
    "pycharm": {
     "name": "#%% md\n"
    }
   },
   "source": [
    "So far we have trained and evaluated our models for the recsys pipeline. We need to export the models and artifacts in order to deploy them \"online\" in the next notebook."
   ]
  },
  {
   "cell_type": "markdown",
   "id": "a01df11e",
   "metadata": {
    "pycharm": {
     "name": "#%% md\n"
    }
   },
   "source": [
    "### Export Retrieval Model"
   ]
  },
  {
   "cell_type": "markdown",
   "id": "f4dc5e2c",
   "metadata": {
    "pycharm": {
     "name": "#%% md\n"
    }
   },
   "source": [
    "We are able to save the user tower model as a TF model to disk. The user tower model is needed to generate a user embedding vector when a user feature vector <i>x</i> is fed into that model."
   ]
  },
  {
   "cell_type": "code",
   "execution_count": 39,
   "id": "07c68eb4",
   "metadata": {
    "pycharm": {
     "name": "#%%\n"
    }
   },
   "outputs": [],
   "source": [
    "query_tower = retrieval_model.query_encoder\n",
    "query_tower.save(os.path.join(DATA_DIR, \"query_tower\"))\n",
    "\n",
    "## we can load back the saved model via the following script.\n",
    "#query_tower_loaded = tf.keras.models.load_model(os.path.join(DATA_DIR, 'query_tower'))"
   ]
  },
  {
   "cell_type": "markdown",
   "id": "e4c031f8",
   "metadata": {
    "pycharm": {
     "name": "#%% md\n"
    }
   },
   "source": [
    "### Export User features"
   ]
  },
  {
   "cell_type": "markdown",
   "id": "9cdd88a9",
   "metadata": {
    "pycharm": {
     "name": "#%% md\n"
    }
   },
   "source": [
    "With `unique_rows_by_features` utility function we can easily extract both unique user and item features tables as cuDF dataframes. Note that for user features table, we use `USER` and `USER_ID` tags. These will get stored in our Feature Store later on."
   ]
  },
  {
   "cell_type": "code",
   "execution_count": 40,
   "id": "1f861ac4",
   "metadata": {
    "pycharm": {
     "name": "#%%\n"
    }
   },
   "outputs": [
    {
     "data": {
      "text/html": [
       "<div>\n",
       "<style scoped>\n",
       "    .dataframe tbody tr th:only-of-type {\n",
       "        vertical-align: middle;\n",
       "    }\n",
       "\n",
       "    .dataframe tbody tr th {\n",
       "        vertical-align: top;\n",
       "    }\n",
       "\n",
       "    .dataframe thead th {\n",
       "        text-align: right;\n",
       "    }\n",
       "</style>\n",
       "<table border=\"1\" class=\"dataframe\">\n",
       "  <thead>\n",
       "    <tr style=\"text-align: right;\">\n",
       "      <th></th>\n",
       "      <th>user_id</th>\n",
       "      <th>user_shops</th>\n",
       "      <th>user_profile</th>\n",
       "      <th>user_group</th>\n",
       "      <th>user_gender</th>\n",
       "      <th>user_age</th>\n",
       "      <th>user_consumption_2</th>\n",
       "      <th>user_is_occupied</th>\n",
       "      <th>user_geography</th>\n",
       "      <th>user_intentions</th>\n",
       "      <th>user_brands</th>\n",
       "      <th>user_categories</th>\n",
       "      <th>user_id_raw</th>\n",
       "    </tr>\n",
       "  </thead>\n",
       "  <tbody>\n",
       "    <tr>\n",
       "      <th>0</th>\n",
       "      <td>1</td>\n",
       "      <td>1</td>\n",
       "      <td>1</td>\n",
       "      <td>1</td>\n",
       "      <td>1</td>\n",
       "      <td>1</td>\n",
       "      <td>1</td>\n",
       "      <td>1</td>\n",
       "      <td>1</td>\n",
       "      <td>1</td>\n",
       "      <td>1</td>\n",
       "      <td>1</td>\n",
       "      <td>7</td>\n",
       "    </tr>\n",
       "    <tr>\n",
       "      <th>1</th>\n",
       "      <td>2</td>\n",
       "      <td>2</td>\n",
       "      <td>1</td>\n",
       "      <td>1</td>\n",
       "      <td>1</td>\n",
       "      <td>1</td>\n",
       "      <td>1</td>\n",
       "      <td>1</td>\n",
       "      <td>1</td>\n",
       "      <td>2</td>\n",
       "      <td>2</td>\n",
       "      <td>2</td>\n",
       "      <td>6</td>\n",
       "    </tr>\n",
       "    <tr>\n",
       "      <th>2</th>\n",
       "      <td>3</td>\n",
       "      <td>3</td>\n",
       "      <td>1</td>\n",
       "      <td>1</td>\n",
       "      <td>1</td>\n",
       "      <td>1</td>\n",
       "      <td>1</td>\n",
       "      <td>1</td>\n",
       "      <td>1</td>\n",
       "      <td>3</td>\n",
       "      <td>3</td>\n",
       "      <td>3</td>\n",
       "      <td>8</td>\n",
       "    </tr>\n",
       "    <tr>\n",
       "      <th>3</th>\n",
       "      <td>4</td>\n",
       "      <td>4</td>\n",
       "      <td>1</td>\n",
       "      <td>1</td>\n",
       "      <td>1</td>\n",
       "      <td>1</td>\n",
       "      <td>1</td>\n",
       "      <td>1</td>\n",
       "      <td>1</td>\n",
       "      <td>4</td>\n",
       "      <td>4</td>\n",
       "      <td>4</td>\n",
       "      <td>9</td>\n",
       "    </tr>\n",
       "    <tr>\n",
       "      <th>4</th>\n",
       "      <td>5</td>\n",
       "      <td>5</td>\n",
       "      <td>1</td>\n",
       "      <td>1</td>\n",
       "      <td>1</td>\n",
       "      <td>1</td>\n",
       "      <td>1</td>\n",
       "      <td>1</td>\n",
       "      <td>1</td>\n",
       "      <td>5</td>\n",
       "      <td>5</td>\n",
       "      <td>5</td>\n",
       "      <td>5</td>\n",
       "    </tr>\n",
       "  </tbody>\n",
       "</table>\n",
       "</div>"
      ],
      "text/plain": [
       "   user_id  user_shops  user_profile  user_group  user_gender  user_age  \\\n",
       "0        1           1             1           1            1         1   \n",
       "1        2           2             1           1            1         1   \n",
       "2        3           3             1           1            1         1   \n",
       "3        4           4             1           1            1         1   \n",
       "4        5           5             1           1            1         1   \n",
       "\n",
       "   user_consumption_2  user_is_occupied  user_geography  user_intentions  \\\n",
       "0                   1                 1               1                1   \n",
       "1                   1                 1               1                2   \n",
       "2                   1                 1               1                3   \n",
       "3                   1                 1               1                4   \n",
       "4                   1                 1               1                5   \n",
       "\n",
       "   user_brands  user_categories  user_id_raw  \n",
       "0            1                1            7  \n",
       "1            2                2            6  \n",
       "2            3                3            8  \n",
       "3            4                4            9  \n",
       "4            5                5            5  "
      ]
     },
     "execution_count": 40,
     "metadata": {},
     "output_type": "execute_result"
    }
   ],
   "source": [
    "user_features = (\n",
    "    unique_rows_by_features(train_retrieval, Tags.USER, Tags.USER_ID).compute().reset_index(drop=True)\n",
    ")\n",
    "user_features.head()"
   ]
  },
  {
   "cell_type": "code",
   "execution_count": 41,
   "id": "33758417",
   "metadata": {
    "pycharm": {
     "name": "#%%\n"
    }
   },
   "outputs": [],
   "source": [
    "# save to disk\n",
    "user_features.to_parquet(os.path.join(DATA_DIR, \"user_features.parquet\"))"
   ]
  },
  {
   "cell_type": "markdown",
   "id": "184f6cf6-cc5e-459e-9d87-5fdcd01d8c85",
   "metadata": {},
   "source": [
    "### Export User Embeddings"
   ]
  },
  {
   "cell_type": "code",
   "execution_count": 42,
   "id": "5d31a12c-ca41-4b02-9288-7d6b31d54e39",
   "metadata": {},
   "outputs": [
    {
     "name": "stderr",
     "output_type": "stream",
     "text": [
      "/usr/local/lib/python3.8/dist-packages/merlin/schema/tags.py:148: UserWarning: Compound tags like Tags.USER_ID have been deprecated and will be removed in a future version. Please use the atomic versions of these tags, like [<Tags.USER: 'user'>, <Tags.ID: 'id'>].\n",
      "  warnings.warn(\n"
     ]
    }
   ],
   "source": [
    "queries = retrieval_model.query_embeddings(Dataset(user_features, schema=schema), batch_size=1024, index=Tags.USER_ID)\n",
    "query_embs_df = queries.compute(scheduler=\"synchronous\").reset_index()"
   ]
  },
  {
   "cell_type": "code",
   "execution_count": 43,
   "id": "42b45f67-b3b3-42c3-8d76-b7ac0e391d7d",
   "metadata": {},
   "outputs": [
    {
     "data": {
      "text/html": [
       "<div>\n",
       "<style scoped>\n",
       "    .dataframe tbody tr th:only-of-type {\n",
       "        vertical-align: middle;\n",
       "    }\n",
       "\n",
       "    .dataframe tbody tr th {\n",
       "        vertical-align: top;\n",
       "    }\n",
       "\n",
       "    .dataframe thead th {\n",
       "        text-align: right;\n",
       "    }\n",
       "</style>\n",
       "<table border=\"1\" class=\"dataframe\">\n",
       "  <thead>\n",
       "    <tr style=\"text-align: right;\">\n",
       "      <th></th>\n",
       "      <th>user_id</th>\n",
       "      <th>0</th>\n",
       "      <th>1</th>\n",
       "      <th>2</th>\n",
       "      <th>3</th>\n",
       "      <th>4</th>\n",
       "      <th>5</th>\n",
       "      <th>6</th>\n",
       "      <th>7</th>\n",
       "      <th>8</th>\n",
       "      <th>...</th>\n",
       "      <th>54</th>\n",
       "      <th>55</th>\n",
       "      <th>56</th>\n",
       "      <th>57</th>\n",
       "      <th>58</th>\n",
       "      <th>59</th>\n",
       "      <th>60</th>\n",
       "      <th>61</th>\n",
       "      <th>62</th>\n",
       "      <th>63</th>\n",
       "    </tr>\n",
       "  </thead>\n",
       "  <tbody>\n",
       "    <tr>\n",
       "      <th>0</th>\n",
       "      <td>1</td>\n",
       "      <td>-0.111068</td>\n",
       "      <td>-0.036823</td>\n",
       "      <td>-0.044900</td>\n",
       "      <td>0.035209</td>\n",
       "      <td>0.003688</td>\n",
       "      <td>-0.007081</td>\n",
       "      <td>-0.038696</td>\n",
       "      <td>-0.106746</td>\n",
       "      <td>-0.042413</td>\n",
       "      <td>...</td>\n",
       "      <td>-0.092540</td>\n",
       "      <td>-0.092408</td>\n",
       "      <td>-0.020449</td>\n",
       "      <td>0.094238</td>\n",
       "      <td>-0.075105</td>\n",
       "      <td>-0.003479</td>\n",
       "      <td>0.032159</td>\n",
       "      <td>0.001669</td>\n",
       "      <td>-0.096887</td>\n",
       "      <td>0.124208</td>\n",
       "    </tr>\n",
       "    <tr>\n",
       "      <th>1</th>\n",
       "      <td>2</td>\n",
       "      <td>-0.048456</td>\n",
       "      <td>-0.041089</td>\n",
       "      <td>-0.076468</td>\n",
       "      <td>0.049387</td>\n",
       "      <td>-0.020447</td>\n",
       "      <td>-0.054963</td>\n",
       "      <td>-0.032225</td>\n",
       "      <td>-0.085540</td>\n",
       "      <td>-0.034649</td>\n",
       "      <td>...</td>\n",
       "      <td>-0.070766</td>\n",
       "      <td>-0.094994</td>\n",
       "      <td>-0.016747</td>\n",
       "      <td>0.102674</td>\n",
       "      <td>-0.028168</td>\n",
       "      <td>0.004202</td>\n",
       "      <td>0.016498</td>\n",
       "      <td>-0.037883</td>\n",
       "      <td>-0.096017</td>\n",
       "      <td>0.093783</td>\n",
       "    </tr>\n",
       "    <tr>\n",
       "      <th>2</th>\n",
       "      <td>3</td>\n",
       "      <td>-0.009904</td>\n",
       "      <td>-0.088978</td>\n",
       "      <td>-0.037149</td>\n",
       "      <td>0.045837</td>\n",
       "      <td>-0.059934</td>\n",
       "      <td>-0.028095</td>\n",
       "      <td>0.003774</td>\n",
       "      <td>-0.123409</td>\n",
       "      <td>-0.045720</td>\n",
       "      <td>...</td>\n",
       "      <td>-0.059774</td>\n",
       "      <td>-0.095987</td>\n",
       "      <td>0.009015</td>\n",
       "      <td>0.034939</td>\n",
       "      <td>-0.029024</td>\n",
       "      <td>0.023600</td>\n",
       "      <td>-0.015245</td>\n",
       "      <td>0.045124</td>\n",
       "      <td>-0.120927</td>\n",
       "      <td>0.083832</td>\n",
       "    </tr>\n",
       "    <tr>\n",
       "      <th>3</th>\n",
       "      <td>4</td>\n",
       "      <td>-0.027886</td>\n",
       "      <td>-0.068725</td>\n",
       "      <td>0.009604</td>\n",
       "      <td>-0.000948</td>\n",
       "      <td>0.000705</td>\n",
       "      <td>-0.048250</td>\n",
       "      <td>0.041702</td>\n",
       "      <td>-0.029777</td>\n",
       "      <td>-0.026400</td>\n",
       "      <td>...</td>\n",
       "      <td>0.016240</td>\n",
       "      <td>0.037292</td>\n",
       "      <td>0.059883</td>\n",
       "      <td>0.037400</td>\n",
       "      <td>-0.179152</td>\n",
       "      <td>0.032167</td>\n",
       "      <td>-0.006257</td>\n",
       "      <td>0.030779</td>\n",
       "      <td>-0.139906</td>\n",
       "      <td>0.070979</td>\n",
       "    </tr>\n",
       "    <tr>\n",
       "      <th>4</th>\n",
       "      <td>5</td>\n",
       "      <td>-0.029951</td>\n",
       "      <td>-0.027248</td>\n",
       "      <td>-0.047780</td>\n",
       "      <td>0.076823</td>\n",
       "      <td>-0.119614</td>\n",
       "      <td>0.030432</td>\n",
       "      <td>0.011596</td>\n",
       "      <td>-0.190625</td>\n",
       "      <td>-0.072068</td>\n",
       "      <td>...</td>\n",
       "      <td>-0.024637</td>\n",
       "      <td>-0.130085</td>\n",
       "      <td>-0.041280</td>\n",
       "      <td>-0.013120</td>\n",
       "      <td>-0.052877</td>\n",
       "      <td>0.062012</td>\n",
       "      <td>-0.105109</td>\n",
       "      <td>0.161616</td>\n",
       "      <td>-0.123151</td>\n",
       "      <td>0.089686</td>\n",
       "    </tr>\n",
       "  </tbody>\n",
       "</table>\n",
       "<p>5 rows × 65 columns</p>\n",
       "</div>"
      ],
      "text/plain": [
       "   user_id         0         1         2         3         4         5  \\\n",
       "0        1 -0.111068 -0.036823 -0.044900  0.035209  0.003688 -0.007081   \n",
       "1        2 -0.048456 -0.041089 -0.076468  0.049387 -0.020447 -0.054963   \n",
       "2        3 -0.009904 -0.088978 -0.037149  0.045837 -0.059934 -0.028095   \n",
       "3        4 -0.027886 -0.068725  0.009604 -0.000948  0.000705 -0.048250   \n",
       "4        5 -0.029951 -0.027248 -0.047780  0.076823 -0.119614  0.030432   \n",
       "\n",
       "          6         7         8  ...        54        55        56        57  \\\n",
       "0 -0.038696 -0.106746 -0.042413  ... -0.092540 -0.092408 -0.020449  0.094238   \n",
       "1 -0.032225 -0.085540 -0.034649  ... -0.070766 -0.094994 -0.016747  0.102674   \n",
       "2  0.003774 -0.123409 -0.045720  ... -0.059774 -0.095987  0.009015  0.034939   \n",
       "3  0.041702 -0.029777 -0.026400  ...  0.016240  0.037292  0.059883  0.037400   \n",
       "4  0.011596 -0.190625 -0.072068  ... -0.024637 -0.130085 -0.041280 -0.013120   \n",
       "\n",
       "         58        59        60        61        62        63  \n",
       "0 -0.075105 -0.003479  0.032159  0.001669 -0.096887  0.124208  \n",
       "1 -0.028168  0.004202  0.016498 -0.037883 -0.096017  0.093783  \n",
       "2 -0.029024  0.023600 -0.015245  0.045124 -0.120927  0.083832  \n",
       "3 -0.179152  0.032167 -0.006257  0.030779 -0.139906  0.070979  \n",
       "4 -0.052877  0.062012 -0.105109  0.161616 -0.123151  0.089686  \n",
       "\n",
       "[5 rows x 65 columns]"
      ]
     },
     "execution_count": 43,
     "metadata": {},
     "output_type": "execute_result"
    }
   ],
   "source": [
    "query_embs_df.head()"
   ]
  },
  {
   "cell_type": "markdown",
   "id": "595b1578",
   "metadata": {
    "pycharm": {
     "name": "#%% md\n"
    }
   },
   "source": [
    "### Export Item Features"
   ]
  },
  {
   "cell_type": "code",
   "execution_count": 44,
   "id": "3ae320ec",
   "metadata": {
    "pycharm": {
     "name": "#%%\n"
    }
   },
   "outputs": [
    {
     "data": {
      "text/html": [
       "<div>\n",
       "<style scoped>\n",
       "    .dataframe tbody tr th:only-of-type {\n",
       "        vertical-align: middle;\n",
       "    }\n",
       "\n",
       "    .dataframe tbody tr th {\n",
       "        vertical-align: top;\n",
       "    }\n",
       "\n",
       "    .dataframe thead th {\n",
       "        text-align: right;\n",
       "    }\n",
       "</style>\n",
       "<table border=\"1\" class=\"dataframe\">\n",
       "  <thead>\n",
       "    <tr style=\"text-align: right;\">\n",
       "      <th></th>\n",
       "      <th>item_id</th>\n",
       "      <th>item_category</th>\n",
       "      <th>item_shop</th>\n",
       "      <th>item_brand</th>\n",
       "      <th>item_id_raw</th>\n",
       "    </tr>\n",
       "  </thead>\n",
       "  <tbody>\n",
       "    <tr>\n",
       "      <th>0</th>\n",
       "      <td>1</td>\n",
       "      <td>1</td>\n",
       "      <td>1</td>\n",
       "      <td>1</td>\n",
       "      <td>7</td>\n",
       "    </tr>\n",
       "    <tr>\n",
       "      <th>1</th>\n",
       "      <td>2</td>\n",
       "      <td>2</td>\n",
       "      <td>2</td>\n",
       "      <td>2</td>\n",
       "      <td>8</td>\n",
       "    </tr>\n",
       "    <tr>\n",
       "      <th>2</th>\n",
       "      <td>3</td>\n",
       "      <td>3</td>\n",
       "      <td>3</td>\n",
       "      <td>3</td>\n",
       "      <td>6</td>\n",
       "    </tr>\n",
       "    <tr>\n",
       "      <th>3</th>\n",
       "      <td>4</td>\n",
       "      <td>4</td>\n",
       "      <td>4</td>\n",
       "      <td>4</td>\n",
       "      <td>5</td>\n",
       "    </tr>\n",
       "    <tr>\n",
       "      <th>4</th>\n",
       "      <td>5</td>\n",
       "      <td>5</td>\n",
       "      <td>5</td>\n",
       "      <td>5</td>\n",
       "      <td>9</td>\n",
       "    </tr>\n",
       "  </tbody>\n",
       "</table>\n",
       "</div>"
      ],
      "text/plain": [
       "   item_id  item_category  item_shop  item_brand  item_id_raw\n",
       "0        1              1          1           1            7\n",
       "1        2              2          2           2            8\n",
       "2        3              3          3           3            6\n",
       "3        4              4          4           4            5\n",
       "4        5              5          5           5            9"
      ]
     },
     "execution_count": 44,
     "metadata": {},
     "output_type": "execute_result"
    }
   ],
   "source": [
    "item_features = (\n",
    "    unique_rows_by_features(train_retrieval, Tags.ITEM, Tags.ITEM_ID).compute().reset_index(drop=True)\n",
    ")\n",
    "item_features.head()"
   ]
  },
  {
   "cell_type": "code",
   "execution_count": 45,
   "id": "40102380",
   "metadata": {
    "pycharm": {
     "name": "#%%\n"
    }
   },
   "outputs": [],
   "source": [
    "# save to disk\n",
    "item_features.to_parquet(os.path.join(DATA_DIR, \"item_features.parquet\"))"
   ]
  },
  {
   "cell_type": "markdown",
   "id": "f57f5a3e",
   "metadata": {
    "pycharm": {
     "name": "#%% md\n"
    }
   },
   "source": [
    "### Export Item Embeddings\n",
    "These will get stored in our ANN Index (in Redis)."
   ]
  },
  {
   "cell_type": "code",
   "execution_count": 58,
   "id": "30f50d2a-dbf3-4459-af46-1a8194730896",
   "metadata": {},
   "outputs": [
    {
     "name": "stderr",
     "output_type": "stream",
     "text": [
      "/usr/local/lib/python3.8/dist-packages/google/protobuf/internal/python_message.py:513: RuntimeWarning: coroutine 'Redis.execute_command' was never awaited\n",
      "  self._listener = message_listener_mod.NullMessageListener()\n",
      "RuntimeWarning: Enable tracemalloc to get the object allocation traceback\n",
      "/usr/local/lib/python3.8/dist-packages/merlin/schema/tags.py:148: UserWarning: Compound tags like Tags.ITEM_ID have been deprecated and will be removed in a future version. Please use the atomic versions of these tags, like [<Tags.ITEM: 'item'>, <Tags.ID: 'id'>].\n",
      "  warnings.warn(\n"
     ]
    },
    {
     "data": {
      "text/html": [
       "<div>\n",
       "<style scoped>\n",
       "    .dataframe tbody tr th:only-of-type {\n",
       "        vertical-align: middle;\n",
       "    }\n",
       "\n",
       "    .dataframe tbody tr th {\n",
       "        vertical-align: top;\n",
       "    }\n",
       "\n",
       "    .dataframe thead th {\n",
       "        text-align: right;\n",
       "    }\n",
       "</style>\n",
       "<table border=\"1\" class=\"dataframe\">\n",
       "  <thead>\n",
       "    <tr style=\"text-align: right;\">\n",
       "      <th></th>\n",
       "      <th>0</th>\n",
       "      <th>1</th>\n",
       "      <th>2</th>\n",
       "      <th>3</th>\n",
       "      <th>4</th>\n",
       "      <th>5</th>\n",
       "      <th>6</th>\n",
       "      <th>7</th>\n",
       "      <th>8</th>\n",
       "      <th>9</th>\n",
       "      <th>...</th>\n",
       "      <th>54</th>\n",
       "      <th>55</th>\n",
       "      <th>56</th>\n",
       "      <th>57</th>\n",
       "      <th>58</th>\n",
       "      <th>59</th>\n",
       "      <th>60</th>\n",
       "      <th>61</th>\n",
       "      <th>62</th>\n",
       "      <th>63</th>\n",
       "    </tr>\n",
       "    <tr>\n",
       "      <th>item_id</th>\n",
       "      <th></th>\n",
       "      <th></th>\n",
       "      <th></th>\n",
       "      <th></th>\n",
       "      <th></th>\n",
       "      <th></th>\n",
       "      <th></th>\n",
       "      <th></th>\n",
       "      <th></th>\n",
       "      <th></th>\n",
       "      <th></th>\n",
       "      <th></th>\n",
       "      <th></th>\n",
       "      <th></th>\n",
       "      <th></th>\n",
       "      <th></th>\n",
       "      <th></th>\n",
       "      <th></th>\n",
       "      <th></th>\n",
       "      <th></th>\n",
       "      <th></th>\n",
       "    </tr>\n",
       "  </thead>\n",
       "  <tbody>\n",
       "    <tr>\n",
       "      <th>1</th>\n",
       "      <td>0.053040</td>\n",
       "      <td>-0.072800</td>\n",
       "      <td>0.029477</td>\n",
       "      <td>0.061942</td>\n",
       "      <td>-0.083255</td>\n",
       "      <td>-0.027927</td>\n",
       "      <td>0.040919</td>\n",
       "      <td>0.049997</td>\n",
       "      <td>-0.029252</td>\n",
       "      <td>0.061744</td>\n",
       "      <td>...</td>\n",
       "      <td>0.049286</td>\n",
       "      <td>-0.087432</td>\n",
       "      <td>0.009700</td>\n",
       "      <td>-0.071424</td>\n",
       "      <td>0.024802</td>\n",
       "      <td>-0.012824</td>\n",
       "      <td>-0.045329</td>\n",
       "      <td>0.098826</td>\n",
       "      <td>0.028681</td>\n",
       "      <td>-0.000962</td>\n",
       "    </tr>\n",
       "    <tr>\n",
       "      <th>2</th>\n",
       "      <td>-0.022205</td>\n",
       "      <td>-0.073701</td>\n",
       "      <td>0.084334</td>\n",
       "      <td>-0.087279</td>\n",
       "      <td>0.050656</td>\n",
       "      <td>-0.088896</td>\n",
       "      <td>0.024600</td>\n",
       "      <td>0.115385</td>\n",
       "      <td>-0.007804</td>\n",
       "      <td>0.068305</td>\n",
       "      <td>...</td>\n",
       "      <td>0.069289</td>\n",
       "      <td>0.089851</td>\n",
       "      <td>0.059622</td>\n",
       "      <td>0.002280</td>\n",
       "      <td>-0.102191</td>\n",
       "      <td>0.056542</td>\n",
       "      <td>0.067240</td>\n",
       "      <td>-0.019867</td>\n",
       "      <td>-0.049110</td>\n",
       "      <td>-0.099910</td>\n",
       "    </tr>\n",
       "    <tr>\n",
       "      <th>3</th>\n",
       "      <td>0.009324</td>\n",
       "      <td>0.004293</td>\n",
       "      <td>-0.021806</td>\n",
       "      <td>0.011273</td>\n",
       "      <td>0.020458</td>\n",
       "      <td>0.000370</td>\n",
       "      <td>0.035672</td>\n",
       "      <td>0.035399</td>\n",
       "      <td>-0.019392</td>\n",
       "      <td>0.078260</td>\n",
       "      <td>...</td>\n",
       "      <td>-0.066249</td>\n",
       "      <td>-0.038092</td>\n",
       "      <td>0.028947</td>\n",
       "      <td>-0.004527</td>\n",
       "      <td>-0.007591</td>\n",
       "      <td>0.090114</td>\n",
       "      <td>-0.041121</td>\n",
       "      <td>0.030358</td>\n",
       "      <td>-0.016289</td>\n",
       "      <td>0.000246</td>\n",
       "    </tr>\n",
       "    <tr>\n",
       "      <th>4</th>\n",
       "      <td>0.028158</td>\n",
       "      <td>-0.015050</td>\n",
       "      <td>-0.010841</td>\n",
       "      <td>0.057088</td>\n",
       "      <td>-0.019317</td>\n",
       "      <td>0.015477</td>\n",
       "      <td>0.011777</td>\n",
       "      <td>-0.020076</td>\n",
       "      <td>-0.026838</td>\n",
       "      <td>0.057488</td>\n",
       "      <td>...</td>\n",
       "      <td>-0.004810</td>\n",
       "      <td>-0.044477</td>\n",
       "      <td>-0.003194</td>\n",
       "      <td>0.012644</td>\n",
       "      <td>-0.043281</td>\n",
       "      <td>0.032553</td>\n",
       "      <td>-0.011370</td>\n",
       "      <td>0.024755</td>\n",
       "      <td>-0.060624</td>\n",
       "      <td>-0.010108</td>\n",
       "    </tr>\n",
       "    <tr>\n",
       "      <th>5</th>\n",
       "      <td>-0.041253</td>\n",
       "      <td>0.041424</td>\n",
       "      <td>0.004513</td>\n",
       "      <td>-0.033554</td>\n",
       "      <td>0.051555</td>\n",
       "      <td>-0.000238</td>\n",
       "      <td>0.004218</td>\n",
       "      <td>0.086332</td>\n",
       "      <td>-0.030636</td>\n",
       "      <td>0.052590</td>\n",
       "      <td>...</td>\n",
       "      <td>-0.083374</td>\n",
       "      <td>0.008296</td>\n",
       "      <td>-0.003563</td>\n",
       "      <td>0.006302</td>\n",
       "      <td>0.002813</td>\n",
       "      <td>0.013661</td>\n",
       "      <td>0.040882</td>\n",
       "      <td>0.018407</td>\n",
       "      <td>-0.014042</td>\n",
       "      <td>-0.012307</td>\n",
       "    </tr>\n",
       "  </tbody>\n",
       "</table>\n",
       "<p>5 rows × 64 columns</p>\n",
       "</div>"
      ],
      "text/plain": [
       "                0         1         2         3         4         5         6  \\\n",
       "item_id                                                                         \n",
       "1        0.053040 -0.072800  0.029477  0.061942 -0.083255 -0.027927  0.040919   \n",
       "2       -0.022205 -0.073701  0.084334 -0.087279  0.050656 -0.088896  0.024600   \n",
       "3        0.009324  0.004293 -0.021806  0.011273  0.020458  0.000370  0.035672   \n",
       "4        0.028158 -0.015050 -0.010841  0.057088 -0.019317  0.015477  0.011777   \n",
       "5       -0.041253  0.041424  0.004513 -0.033554  0.051555 -0.000238  0.004218   \n",
       "\n",
       "                7         8         9  ...        54        55        56  \\\n",
       "item_id                                ...                                 \n",
       "1        0.049997 -0.029252  0.061744  ...  0.049286 -0.087432  0.009700   \n",
       "2        0.115385 -0.007804  0.068305  ...  0.069289  0.089851  0.059622   \n",
       "3        0.035399 -0.019392  0.078260  ... -0.066249 -0.038092  0.028947   \n",
       "4       -0.020076 -0.026838  0.057488  ... -0.004810 -0.044477 -0.003194   \n",
       "5        0.086332 -0.030636  0.052590  ... -0.083374  0.008296 -0.003563   \n",
       "\n",
       "               57        58        59        60        61        62        63  \n",
       "item_id                                                                        \n",
       "1       -0.071424  0.024802 -0.012824 -0.045329  0.098826  0.028681 -0.000962  \n",
       "2        0.002280 -0.102191  0.056542  0.067240 -0.019867 -0.049110 -0.099910  \n",
       "3       -0.004527 -0.007591  0.090114 -0.041121  0.030358 -0.016289  0.000246  \n",
       "4        0.012644 -0.043281  0.032553 -0.011370  0.024755 -0.060624 -0.010108  \n",
       "5        0.006302  0.002813  0.013661  0.040882  0.018407 -0.014042 -0.012307  \n",
       "\n",
       "[5 rows x 64 columns]"
      ]
     },
     "execution_count": 58,
     "metadata": {},
     "output_type": "execute_result"
    }
   ],
   "source": [
    "item_embs = retrieval_model.candidate_embeddings(Dataset(item_features, schema=schema), batch_size=1024, index=Tags.ITEM_ID)\n",
    "item_embs_df = item_embs.compute(scheduler=\"synchronous\")\n",
    "item_embs_df.head()"
   ]
  },
  {
   "cell_type": "code",
   "execution_count": 59,
   "id": "5d152e82",
   "metadata": {
    "pycharm": {
     "name": "#%%\n"
    }
   },
   "outputs": [],
   "source": [
    "# save to disk\n",
    "item_embs_df.to_parquet(os.path.join(DATA_DIR, \"item_embeddings.parquet\"))"
   ]
  },
  {
   "cell_type": "markdown",
   "id": "32144ec6-4c10-49bc-ba58-fb21f32e7602",
   "metadata": {},
   "source": [
    "### Export DLRM"
   ]
  },
  {
   "cell_type": "code",
   "execution_count": 60,
   "id": "edae0a21-c4d1-47e9-b386-7af0fed63268",
   "metadata": {},
   "outputs": [],
   "source": [
    "dlrm.save(os.path.join(DATA_DIR, \"dlrm\"))"
   ]
  },
  {
   "cell_type": "markdown",
   "id": "442c3f88-cda8-4202-b023-4f926fd52d2d",
   "metadata": {},
   "source": [
    "## Conclusion"
   ]
  },
  {
   "cell_type": "markdown",
   "id": "1eed43c3",
   "metadata": {
    "pycharm": {
     "name": "#%% md\n"
    }
   },
   "source": [
    "No we have learned how to train and evaluate your Two-Tower **Candidate Retrieval Model** and **DLRM**. We also wrote recommendations \"offline\" to a key-value store (Redis) for use in our applications.\n",
    "\n",
    "![img](./img/OfflineBatchRecsys.png)\n",
    "\n",
    "*This completes the **\"Offline Batch Recommender System\"** intro with Redis + NVIDIA*. In the next tutorial, we will focus on deploying these assets to the [Triton Inference Server](https://github.com/triton-inference-server/server) for live \"online\" recommendations."
   ]
  }
 ],
 "metadata": {
  "kernelspec": {
   "display_name": "Python 3 (ipykernel)",
   "language": "python",
   "name": "python3"
  },
  "language_info": {
   "codemirror_mode": {
    "name": "ipython",
    "version": 3
   },
   "file_extension": ".py",
   "mimetype": "text/x-python",
   "name": "python",
   "nbconvert_exporter": "python",
   "pygments_lexer": "ipython3",
   "version": "3.8.10"
  },
  "merlin": {
   "containers": [
    "nvcr.io/nvidia/merlin/merlin-tensorflow:latest"
   ]
  },
  "vscode": {
   "interpreter": {
    "hash": "31f2aee4e71d21fbe5cf8b01ff0e069b9275f58929596ceb00d14d90e3e16cd6"
   }
  }
 },
 "nbformat": 4,
 "nbformat_minor": 5
}
