{
 "cells": [
  {
   "cell_type": "markdown",
   "id": "906fc19a",
   "metadata": {
    "pycharm": {
     "name": "#%% md\n"
    }
   },
   "source": [
    "# Offline Batch Recommender System\n",
    "\n",
    "In this notebook, we will build a simple offline batch recsys that writes results to Redis for later access. The architecture diagram below shows how this system comes together.\n",
    "\n",
    "![](./img/OfflineBatchRecsys.png)\n",
    "\n",
    "## Candidate Retrieval Model\n",
    "\n",
    "Now about the model itself... many recommender systems have a *two-stage pipeline*:\n",
    "1) A fast **candidate retrieval** model quickly truncates the large item catalog to a relevant set of hundreds (or thousands) of options\n",
    "2) A finely-tuned **ranking model** (i.e. more powerful) ranks the most likely items that are going to interacted with.\n",
    "\n",
    "In this notebook, we will build a simple **Two-Tower** candidate retrieval model with Tensorflow and Merlin/NVTabular helper utilities that can score millions of items for a given user. The Two-Tower model is a neural network architecture with two MLP towers where both user and item features are fed to generate user and item embeddings in the output.\n",
    "\n",
    "Though we skip the ranking model step for now, you will pick that up in the [Multi-Stage Recommender System]() example notebook."
   ]
  },
  {
   "cell_type": "markdown",
   "id": "bbf37d1b-6aa8-4df8-9ac2-db968b595078",
   "metadata": {},
   "source": [
    "*This notebook was created using the latest stable [merlin-tensorflow](https://catalog.ngc.nvidia.com/orgs/nvidia/teams/merlin/containers/merlin-tensorflow/tags) container and was heavily based on the work done by the NVIDIA Merlin team [here](https://github.com/NVIDIA-Merlin/models/blob/main/examples/05-Retrieval-Model.ipynb)*"
   ]
  },
  {
   "cell_type": "markdown",
   "id": "401daa6d",
   "metadata": {
    "pycharm": {
     "name": "#%% md\n"
    }
   },
   "source": [
    "## About the Dataset\n",
    "\n",
    "In this notebook, we use a synthetic dataset that are mimicking the [Ali-CCP: Alibaba Click and Conversion Prediction](https://tianchi.aliyun.com/dataset/dataDetail?dataId=408#1) dataset. The synthetic nature allows us to tune it to our exact needs for demonstration/learning purposes.\n"
   ]
  },
  {
   "cell_type": "markdown",
   "id": "cdac1fea",
   "metadata": {
    "pycharm": {
     "name": "#%% md\n"
    }
   },
   "source": [
    "### Importing Libraries"
   ]
  },
  {
   "cell_type": "code",
   "execution_count": 1,
   "id": "92aa8daa",
   "metadata": {
    "collapsed": true,
    "jupyter": {
     "outputs_hidden": true
    },
    "pycharm": {
     "name": "#%%\n"
    },
    "tags": []
   },
   "outputs": [
    {
     "name": "stderr",
     "output_type": "stream",
     "text": [
      "/usr/local/lib/python3.8/dist-packages/tqdm/auto.py:22: TqdmWarning: IProgress not found. Please update jupyter and ipywidgets. See https://ipywidgets.readthedocs.io/en/stable/user_install.html\n",
      "  from .autonotebook import tqdm as notebook_tqdm\n",
      "2023-01-11 20:36:30.520117: I tensorflow/core/util/util.cc:169] oneDNN custom operations are on. You may see slightly different numerical results due to floating-point round-off errors from different computation orders. To turn them off, set the environment variable `TF_ENABLE_ONEDNN_OPTS=0`.\n",
      "/usr/lib/python3/dist-packages/requests/__init__.py:89: RequestsDependencyWarning: urllib3 (1.26.12) or chardet (3.0.4) doesn't match a supported version!\n",
      "  warnings.warn(\"urllib3 ({}) or chardet ({}) doesn't match a supported \"\n",
      "2023-01-11 20:36:32.417133: I tensorflow/stream_executor/cuda/cuda_gpu_executor.cc:991] successful NUMA node read from SysFS had negative value (-1), but there must be at least one NUMA node, so returning NUMA node zero\n",
      "2023-01-11 20:36:32.419064: I tensorflow/stream_executor/cuda/cuda_gpu_executor.cc:991] successful NUMA node read from SysFS had negative value (-1), but there must be at least one NUMA node, so returning NUMA node zero\n",
      "2023-01-11 20:36:32.420450: I tensorflow/stream_executor/cuda/cuda_gpu_executor.cc:991] successful NUMA node read from SysFS had negative value (-1), but there must be at least one NUMA node, so returning NUMA node zero\n",
      "2023-01-11 20:36:33.094721: I tensorflow/core/platform/cpu_feature_guard.cc:194] This TensorFlow binary is optimized with oneAPI Deep Neural Network Library (oneDNN) to use the following CPU instructions in performance-critical operations:  SSE3 SSE4.1 SSE4.2 AVX\n",
      "To enable them in other operations, rebuild TensorFlow with the appropriate compiler flags.\n",
      "2023-01-11 20:36:33.095183: I tensorflow/stream_executor/cuda/cuda_gpu_executor.cc:991] successful NUMA node read from SysFS had negative value (-1), but there must be at least one NUMA node, so returning NUMA node zero\n",
      "2023-01-11 20:36:33.096667: I tensorflow/stream_executor/cuda/cuda_gpu_executor.cc:991] successful NUMA node read from SysFS had negative value (-1), but there must be at least one NUMA node, so returning NUMA node zero\n",
      "2023-01-11 20:36:33.098029: I tensorflow/stream_executor/cuda/cuda_gpu_executor.cc:991] successful NUMA node read from SysFS had negative value (-1), but there must be at least one NUMA node, so returning NUMA node zero\n",
      "2023-01-11 20:36:34.766879: I tensorflow/stream_executor/cuda/cuda_gpu_executor.cc:991] successful NUMA node read from SysFS had negative value (-1), but there must be at least one NUMA node, so returning NUMA node zero\n",
      "2023-01-11 20:36:34.768493: I tensorflow/stream_executor/cuda/cuda_gpu_executor.cc:991] successful NUMA node read from SysFS had negative value (-1), but there must be at least one NUMA node, so returning NUMA node zero\n",
      "2023-01-11 20:36:34.769887: I tensorflow/stream_executor/cuda/cuda_gpu_executor.cc:991] successful NUMA node read from SysFS had negative value (-1), but there must be at least one NUMA node, so returning NUMA node zero\n",
      "2023-01-11 20:36:34.771229: I tensorflow/core/common_runtime/gpu/gpu_device.cc:1532] Created device /job:localhost/replica:0/task:0/device:GPU:0 with 7680 MB memory:  -> device: 0, name: Tesla T4, pci bus id: 0000:00:1e.0, compute capability: 7.5\n"
     ]
    }
   ],
   "source": [
    "import os\n",
    "import logging\n",
    "\n",
    "import nvtabular as nvt\n",
    "import merlin.models.tf as mm\n",
    "import tensorflow as tf\n",
    "\n",
    "from nvtabular.ops import *\n",
    "\n",
    "from merlin.datasets.synthetic import generate_data\n",
    "from merlin.datasets.ecommerce import transform_aliccp\n",
    "from merlin.models.utils.example_utils import workflow_fit_transform\n",
    "from merlin.models.utils.dataset import unique_rows_by_features\n",
    "from merlin.schema.tags import Tags\n",
    "from merlin.io.dataset import Dataset\n",
    "\n",
    "\n",
    "# disable INFO and DEBUG logging everywhere\n",
    "logging.disable(logging.WARNING)"
   ]
  },
  {
   "cell_type": "markdown",
   "id": "0ac0eef4",
   "metadata": {
    "pycharm": {
     "name": "#%% md\n"
    }
   },
   "source": [
    "## Generate Synthetic Ali-CCP Dataset"
   ]
  },
  {
   "cell_type": "code",
   "execution_count": 4,
   "id": "870acd78",
   "metadata": {
    "pycharm": {
     "name": "#%%\n"
    }
   },
   "outputs": [],
   "source": [
    "def generate_aliccp_data(num_rows: int, train_size: float, valid_size: float):\n",
    "    train, valid = generate_data(\"aliccp-raw\", num_rows, set_sizes=(train_size, valid_size))\n",
    "    train = train.to_ddf().compute()\n",
    "    valid = valid.to_ddf().compute()\n",
    "    return train, valid\n"
   ]
  },
  {
   "cell_type": "code",
   "execution_count": 27,
   "id": "1dd757a3-2f93-495f-b2c5-5098c997d46e",
   "metadata": {
    "tags": []
   },
   "outputs": [],
   "source": [
    "# Generate the data\n",
    "NUM_ROWS = 1000000\n",
    "TRAIN_SIZE = 0.7\n",
    "VALID_SIZE = 0.3\n",
    "\n",
    "train, valid = generate_aliccp_data(NUM_ROWS, TRAIN_SIZE, VALID_SIZE)"
   ]
  },
  {
   "cell_type": "code",
   "execution_count": 28,
   "id": "4a0454c8-8eec-47cc-82e8-b45637b76d35",
   "metadata": {},
   "outputs": [],
   "source": [
    "# Truncate datasets to only \"positive\" click interactions between User/Item pairs\n",
    "train = train.loc[train['click']==1].reset_index(drop=True)\n",
    "valid = valid.loc[valid['click']==1].reset_index(drop=True)\n",
    "\n",
    "# Drop the \"target\" interaction fields -- no longer need them\n",
    "train = train.drop(['click', 'conversion'], axis=1)\n",
    "valid = valid.drop(['click', 'conversion'], axis=1)"
   ]
  },
  {
   "cell_type": "markdown",
   "id": "a1787e97-e7c2-4f2b-a728-6329b7d6a8c2",
   "metadata": {},
   "source": [
    "**Note:** To be able to learn from this implicit feedback, we use the naive assumption that the interacted items are **more relevant** for the user than the non-interacted ones.\n",
    "\n",
    "This is an assumption for simplification purposes so we can use a negative sampling technique. "
   ]
  },
  {
   "cell_type": "code",
   "execution_count": 29,
   "id": "c6bd9c08-42c6-4aaa-9de5-494e0d5e8f0b",
   "metadata": {},
   "outputs": [],
   "source": [
    "# Use the Merlin Dataset wrapper to create dataset objects\n",
    "train = Dataset(train)\n",
    "valid = Dataset(valid)"
   ]
  },
  {
   "cell_type": "code",
   "execution_count": 30,
   "id": "f23232bf-7822-498f-a036-23e44ef48e50",
   "metadata": {},
   "outputs": [],
   "source": [
    "# Defin output path for data\n",
    "DATA_DIR = os.environ['PWD'] +\"/data/\"\n",
    "OUTPUT_DATA_DIR = os.path.join(DATA_DIR, \"processed\")\n",
    "CATEGORY_TEMP_DIR = os.path.join(DATA_DIR, \"categories\")"
   ]
  },
  {
   "cell_type": "code",
   "execution_count": 31,
   "id": "078593b4",
   "metadata": {
    "pycharm": {
     "name": "#%%\n"
    }
   },
   "outputs": [],
   "source": [
    "# Define Feature Transformation Pipeline\n",
    "\n",
    "user_id = [\"user_id\"] >> Categorify(out_path=CATEGORY_TEMP_DIR) >> TagAsUserID()\n",
    "item_id = [\"item_id\"] >> Categorify(out_path=CATEGORY_TEMP_DIR) >> TagAsItemID()\n",
    "\n",
    "item_features = [\"item_category\", \"item_shop\", \"item_brand\"] >> Categorify(out_path=CATEGORY_TEMP_DIR) >> TagAsItemFeatures()\n",
    "\n",
    "user_features = (\n",
    "    [\n",
    "        \"user_shops\",\n",
    "        \"user_profile\",\n",
    "        \"user_group\",\n",
    "        \"user_gender\",\n",
    "        \"user_age\",\n",
    "        \"user_consumption_2\",\n",
    "        \"user_is_occupied\",\n",
    "        \"user_geography\",\n",
    "        \"user_intentions\",\n",
    "        \"user_brands\",\n",
    "        \"user_categories\",\n",
    "    ]\n",
    "    >> Categorify(out_path=CATEGORY_TEMP_DIR)\n",
    "    >> TagAsUserFeatures()\n",
    ")\n",
    "\n",
    "outputs = user_id + item_id + item_features + user_features"
   ]
  },
  {
   "cell_type": "markdown",
   "id": "2aa99f0b",
   "metadata": {
    "pycharm": {
     "name": "#%% md\n"
    }
   },
   "source": [
    "With `transform_aliccp` function, we can execute fit() and transform() on the raw dataset applying the operators defined in the NVTabular workflow pipeline above. The processed parquet files are saved to output_path."
   ]
  },
  {
   "cell_type": "code",
   "execution_count": 32,
   "id": "07ab4edc",
   "metadata": {
    "pycharm": {
     "name": "#%%\n"
    }
   },
   "outputs": [],
   "source": [
    "# Transform data and create files\n",
    "transform_aliccp((train, valid), OUTPUT_DATA_DIR, nvt_workflow=outputs)"
   ]
  },
  {
   "cell_type": "markdown",
   "id": "df7be4a6",
   "metadata": {
    "pycharm": {
     "name": "#%% md\n"
    }
   },
   "source": [
    "## Building a Two-Tower Model"
   ]
  },
  {
   "cell_type": "markdown",
   "id": "7f7e4a6b",
   "metadata": {
    "pycharm": {
     "name": "#%% md\n"
    }
   },
   "source": [
    "We will use Two-Tower Model to infer a subset of relevant items from large item corpus for a given user. \n",
    "\n",
    "A Two-Tower Model consists of item (candidate) and user (query) encoder towers. With two towers, the model can learn representations (embeddings) for queries and candidates separately. \n",
    "\n",
    "> NEED TO FIND IMG\n",
    "<img src=\"./images/TwoTower.png\"  width=\"30%\">\n",
    "\n",
    "Image Adapted from: [Off-policy Learning in Two-stage Recommender Systems](https://dl.acm.org/doi/abs/10.1145/3366423.3380130)"
   ]
  },
  {
   "cell_type": "code",
   "execution_count": 40,
   "id": "a7e0c257",
   "metadata": {
    "pycharm": {
     "name": "#%%\n"
    }
   },
   "outputs": [
    {
     "name": "stderr",
     "output_type": "stream",
     "text": [
      "/usr/local/lib/python3.8/dist-packages/merlin/schema/tags.py:148: UserWarning: Compound tags like Tags.USER_ID have been deprecated and will be removed in a future version. Please use the atomic versions of these tags, like [<Tags.USER: 'user'>, <Tags.ID: 'id'>].\n",
      "  warnings.warn(\n",
      "/usr/local/lib/python3.8/dist-packages/merlin/schema/tags.py:148: UserWarning: Compound tags like Tags.ITEM_ID have been deprecated and will be removed in a future version. Please use the atomic versions of these tags, like [<Tags.ITEM: 'item'>, <Tags.ID: 'id'>].\n",
      "  warnings.warn(\n"
     ]
    }
   ],
   "source": [
    "# Load from file\n",
    "train = Dataset(os.path.join(OUTPUT_DATA_DIR, \"train\", \"*.parquet\"))\n",
    "valid = Dataset(os.path.join(OUTPUT_DATA_DIR, \"valid\", \"*.parquet\"))"
   ]
  },
  {
   "cell_type": "markdown",
   "id": "fcdb2dbc-9bbd-46ad-aede-44c3ffbaac9d",
   "metadata": {},
   "source": [
    "Use the `schema` object to define our model. Select features with user and item tags, and be sure to exclude target column."
   ]
  },
  {
   "cell_type": "code",
   "execution_count": 41,
   "id": "94eb4048",
   "metadata": {
    "pycharm": {
     "name": "#%%\n"
    }
   },
   "outputs": [],
   "source": [
    "# Schema will consist of the User ID, Item ID, User Features, and Item Features (as defined above)\n",
    "schema = train.schema.select_by_tag([Tags.ITEM_ID, Tags.USER_ID, Tags.ITEM, Tags.USER])\n",
    "\n",
    "# Set the schema for our datasets\n",
    "train.schema = schema\n",
    "valid.schema = schema"
   ]
  },
  {
   "cell_type": "markdown",
   "id": "e3e3469c",
   "metadata": {
    "pycharm": {
     "name": "#%% md\n"
    }
   },
   "source": [
    "Inspect the column names in the schmea here:"
   ]
  },
  {
   "cell_type": "code",
   "execution_count": 43,
   "id": "7d9cffc1-21f8-4574-82bd-89ebcd47713f",
   "metadata": {},
   "outputs": [
    {
     "data": {
      "text/html": [
       "<div>\n",
       "<style scoped>\n",
       "    .dataframe tbody tr th:only-of-type {\n",
       "        vertical-align: middle;\n",
       "    }\n",
       "\n",
       "    .dataframe tbody tr th {\n",
       "        vertical-align: top;\n",
       "    }\n",
       "\n",
       "    .dataframe thead th {\n",
       "        text-align: right;\n",
       "    }\n",
       "</style>\n",
       "<table border=\"1\" class=\"dataframe\">\n",
       "  <thead>\n",
       "    <tr style=\"text-align: right;\">\n",
       "      <th></th>\n",
       "      <th>name</th>\n",
       "      <th>tags</th>\n",
       "      <th>dtype</th>\n",
       "      <th>is_list</th>\n",
       "      <th>is_ragged</th>\n",
       "      <th>properties.num_buckets</th>\n",
       "      <th>properties.freq_threshold</th>\n",
       "      <th>properties.max_size</th>\n",
       "      <th>properties.start_index</th>\n",
       "      <th>properties.cat_path</th>\n",
       "      <th>properties.embedding_sizes.cardinality</th>\n",
       "      <th>properties.embedding_sizes.dimension</th>\n",
       "      <th>properties.domain.min</th>\n",
       "      <th>properties.domain.max</th>\n",
       "      <th>properties.domain.name</th>\n",
       "    </tr>\n",
       "  </thead>\n",
       "  <tbody>\n",
       "    <tr>\n",
       "      <th>0</th>\n",
       "      <td>user_id</td>\n",
       "      <td>(Tags.CATEGORICAL, Tags.USER_ID, Tags.ID, Tags...</td>\n",
       "      <td>int64</td>\n",
       "      <td>False</td>\n",
       "      <td>False</td>\n",
       "      <td>None</td>\n",
       "      <td>0.0</td>\n",
       "      <td>0.0</td>\n",
       "      <td>0.0</td>\n",
       "      <td>/workdir/data/categories/categories/unique.use...</td>\n",
       "      <td>639.0</td>\n",
       "      <td>60.0</td>\n",
       "      <td>0</td>\n",
       "      <td>638</td>\n",
       "      <td>user_id</td>\n",
       "    </tr>\n",
       "    <tr>\n",
       "      <th>1</th>\n",
       "      <td>item_id</td>\n",
       "      <td>(Tags.ITEM, Tags.CATEGORICAL, Tags.ITEM_ID, Ta...</td>\n",
       "      <td>int64</td>\n",
       "      <td>False</td>\n",
       "      <td>False</td>\n",
       "      <td>None</td>\n",
       "      <td>0.0</td>\n",
       "      <td>0.0</td>\n",
       "      <td>0.0</td>\n",
       "      <td>/workdir/data/categories/categories/unique.ite...</td>\n",
       "      <td>673.0</td>\n",
       "      <td>61.0</td>\n",
       "      <td>0</td>\n",
       "      <td>672</td>\n",
       "      <td>item_id</td>\n",
       "    </tr>\n",
       "    <tr>\n",
       "      <th>2</th>\n",
       "      <td>item_category</td>\n",
       "      <td>(Tags.ITEM, Tags.CATEGORICAL)</td>\n",
       "      <td>int64</td>\n",
       "      <td>False</td>\n",
       "      <td>False</td>\n",
       "      <td>None</td>\n",
       "      <td>0.0</td>\n",
       "      <td>0.0</td>\n",
       "      <td>0.0</td>\n",
       "      <td>/workdir/data/categories/categories/unique.ite...</td>\n",
       "      <td>673.0</td>\n",
       "      <td>61.0</td>\n",
       "      <td>0</td>\n",
       "      <td>672</td>\n",
       "      <td>item_category</td>\n",
       "    </tr>\n",
       "    <tr>\n",
       "      <th>3</th>\n",
       "      <td>item_shop</td>\n",
       "      <td>(Tags.ITEM, Tags.CATEGORICAL)</td>\n",
       "      <td>int64</td>\n",
       "      <td>False</td>\n",
       "      <td>False</td>\n",
       "      <td>None</td>\n",
       "      <td>0.0</td>\n",
       "      <td>0.0</td>\n",
       "      <td>0.0</td>\n",
       "      <td>/workdir/data/categories/categories/unique.ite...</td>\n",
       "      <td>673.0</td>\n",
       "      <td>61.0</td>\n",
       "      <td>0</td>\n",
       "      <td>672</td>\n",
       "      <td>item_shop</td>\n",
       "    </tr>\n",
       "    <tr>\n",
       "      <th>4</th>\n",
       "      <td>item_brand</td>\n",
       "      <td>(Tags.ITEM, Tags.CATEGORICAL)</td>\n",
       "      <td>int64</td>\n",
       "      <td>False</td>\n",
       "      <td>False</td>\n",
       "      <td>None</td>\n",
       "      <td>0.0</td>\n",
       "      <td>0.0</td>\n",
       "      <td>0.0</td>\n",
       "      <td>/workdir/data/categories/categories/unique.ite...</td>\n",
       "      <td>673.0</td>\n",
       "      <td>61.0</td>\n",
       "      <td>0</td>\n",
       "      <td>672</td>\n",
       "      <td>item_brand</td>\n",
       "    </tr>\n",
       "    <tr>\n",
       "      <th>5</th>\n",
       "      <td>user_shops</td>\n",
       "      <td>(Tags.CATEGORICAL, Tags.USER)</td>\n",
       "      <td>int64</td>\n",
       "      <td>False</td>\n",
       "      <td>False</td>\n",
       "      <td>None</td>\n",
       "      <td>0.0</td>\n",
       "      <td>0.0</td>\n",
       "      <td>0.0</td>\n",
       "      <td>/workdir/data/categories/categories/unique.use...</td>\n",
       "      <td>639.0</td>\n",
       "      <td>60.0</td>\n",
       "      <td>0</td>\n",
       "      <td>638</td>\n",
       "      <td>user_shops</td>\n",
       "    </tr>\n",
       "    <tr>\n",
       "      <th>6</th>\n",
       "      <td>user_profile</td>\n",
       "      <td>(Tags.CATEGORICAL, Tags.USER)</td>\n",
       "      <td>int64</td>\n",
       "      <td>False</td>\n",
       "      <td>False</td>\n",
       "      <td>None</td>\n",
       "      <td>0.0</td>\n",
       "      <td>0.0</td>\n",
       "      <td>0.0</td>\n",
       "      <td>/workdir/data/categories/categories/unique.use...</td>\n",
       "      <td>54.0</td>\n",
       "      <td>16.0</td>\n",
       "      <td>0</td>\n",
       "      <td>53</td>\n",
       "      <td>user_profile</td>\n",
       "    </tr>\n",
       "    <tr>\n",
       "      <th>7</th>\n",
       "      <td>user_group</td>\n",
       "      <td>(Tags.CATEGORICAL, Tags.USER)</td>\n",
       "      <td>int64</td>\n",
       "      <td>False</td>\n",
       "      <td>False</td>\n",
       "      <td>None</td>\n",
       "      <td>0.0</td>\n",
       "      <td>0.0</td>\n",
       "      <td>0.0</td>\n",
       "      <td>/workdir/data/categories/categories/unique.use...</td>\n",
       "      <td>12.0</td>\n",
       "      <td>16.0</td>\n",
       "      <td>0</td>\n",
       "      <td>11</td>\n",
       "      <td>user_group</td>\n",
       "    </tr>\n",
       "    <tr>\n",
       "      <th>8</th>\n",
       "      <td>user_gender</td>\n",
       "      <td>(Tags.CATEGORICAL, Tags.USER)</td>\n",
       "      <td>int64</td>\n",
       "      <td>False</td>\n",
       "      <td>False</td>\n",
       "      <td>None</td>\n",
       "      <td>0.0</td>\n",
       "      <td>0.0</td>\n",
       "      <td>0.0</td>\n",
       "      <td>/workdir/data/categories/categories/unique.use...</td>\n",
       "      <td>3.0</td>\n",
       "      <td>16.0</td>\n",
       "      <td>0</td>\n",
       "      <td>2</td>\n",
       "      <td>user_gender</td>\n",
       "    </tr>\n",
       "    <tr>\n",
       "      <th>9</th>\n",
       "      <td>user_age</td>\n",
       "      <td>(Tags.CATEGORICAL, Tags.USER)</td>\n",
       "      <td>int64</td>\n",
       "      <td>False</td>\n",
       "      <td>False</td>\n",
       "      <td>None</td>\n",
       "      <td>0.0</td>\n",
       "      <td>0.0</td>\n",
       "      <td>0.0</td>\n",
       "      <td>/workdir/data/categories/categories/unique.use...</td>\n",
       "      <td>8.0</td>\n",
       "      <td>16.0</td>\n",
       "      <td>0</td>\n",
       "      <td>7</td>\n",
       "      <td>user_age</td>\n",
       "    </tr>\n",
       "    <tr>\n",
       "      <th>10</th>\n",
       "      <td>user_consumption_2</td>\n",
       "      <td>(Tags.CATEGORICAL, Tags.USER)</td>\n",
       "      <td>int64</td>\n",
       "      <td>False</td>\n",
       "      <td>False</td>\n",
       "      <td>None</td>\n",
       "      <td>0.0</td>\n",
       "      <td>0.0</td>\n",
       "      <td>0.0</td>\n",
       "      <td>/workdir/data/categories/categories/unique.use...</td>\n",
       "      <td>4.0</td>\n",
       "      <td>16.0</td>\n",
       "      <td>0</td>\n",
       "      <td>3</td>\n",
       "      <td>user_consumption_2</td>\n",
       "    </tr>\n",
       "    <tr>\n",
       "      <th>11</th>\n",
       "      <td>user_is_occupied</td>\n",
       "      <td>(Tags.CATEGORICAL, Tags.USER)</td>\n",
       "      <td>int64</td>\n",
       "      <td>False</td>\n",
       "      <td>False</td>\n",
       "      <td>None</td>\n",
       "      <td>0.0</td>\n",
       "      <td>0.0</td>\n",
       "      <td>0.0</td>\n",
       "      <td>/workdir/data/categories/categories/unique.use...</td>\n",
       "      <td>3.0</td>\n",
       "      <td>16.0</td>\n",
       "      <td>0</td>\n",
       "      <td>2</td>\n",
       "      <td>user_is_occupied</td>\n",
       "    </tr>\n",
       "    <tr>\n",
       "      <th>12</th>\n",
       "      <td>user_geography</td>\n",
       "      <td>(Tags.CATEGORICAL, Tags.USER)</td>\n",
       "      <td>int64</td>\n",
       "      <td>False</td>\n",
       "      <td>False</td>\n",
       "      <td>None</td>\n",
       "      <td>0.0</td>\n",
       "      <td>0.0</td>\n",
       "      <td>0.0</td>\n",
       "      <td>/workdir/data/categories/categories/unique.use...</td>\n",
       "      <td>5.0</td>\n",
       "      <td>16.0</td>\n",
       "      <td>0</td>\n",
       "      <td>4</td>\n",
       "      <td>user_geography</td>\n",
       "    </tr>\n",
       "    <tr>\n",
       "      <th>13</th>\n",
       "      <td>user_intentions</td>\n",
       "      <td>(Tags.CATEGORICAL, Tags.USER)</td>\n",
       "      <td>int64</td>\n",
       "      <td>False</td>\n",
       "      <td>False</td>\n",
       "      <td>None</td>\n",
       "      <td>0.0</td>\n",
       "      <td>0.0</td>\n",
       "      <td>0.0</td>\n",
       "      <td>/workdir/data/categories/categories/unique.use...</td>\n",
       "      <td>639.0</td>\n",
       "      <td>60.0</td>\n",
       "      <td>0</td>\n",
       "      <td>638</td>\n",
       "      <td>user_intentions</td>\n",
       "    </tr>\n",
       "    <tr>\n",
       "      <th>14</th>\n",
       "      <td>user_brands</td>\n",
       "      <td>(Tags.CATEGORICAL, Tags.USER)</td>\n",
       "      <td>int64</td>\n",
       "      <td>False</td>\n",
       "      <td>False</td>\n",
       "      <td>None</td>\n",
       "      <td>0.0</td>\n",
       "      <td>0.0</td>\n",
       "      <td>0.0</td>\n",
       "      <td>/workdir/data/categories/categories/unique.use...</td>\n",
       "      <td>639.0</td>\n",
       "      <td>60.0</td>\n",
       "      <td>0</td>\n",
       "      <td>638</td>\n",
       "      <td>user_brands</td>\n",
       "    </tr>\n",
       "    <tr>\n",
       "      <th>15</th>\n",
       "      <td>user_categories</td>\n",
       "      <td>(Tags.CATEGORICAL, Tags.USER)</td>\n",
       "      <td>int64</td>\n",
       "      <td>False</td>\n",
       "      <td>False</td>\n",
       "      <td>None</td>\n",
       "      <td>0.0</td>\n",
       "      <td>0.0</td>\n",
       "      <td>0.0</td>\n",
       "      <td>/workdir/data/categories/categories/unique.use...</td>\n",
       "      <td>639.0</td>\n",
       "      <td>60.0</td>\n",
       "      <td>0</td>\n",
       "      <td>638</td>\n",
       "      <td>user_categories</td>\n",
       "    </tr>\n",
       "  </tbody>\n",
       "</table>\n",
       "</div>"
      ],
      "text/plain": [
       "[{'name': 'user_id', 'tags': {<Tags.CATEGORICAL: 'categorical'>, <Tags.USER_ID: 'user_id'>, <Tags.ID: 'id'>, <Tags.USER: 'user'>}, 'properties': {'num_buckets': None, 'freq_threshold': 0.0, 'max_size': 0.0, 'start_index': 0.0, 'cat_path': '/workdir/data/categories/categories/unique.user_id.parquet', 'embedding_sizes': {'cardinality': 639.0, 'dimension': 60.0}, 'domain': {'min': 0, 'max': 638, 'name': 'user_id'}}, 'dtype': dtype('int64'), 'is_list': False, 'is_ragged': False}, {'name': 'item_id', 'tags': {<Tags.ITEM: 'item'>, <Tags.CATEGORICAL: 'categorical'>, <Tags.ITEM_ID: 'item_id'>, <Tags.ID: 'id'>}, 'properties': {'num_buckets': None, 'freq_threshold': 0.0, 'max_size': 0.0, 'start_index': 0.0, 'cat_path': '/workdir/data/categories/categories/unique.item_id.parquet', 'embedding_sizes': {'cardinality': 673.0, 'dimension': 61.0}, 'domain': {'min': 0, 'max': 672, 'name': 'item_id'}}, 'dtype': dtype('int64'), 'is_list': False, 'is_ragged': False}, {'name': 'item_category', 'tags': {<Tags.ITEM: 'item'>, <Tags.CATEGORICAL: 'categorical'>}, 'properties': {'num_buckets': None, 'freq_threshold': 0.0, 'max_size': 0.0, 'start_index': 0.0, 'cat_path': '/workdir/data/categories/categories/unique.item_category.parquet', 'embedding_sizes': {'cardinality': 673.0, 'dimension': 61.0}, 'domain': {'min': 0, 'max': 672, 'name': 'item_category'}}, 'dtype': dtype('int64'), 'is_list': False, 'is_ragged': False}, {'name': 'item_shop', 'tags': {<Tags.ITEM: 'item'>, <Tags.CATEGORICAL: 'categorical'>}, 'properties': {'num_buckets': None, 'freq_threshold': 0.0, 'max_size': 0.0, 'start_index': 0.0, 'cat_path': '/workdir/data/categories/categories/unique.item_shop.parquet', 'embedding_sizes': {'cardinality': 673.0, 'dimension': 61.0}, 'domain': {'min': 0, 'max': 672, 'name': 'item_shop'}}, 'dtype': dtype('int64'), 'is_list': False, 'is_ragged': False}, {'name': 'item_brand', 'tags': {<Tags.ITEM: 'item'>, <Tags.CATEGORICAL: 'categorical'>}, 'properties': {'num_buckets': None, 'freq_threshold': 0.0, 'max_size': 0.0, 'start_index': 0.0, 'cat_path': '/workdir/data/categories/categories/unique.item_brand.parquet', 'embedding_sizes': {'cardinality': 673.0, 'dimension': 61.0}, 'domain': {'min': 0, 'max': 672, 'name': 'item_brand'}}, 'dtype': dtype('int64'), 'is_list': False, 'is_ragged': False}, {'name': 'user_shops', 'tags': {<Tags.CATEGORICAL: 'categorical'>, <Tags.USER: 'user'>}, 'properties': {'num_buckets': None, 'freq_threshold': 0.0, 'max_size': 0.0, 'start_index': 0.0, 'cat_path': '/workdir/data/categories/categories/unique.user_shops.parquet', 'embedding_sizes': {'cardinality': 639.0, 'dimension': 60.0}, 'domain': {'min': 0, 'max': 638, 'name': 'user_shops'}}, 'dtype': dtype('int64'), 'is_list': False, 'is_ragged': False}, {'name': 'user_profile', 'tags': {<Tags.CATEGORICAL: 'categorical'>, <Tags.USER: 'user'>}, 'properties': {'num_buckets': None, 'freq_threshold': 0.0, 'max_size': 0.0, 'start_index': 0.0, 'cat_path': '/workdir/data/categories/categories/unique.user_profile.parquet', 'embedding_sizes': {'cardinality': 54.0, 'dimension': 16.0}, 'domain': {'min': 0, 'max': 53, 'name': 'user_profile'}}, 'dtype': dtype('int64'), 'is_list': False, 'is_ragged': False}, {'name': 'user_group', 'tags': {<Tags.CATEGORICAL: 'categorical'>, <Tags.USER: 'user'>}, 'properties': {'num_buckets': None, 'freq_threshold': 0.0, 'max_size': 0.0, 'start_index': 0.0, 'cat_path': '/workdir/data/categories/categories/unique.user_group.parquet', 'embedding_sizes': {'cardinality': 12.0, 'dimension': 16.0}, 'domain': {'min': 0, 'max': 11, 'name': 'user_group'}}, 'dtype': dtype('int64'), 'is_list': False, 'is_ragged': False}, {'name': 'user_gender', 'tags': {<Tags.CATEGORICAL: 'categorical'>, <Tags.USER: 'user'>}, 'properties': {'num_buckets': None, 'freq_threshold': 0.0, 'max_size': 0.0, 'start_index': 0.0, 'cat_path': '/workdir/data/categories/categories/unique.user_gender.parquet', 'embedding_sizes': {'cardinality': 3.0, 'dimension': 16.0}, 'domain': {'min': 0, 'max': 2, 'name': 'user_gender'}}, 'dtype': dtype('int64'), 'is_list': False, 'is_ragged': False}, {'name': 'user_age', 'tags': {<Tags.CATEGORICAL: 'categorical'>, <Tags.USER: 'user'>}, 'properties': {'num_buckets': None, 'freq_threshold': 0.0, 'max_size': 0.0, 'start_index': 0.0, 'cat_path': '/workdir/data/categories/categories/unique.user_age.parquet', 'embedding_sizes': {'cardinality': 8.0, 'dimension': 16.0}, 'domain': {'min': 0, 'max': 7, 'name': 'user_age'}}, 'dtype': dtype('int64'), 'is_list': False, 'is_ragged': False}, {'name': 'user_consumption_2', 'tags': {<Tags.CATEGORICAL: 'categorical'>, <Tags.USER: 'user'>}, 'properties': {'num_buckets': None, 'freq_threshold': 0.0, 'max_size': 0.0, 'start_index': 0.0, 'cat_path': '/workdir/data/categories/categories/unique.user_consumption_2.parquet', 'embedding_sizes': {'cardinality': 4.0, 'dimension': 16.0}, 'domain': {'min': 0, 'max': 3, 'name': 'user_consumption_2'}}, 'dtype': dtype('int64'), 'is_list': False, 'is_ragged': False}, {'name': 'user_is_occupied', 'tags': {<Tags.CATEGORICAL: 'categorical'>, <Tags.USER: 'user'>}, 'properties': {'num_buckets': None, 'freq_threshold': 0.0, 'max_size': 0.0, 'start_index': 0.0, 'cat_path': '/workdir/data/categories/categories/unique.user_is_occupied.parquet', 'embedding_sizes': {'cardinality': 3.0, 'dimension': 16.0}, 'domain': {'min': 0, 'max': 2, 'name': 'user_is_occupied'}}, 'dtype': dtype('int64'), 'is_list': False, 'is_ragged': False}, {'name': 'user_geography', 'tags': {<Tags.CATEGORICAL: 'categorical'>, <Tags.USER: 'user'>}, 'properties': {'num_buckets': None, 'freq_threshold': 0.0, 'max_size': 0.0, 'start_index': 0.0, 'cat_path': '/workdir/data/categories/categories/unique.user_geography.parquet', 'embedding_sizes': {'cardinality': 5.0, 'dimension': 16.0}, 'domain': {'min': 0, 'max': 4, 'name': 'user_geography'}}, 'dtype': dtype('int64'), 'is_list': False, 'is_ragged': False}, {'name': 'user_intentions', 'tags': {<Tags.CATEGORICAL: 'categorical'>, <Tags.USER: 'user'>}, 'properties': {'num_buckets': None, 'freq_threshold': 0.0, 'max_size': 0.0, 'start_index': 0.0, 'cat_path': '/workdir/data/categories/categories/unique.user_intentions.parquet', 'embedding_sizes': {'cardinality': 639.0, 'dimension': 60.0}, 'domain': {'min': 0, 'max': 638, 'name': 'user_intentions'}}, 'dtype': dtype('int64'), 'is_list': False, 'is_ragged': False}, {'name': 'user_brands', 'tags': {<Tags.CATEGORICAL: 'categorical'>, <Tags.USER: 'user'>}, 'properties': {'num_buckets': None, 'freq_threshold': 0.0, 'max_size': 0.0, 'start_index': 0.0, 'cat_path': '/workdir/data/categories/categories/unique.user_brands.parquet', 'embedding_sizes': {'cardinality': 639.0, 'dimension': 60.0}, 'domain': {'min': 0, 'max': 638, 'name': 'user_brands'}}, 'dtype': dtype('int64'), 'is_list': False, 'is_ragged': False}, {'name': 'user_categories', 'tags': {<Tags.CATEGORICAL: 'categorical'>, <Tags.USER: 'user'>}, 'properties': {'num_buckets': None, 'freq_threshold': 0.0, 'max_size': 0.0, 'start_index': 0.0, 'cat_path': '/workdir/data/categories/categories/unique.user_categories.parquet', 'embedding_sizes': {'cardinality': 639.0, 'dimension': 60.0}, 'domain': {'min': 0, 'max': 638, 'name': 'user_categories'}}, 'dtype': dtype('int64'), 'is_list': False, 'is_ragged': False}]"
      ]
     },
     "execution_count": 43,
     "metadata": {},
     "output_type": "execute_result"
    }
   ],
   "source": [
    "schema"
   ]
  },
  {
   "cell_type": "markdown",
   "id": "3095bd9b",
   "metadata": {
    "pycharm": {
     "name": "#%% md\n"
    }
   },
   "source": [
    "As expected, we shouldn't have any label/target data yet"
   ]
  },
  {
   "cell_type": "code",
   "execution_count": 44,
   "id": "68bf449f",
   "metadata": {
    "pycharm": {
     "name": "#%%\n"
    }
   },
   "outputs": [
    {
     "data": {
      "text/plain": [
       "[]"
      ]
     },
     "execution_count": 44,
     "metadata": {},
     "output_type": "execute_result"
    }
   ],
   "source": [
    "label_names = schema.select_by_tag(Tags.TARGET).column_names\n",
    "label_names"
   ]
  },
  {
   "cell_type": "markdown",
   "id": "dd210772-2930-433c-83c3-a1e2dad7d0f6",
   "metadata": {},
   "source": [
    "### About Negative Sampling\n",
    "\n",
    "Many datasets for recommender systems contain implicit feedback with logs of user interactions like clicks, add-to-cart, purchases, music listening events, rather than explicit ratings that reflects user preferences over items. \n",
    "\n",
    "\n",
    "In Merlin Models -- NVIDIA provides some scalable negative sampling algorithms for this Item Retrieval task. In this example, we use the `in-batch` sampling algorithm which uses the items interacted by other users as negatives within the same mini-batch."
   ]
  },
  {
   "cell_type": "markdown",
   "id": "994ddb84-fd90-4547-ae58-c8f678d3dcd7",
   "metadata": {},
   "source": [
    "### Model Architecture\n",
    "\n",
    "The **Two-Tower** model consists of a **User tower** (where all user features are fed) and an **Item tower** (where all item features are fed).\n",
    "\n",
    "The User tower generates an embedding for the User. Then it computes the positive interaction \"score\" (likelihood of interaction event) using the dot-product between the User embedding and the Item embedding, in addition to sampled \"negative\" Items within a batch."
   ]
  },
  {
   "cell_type": "code",
   "execution_count": 45,
   "id": "30446249-70e8-46c2-98eb-40a5e358d86e",
   "metadata": {},
   "outputs": [],
   "source": [
    "def create_two_tower(tower_dim: int, encoder_dim: int, optimizer: str, k: int, tags) -> mm.TwoTowerModelV2:\n",
    "    # User/Query Tower\n",
    "    user_schema = schema.select_by_tag(tags.USER)\n",
    "    # create user (query) tower input block\n",
    "    user_inputs = mm.InputBlockV2(user_schema)\n",
    "    # create user (query) encoder block\n",
    "    query = mm.Encoder(\n",
    "        user_inputs,\n",
    "        mm.MLPBlock([encoder_dim, tower_dim], no_activation_last_layer=True)\n",
    "    )\n",
    "\n",
    "    # Item/Candidate Tower\n",
    "    item_schema = schema.select_by_tag(tags.ITEM)\n",
    "    # create item (candidate) tower input block\n",
    "    item_inputs = mm.InputBlockV2(item_schema)\n",
    "    # create item (candidate) encoder block\n",
    "    candidate = mm.Encoder(\n",
    "        item_inputs,\n",
    "        mm.MLPBlock([encoder_dim, tower_dim], no_activation_last_layer=True)\n",
    "    )\n",
    "    \n",
    "    # Build Model Class\n",
    "    model = mm.TwoTowerModelV2(query, candidate)\n",
    "    model.compile(optimizer=optimizer, run_eagerly=False, metrics=[mm.RecallAt(k), mm.NDCGAt(k)])\n",
    "    return model"
   ]
  },
  {
   "cell_type": "markdown",
   "id": "25407870-5e59-4562-8c39-2869a13ac8bd",
   "metadata": {},
   "source": [
    "**Notes:**\n",
    "- `no_activation_last_layer:` when set True, no activation is used for top hidden layer. Learn more [here](https://storage.googleapis.com/pub-tools-public-publication-data/pdf/b9f4e78a8830fe5afcf2f0452862fb3c0d6584ea.pdf).\n",
    "- In the `TwoTowerModelV2` function we did not set `negative_samplers` arg. By default, it uses contrastive learning and `in-batch` negative sampling strategy.\n",
    "- Two metrics are used to judge the quality of the recommendations: **Normalized Discounted Cumulative Gain (NDCG@K)** and **Recall@K**.\n",
    "    - NDCG@K accounts for rank of the relevant item in the recommendation list and is a more fine-grained metric than HR, which only verifies whether the relevant item is among the top-k items.\n",
    "    - Recall (Also known as HitRate@K) when there is only one relevant item in the recommendation list. Recall just verifies whether the relevant item is among the top-k items.\n",
    "- When we set `validation_data=valid` in the `model.fit()`, we compute evaluation metrics on validation set using the negative sampling strategy used for training. "
   ]
  },
  {
   "cell_type": "code",
   "execution_count": 49,
   "id": "1280bb4f",
   "metadata": {
    "pycharm": {
     "name": "#%%\n"
    }
   },
   "outputs": [
    {
     "name": "stdout",
     "output_type": "stream",
     "text": [
      "Epoch 1/2\n",
      "86/86 [==============================] - 7s 44ms/step - loss: 8.2954 - recall_at_10: 0.0280 - ndcg_at_10: 0.0256 - regularization_loss: 0.0000e+00 - loss_batch: 8.2829 - val_loss: 8.2926 - val_recall_at_10: 0.0328 - val_ndcg_at_10: 0.0327 - val_regularization_loss: 0.0000e+00 - val_loss_batch: 7.9354\n",
      "Epoch 2/2\n",
      "86/86 [==============================] - 3s 33ms/step - loss: 8.2949 - recall_at_10: 0.0289 - ndcg_at_10: 0.0287 - regularization_loss: 0.0000e+00 - loss_batch: 8.2824 - val_loss: 8.2929 - val_recall_at_10: 0.0243 - val_ndcg_at_10: 0.0214 - val_regularization_loss: 0.0000e+00 - val_loss_batch: 7.9365\n"
     ]
    },
    {
     "data": {
      "text/plain": [
       "<keras.callbacks.History at 0x7f6d85deadf0>"
      ]
     },
     "execution_count": 49,
     "metadata": {},
     "output_type": "execute_result"
    }
   ],
   "source": [
    "# Initialize model\n",
    "model = create_two_tower(\n",
    "    tower_dim=64,\n",
    "    encoder_dim=128,\n",
    "    optimizer=\"adam\",\n",
    "    k=10,\n",
    "    tags=Tags\n",
    ")\n",
    "\n",
    "# Fit model\n",
    "model.fit(train, validation_data=valid, batch_size=4096, epochs=2)"
   ]
  },
  {
   "cell_type": "markdown",
   "id": "423c10c2-ae46-45bf-9623-6214c7570ac8",
   "metadata": {},
   "source": [
    "### Evaluate the model accuracy"
   ]
  },
  {
   "cell_type": "markdown",
   "id": "155af447-97c4-4875-97ad-84e678fd7b40",
   "metadata": {},
   "source": [
    "The validation metric values during training are calculated given the positive and negative scores in each batch, and then averaged over batches per epoch. **That means validation metrics are not computed using the entire item catalog.**\n",
    "\n",
    "To determine the exact accuracy, we need to compute the similarity score between a given query and all possible candidates. Below, by using the `topk_model` we can evaluate the trained retrieval model using the entire item catalog (brute force)."
   ]
  },
  {
   "cell_type": "code",
   "execution_count": 54,
   "id": "d4a15e73-4835-4720-bb64-1d745b3b3f61",
   "metadata": {},
   "outputs": [],
   "source": [
    "# Create candidate/item features for evaluation\n",
    "candidate_features = unique_rows_by_features(train, Tags.ITEM, Tags.ITEM_ID)"
   ]
  },
  {
   "cell_type": "code",
   "execution_count": 55,
   "id": "dd362db3-b9d2-4668-bf7b-de139226130a",
   "metadata": {},
   "outputs": [
    {
     "data": {
      "text/html": [
       "<div>\n",
       "<style scoped>\n",
       "    .dataframe tbody tr th:only-of-type {\n",
       "        vertical-align: middle;\n",
       "    }\n",
       "\n",
       "    .dataframe tbody tr th {\n",
       "        vertical-align: top;\n",
       "    }\n",
       "\n",
       "    .dataframe thead th {\n",
       "        text-align: right;\n",
       "    }\n",
       "</style>\n",
       "<table border=\"1\" class=\"dataframe\">\n",
       "  <thead>\n",
       "    <tr style=\"text-align: right;\">\n",
       "      <th></th>\n",
       "      <th>item_id</th>\n",
       "      <th>item_category</th>\n",
       "      <th>item_shop</th>\n",
       "      <th>item_brand</th>\n",
       "    </tr>\n",
       "  </thead>\n",
       "  <tbody>\n",
       "    <tr>\n",
       "      <th>6</th>\n",
       "      <td>1</td>\n",
       "      <td>1</td>\n",
       "      <td>1</td>\n",
       "      <td>1</td>\n",
       "    </tr>\n",
       "    <tr>\n",
       "      <th>64</th>\n",
       "      <td>2</td>\n",
       "      <td>2</td>\n",
       "      <td>2</td>\n",
       "      <td>2</td>\n",
       "    </tr>\n",
       "    <tr>\n",
       "      <th>1</th>\n",
       "      <td>3</td>\n",
       "      <td>3</td>\n",
       "      <td>3</td>\n",
       "      <td>3</td>\n",
       "    </tr>\n",
       "    <tr>\n",
       "      <th>36</th>\n",
       "      <td>4</td>\n",
       "      <td>4</td>\n",
       "      <td>4</td>\n",
       "      <td>4</td>\n",
       "    </tr>\n",
       "    <tr>\n",
       "      <th>15</th>\n",
       "      <td>5</td>\n",
       "      <td>5</td>\n",
       "      <td>5</td>\n",
       "      <td>5</td>\n",
       "    </tr>\n",
       "    <tr>\n",
       "      <th>...</th>\n",
       "      <td>...</td>\n",
       "      <td>...</td>\n",
       "      <td>...</td>\n",
       "      <td>...</td>\n",
       "    </tr>\n",
       "    <tr>\n",
       "      <th>242971</th>\n",
       "      <td>668</td>\n",
       "      <td>668</td>\n",
       "      <td>668</td>\n",
       "      <td>668</td>\n",
       "    </tr>\n",
       "    <tr>\n",
       "      <th>10928</th>\n",
       "      <td>669</td>\n",
       "      <td>669</td>\n",
       "      <td>669</td>\n",
       "      <td>669</td>\n",
       "    </tr>\n",
       "    <tr>\n",
       "      <th>199735</th>\n",
       "      <td>670</td>\n",
       "      <td>670</td>\n",
       "      <td>670</td>\n",
       "      <td>670</td>\n",
       "    </tr>\n",
       "    <tr>\n",
       "      <th>343407</th>\n",
       "      <td>671</td>\n",
       "      <td>671</td>\n",
       "      <td>671</td>\n",
       "      <td>671</td>\n",
       "    </tr>\n",
       "    <tr>\n",
       "      <th>320246</th>\n",
       "      <td>672</td>\n",
       "      <td>672</td>\n",
       "      <td>672</td>\n",
       "      <td>672</td>\n",
       "    </tr>\n",
       "  </tbody>\n",
       "</table>\n",
       "<p>672 rows × 4 columns</p>\n",
       "</div>"
      ],
      "text/plain": [
       "        item_id  item_category  item_shop  item_brand\n",
       "6             1              1          1           1\n",
       "64            2              2          2           2\n",
       "1             3              3          3           3\n",
       "36            4              4          4           4\n",
       "15            5              5          5           5\n",
       "...         ...            ...        ...         ...\n",
       "242971      668            668        668         668\n",
       "10928       669            669        669         669\n",
       "199735      670            670        670         670\n",
       "343407      671            671        671         671\n",
       "320246      672            672        672         672\n",
       "\n",
       "[672 rows x 4 columns]"
      ]
     },
     "execution_count": 55,
     "metadata": {},
     "output_type": "execute_result"
    }
   ],
   "source": [
    "# Here's a display of all of the items\n",
    "candidate_features.to_ddf().compute()"
   ]
  },
  {
   "cell_type": "code",
   "execution_count": 56,
   "id": "288bbf45-2afa-4b1a-ae96-a3a4e525de80",
   "metadata": {},
   "outputs": [
    {
     "name": "stderr",
     "output_type": "stream",
     "text": [
      "/usr/local/lib/python3.8/dist-packages/merlin/schema/tags.py:148: UserWarning: Compound tags like Tags.ITEM_ID have been deprecated and will be removed in a future version. Please use the atomic versions of these tags, like [<Tags.ITEM: 'item'>, <Tags.ID: 'id'>].\n",
      "  warnings.warn(\n"
     ]
    }
   ],
   "source": [
    "# Convert model to a top_k_encoder\n",
    "topk_model = model.to_top_k_encoder(candidate_features, k=20, batch_size=128)\n",
    "\n",
    "# we can set `metrics` param in the `compile(), if we want\n",
    "topk_model.compile(run_eagerly=False)"
   ]
  },
  {
   "cell_type": "code",
   "execution_count": 57,
   "id": "2b42eaa0-996e-43e3-a951-fc013e2d0d3d",
   "metadata": {},
   "outputs": [
    {
     "name": "stdout",
     "output_type": "stream",
     "text": [
      "147/147 [==============================] - 4s 14ms/step - loss: 0.4681 - recall_at_10: 0.0983 - mrr_at_10: 0.0356 - ndcg_at_10: 0.0502 - map_at_10: 0.0356 - precision_at_10: 0.0098 - regularization_loss: 0.0000e+00 - loss_batch: 0.4677\n"
     ]
    },
    {
     "data": {
      "text/plain": [
       "{'loss': 0.46805083751678467,\n",
       " 'recall_at_10': 0.09828343242406845,\n",
       " 'mrr_at_10': 0.03562566637992859,\n",
       " 'ndcg_at_10': 0.0501684807240963,\n",
       " 'map_at_10': 0.03562433272600174,\n",
       " 'precision_at_10': 0.009822357445955276,\n",
       " 'regularization_loss': 0.0,\n",
       " 'loss_batch': 0.42506444454193115}"
      ]
     },
     "execution_count": 57,
     "metadata": {},
     "output_type": "execute_result"
    }
   ],
   "source": [
    "# Create data loader for validation data\n",
    "eval_loader = mm.Loader(valid, batch_size=1024).map(mm.ToTarget(schema, \"item_id\"))\n",
    "\n",
    "# Evaluation\n",
    "metrics = topk_model.evaluate(eval_loader, return_dict=True)\n",
    "metrics"
   ]
  },
  {
   "cell_type": "markdown",
   "id": "f49037a0-a1c2-4a6f-a89e-e67e0e696445",
   "metadata": {},
   "source": [
    "### Generate top-K recommendations"
   ]
  },
  {
   "cell_type": "markdown",
   "id": "454a1acf-5baf-4f38-8ce4-2c05c6e685cb",
   "metadata": {},
   "source": [
    "Let's generate top-K (k=20 in our example) recommendations for a given batch of 8 samples. The `to_top_k_encoder()` method uses the item/candidate features dataset to compute and store all item/candidate embeddings in an index. The forward method of `topk_model` takes as the query/user features as input, and computes the dot product scores between the given query/user embeddings and all the candidates of the top-k index. Then, it returns the top-k (k=20) item ids with the highest scores."
   ]
  },
  {
   "cell_type": "code",
   "execution_count": 189,
   "id": "e9e3c032-0084-46c8-b61c-eb7b8595d71b",
   "metadata": {
    "tags": []
   },
   "outputs": [
    {
     "name": "stdout",
     "output_type": "stream",
     "text": [
      "tf.Tensor(\n",
      "[[1]\n",
      " [2]\n",
      " [3]\n",
      " [4]\n",
      " [5]\n",
      " [6]\n",
      " [7]\n",
      " [8]], shape=(8, 1), dtype=int64)\n"
     ]
    }
   ],
   "source": [
    "# TODO\n",
    "user_features = unique_rows_by_features(train, Tags.USER, Tags.USER_ID)\n",
    "loader = mm.Loader(user_features, batch_size=8, shuffle=False)\n",
    "batch = next(iter(loader))\n",
    "print(batch[0]['user_id'])"
   ]
  },
  {
   "cell_type": "markdown",
   "id": "7b7b8048-1a90-4311-8d19-be6e8715fc7f",
   "metadata": {},
   "source": [
    "The recommended top 20 item ids are returned below for each of the 8 selected users (from the validation set). The output of the method is a named tuple `TopKPrediction`, where the first element is the dot product scores and the second element is the encoded item ids (not the original ids)."
   ]
  },
  {
   "cell_type": "code",
   "execution_count": 195,
   "id": "0e720af4-70cd-40c8-857b-75e127e7d867",
   "metadata": {},
   "outputs": [],
   "source": [
    "scores, reccommended_item_ids = topk_model(batch[0])"
   ]
  },
  {
   "cell_type": "code",
   "execution_count": 196,
   "id": "ed2b07aa-ada9-4f37-a5d2-a4dea5940403",
   "metadata": {},
   "outputs": [
    {
     "data": {
      "text/plain": [
       "<tf.Tensor: shape=(8, 20), dtype=int32, numpy=\n",
       "array([[ 44, 116,  41,  82, 176, 427, 120,  46,  13,   9, 141, 435,  27,\n",
       "         30,   1, 309, 190, 302, 501,  79],\n",
       "       [  2, 342, 309,   3,  15, 255, 334, 666,  66, 562, 319, 171, 341,\n",
       "         17, 439, 205, 590, 234, 509,  27],\n",
       "       [154,  15, 166, 156, 261,  64, 326, 293, 214, 360,  10, 359, 134,\n",
       "        425, 379, 348,  27, 513,   3, 351],\n",
       "       [  5,   6,   9, 433, 382, 185, 290,   8, 341,  11, 466, 226, 297,\n",
       "        309,  20,   7, 440, 180,   4, 176],\n",
       "       [  3,  10,  21, 208, 256, 441, 129,   2, 353, 321, 486, 192,   5,\n",
       "        150, 123,  16, 188, 285, 379,  69],\n",
       "       [  5,  10,  18,   8,   6, 150,  21, 286, 157, 128, 256,  95, 311,\n",
       "        358,  22, 623, 604, 584, 129, 237],\n",
       "       [205, 326,  14,  10, 166,  15,   6,  19,  18, 457,  22, 297, 662,\n",
       "        256, 154, 530, 162,   4, 102, 185],\n",
       "       [ 13, 171,   1, 141, 120, 309, 226,  41, 494,  17, 427,  62,   6,\n",
       "         44,   2,   4,  25, 243, 280,   9]], dtype=int32)>"
      ]
     },
     "execution_count": 196,
     "metadata": {},
     "output_type": "execute_result"
    }
   ],
   "source": [
    "# TODO\n",
    "reccommended_item_ids"
   ]
  },
  {
   "cell_type": "code",
   "execution_count": 197,
   "id": "59a74673-73ba-4706-be99-c3037f2bd6ba",
   "metadata": {},
   "outputs": [
    {
     "data": {
      "text/plain": [
       "<tf.Tensor: shape=(8, 20), dtype=float32, numpy=\n",
       "array([[0.11971331, 0.11730451, 0.11710918, 0.10144109, 0.10136084,\n",
       "        0.10009474, 0.09451863, 0.09426868, 0.09191871, 0.09190184,\n",
       "        0.08844166, 0.08825772, 0.08708625, 0.08590761, 0.08502369,\n",
       "        0.08320396, 0.08169447, 0.08130737, 0.08104654, 0.08101486],\n",
       "       [0.1007937 , 0.05819228, 0.05676133, 0.05507875, 0.05385191,\n",
       "        0.05231218, 0.05026827, 0.04818096, 0.04429016, 0.04413381,\n",
       "        0.04370643, 0.04094318, 0.04007391, 0.03957719, 0.03950412,\n",
       "        0.03864555, 0.03795424, 0.03625087, 0.03609602, 0.03584536],\n",
       "       [0.04929588, 0.04792584, 0.04485624, 0.04083929, 0.0402455 ,\n",
       "        0.03739437, 0.03208239, 0.0317454 , 0.03147587, 0.02995438,\n",
       "        0.02948501, 0.0286586 , 0.02753394, 0.02735972, 0.02705404,\n",
       "        0.02617747, 0.02584481, 0.02583223, 0.02566369, 0.02544329],\n",
       "       [0.05400515, 0.05316183, 0.04638377, 0.04348372, 0.04185567,\n",
       "        0.04057237, 0.0401042 , 0.03878526, 0.03799238, 0.03712644,\n",
       "        0.03696866, 0.03675418, 0.03672462, 0.03615506, 0.03583529,\n",
       "        0.03476873, 0.03378643, 0.03356779, 0.03316432, 0.03295701],\n",
       "       [0.08545701, 0.05840352, 0.05373397, 0.05223067, 0.04699564,\n",
       "        0.04400649, 0.04399273, 0.04351117, 0.0377435 , 0.03766141,\n",
       "        0.03738001, 0.03727803, 0.03672494, 0.0352943 , 0.03493336,\n",
       "        0.03473661, 0.03434664, 0.03398754, 0.03396828, 0.03391841],\n",
       "       [0.05955682, 0.05541104, 0.05287089, 0.04925102, 0.04243463,\n",
       "        0.04049625, 0.03602828, 0.03470893, 0.03457785, 0.03375134,\n",
       "        0.02871585, 0.02830495, 0.02663932, 0.0254396 , 0.0251481 ,\n",
       "        0.02474936, 0.02448241, 0.0238284 , 0.02352052, 0.02195332],\n",
       "       [0.04222386, 0.03876121, 0.03514057, 0.03483823, 0.02966836,\n",
       "        0.02820649, 0.02800749, 0.02740963, 0.02738113, 0.02730665,\n",
       "        0.02700741, 0.02603692, 0.02527386, 0.02518344, 0.02402369,\n",
       "        0.02385611, 0.02311054, 0.0231021 , 0.02290544, 0.02288852],\n",
       "       [0.09456923, 0.09364624, 0.08952492, 0.08560268, 0.08470289,\n",
       "        0.07953645, 0.0788096 , 0.07844701, 0.07715099, 0.07478125,\n",
       "        0.07356753, 0.07334262, 0.07242328, 0.07109572, 0.07096574,\n",
       "        0.07041355, 0.06863972, 0.06656671, 0.06516913, 0.06385882]],\n",
       "      dtype=float32)>"
      ]
     },
     "execution_count": 197,
     "metadata": {},
     "output_type": "execute_result"
    }
   ],
   "source": [
    "# TODO\n",
    "scores"
   ]
  },
  {
   "cell_type": "markdown",
   "id": "ea442dd4-e570-4500-80ae-7996f9acaed5",
   "metadata": {},
   "source": [
    "## Writing Recommendations to the Inference Store\n",
    "\n",
    "Redis is used (low latency k-v store) to persist recommendations for each User.\n"
   ]
  },
  {
   "cell_type": "code",
   "execution_count": 198,
   "id": "c8fd929c-ec80-49d8-ba44-7a7a81ce9a26",
   "metadata": {},
   "outputs": [],
   "source": [
    "import asyncio\n",
    "import redis.asyncio as redis\n",
    "\n",
    "from redis.commands.json.path import Path\n",
    "\n",
    "\n",
    "def generate_topk_recs(topk_model, user_features, K: int, batch_size: int):\n",
    "    loader = mm.Loader(user_features, batch_size=batch_size, shuffle=False)\n",
    "    for batch in loader:\n",
    "        users = batch[0]['user_id']\n",
    "        \n",
    "        scores, topk_items = topk_model(batch[0])\n",
    "        for user, recs in zip(users.numpy(), topk_items.numpy()):\n",
    "            user_id = user[0]\n",
    "            yield user_id, recs.tolist()[:K]"
   ]
  },
  {
   "cell_type": "code",
   "execution_count": 199,
   "id": "69da8ced-ddb5-4593-a43d-dfe4f562d2be",
   "metadata": {},
   "outputs": [
    {
     "data": {
      "text/plain": [
       "(4, [5, 6, 9, 433, 382, 185, 290, 8, 341, 11])"
      ]
     },
     "execution_count": 199,
     "metadata": {},
     "output_type": "execute_result"
    }
   ],
   "source": [
    "# Test Recommendation Generator\n",
    "next(generate_topk_recs(topk_model, valid, K=10, batch_size=32))\n",
    "\n",
    "# SEE BELOW: User ID --> Top K Item IDs"
   ]
  },
  {
   "cell_type": "code",
   "execution_count": 203,
   "id": "1dd3991a-3810-4683-bad6-8438ba4a5fd4",
   "metadata": {},
   "outputs": [],
   "source": [
    "async def store_recommendations(topk_model, valid, n: int, redis_conn: redis.Redis):\n",
    "    \"\"\"\n",
    "    Store recommendations generated for each User.\n",
    "    \"\"\"\n",
    "    semaphore = asyncio.Semaphore(n)\n",
    "    async def store(user_id: str, recs: list):\n",
    "        \"\"\"\n",
    "        Store and individual User's latest recommendations in Redis.\n",
    "        \"\"\"\n",
    "        async with semaphore:\n",
    "            entry = {\n",
    "                \"user_id\": int(user_id),\n",
    "                \"recommendations\": [int(rec) for rec in recs]\n",
    "            }\n",
    "            # Set the JSON object in Redis\n",
    "            await redis_conn.json().set(f\"USER:{user_id}\", Path.root_path(), entry)\n",
    "    \n",
    "    # create generator\n",
    "    topk_recs_per_user = generate_topk_recs(topk_model, valid, K=10, batch_size=32)\n",
    "    # gather with \"concurrency\"\n",
    "    await asyncio.gather(*[store(user_id, recs) for user_id, recs in topk_recs_per_user])"
   ]
  },
  {
   "cell_type": "code",
   "execution_count": 204,
   "id": "8bd57904-4419-4b77-9ece-eb323c0a3349",
   "metadata": {},
   "outputs": [],
   "source": [
    "redis_conn = redis.Redis(\n",
    "    host=\"redis-inference-store\",\n",
    "    port=6379,\n",
    "    decode_responses=True\n",
    ")\n",
    "\n",
    "# Run the process\n",
    "await store_recommendations(topk_model, valid, n=100, redis_conn=redis_conn)"
   ]
  },
  {
   "cell_type": "code",
   "execution_count": 205,
   "id": "b2b44758-b274-4f39-b1f0-b21193f2e94b",
   "metadata": {},
   "outputs": [
    {
     "name": "stdout",
     "output_type": "stream",
     "text": [
      "/bin/bash: redis-cli: command not found\n"
     ]
    }
   ],
   "source": [
    "!redis-cli -h redis-inference-store -p 6379 hgetall USER:1"
   ]
  },
  {
   "cell_type": "markdown",
   "id": "287e905a-41e9-4077-a05d-f5106cba15c4",
   "metadata": {},
   "source": [
    "## Conclusion\n",
    "\n",
    "Now you have all of the tools to **train**\n",
    "\n",
    "blah blah blah"
   ]
  },
  {
   "cell_type": "markdown",
   "id": "b19062ef",
   "metadata": {
    "pycharm": {
     "name": "#%% md\n"
    }
   },
   "source": [
    "## Exporting Retrieval Models"
   ]
  },
  {
   "cell_type": "markdown",
   "id": "abf8cb35",
   "metadata": {
    "pycharm": {
     "name": "#%% md\n"
    }
   },
   "source": [
    "So far we have trained and evaluated our Retrieval model. Now, the next step is to deploy our model and generate top-K recommendations given a user (query). We can efficiently serve our model by indexing the trained item embeddings into an **Approximate Nearest Neighbors (ANN)** engine. Basically, for a given user query vector, that is generated passing the user features into user tower of retrieval model, we do an ANN search query to find the ids of nearby item vectors, and at serve time, we score user embeddings over all indexed top-K item embeddings within the ANN engine.\n",
    "\n",
    "In doing so, we need to export\n",
    " \n",
    "- user (query) tower\n",
    "- item and user features\n",
    "- item embeddings"
   ]
  },
  {
   "cell_type": "markdown",
   "id": "a01df11e",
   "metadata": {
    "pycharm": {
     "name": "#%% md\n"
    }
   },
   "source": [
    "#### Save and Load User (query) tower"
   ]
  },
  {
   "cell_type": "markdown",
   "id": "f4dc5e2c",
   "metadata": {
    "pycharm": {
     "name": "#%% md\n"
    }
   },
   "source": [
    "We are able to save the user tower model as a TF model to disk. The user tower model is needed to generate a user embedding vector when a user feature vector <i>x</i> is fed into that model."
   ]
  },
  {
   "cell_type": "code",
   "execution_count": 167,
   "id": "07c68eb4",
   "metadata": {
    "pycharm": {
     "name": "#%%\n"
    }
   },
   "outputs": [],
   "source": [
    "query_tower = model.query_encoder\n",
    "query_tower.save(os.path.join(DATA_DIR, \"query_tower\"))\n",
    "\n",
    "## we can load back the saved model via the following script.\n",
    "#query_tower_loaded = tf.keras.models.load_model(os.path.join(DATA_FOLDER, 'query_tower'))"
   ]
  },
  {
   "cell_type": "markdown",
   "id": "e4c031f8",
   "metadata": {
    "pycharm": {
     "name": "#%% md\n"
    }
   },
   "source": [
    "#### Extract and save User features"
   ]
  },
  {
   "cell_type": "markdown",
   "id": "9cdd88a9",
   "metadata": {
    "pycharm": {
     "name": "#%% md\n"
    }
   },
   "source": [
    "With `unique_rows_by_features` utility function we can easily extract both unique user and item features tables as cuDF dataframes. Note that for user features table, we use `USER` and `USER_ID` tags."
   ]
  },
  {
   "cell_type": "code",
   "execution_count": 168,
   "id": "1f861ac4",
   "metadata": {
    "pycharm": {
     "name": "#%%\n"
    }
   },
   "outputs": [],
   "source": [
    "user_features = (\n",
    "    unique_rows_by_features(train, Tags.USER, Tags.USER_ID).compute().reset_index(drop=True)\n",
    ")"
   ]
  },
  {
   "cell_type": "code",
   "execution_count": 169,
   "id": "f88fcb3a",
   "metadata": {
    "pycharm": {
     "name": "#%%\n"
    }
   },
   "outputs": [
    {
     "data": {
      "text/html": [
       "<div>\n",
       "<style scoped>\n",
       "    .dataframe tbody tr th:only-of-type {\n",
       "        vertical-align: middle;\n",
       "    }\n",
       "\n",
       "    .dataframe tbody tr th {\n",
       "        vertical-align: top;\n",
       "    }\n",
       "\n",
       "    .dataframe thead th {\n",
       "        text-align: right;\n",
       "    }\n",
       "</style>\n",
       "<table border=\"1\" class=\"dataframe\">\n",
       "  <thead>\n",
       "    <tr style=\"text-align: right;\">\n",
       "      <th></th>\n",
       "      <th>user_id</th>\n",
       "      <th>user_shops</th>\n",
       "      <th>user_profile</th>\n",
       "      <th>user_group</th>\n",
       "      <th>user_gender</th>\n",
       "      <th>user_age</th>\n",
       "      <th>user_consumption_2</th>\n",
       "      <th>user_is_occupied</th>\n",
       "      <th>user_geography</th>\n",
       "      <th>user_intentions</th>\n",
       "      <th>user_brands</th>\n",
       "      <th>user_categories</th>\n",
       "    </tr>\n",
       "  </thead>\n",
       "  <tbody>\n",
       "    <tr>\n",
       "      <th>0</th>\n",
       "      <td>1</td>\n",
       "      <td>1</td>\n",
       "      <td>1</td>\n",
       "      <td>1</td>\n",
       "      <td>1</td>\n",
       "      <td>1</td>\n",
       "      <td>1</td>\n",
       "      <td>1</td>\n",
       "      <td>1</td>\n",
       "      <td>1</td>\n",
       "      <td>1</td>\n",
       "      <td>1</td>\n",
       "    </tr>\n",
       "    <tr>\n",
       "      <th>1</th>\n",
       "      <td>2</td>\n",
       "      <td>2</td>\n",
       "      <td>1</td>\n",
       "      <td>1</td>\n",
       "      <td>1</td>\n",
       "      <td>1</td>\n",
       "      <td>1</td>\n",
       "      <td>1</td>\n",
       "      <td>1</td>\n",
       "      <td>2</td>\n",
       "      <td>2</td>\n",
       "      <td>2</td>\n",
       "    </tr>\n",
       "    <tr>\n",
       "      <th>2</th>\n",
       "      <td>3</td>\n",
       "      <td>3</td>\n",
       "      <td>1</td>\n",
       "      <td>1</td>\n",
       "      <td>1</td>\n",
       "      <td>1</td>\n",
       "      <td>1</td>\n",
       "      <td>1</td>\n",
       "      <td>1</td>\n",
       "      <td>3</td>\n",
       "      <td>3</td>\n",
       "      <td>3</td>\n",
       "    </tr>\n",
       "    <tr>\n",
       "      <th>3</th>\n",
       "      <td>4</td>\n",
       "      <td>4</td>\n",
       "      <td>1</td>\n",
       "      <td>1</td>\n",
       "      <td>1</td>\n",
       "      <td>1</td>\n",
       "      <td>1</td>\n",
       "      <td>1</td>\n",
       "      <td>1</td>\n",
       "      <td>4</td>\n",
       "      <td>4</td>\n",
       "      <td>4</td>\n",
       "    </tr>\n",
       "    <tr>\n",
       "      <th>4</th>\n",
       "      <td>5</td>\n",
       "      <td>5</td>\n",
       "      <td>1</td>\n",
       "      <td>1</td>\n",
       "      <td>1</td>\n",
       "      <td>1</td>\n",
       "      <td>1</td>\n",
       "      <td>1</td>\n",
       "      <td>1</td>\n",
       "      <td>5</td>\n",
       "      <td>5</td>\n",
       "      <td>5</td>\n",
       "    </tr>\n",
       "  </tbody>\n",
       "</table>\n",
       "</div>"
      ],
      "text/plain": [
       "   user_id  user_shops  user_profile  user_group  user_gender  user_age  \\\n",
       "0        1           1             1           1            1         1   \n",
       "1        2           2             1           1            1         1   \n",
       "2        3           3             1           1            1         1   \n",
       "3        4           4             1           1            1         1   \n",
       "4        5           5             1           1            1         1   \n",
       "\n",
       "   user_consumption_2  user_is_occupied  user_geography  user_intentions  \\\n",
       "0                   1                 1               1                1   \n",
       "1                   1                 1               1                2   \n",
       "2                   1                 1               1                3   \n",
       "3                   1                 1               1                4   \n",
       "4                   1                 1               1                5   \n",
       "\n",
       "   user_brands  user_categories  \n",
       "0            1                1  \n",
       "1            2                2  \n",
       "2            3                3  \n",
       "3            4                4  \n",
       "4            5                5  "
      ]
     },
     "execution_count": 169,
     "metadata": {},
     "output_type": "execute_result"
    }
   ],
   "source": [
    "user_features.head()"
   ]
  },
  {
   "cell_type": "code",
   "execution_count": 171,
   "id": "33758417",
   "metadata": {
    "pycharm": {
     "name": "#%%\n"
    }
   },
   "outputs": [],
   "source": [
    "# save to disk\n",
    "user_features.to_parquet(os.path.join(DATA_DIR, \"user_features.parquet\"))"
   ]
  },
  {
   "cell_type": "markdown",
   "id": "184f6cf6-cc5e-459e-9d87-5fdcd01d8c85",
   "metadata": {},
   "source": [
    "#### Generate Query embeddings for entire user catalog"
   ]
  },
  {
   "cell_type": "code",
   "execution_count": 172,
   "id": "5d31a12c-ca41-4b02-9288-7d6b31d54e39",
   "metadata": {},
   "outputs": [
    {
     "name": "stderr",
     "output_type": "stream",
     "text": [
      "/usr/local/lib/python3.8/dist-packages/merlin/schema/tags.py:148: UserWarning: Compound tags like Tags.USER_ID have been deprecated and will be removed in a future version. Please use the atomic versions of these tags, like [<Tags.USER: 'user'>, <Tags.ID: 'id'>].\n",
      "  warnings.warn(\n"
     ]
    }
   ],
   "source": [
    "queries = model.query_embeddings(Dataset(user_features, schema=schema), batch_size=1024, index=Tags.USER_ID)\n",
    "query_embs_df = queries.compute(scheduler=\"synchronous\").reset_index()"
   ]
  },
  {
   "cell_type": "code",
   "execution_count": 173,
   "id": "42b45f67-b3b3-42c3-8d76-b7ac0e391d7d",
   "metadata": {},
   "outputs": [
    {
     "data": {
      "text/html": [
       "<div>\n",
       "<style scoped>\n",
       "    .dataframe tbody tr th:only-of-type {\n",
       "        vertical-align: middle;\n",
       "    }\n",
       "\n",
       "    .dataframe tbody tr th {\n",
       "        vertical-align: top;\n",
       "    }\n",
       "\n",
       "    .dataframe thead th {\n",
       "        text-align: right;\n",
       "    }\n",
       "</style>\n",
       "<table border=\"1\" class=\"dataframe\">\n",
       "  <thead>\n",
       "    <tr style=\"text-align: right;\">\n",
       "      <th></th>\n",
       "      <th>user_id</th>\n",
       "      <th>0</th>\n",
       "      <th>1</th>\n",
       "      <th>2</th>\n",
       "      <th>3</th>\n",
       "      <th>4</th>\n",
       "      <th>5</th>\n",
       "      <th>6</th>\n",
       "      <th>7</th>\n",
       "      <th>8</th>\n",
       "      <th>...</th>\n",
       "      <th>54</th>\n",
       "      <th>55</th>\n",
       "      <th>56</th>\n",
       "      <th>57</th>\n",
       "      <th>58</th>\n",
       "      <th>59</th>\n",
       "      <th>60</th>\n",
       "      <th>61</th>\n",
       "      <th>62</th>\n",
       "      <th>63</th>\n",
       "    </tr>\n",
       "  </thead>\n",
       "  <tbody>\n",
       "    <tr>\n",
       "      <th>0</th>\n",
       "      <td>1</td>\n",
       "      <td>-0.044415</td>\n",
       "      <td>-0.079928</td>\n",
       "      <td>0.141791</td>\n",
       "      <td>-0.054618</td>\n",
       "      <td>0.071080</td>\n",
       "      <td>-0.129675</td>\n",
       "      <td>-0.022908</td>\n",
       "      <td>-0.098638</td>\n",
       "      <td>-0.165534</td>\n",
       "      <td>...</td>\n",
       "      <td>0.069087</td>\n",
       "      <td>-0.041935</td>\n",
       "      <td>-0.088211</td>\n",
       "      <td>0.009338</td>\n",
       "      <td>0.042672</td>\n",
       "      <td>0.064693</td>\n",
       "      <td>0.089439</td>\n",
       "      <td>-0.046101</td>\n",
       "      <td>0.019635</td>\n",
       "      <td>0.063172</td>\n",
       "    </tr>\n",
       "    <tr>\n",
       "      <th>1</th>\n",
       "      <td>2</td>\n",
       "      <td>0.050006</td>\n",
       "      <td>0.048904</td>\n",
       "      <td>0.122381</td>\n",
       "      <td>-0.045254</td>\n",
       "      <td>0.087561</td>\n",
       "      <td>-0.083287</td>\n",
       "      <td>0.047019</td>\n",
       "      <td>-0.062766</td>\n",
       "      <td>-0.025593</td>\n",
       "      <td>...</td>\n",
       "      <td>-0.034007</td>\n",
       "      <td>0.008304</td>\n",
       "      <td>0.003901</td>\n",
       "      <td>-0.041683</td>\n",
       "      <td>0.066743</td>\n",
       "      <td>0.026556</td>\n",
       "      <td>0.051612</td>\n",
       "      <td>-0.048407</td>\n",
       "      <td>0.101967</td>\n",
       "      <td>0.016460</td>\n",
       "    </tr>\n",
       "    <tr>\n",
       "      <th>2</th>\n",
       "      <td>3</td>\n",
       "      <td>0.032441</td>\n",
       "      <td>0.068938</td>\n",
       "      <td>0.144220</td>\n",
       "      <td>0.025580</td>\n",
       "      <td>-0.021241</td>\n",
       "      <td>-0.087041</td>\n",
       "      <td>-0.005831</td>\n",
       "      <td>-0.011544</td>\n",
       "      <td>-0.028608</td>\n",
       "      <td>...</td>\n",
       "      <td>-0.039868</td>\n",
       "      <td>0.022170</td>\n",
       "      <td>-0.067877</td>\n",
       "      <td>-0.045480</td>\n",
       "      <td>0.029166</td>\n",
       "      <td>0.085423</td>\n",
       "      <td>-0.011185</td>\n",
       "      <td>-0.077492</td>\n",
       "      <td>0.052504</td>\n",
       "      <td>0.085522</td>\n",
       "    </tr>\n",
       "    <tr>\n",
       "      <th>3</th>\n",
       "      <td>4</td>\n",
       "      <td>-0.000057</td>\n",
       "      <td>0.027755</td>\n",
       "      <td>0.110519</td>\n",
       "      <td>0.004052</td>\n",
       "      <td>0.026682</td>\n",
       "      <td>-0.023924</td>\n",
       "      <td>0.000899</td>\n",
       "      <td>-0.079054</td>\n",
       "      <td>-0.121010</td>\n",
       "      <td>...</td>\n",
       "      <td>0.042694</td>\n",
       "      <td>-0.068973</td>\n",
       "      <td>-0.055938</td>\n",
       "      <td>-0.039705</td>\n",
       "      <td>0.065993</td>\n",
       "      <td>-0.022096</td>\n",
       "      <td>0.046860</td>\n",
       "      <td>-0.075874</td>\n",
       "      <td>0.105141</td>\n",
       "      <td>0.074089</td>\n",
       "    </tr>\n",
       "    <tr>\n",
       "      <th>4</th>\n",
       "      <td>5</td>\n",
       "      <td>0.038788</td>\n",
       "      <td>0.093953</td>\n",
       "      <td>0.085692</td>\n",
       "      <td>-0.030298</td>\n",
       "      <td>0.056857</td>\n",
       "      <td>-0.076180</td>\n",
       "      <td>0.046644</td>\n",
       "      <td>-0.035246</td>\n",
       "      <td>-0.080857</td>\n",
       "      <td>...</td>\n",
       "      <td>-0.020631</td>\n",
       "      <td>-0.004258</td>\n",
       "      <td>0.006572</td>\n",
       "      <td>-0.032787</td>\n",
       "      <td>0.025109</td>\n",
       "      <td>-0.013951</td>\n",
       "      <td>-0.019807</td>\n",
       "      <td>-0.078905</td>\n",
       "      <td>0.125748</td>\n",
       "      <td>0.012741</td>\n",
       "    </tr>\n",
       "  </tbody>\n",
       "</table>\n",
       "<p>5 rows × 65 columns</p>\n",
       "</div>"
      ],
      "text/plain": [
       "   user_id         0         1         2         3         4         5  \\\n",
       "0        1 -0.044415 -0.079928  0.141791 -0.054618  0.071080 -0.129675   \n",
       "1        2  0.050006  0.048904  0.122381 -0.045254  0.087561 -0.083287   \n",
       "2        3  0.032441  0.068938  0.144220  0.025580 -0.021241 -0.087041   \n",
       "3        4 -0.000057  0.027755  0.110519  0.004052  0.026682 -0.023924   \n",
       "4        5  0.038788  0.093953  0.085692 -0.030298  0.056857 -0.076180   \n",
       "\n",
       "          6         7         8  ...        54        55        56        57  \\\n",
       "0 -0.022908 -0.098638 -0.165534  ...  0.069087 -0.041935 -0.088211  0.009338   \n",
       "1  0.047019 -0.062766 -0.025593  ... -0.034007  0.008304  0.003901 -0.041683   \n",
       "2 -0.005831 -0.011544 -0.028608  ... -0.039868  0.022170 -0.067877 -0.045480   \n",
       "3  0.000899 -0.079054 -0.121010  ...  0.042694 -0.068973 -0.055938 -0.039705   \n",
       "4  0.046644 -0.035246 -0.080857  ... -0.020631 -0.004258  0.006572 -0.032787   \n",
       "\n",
       "         58        59        60        61        62        63  \n",
       "0  0.042672  0.064693  0.089439 -0.046101  0.019635  0.063172  \n",
       "1  0.066743  0.026556  0.051612 -0.048407  0.101967  0.016460  \n",
       "2  0.029166  0.085423 -0.011185 -0.077492  0.052504  0.085522  \n",
       "3  0.065993 -0.022096  0.046860 -0.075874  0.105141  0.074089  \n",
       "4  0.025109 -0.013951 -0.019807 -0.078905  0.125748  0.012741  \n",
       "\n",
       "[5 rows x 65 columns]"
      ]
     },
     "execution_count": 173,
     "metadata": {},
     "output_type": "execute_result"
    }
   ],
   "source": [
    "query_embs_df.head()"
   ]
  },
  {
   "cell_type": "markdown",
   "id": "595b1578",
   "metadata": {
    "pycharm": {
     "name": "#%% md\n"
    }
   },
   "source": [
    "#### Extract and save Item features"
   ]
  },
  {
   "cell_type": "code",
   "execution_count": 174,
   "id": "3ae320ec",
   "metadata": {
    "pycharm": {
     "name": "#%%\n"
    }
   },
   "outputs": [],
   "source": [
    "item_features = (\n",
    "    unique_rows_by_features(train, Tags.ITEM, Tags.ITEM_ID).compute().reset_index(drop=True)\n",
    ")"
   ]
  },
  {
   "cell_type": "code",
   "execution_count": 175,
   "id": "8a24dcb8",
   "metadata": {
    "pycharm": {
     "name": "#%%\n"
    }
   },
   "outputs": [
    {
     "data": {
      "text/html": [
       "<div>\n",
       "<style scoped>\n",
       "    .dataframe tbody tr th:only-of-type {\n",
       "        vertical-align: middle;\n",
       "    }\n",
       "\n",
       "    .dataframe tbody tr th {\n",
       "        vertical-align: top;\n",
       "    }\n",
       "\n",
       "    .dataframe thead th {\n",
       "        text-align: right;\n",
       "    }\n",
       "</style>\n",
       "<table border=\"1\" class=\"dataframe\">\n",
       "  <thead>\n",
       "    <tr style=\"text-align: right;\">\n",
       "      <th></th>\n",
       "      <th>item_id</th>\n",
       "      <th>item_category</th>\n",
       "      <th>item_shop</th>\n",
       "      <th>item_brand</th>\n",
       "    </tr>\n",
       "  </thead>\n",
       "  <tbody>\n",
       "    <tr>\n",
       "      <th>0</th>\n",
       "      <td>1</td>\n",
       "      <td>1</td>\n",
       "      <td>1</td>\n",
       "      <td>1</td>\n",
       "    </tr>\n",
       "    <tr>\n",
       "      <th>1</th>\n",
       "      <td>2</td>\n",
       "      <td>2</td>\n",
       "      <td>2</td>\n",
       "      <td>2</td>\n",
       "    </tr>\n",
       "    <tr>\n",
       "      <th>2</th>\n",
       "      <td>3</td>\n",
       "      <td>3</td>\n",
       "      <td>3</td>\n",
       "      <td>3</td>\n",
       "    </tr>\n",
       "    <tr>\n",
       "      <th>3</th>\n",
       "      <td>4</td>\n",
       "      <td>4</td>\n",
       "      <td>4</td>\n",
       "      <td>4</td>\n",
       "    </tr>\n",
       "    <tr>\n",
       "      <th>4</th>\n",
       "      <td>5</td>\n",
       "      <td>5</td>\n",
       "      <td>5</td>\n",
       "      <td>5</td>\n",
       "    </tr>\n",
       "  </tbody>\n",
       "</table>\n",
       "</div>"
      ],
      "text/plain": [
       "   item_id  item_category  item_shop  item_brand\n",
       "0        1              1          1           1\n",
       "1        2              2          2           2\n",
       "2        3              3          3           3\n",
       "3        4              4          4           4\n",
       "4        5              5          5           5"
      ]
     },
     "execution_count": 175,
     "metadata": {},
     "output_type": "execute_result"
    }
   ],
   "source": [
    "item_features.head()"
   ]
  },
  {
   "cell_type": "code",
   "execution_count": 177,
   "id": "40102380",
   "metadata": {
    "pycharm": {
     "name": "#%%\n"
    }
   },
   "outputs": [],
   "source": [
    "# save to disk\n",
    "item_features.to_parquet(os.path.join(DATA_DIR, \"item_features.parquet\"))"
   ]
  },
  {
   "cell_type": "markdown",
   "id": "f57f5a3e",
   "metadata": {
    "pycharm": {
     "name": "#%% md\n"
    }
   },
   "source": [
    "#### Extract and save Item embeddings"
   ]
  },
  {
   "cell_type": "code",
   "execution_count": 178,
   "id": "30f50d2a-dbf3-4459-af46-1a8194730896",
   "metadata": {},
   "outputs": [
    {
     "name": "stderr",
     "output_type": "stream",
     "text": [
      "/usr/local/lib/python3.8/dist-packages/merlin/schema/tags.py:148: UserWarning: Compound tags like Tags.ITEM_ID have been deprecated and will be removed in a future version. Please use the atomic versions of these tags, like [<Tags.ITEM: 'item'>, <Tags.ID: 'id'>].\n",
      "  warnings.warn(\n"
     ]
    }
   ],
   "source": [
    "item_embs = model.candidate_embeddings(Dataset(item_features, schema=schema), batch_size=1024, index=Tags.ITEM_ID)"
   ]
  },
  {
   "cell_type": "code",
   "execution_count": 179,
   "id": "138678ae",
   "metadata": {
    "pycharm": {
     "name": "#%%\n"
    }
   },
   "outputs": [],
   "source": [
    "item_embs_df = item_embs.compute(scheduler=\"synchronous\")"
   ]
  },
  {
   "cell_type": "code",
   "execution_count": 180,
   "id": "a69694b0",
   "metadata": {
    "pycharm": {
     "name": "#%%\n"
    }
   },
   "outputs": [
    {
     "data": {
      "text/html": [
       "<div>\n",
       "<style scoped>\n",
       "    .dataframe tbody tr th:only-of-type {\n",
       "        vertical-align: middle;\n",
       "    }\n",
       "\n",
       "    .dataframe tbody tr th {\n",
       "        vertical-align: top;\n",
       "    }\n",
       "\n",
       "    .dataframe thead th {\n",
       "        text-align: right;\n",
       "    }\n",
       "</style>\n",
       "<table border=\"1\" class=\"dataframe\">\n",
       "  <thead>\n",
       "    <tr style=\"text-align: right;\">\n",
       "      <th></th>\n",
       "      <th>0</th>\n",
       "      <th>1</th>\n",
       "      <th>2</th>\n",
       "      <th>3</th>\n",
       "      <th>4</th>\n",
       "      <th>5</th>\n",
       "      <th>6</th>\n",
       "      <th>7</th>\n",
       "      <th>8</th>\n",
       "      <th>9</th>\n",
       "      <th>...</th>\n",
       "      <th>54</th>\n",
       "      <th>55</th>\n",
       "      <th>56</th>\n",
       "      <th>57</th>\n",
       "      <th>58</th>\n",
       "      <th>59</th>\n",
       "      <th>60</th>\n",
       "      <th>61</th>\n",
       "      <th>62</th>\n",
       "      <th>63</th>\n",
       "    </tr>\n",
       "    <tr>\n",
       "      <th>item_id</th>\n",
       "      <th></th>\n",
       "      <th></th>\n",
       "      <th></th>\n",
       "      <th></th>\n",
       "      <th></th>\n",
       "      <th></th>\n",
       "      <th></th>\n",
       "      <th></th>\n",
       "      <th></th>\n",
       "      <th></th>\n",
       "      <th></th>\n",
       "      <th></th>\n",
       "      <th></th>\n",
       "      <th></th>\n",
       "      <th></th>\n",
       "      <th></th>\n",
       "      <th></th>\n",
       "      <th></th>\n",
       "      <th></th>\n",
       "      <th></th>\n",
       "      <th></th>\n",
       "    </tr>\n",
       "  </thead>\n",
       "  <tbody>\n",
       "    <tr>\n",
       "      <th>1</th>\n",
       "      <td>-0.086588</td>\n",
       "      <td>-0.035170</td>\n",
       "      <td>0.038872</td>\n",
       "      <td>-0.030351</td>\n",
       "      <td>-0.005060</td>\n",
       "      <td>-0.026615</td>\n",
       "      <td>0.036075</td>\n",
       "      <td>-0.019011</td>\n",
       "      <td>-0.025655</td>\n",
       "      <td>0.061539</td>\n",
       "      <td>...</td>\n",
       "      <td>0.079430</td>\n",
       "      <td>-0.023591</td>\n",
       "      <td>0.039861</td>\n",
       "      <td>0.001400</td>\n",
       "      <td>0.047819</td>\n",
       "      <td>-0.046945</td>\n",
       "      <td>0.080522</td>\n",
       "      <td>-0.049821</td>\n",
       "      <td>0.011490</td>\n",
       "      <td>-0.034052</td>\n",
       "    </tr>\n",
       "    <tr>\n",
       "      <th>2</th>\n",
       "      <td>-0.020607</td>\n",
       "      <td>-0.028564</td>\n",
       "      <td>0.052904</td>\n",
       "      <td>-0.044290</td>\n",
       "      <td>0.044060</td>\n",
       "      <td>-0.077663</td>\n",
       "      <td>0.063523</td>\n",
       "      <td>-0.002706</td>\n",
       "      <td>-0.049997</td>\n",
       "      <td>-0.046659</td>\n",
       "      <td>...</td>\n",
       "      <td>-0.019446</td>\n",
       "      <td>0.017111</td>\n",
       "      <td>0.047408</td>\n",
       "      <td>0.014948</td>\n",
       "      <td>0.037164</td>\n",
       "      <td>-0.055093</td>\n",
       "      <td>0.080557</td>\n",
       "      <td>-0.004503</td>\n",
       "      <td>0.046443</td>\n",
       "      <td>-0.029852</td>\n",
       "    </tr>\n",
       "    <tr>\n",
       "      <th>3</th>\n",
       "      <td>0.014424</td>\n",
       "      <td>0.062466</td>\n",
       "      <td>0.026331</td>\n",
       "      <td>-0.016829</td>\n",
       "      <td>0.067588</td>\n",
       "      <td>-0.040853</td>\n",
       "      <td>0.049609</td>\n",
       "      <td>-0.068072</td>\n",
       "      <td>-0.040935</td>\n",
       "      <td>-0.016965</td>\n",
       "      <td>...</td>\n",
       "      <td>0.029904</td>\n",
       "      <td>0.049761</td>\n",
       "      <td>0.036740</td>\n",
       "      <td>-0.054622</td>\n",
       "      <td>0.017131</td>\n",
       "      <td>-0.079658</td>\n",
       "      <td>-0.063603</td>\n",
       "      <td>-0.020487</td>\n",
       "      <td>0.013681</td>\n",
       "      <td>0.013386</td>\n",
       "    </tr>\n",
       "    <tr>\n",
       "      <th>4</th>\n",
       "      <td>-0.100455</td>\n",
       "      <td>-0.087459</td>\n",
       "      <td>-0.002279</td>\n",
       "      <td>0.015967</td>\n",
       "      <td>-0.054807</td>\n",
       "      <td>0.021265</td>\n",
       "      <td>-0.003342</td>\n",
       "      <td>0.098855</td>\n",
       "      <td>-0.029481</td>\n",
       "      <td>0.007833</td>\n",
       "      <td>...</td>\n",
       "      <td>0.119475</td>\n",
       "      <td>0.023623</td>\n",
       "      <td>0.032304</td>\n",
       "      <td>-0.038052</td>\n",
       "      <td>0.066611</td>\n",
       "      <td>-0.063890</td>\n",
       "      <td>0.049579</td>\n",
       "      <td>-0.140459</td>\n",
       "      <td>0.029618</td>\n",
       "      <td>-0.030336</td>\n",
       "    </tr>\n",
       "    <tr>\n",
       "      <th>5</th>\n",
       "      <td>-0.010816</td>\n",
       "      <td>0.033060</td>\n",
       "      <td>0.055615</td>\n",
       "      <td>0.017870</td>\n",
       "      <td>0.008282</td>\n",
       "      <td>-0.040606</td>\n",
       "      <td>0.008903</td>\n",
       "      <td>-0.037174</td>\n",
       "      <td>-0.029034</td>\n",
       "      <td>0.012322</td>\n",
       "      <td>...</td>\n",
       "      <td>0.061865</td>\n",
       "      <td>-0.025471</td>\n",
       "      <td>0.040039</td>\n",
       "      <td>-0.002353</td>\n",
       "      <td>0.021088</td>\n",
       "      <td>-0.013709</td>\n",
       "      <td>0.019025</td>\n",
       "      <td>-0.025305</td>\n",
       "      <td>-0.004278</td>\n",
       "      <td>0.054150</td>\n",
       "    </tr>\n",
       "    <tr>\n",
       "      <th>...</th>\n",
       "      <td>...</td>\n",
       "      <td>...</td>\n",
       "      <td>...</td>\n",
       "      <td>...</td>\n",
       "      <td>...</td>\n",
       "      <td>...</td>\n",
       "      <td>...</td>\n",
       "      <td>...</td>\n",
       "      <td>...</td>\n",
       "      <td>...</td>\n",
       "      <td>...</td>\n",
       "      <td>...</td>\n",
       "      <td>...</td>\n",
       "      <td>...</td>\n",
       "      <td>...</td>\n",
       "      <td>...</td>\n",
       "      <td>...</td>\n",
       "      <td>...</td>\n",
       "      <td>...</td>\n",
       "      <td>...</td>\n",
       "      <td>...</td>\n",
       "    </tr>\n",
       "    <tr>\n",
       "      <th>668</th>\n",
       "      <td>-0.011978</td>\n",
       "      <td>0.008819</td>\n",
       "      <td>0.016523</td>\n",
       "      <td>-0.073915</td>\n",
       "      <td>0.054216</td>\n",
       "      <td>-0.067495</td>\n",
       "      <td>0.008583</td>\n",
       "      <td>-0.067215</td>\n",
       "      <td>0.014997</td>\n",
       "      <td>0.033973</td>\n",
       "      <td>...</td>\n",
       "      <td>0.052676</td>\n",
       "      <td>0.002763</td>\n",
       "      <td>0.043437</td>\n",
       "      <td>-0.001684</td>\n",
       "      <td>0.025481</td>\n",
       "      <td>-0.051444</td>\n",
       "      <td>0.030094</td>\n",
       "      <td>-0.034564</td>\n",
       "      <td>-0.005135</td>\n",
       "      <td>-0.015033</td>\n",
       "    </tr>\n",
       "    <tr>\n",
       "      <th>669</th>\n",
       "      <td>-0.051683</td>\n",
       "      <td>-0.021606</td>\n",
       "      <td>0.018060</td>\n",
       "      <td>-0.038789</td>\n",
       "      <td>-0.007095</td>\n",
       "      <td>-0.028825</td>\n",
       "      <td>0.026450</td>\n",
       "      <td>0.028714</td>\n",
       "      <td>-0.007321</td>\n",
       "      <td>0.013074</td>\n",
       "      <td>...</td>\n",
       "      <td>0.093724</td>\n",
       "      <td>0.010164</td>\n",
       "      <td>0.032347</td>\n",
       "      <td>-0.009498</td>\n",
       "      <td>-0.022861</td>\n",
       "      <td>-0.095878</td>\n",
       "      <td>0.034653</td>\n",
       "      <td>-0.067983</td>\n",
       "      <td>-0.050209</td>\n",
       "      <td>-0.018708</td>\n",
       "    </tr>\n",
       "    <tr>\n",
       "      <th>670</th>\n",
       "      <td>-0.014077</td>\n",
       "      <td>-0.005224</td>\n",
       "      <td>0.057278</td>\n",
       "      <td>-0.001175</td>\n",
       "      <td>-0.005469</td>\n",
       "      <td>0.012073</td>\n",
       "      <td>0.023982</td>\n",
       "      <td>-0.001092</td>\n",
       "      <td>-0.052760</td>\n",
       "      <td>0.024767</td>\n",
       "      <td>...</td>\n",
       "      <td>0.066937</td>\n",
       "      <td>-0.007940</td>\n",
       "      <td>0.025360</td>\n",
       "      <td>-0.028201</td>\n",
       "      <td>0.024175</td>\n",
       "      <td>-0.053981</td>\n",
       "      <td>0.062025</td>\n",
       "      <td>-0.054338</td>\n",
       "      <td>-0.030390</td>\n",
       "      <td>0.019311</td>\n",
       "    </tr>\n",
       "    <tr>\n",
       "      <th>671</th>\n",
       "      <td>-0.001167</td>\n",
       "      <td>-0.023767</td>\n",
       "      <td>0.016283</td>\n",
       "      <td>-0.048372</td>\n",
       "      <td>0.009309</td>\n",
       "      <td>-0.022098</td>\n",
       "      <td>0.010793</td>\n",
       "      <td>0.003111</td>\n",
       "      <td>-0.034449</td>\n",
       "      <td>0.045869</td>\n",
       "      <td>...</td>\n",
       "      <td>0.045344</td>\n",
       "      <td>0.004631</td>\n",
       "      <td>-0.002546</td>\n",
       "      <td>-0.008917</td>\n",
       "      <td>-0.022978</td>\n",
       "      <td>0.001993</td>\n",
       "      <td>0.026103</td>\n",
       "      <td>-0.005468</td>\n",
       "      <td>-0.046113</td>\n",
       "      <td>0.056712</td>\n",
       "    </tr>\n",
       "    <tr>\n",
       "      <th>672</th>\n",
       "      <td>-0.029653</td>\n",
       "      <td>-0.047901</td>\n",
       "      <td>-0.006311</td>\n",
       "      <td>0.007980</td>\n",
       "      <td>-0.039106</td>\n",
       "      <td>-0.021128</td>\n",
       "      <td>-0.029696</td>\n",
       "      <td>0.035004</td>\n",
       "      <td>-0.011495</td>\n",
       "      <td>0.029177</td>\n",
       "      <td>...</td>\n",
       "      <td>0.019204</td>\n",
       "      <td>0.055312</td>\n",
       "      <td>-0.020833</td>\n",
       "      <td>0.001113</td>\n",
       "      <td>0.020340</td>\n",
       "      <td>0.005962</td>\n",
       "      <td>-0.003546</td>\n",
       "      <td>-0.034808</td>\n",
       "      <td>0.010631</td>\n",
       "      <td>-0.026929</td>\n",
       "    </tr>\n",
       "  </tbody>\n",
       "</table>\n",
       "<p>672 rows × 64 columns</p>\n",
       "</div>"
      ],
      "text/plain": [
       "                0         1         2         3         4         5         6  \\\n",
       "item_id                                                                         \n",
       "1       -0.086588 -0.035170  0.038872 -0.030351 -0.005060 -0.026615  0.036075   \n",
       "2       -0.020607 -0.028564  0.052904 -0.044290  0.044060 -0.077663  0.063523   \n",
       "3        0.014424  0.062466  0.026331 -0.016829  0.067588 -0.040853  0.049609   \n",
       "4       -0.100455 -0.087459 -0.002279  0.015967 -0.054807  0.021265 -0.003342   \n",
       "5       -0.010816  0.033060  0.055615  0.017870  0.008282 -0.040606  0.008903   \n",
       "...           ...       ...       ...       ...       ...       ...       ...   \n",
       "668     -0.011978  0.008819  0.016523 -0.073915  0.054216 -0.067495  0.008583   \n",
       "669     -0.051683 -0.021606  0.018060 -0.038789 -0.007095 -0.028825  0.026450   \n",
       "670     -0.014077 -0.005224  0.057278 -0.001175 -0.005469  0.012073  0.023982   \n",
       "671     -0.001167 -0.023767  0.016283 -0.048372  0.009309 -0.022098  0.010793   \n",
       "672     -0.029653 -0.047901 -0.006311  0.007980 -0.039106 -0.021128 -0.029696   \n",
       "\n",
       "                7         8         9  ...        54        55        56  \\\n",
       "item_id                                ...                                 \n",
       "1       -0.019011 -0.025655  0.061539  ...  0.079430 -0.023591  0.039861   \n",
       "2       -0.002706 -0.049997 -0.046659  ... -0.019446  0.017111  0.047408   \n",
       "3       -0.068072 -0.040935 -0.016965  ...  0.029904  0.049761  0.036740   \n",
       "4        0.098855 -0.029481  0.007833  ...  0.119475  0.023623  0.032304   \n",
       "5       -0.037174 -0.029034  0.012322  ...  0.061865 -0.025471  0.040039   \n",
       "...           ...       ...       ...  ...       ...       ...       ...   \n",
       "668     -0.067215  0.014997  0.033973  ...  0.052676  0.002763  0.043437   \n",
       "669      0.028714 -0.007321  0.013074  ...  0.093724  0.010164  0.032347   \n",
       "670     -0.001092 -0.052760  0.024767  ...  0.066937 -0.007940  0.025360   \n",
       "671      0.003111 -0.034449  0.045869  ...  0.045344  0.004631 -0.002546   \n",
       "672      0.035004 -0.011495  0.029177  ...  0.019204  0.055312 -0.020833   \n",
       "\n",
       "               57        58        59        60        61        62        63  \n",
       "item_id                                                                        \n",
       "1        0.001400  0.047819 -0.046945  0.080522 -0.049821  0.011490 -0.034052  \n",
       "2        0.014948  0.037164 -0.055093  0.080557 -0.004503  0.046443 -0.029852  \n",
       "3       -0.054622  0.017131 -0.079658 -0.063603 -0.020487  0.013681  0.013386  \n",
       "4       -0.038052  0.066611 -0.063890  0.049579 -0.140459  0.029618 -0.030336  \n",
       "5       -0.002353  0.021088 -0.013709  0.019025 -0.025305 -0.004278  0.054150  \n",
       "...           ...       ...       ...       ...       ...       ...       ...  \n",
       "668     -0.001684  0.025481 -0.051444  0.030094 -0.034564 -0.005135 -0.015033  \n",
       "669     -0.009498 -0.022861 -0.095878  0.034653 -0.067983 -0.050209 -0.018708  \n",
       "670     -0.028201  0.024175 -0.053981  0.062025 -0.054338 -0.030390  0.019311  \n",
       "671     -0.008917 -0.022978  0.001993  0.026103 -0.005468 -0.046113  0.056712  \n",
       "672      0.001113  0.020340  0.005962 -0.003546 -0.034808  0.010631 -0.026929  \n",
       "\n",
       "[672 rows x 64 columns]"
      ]
     },
     "execution_count": 180,
     "metadata": {},
     "output_type": "execute_result"
    }
   ],
   "source": [
    "item_embs_df"
   ]
  },
  {
   "cell_type": "code",
   "execution_count": 182,
   "id": "5d152e82",
   "metadata": {
    "pycharm": {
     "name": "#%%\n"
    }
   },
   "outputs": [],
   "source": [
    "# save to disk\n",
    "item_embs_df.to_parquet(os.path.join(DATA_DIR, \"item_embeddings.parquet\"))"
   ]
  },
  {
   "cell_type": "markdown",
   "id": "1eed43c3",
   "metadata": {
    "pycharm": {
     "name": "#%% md\n"
    }
   },
   "source": [
    "That's it. You have learned how to train and evaluate your Two-Tower retrieval model, and then how to export the required components to be able to deploy this model to generate recommendations. In order to learn more on serving a model to [Triton Inference Server](https://github.com/triton-inference-server/server), please explore the examples in the [Merlin](https://github.com/NVIDIA-Merlin/Merlin) and [Merlin Systems](https://github.com/NVIDIA-Merlin/systems) repos."
   ]
  }
 ],
 "metadata": {
  "kernelspec": {
   "display_name": "Python 3 (ipykernel)",
   "language": "python",
   "name": "python3"
  },
  "language_info": {
   "codemirror_mode": {
    "name": "ipython",
    "version": 3
   },
   "file_extension": ".py",
   "mimetype": "text/x-python",
   "name": "python",
   "nbconvert_exporter": "python",
   "pygments_lexer": "ipython3",
   "version": "3.8.10"
  },
  "merlin": {
   "containers": [
    "nvcr.io/nvidia/merlin/merlin-tensorflow:latest"
   ]
  },
  "vscode": {
   "interpreter": {
    "hash": "31f2aee4e71d21fbe5cf8b01ff0e069b9275f58929596ceb00d14d90e3e16cd6"
   }
  }
 },
 "nbformat": 4,
 "nbformat_minor": 5
}
