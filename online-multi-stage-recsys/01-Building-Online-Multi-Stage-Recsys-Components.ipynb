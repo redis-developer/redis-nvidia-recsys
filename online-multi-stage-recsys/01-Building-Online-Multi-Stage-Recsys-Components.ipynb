{
 "cells": [
  {
   "cell_type": "markdown",
   "id": "ad9b5cc0-2110-464e-9773-003ffe7d216c",
   "metadata": {},
   "source": [
    "<img src=\"https://developer.download.nvidia.com/notebooks/dlsw-notebooks/merlin_merlin_01-building-recommender-systems-with-merlin/nvidia_logo.png\" style=\"width: 90px; float: right;\"> \n",
    "\n",
    "# Building Online Multi-Stage Recsys Components\n",
    "The figure below represents a **four-stage recommender system**. This is more complex process than only training a single model and deploying it, and it is much more realistic and closer to what's happening in the real-world recommender production systems. The models and data to perform the bottom row of tasks were previously completed in the first notebook [here](...)."
   ]
  },
  {
   "cell_type": "markdown",
   "id": "27220153",
   "metadata": {},
   "source": [
    "![img](https://raw.githubusercontent.com/RedisVentures/Redis-Recsys/master/assets/OnlineMultiStageRecsys.png)"
   ]
  },
  {
   "cell_type": "markdown",
   "id": "b27ffed1-4b4b-4b6f-b933-31e9f6c1b4e1",
   "metadata": {},
   "source": [
    "In this notebook, we are going to prepare the assets on the bottom row to deploy a four-stage recommender system on [Triton Inference Server](https://github.com/triton-inference-server/server). \n",
    "\n",
    "To learn more about the four-stage recommender systems, you can listen to Even Oldridge's [Moving Beyond Recommender Models talk](https://www.youtube.com/watch?v=5qjiY-kLwFY&list=PL65MqKWg6XcrdN4TJV0K1PdLhF_Uq-b43&index=7) at KDD'21 and read more [in this blog post](https://eugeneyan.com/writing/system-design-for-discovery/)."
   ]
  },
  {
   "cell_type": "markdown",
   "id": "58d8bd1f-fa29-4d4b-a320-c76538f2302f",
   "metadata": {},
   "source": [
    "In addition to NVIDIA Merlin libraries and the Triton Inference Server client library, we use two external libraries in these series of examples:\n",
    "\n",
    "- [Feast](https://docs.feast.dev/): an end-to-end open source feature store library for machine learning\n",
    "- [Redis](https://github.com/redis/redis-py): a low-latency key-value store and ANN index\n",
    "\n",
    "## Steps\n",
    "1) [**Feature Store Setup**](#Feature-Store-Setup)\n",
    "2) [**Redis ANN Index Setup**](#Redis-ANN-Index-Setup)"
   ]
  },
  {
   "cell_type": "markdown",
   "id": "46b7f3bd",
   "metadata": {},
   "source": [
    "### Import required libraries and functions"
   ]
  },
  {
   "cell_type": "markdown",
   "id": "6c1586d8-e5a6-40c3-b6bb-61a3e62fa34c",
   "metadata": {},
   "source": [
    "*These notebooks are developed and tested using `merlin-tensorflow:22.11` container on [NVIDIA's docker registry](https://catalog.ngc.nvidia.com/containers?filters=&orderBy=dateModifiedDESC&query=merlin).*"
   ]
  },
  {
   "cell_type": "code",
   "execution_count": 23,
   "id": "08cdbfcc",
   "metadata": {
    "tags": []
   },
   "outputs": [],
   "source": [
    "import warnings\n",
    "warnings.filterwarnings(\"ignore\")\n",
    "\n",
    "import os\n",
    "import feast\n",
    "import merlin.models.tf as mm\n",
    "import nvtabular as nvt\n",
    "import numpy as np\n",
    "import tensorflow as tf\n",
    "\n",
    "\n",
    "from merlin.datasets.ecommerce import transform_aliccp\n",
    "from merlin.schema.tags import Tags\n",
    "from merlin.io.dataset import Dataset\n",
    "from nvtabular.ops import *\n",
    "\n",
    "# for running this example on CPU, comment out the line below\n",
    "# os.environ[\"TF_GPU_ALLOCATOR\"] = \"cuda_malloc_async\""
   ]
  },
  {
   "cell_type": "markdown",
   "id": "baad8ae3",
   "metadata": {},
   "source": [
    "First, we define our input path and feature repo path."
   ]
  },
  {
   "cell_type": "code",
   "execution_count": 2,
   "id": "81ddb370",
   "metadata": {},
   "outputs": [],
   "source": [
    "# Define output path for data\n",
    "DATA_DIR = \"/model-data/aliccp\"\n",
    "BASE_DIR = \"/workdir\""
   ]
  },
  {
   "cell_type": "markdown",
   "id": "d64a3f3f-81d8-489c-835f-c62f76df22d5",
   "metadata": {},
   "source": [
    "Next, we need to load the previously trained assets. If you have your own great, make sure they end up in the same folder structure as the ones we will pull from the publically hosted S3 bucket below"
   ]
  },
  {
   "cell_type": "markdown",
   "id": "5da1f434-f5a1-4478-b588-7e7ec17e6a88",
   "metadata": {},
   "source": [
    "## Feature Store Setup"
   ]
  },
  {
   "cell_type": "markdown",
   "id": "99a4e939-d3cf-44f0-9012-d2af3264ee25",
   "metadata": {},
   "source": [
    "We need to create a Feast feature repository. [Feast](https://feast.dev/) is an end-to-end open source feature store for machine learning. Feast (Feature Store) is a customizable operational data system that re-uses existing infrastructure to manage and serve machine learning features to real-time models.\n",
    "\n",
    "Our feature repo will live at the defined path below:"
   ]
  },
  {
   "cell_type": "code",
   "execution_count": 3,
   "id": "26ba2521-ed1b-4c2b-afdd-26b4a5a9c008",
   "metadata": {},
   "outputs": [],
   "source": [
    "# Feature repo path\n",
    "feature_repo_path = os.path.join(BASE_DIR, \"feature_repo\")"
   ]
  },
  {
   "cell_type": "markdown",
   "id": "78315676-eb6c-405a-b1fd-3174ea328406",
   "metadata": {},
   "source": [
    "### Prepare User and Item features"
   ]
  },
  {
   "cell_type": "code",
   "execution_count": 4,
   "id": "ea0b369c-2f01-42e3-9f3c-74c3ff4a6d64",
   "metadata": {},
   "outputs": [
    {
     "data": {
      "text/html": [
       "<div>\n",
       "<style scoped>\n",
       "    .dataframe tbody tr th:only-of-type {\n",
       "        vertical-align: middle;\n",
       "    }\n",
       "\n",
       "    .dataframe tbody tr th {\n",
       "        vertical-align: top;\n",
       "    }\n",
       "\n",
       "    .dataframe thead th {\n",
       "        text-align: right;\n",
       "    }\n",
       "</style>\n",
       "<table border=\"1\" class=\"dataframe\">\n",
       "  <thead>\n",
       "    <tr style=\"text-align: right;\">\n",
       "      <th></th>\n",
       "      <th>user_id</th>\n",
       "      <th>user_shops</th>\n",
       "      <th>user_profile</th>\n",
       "      <th>user_group</th>\n",
       "      <th>user_gender</th>\n",
       "      <th>user_age</th>\n",
       "      <th>user_consumption_2</th>\n",
       "      <th>user_is_occupied</th>\n",
       "      <th>user_geography</th>\n",
       "      <th>user_intentions</th>\n",
       "      <th>user_brands</th>\n",
       "      <th>user_categories</th>\n",
       "      <th>user_id_raw</th>\n",
       "    </tr>\n",
       "  </thead>\n",
       "  <tbody>\n",
       "    <tr>\n",
       "      <th>0</th>\n",
       "      <td>1</td>\n",
       "      <td>1</td>\n",
       "      <td>1</td>\n",
       "      <td>1</td>\n",
       "      <td>1</td>\n",
       "      <td>1</td>\n",
       "      <td>1</td>\n",
       "      <td>1</td>\n",
       "      <td>1</td>\n",
       "      <td>1</td>\n",
       "      <td>1</td>\n",
       "      <td>1</td>\n",
       "      <td>7</td>\n",
       "    </tr>\n",
       "    <tr>\n",
       "      <th>1</th>\n",
       "      <td>2</td>\n",
       "      <td>2</td>\n",
       "      <td>1</td>\n",
       "      <td>1</td>\n",
       "      <td>1</td>\n",
       "      <td>1</td>\n",
       "      <td>1</td>\n",
       "      <td>1</td>\n",
       "      <td>1</td>\n",
       "      <td>2</td>\n",
       "      <td>2</td>\n",
       "      <td>2</td>\n",
       "      <td>8</td>\n",
       "    </tr>\n",
       "    <tr>\n",
       "      <th>2</th>\n",
       "      <td>3</td>\n",
       "      <td>3</td>\n",
       "      <td>1</td>\n",
       "      <td>1</td>\n",
       "      <td>1</td>\n",
       "      <td>1</td>\n",
       "      <td>1</td>\n",
       "      <td>1</td>\n",
       "      <td>1</td>\n",
       "      <td>3</td>\n",
       "      <td>3</td>\n",
       "      <td>3</td>\n",
       "      <td>6</td>\n",
       "    </tr>\n",
       "    <tr>\n",
       "      <th>3</th>\n",
       "      <td>4</td>\n",
       "      <td>4</td>\n",
       "      <td>1</td>\n",
       "      <td>1</td>\n",
       "      <td>1</td>\n",
       "      <td>1</td>\n",
       "      <td>1</td>\n",
       "      <td>1</td>\n",
       "      <td>1</td>\n",
       "      <td>4</td>\n",
       "      <td>4</td>\n",
       "      <td>4</td>\n",
       "      <td>9</td>\n",
       "    </tr>\n",
       "    <tr>\n",
       "      <th>4</th>\n",
       "      <td>5</td>\n",
       "      <td>5</td>\n",
       "      <td>1</td>\n",
       "      <td>1</td>\n",
       "      <td>1</td>\n",
       "      <td>1</td>\n",
       "      <td>1</td>\n",
       "      <td>1</td>\n",
       "      <td>1</td>\n",
       "      <td>5</td>\n",
       "      <td>5</td>\n",
       "      <td>5</td>\n",
       "      <td>5</td>\n",
       "    </tr>\n",
       "  </tbody>\n",
       "</table>\n",
       "</div>"
      ],
      "text/plain": [
       "   user_id  user_shops  user_profile  user_group  user_gender  user_age  \\\n",
       "0        1           1             1           1            1         1   \n",
       "1        2           2             1           1            1         1   \n",
       "2        3           3             1           1            1         1   \n",
       "3        4           4             1           1            1         1   \n",
       "4        5           5             1           1            1         1   \n",
       "\n",
       "   user_consumption_2  user_is_occupied  user_geography  user_intentions  \\\n",
       "0                   1                 1               1                1   \n",
       "1                   1                 1               1                2   \n",
       "2                   1                 1               1                3   \n",
       "3                   1                 1               1                4   \n",
       "4                   1                 1               1                5   \n",
       "\n",
       "   user_brands  user_categories  user_id_raw  \n",
       "0            1                1            7  \n",
       "1            2                2            8  \n",
       "2            3                3            6  \n",
       "3            4                4            9  \n",
       "4            5                5            5  "
      ]
     },
     "execution_count": 4,
     "metadata": {},
     "output_type": "execute_result"
    }
   ],
   "source": [
    "from merlin.models.utils.dataset import unique_rows_by_features\n",
    "\n",
    "# Load pre-generated User features file\n",
    "user_features = Dataset(os.path.join(DATA_DIR, \"user_features.parquet\")).to_ddf().compute()\n",
    "user_features.head()"
   ]
  },
  {
   "cell_type": "markdown",
   "id": "4a46bd8c-1337-4c74-a85b-25348a897d90",
   "metadata": {},
   "source": [
    "We will artificially add `datetime` and `created` timestamp columns to our user_features dataframe. This required by Feast to track the user-item features and their creation time and to determine which version to use when we query Feast."
   ]
  },
  {
   "cell_type": "code",
   "execution_count": 5,
   "id": "d30bd2f8-8a78-4df7-9bc4-42bd741c5b99",
   "metadata": {},
   "outputs": [
    {
     "data": {
      "text/html": [
       "<div>\n",
       "<style scoped>\n",
       "    .dataframe tbody tr th:only-of-type {\n",
       "        vertical-align: middle;\n",
       "    }\n",
       "\n",
       "    .dataframe tbody tr th {\n",
       "        vertical-align: top;\n",
       "    }\n",
       "\n",
       "    .dataframe thead th {\n",
       "        text-align: right;\n",
       "    }\n",
       "</style>\n",
       "<table border=\"1\" class=\"dataframe\">\n",
       "  <thead>\n",
       "    <tr style=\"text-align: right;\">\n",
       "      <th></th>\n",
       "      <th>user_id</th>\n",
       "      <th>user_shops</th>\n",
       "      <th>user_profile</th>\n",
       "      <th>user_group</th>\n",
       "      <th>user_gender</th>\n",
       "      <th>user_age</th>\n",
       "      <th>user_consumption_2</th>\n",
       "      <th>user_is_occupied</th>\n",
       "      <th>user_geography</th>\n",
       "      <th>user_intentions</th>\n",
       "      <th>user_brands</th>\n",
       "      <th>user_categories</th>\n",
       "      <th>user_id_raw</th>\n",
       "      <th>datetime</th>\n",
       "      <th>created</th>\n",
       "    </tr>\n",
       "  </thead>\n",
       "  <tbody>\n",
       "    <tr>\n",
       "      <th>0</th>\n",
       "      <td>1</td>\n",
       "      <td>1</td>\n",
       "      <td>1</td>\n",
       "      <td>1</td>\n",
       "      <td>1</td>\n",
       "      <td>1</td>\n",
       "      <td>1</td>\n",
       "      <td>1</td>\n",
       "      <td>1</td>\n",
       "      <td>1</td>\n",
       "      <td>1</td>\n",
       "      <td>1</td>\n",
       "      <td>7</td>\n",
       "      <td>2023-02-01 03:14:13.397906</td>\n",
       "      <td>2023-02-01 03:14:13.399280</td>\n",
       "    </tr>\n",
       "    <tr>\n",
       "      <th>1</th>\n",
       "      <td>2</td>\n",
       "      <td>2</td>\n",
       "      <td>1</td>\n",
       "      <td>1</td>\n",
       "      <td>1</td>\n",
       "      <td>1</td>\n",
       "      <td>1</td>\n",
       "      <td>1</td>\n",
       "      <td>1</td>\n",
       "      <td>2</td>\n",
       "      <td>2</td>\n",
       "      <td>2</td>\n",
       "      <td>8</td>\n",
       "      <td>2023-02-01 03:14:13.397906</td>\n",
       "      <td>2023-02-01 03:14:13.399280</td>\n",
       "    </tr>\n",
       "    <tr>\n",
       "      <th>2</th>\n",
       "      <td>3</td>\n",
       "      <td>3</td>\n",
       "      <td>1</td>\n",
       "      <td>1</td>\n",
       "      <td>1</td>\n",
       "      <td>1</td>\n",
       "      <td>1</td>\n",
       "      <td>1</td>\n",
       "      <td>1</td>\n",
       "      <td>3</td>\n",
       "      <td>3</td>\n",
       "      <td>3</td>\n",
       "      <td>6</td>\n",
       "      <td>2023-02-01 03:14:13.397906</td>\n",
       "      <td>2023-02-01 03:14:13.399280</td>\n",
       "    </tr>\n",
       "    <tr>\n",
       "      <th>3</th>\n",
       "      <td>4</td>\n",
       "      <td>4</td>\n",
       "      <td>1</td>\n",
       "      <td>1</td>\n",
       "      <td>1</td>\n",
       "      <td>1</td>\n",
       "      <td>1</td>\n",
       "      <td>1</td>\n",
       "      <td>1</td>\n",
       "      <td>4</td>\n",
       "      <td>4</td>\n",
       "      <td>4</td>\n",
       "      <td>9</td>\n",
       "      <td>2023-02-01 03:14:13.397906</td>\n",
       "      <td>2023-02-01 03:14:13.399280</td>\n",
       "    </tr>\n",
       "    <tr>\n",
       "      <th>4</th>\n",
       "      <td>5</td>\n",
       "      <td>5</td>\n",
       "      <td>1</td>\n",
       "      <td>1</td>\n",
       "      <td>1</td>\n",
       "      <td>1</td>\n",
       "      <td>1</td>\n",
       "      <td>1</td>\n",
       "      <td>1</td>\n",
       "      <td>5</td>\n",
       "      <td>5</td>\n",
       "      <td>5</td>\n",
       "      <td>5</td>\n",
       "      <td>2023-02-01 03:14:13.397906</td>\n",
       "      <td>2023-02-01 03:14:13.399280</td>\n",
       "    </tr>\n",
       "  </tbody>\n",
       "</table>\n",
       "</div>"
      ],
      "text/plain": [
       "   user_id  user_shops  user_profile  user_group  user_gender  user_age  \\\n",
       "0        1           1             1           1            1         1   \n",
       "1        2           2             1           1            1         1   \n",
       "2        3           3             1           1            1         1   \n",
       "3        4           4             1           1            1         1   \n",
       "4        5           5             1           1            1         1   \n",
       "\n",
       "   user_consumption_2  user_is_occupied  user_geography  user_intentions  \\\n",
       "0                   1                 1               1                1   \n",
       "1                   1                 1               1                2   \n",
       "2                   1                 1               1                3   \n",
       "3                   1                 1               1                4   \n",
       "4                   1                 1               1                5   \n",
       "\n",
       "   user_brands  user_categories  user_id_raw                   datetime  \\\n",
       "0            1                1            7 2023-02-01 03:14:13.397906   \n",
       "1            2                2            8 2023-02-01 03:14:13.397906   \n",
       "2            3                3            6 2023-02-01 03:14:13.397906   \n",
       "3            4                4            9 2023-02-01 03:14:13.397906   \n",
       "4            5                5            5 2023-02-01 03:14:13.397906   \n",
       "\n",
       "                     created  \n",
       "0 2023-02-01 03:14:13.399280  \n",
       "1 2023-02-01 03:14:13.399280  \n",
       "2 2023-02-01 03:14:13.399280  \n",
       "3 2023-02-01 03:14:13.399280  \n",
       "4 2023-02-01 03:14:13.399280  "
      ]
     },
     "execution_count": 5,
     "metadata": {},
     "output_type": "execute_result"
    }
   ],
   "source": [
    "from datetime import datetime\n",
    "\n",
    "user_features[\"datetime\"] = datetime.now()\n",
    "user_features[\"datetime\"] = user_features[\"datetime\"].astype(\"datetime64[ns]\")\n",
    "user_features[\"created\"] = datetime.now()\n",
    "user_features[\"created\"] = user_features[\"created\"].astype(\"datetime64[ns]\")\n",
    "user_features.head()"
   ]
  },
  {
   "cell_type": "code",
   "execution_count": 6,
   "id": "2981b3ed-6156-49f0-aa14-326a3853a58a",
   "metadata": {},
   "outputs": [],
   "source": [
    "# Write parquet file to feature_repo\n",
    "user_features.to_parquet(\n",
    "    os.path.join(feature_repo_path, \"data\", \"user_features.parquet\")\n",
    ")"
   ]
  },
  {
   "cell_type": "code",
   "execution_count": 7,
   "id": "b24e6898-7e7e-48c9-80a1-8b95a62917e5",
   "metadata": {},
   "outputs": [
    {
     "data": {
      "text/html": [
       "<div>\n",
       "<style scoped>\n",
       "    .dataframe tbody tr th:only-of-type {\n",
       "        vertical-align: middle;\n",
       "    }\n",
       "\n",
       "    .dataframe tbody tr th {\n",
       "        vertical-align: top;\n",
       "    }\n",
       "\n",
       "    .dataframe thead th {\n",
       "        text-align: right;\n",
       "    }\n",
       "</style>\n",
       "<table border=\"1\" class=\"dataframe\">\n",
       "  <thead>\n",
       "    <tr style=\"text-align: right;\">\n",
       "      <th></th>\n",
       "      <th>item_id</th>\n",
       "      <th>item_category</th>\n",
       "      <th>item_shop</th>\n",
       "      <th>item_brand</th>\n",
       "      <th>item_id_raw</th>\n",
       "    </tr>\n",
       "  </thead>\n",
       "  <tbody>\n",
       "    <tr>\n",
       "      <th>0</th>\n",
       "      <td>1</td>\n",
       "      <td>1</td>\n",
       "      <td>1</td>\n",
       "      <td>1</td>\n",
       "      <td>7</td>\n",
       "    </tr>\n",
       "    <tr>\n",
       "      <th>1</th>\n",
       "      <td>2</td>\n",
       "      <td>2</td>\n",
       "      <td>2</td>\n",
       "      <td>2</td>\n",
       "      <td>6</td>\n",
       "    </tr>\n",
       "    <tr>\n",
       "      <th>2</th>\n",
       "      <td>3</td>\n",
       "      <td>3</td>\n",
       "      <td>3</td>\n",
       "      <td>3</td>\n",
       "      <td>8</td>\n",
       "    </tr>\n",
       "    <tr>\n",
       "      <th>3</th>\n",
       "      <td>4</td>\n",
       "      <td>4</td>\n",
       "      <td>4</td>\n",
       "      <td>4</td>\n",
       "      <td>9</td>\n",
       "    </tr>\n",
       "    <tr>\n",
       "      <th>4</th>\n",
       "      <td>5</td>\n",
       "      <td>5</td>\n",
       "      <td>5</td>\n",
       "      <td>5</td>\n",
       "      <td>5</td>\n",
       "    </tr>\n",
       "  </tbody>\n",
       "</table>\n",
       "</div>"
      ],
      "text/plain": [
       "   item_id  item_category  item_shop  item_brand  item_id_raw\n",
       "0        1              1          1           1            7\n",
       "1        2              2          2           2            6\n",
       "2        3              3          3           3            8\n",
       "3        4              4          4           4            9\n",
       "4        5              5          5           5            5"
      ]
     },
     "execution_count": 7,
     "metadata": {},
     "output_type": "execute_result"
    }
   ],
   "source": [
    "# Load pre-generated Item features file\n",
    "item_features = Dataset(os.path.join(DATA_DIR, \"item_features.parquet\")).to_ddf().compute()\n",
    "item_features.head()"
   ]
  },
  {
   "cell_type": "code",
   "execution_count": 8,
   "id": "68a694d6-926f-4b0f-8edc-8cc7ac85ade7",
   "metadata": {},
   "outputs": [
    {
     "data": {
      "text/html": [
       "<div>\n",
       "<style scoped>\n",
       "    .dataframe tbody tr th:only-of-type {\n",
       "        vertical-align: middle;\n",
       "    }\n",
       "\n",
       "    .dataframe tbody tr th {\n",
       "        vertical-align: top;\n",
       "    }\n",
       "\n",
       "    .dataframe thead th {\n",
       "        text-align: right;\n",
       "    }\n",
       "</style>\n",
       "<table border=\"1\" class=\"dataframe\">\n",
       "  <thead>\n",
       "    <tr style=\"text-align: right;\">\n",
       "      <th></th>\n",
       "      <th>item_id</th>\n",
       "      <th>item_category</th>\n",
       "      <th>item_shop</th>\n",
       "      <th>item_brand</th>\n",
       "      <th>item_id_raw</th>\n",
       "      <th>datetime</th>\n",
       "      <th>created</th>\n",
       "    </tr>\n",
       "  </thead>\n",
       "  <tbody>\n",
       "    <tr>\n",
       "      <th>0</th>\n",
       "      <td>1</td>\n",
       "      <td>1</td>\n",
       "      <td>1</td>\n",
       "      <td>1</td>\n",
       "      <td>7</td>\n",
       "      <td>2023-02-01 03:14:13.446295</td>\n",
       "      <td>2023-02-01 03:14:13.447238</td>\n",
       "    </tr>\n",
       "    <tr>\n",
       "      <th>1</th>\n",
       "      <td>2</td>\n",
       "      <td>2</td>\n",
       "      <td>2</td>\n",
       "      <td>2</td>\n",
       "      <td>6</td>\n",
       "      <td>2023-02-01 03:14:13.446295</td>\n",
       "      <td>2023-02-01 03:14:13.447238</td>\n",
       "    </tr>\n",
       "    <tr>\n",
       "      <th>2</th>\n",
       "      <td>3</td>\n",
       "      <td>3</td>\n",
       "      <td>3</td>\n",
       "      <td>3</td>\n",
       "      <td>8</td>\n",
       "      <td>2023-02-01 03:14:13.446295</td>\n",
       "      <td>2023-02-01 03:14:13.447238</td>\n",
       "    </tr>\n",
       "    <tr>\n",
       "      <th>3</th>\n",
       "      <td>4</td>\n",
       "      <td>4</td>\n",
       "      <td>4</td>\n",
       "      <td>4</td>\n",
       "      <td>9</td>\n",
       "      <td>2023-02-01 03:14:13.446295</td>\n",
       "      <td>2023-02-01 03:14:13.447238</td>\n",
       "    </tr>\n",
       "    <tr>\n",
       "      <th>4</th>\n",
       "      <td>5</td>\n",
       "      <td>5</td>\n",
       "      <td>5</td>\n",
       "      <td>5</td>\n",
       "      <td>5</td>\n",
       "      <td>2023-02-01 03:14:13.446295</td>\n",
       "      <td>2023-02-01 03:14:13.447238</td>\n",
       "    </tr>\n",
       "  </tbody>\n",
       "</table>\n",
       "</div>"
      ],
      "text/plain": [
       "   item_id  item_category  item_shop  item_brand  item_id_raw  \\\n",
       "0        1              1          1           1            7   \n",
       "1        2              2          2           2            6   \n",
       "2        3              3          3           3            8   \n",
       "3        4              4          4           4            9   \n",
       "4        5              5          5           5            5   \n",
       "\n",
       "                    datetime                    created  \n",
       "0 2023-02-01 03:14:13.446295 2023-02-01 03:14:13.447238  \n",
       "1 2023-02-01 03:14:13.446295 2023-02-01 03:14:13.447238  \n",
       "2 2023-02-01 03:14:13.446295 2023-02-01 03:14:13.447238  \n",
       "3 2023-02-01 03:14:13.446295 2023-02-01 03:14:13.447238  \n",
       "4 2023-02-01 03:14:13.446295 2023-02-01 03:14:13.447238  "
      ]
     },
     "execution_count": 8,
     "metadata": {},
     "output_type": "execute_result"
    }
   ],
   "source": [
    "# Append timestamps\n",
    "item_features[\"datetime\"] = datetime.now()\n",
    "item_features[\"datetime\"] = item_features[\"datetime\"].astype(\"datetime64[ns]\")\n",
    "item_features[\"created\"] = datetime.now()\n",
    "item_features[\"created\"] = item_features[\"created\"].astype(\"datetime64[ns]\")\n",
    "item_features.head()"
   ]
  },
  {
   "cell_type": "code",
   "execution_count": 9,
   "id": "c312884b-a1f8-4e08-8068-696e06a9bf46",
   "metadata": {},
   "outputs": [],
   "source": [
    "# Write parquet file to feature_repo\n",
    "item_features.to_parquet(\n",
    "    os.path.join(feature_repo_path, \"data\", \"item_features.parquet\")\n",
    ")"
   ]
  },
  {
   "cell_type": "markdown",
   "id": "3935e305-d90b-45c8-86d0-582dcd4dbfbb",
   "metadata": {},
   "source": [
    "### Register features\n",
    "The Feast feature registry is a central catalog of all the feature definitions and their related metadata (read more [here](https://docs.feast.dev/getting-started/architecture-and-components/registry)). We have defined our user and item features definitions in the `user_features.py` and  `item_features.py` files.\n",
    "\n",
    "With `FeatureView()` users can register data sources in their organizations into Feast, and then use those data sources for both training and online inference. In the `user_features.py` and `item_features.py` files, we are telling Feast where to find user and item features.\n",
    "\n",
    "Before we move on to the next steps, we need to perform `feast apply`command as directed below.  With that, we register our features, we can apply the changes to create our feature registry and store all entity and feature view definitions in a local Redis database or a cloud deployed Redis if you're using the ``cloud-deployment`` folder.\n",
    "\n",
    "> NOTE: Be sure to have updated the feature_store.yaml with the correct Redis address if deploying in the cloud"
   ]
  },
  {
   "cell_type": "code",
   "execution_count": 10,
   "id": "af8754ed-90c8-41f0-ac8c-ddbf290e8f10",
   "metadata": {},
   "outputs": [
    {
     "name": "stdout",
     "output_type": "stream",
     "text": [
      "/workdir/feature_repo\n",
      "/usr/lib/python3/dist-packages/requests/__init__.py:89: RequestsDependencyWarning: urllib3 (1.26.12) or chardet (3.0.4) doesn't match a supported version!\n",
      "  warnings.warn(\"urllib3 ({}) or chardet ({}) doesn't match a supported \"\n",
      "\u001b[1m\u001b[94mNo changes to registry\n",
      "Deploying infrastructure for \u001b[1m\u001b[32muser_features\u001b[0m\n",
      "Deploying infrastructure for \u001b[1m\u001b[32mitem_features\u001b[0m\n"
     ]
    }
   ],
   "source": [
    "%cd $feature_repo_path\n",
    "!feast apply"
   ]
  },
  {
   "cell_type": "markdown",
   "id": "33b7db4c-d6ad-4099-b986-ad5f61ad1c21",
   "metadata": {},
   "source": [
    "### Materialize (Load) features from Parquet into Redis\n",
    "\n",
    "After we execute `apply` and registered our features and created our online local store, now we need to perform [materialization](https://docs.feast.dev/how-to-guides/running-feast-in-production) operation. This is done to keep our online store up to date and get it ready for prediction. For that we need to run a job that loads feature data from our feature view sources into our online store. As we add new features to our offline stores, we can continuously materialize them to keep our online store up to date by finding the latest feature values for each user. \n",
    "\n",
    "When you run the `feast materialize ..` command below, you will see a message <i>Materializing 2 feature views from 1995-01-01 01:01:01+00:00 to 2025-01-01 01:01:01+00:00 into the sqlite online store </i>  will be printed out.\n",
    "\n",
    "Note that materialization step takes some time.. "
   ]
  },
  {
   "cell_type": "code",
   "execution_count": 11,
   "id": "fe30dc97-1f0d-4f9c-a13f-ff382ef084ca",
   "metadata": {},
   "outputs": [
    {
     "name": "stdout",
     "output_type": "stream",
     "text": [
      "/usr/lib/python3/dist-packages/requests/__init__.py:89: RequestsDependencyWarning: urllib3 (1.26.12) or chardet (3.0.4) doesn't match a supported version!\n",
      "  warnings.warn(\"urllib3 ({}) or chardet ({}) doesn't match a supported \"\n",
      "Materializing \u001b[1m\u001b[32m2\u001b[0m feature views from \u001b[1m\u001b[32m1995-01-01 01:01:01+00:00\u001b[0m to \u001b[1m\u001b[32m2025-01-01 01:01:01+00:00\u001b[0m into the \u001b[1m\u001b[32mredis\u001b[0m online store.\n",
      "\n",
      "\u001b[1m\u001b[32muser_features\u001b[0m:\n",
      "100%|███████████████████████████████████████████████████████████| 654/654 [00:00<00:00, 4083.26it/s]\n",
      "\u001b[1m\u001b[32mitem_features\u001b[0m:\n",
      "100%|██████████████████████████████████████████████████████████| 658/658 [00:00<00:00, 11407.27it/s]\n"
     ]
    }
   ],
   "source": [
    "!feast materialize 1995-01-01T01:01:01 2025-01-01T01:01:01"
   ]
  },
  {
   "cell_type": "code",
   "execution_count": 12,
   "id": "657f2726-b9ea-45d2-8877-d67777d199cd",
   "metadata": {},
   "outputs": [
    {
     "data": {
      "text/plain": [
       "[user_shops-Int32,\n",
       " user_profile-Int32,\n",
       " user_group-Int32,\n",
       " user_gender-Int32,\n",
       " user_age-Int32,\n",
       " user_consumption_2-Int32,\n",
       " user_is_occupied-Int32,\n",
       " user_geography-Int32,\n",
       " user_intentions-Int32,\n",
       " user_brands-Int32,\n",
       " user_categories-Int32,\n",
       " user_id-Int32]"
      ]
     },
     "execution_count": 12,
     "metadata": {},
     "output_type": "execute_result"
    }
   ],
   "source": [
    "feature_store = feast.FeatureStore(feature_repo_path)\n",
    "feature_store.get_feature_view(\"user_features\").features"
   ]
  },
  {
   "cell_type": "code",
   "execution_count": 13,
   "id": "ff9f2f04-60b8-4b05-8af3-a18c7d4e367f",
   "metadata": {},
   "outputs": [
    {
     "name": "stdout",
     "output_type": "stream",
     "text": [
      "3.95 ms ± 12.6 µs per loop (mean ± std. dev. of 7 runs, 100 loops each)\n"
     ]
    }
   ],
   "source": [
    "%%timeit\n",
    "feature_store.get_online_features(\n",
    "    features=[\"user_features:user_id\", \"user_features:user_age\"],\n",
    "    entity_rows=[{\"user_id_raw\": 1}]\n",
    ").to_df()\n",
    "\n",
    "# Fast feature retrieval from Redis!"
   ]
  },
  {
   "cell_type": "markdown",
   "id": "ff205220-d50f-476f-8b07-f43a4082c886",
   "metadata": {},
   "source": [
    "### Explore Feature Repo Structure"
   ]
  },
  {
   "cell_type": "code",
   "execution_count": 14,
   "id": "986d53ea-c946-4046-a390-6d3b8801d280",
   "metadata": {},
   "outputs": [
    {
     "name": "stdout",
     "output_type": "stream",
     "text": [
      "feature_repo/\n",
      "├─data/\n",
      "│ ├─.gitkeep\n",
      "│ ├─item_features.parquet\n",
      "│ ├─registry.db\n",
      "│ └─user_features.parquet\n",
      "├─feature_store.yaml\n",
      "├─item_features.py\n",
      "└─user_features.py\n"
     ]
    }
   ],
   "source": [
    "import seedir as sd\n",
    "\n",
    "sd.seedir(\n",
    "    feature_repo_path,\n",
    "    style=\"lines\",\n",
    "    itemlimit=10,\n",
    "    depthlimit=3,\n",
    "    exclude_folders=[\".ipynb_checkpoints\", \"__pycache__\"],\n",
    "    sort=True,\n",
    ")"
   ]
  },
  {
   "cell_type": "markdown",
   "id": "ec175c8d-7d92-4323-bdd9-fbf7a1941b08",
   "metadata": {},
   "source": [
    "## Redis ANN Index Setup"
   ]
  },
  {
   "cell_type": "markdown",
   "id": "ff30ceab-b264-4509-9c5b-5a10425e143b",
   "metadata": {},
   "source": [
    "### Load Item Embeddings\n",
    "We will load the pre-generated Item embeddings from file in preparation for loading into the Redis Server."
   ]
  },
  {
   "cell_type": "code",
   "execution_count": 15,
   "id": "00f1fe65-882e-4962-bb16-19a130fda215",
   "metadata": {
    "tags": []
   },
   "outputs": [
    {
     "data": {
      "text/html": [
       "<div>\n",
       "<style scoped>\n",
       "    .dataframe tbody tr th:only-of-type {\n",
       "        vertical-align: middle;\n",
       "    }\n",
       "\n",
       "    .dataframe tbody tr th {\n",
       "        vertical-align: top;\n",
       "    }\n",
       "\n",
       "    .dataframe thead th {\n",
       "        text-align: right;\n",
       "    }\n",
       "</style>\n",
       "<table border=\"1\" class=\"dataframe\">\n",
       "  <thead>\n",
       "    <tr style=\"text-align: right;\">\n",
       "      <th></th>\n",
       "      <th>item_id</th>\n",
       "      <th>0</th>\n",
       "      <th>1</th>\n",
       "      <th>2</th>\n",
       "      <th>3</th>\n",
       "      <th>4</th>\n",
       "      <th>5</th>\n",
       "      <th>6</th>\n",
       "      <th>7</th>\n",
       "      <th>8</th>\n",
       "      <th>...</th>\n",
       "      <th>54</th>\n",
       "      <th>55</th>\n",
       "      <th>56</th>\n",
       "      <th>57</th>\n",
       "      <th>58</th>\n",
       "      <th>59</th>\n",
       "      <th>60</th>\n",
       "      <th>61</th>\n",
       "      <th>62</th>\n",
       "      <th>63</th>\n",
       "    </tr>\n",
       "  </thead>\n",
       "  <tbody>\n",
       "    <tr>\n",
       "      <th>0</th>\n",
       "      <td>1</td>\n",
       "      <td>-0.034885</td>\n",
       "      <td>-0.000131</td>\n",
       "      <td>0.018455</td>\n",
       "      <td>0.037430</td>\n",
       "      <td>0.026332</td>\n",
       "      <td>0.012729</td>\n",
       "      <td>0.006760</td>\n",
       "      <td>0.069112</td>\n",
       "      <td>0.044133</td>\n",
       "      <td>...</td>\n",
       "      <td>-0.027153</td>\n",
       "      <td>-0.029950</td>\n",
       "      <td>-0.020070</td>\n",
       "      <td>-0.067773</td>\n",
       "      <td>0.002420</td>\n",
       "      <td>-0.001353</td>\n",
       "      <td>-0.055582</td>\n",
       "      <td>0.042481</td>\n",
       "      <td>0.013875</td>\n",
       "      <td>0.021228</td>\n",
       "    </tr>\n",
       "    <tr>\n",
       "      <th>1</th>\n",
       "      <td>2</td>\n",
       "      <td>0.021357</td>\n",
       "      <td>-0.026375</td>\n",
       "      <td>0.069090</td>\n",
       "      <td>-0.011445</td>\n",
       "      <td>0.025277</td>\n",
       "      <td>-0.010337</td>\n",
       "      <td>0.008437</td>\n",
       "      <td>0.042574</td>\n",
       "      <td>0.060663</td>\n",
       "      <td>...</td>\n",
       "      <td>-0.037270</td>\n",
       "      <td>-0.039209</td>\n",
       "      <td>0.013558</td>\n",
       "      <td>-0.006484</td>\n",
       "      <td>-0.029601</td>\n",
       "      <td>0.073999</td>\n",
       "      <td>0.009857</td>\n",
       "      <td>-0.022534</td>\n",
       "      <td>-0.009440</td>\n",
       "      <td>-0.025069</td>\n",
       "    </tr>\n",
       "    <tr>\n",
       "      <th>2</th>\n",
       "      <td>3</td>\n",
       "      <td>-0.018197</td>\n",
       "      <td>0.017502</td>\n",
       "      <td>0.002263</td>\n",
       "      <td>0.008534</td>\n",
       "      <td>0.015912</td>\n",
       "      <td>0.006360</td>\n",
       "      <td>-0.001660</td>\n",
       "      <td>0.007613</td>\n",
       "      <td>0.054932</td>\n",
       "      <td>...</td>\n",
       "      <td>-0.045789</td>\n",
       "      <td>0.033707</td>\n",
       "      <td>-0.025606</td>\n",
       "      <td>-0.020231</td>\n",
       "      <td>0.068983</td>\n",
       "      <td>0.030158</td>\n",
       "      <td>-0.054312</td>\n",
       "      <td>-0.006741</td>\n",
       "      <td>0.026637</td>\n",
       "      <td>-0.040934</td>\n",
       "    </tr>\n",
       "    <tr>\n",
       "      <th>3</th>\n",
       "      <td>4</td>\n",
       "      <td>-0.018756</td>\n",
       "      <td>-0.057435</td>\n",
       "      <td>0.027142</td>\n",
       "      <td>0.069214</td>\n",
       "      <td>-0.014137</td>\n",
       "      <td>0.063484</td>\n",
       "      <td>0.049648</td>\n",
       "      <td>-0.000459</td>\n",
       "      <td>0.041440</td>\n",
       "      <td>...</td>\n",
       "      <td>-0.050948</td>\n",
       "      <td>-0.007804</td>\n",
       "      <td>0.001069</td>\n",
       "      <td>-0.059237</td>\n",
       "      <td>-0.018273</td>\n",
       "      <td>-0.005572</td>\n",
       "      <td>-0.017192</td>\n",
       "      <td>0.033178</td>\n",
       "      <td>0.050670</td>\n",
       "      <td>0.040354</td>\n",
       "    </tr>\n",
       "    <tr>\n",
       "      <th>4</th>\n",
       "      <td>5</td>\n",
       "      <td>0.044985</td>\n",
       "      <td>0.015847</td>\n",
       "      <td>-0.041081</td>\n",
       "      <td>-0.006620</td>\n",
       "      <td>-0.003196</td>\n",
       "      <td>-0.045210</td>\n",
       "      <td>-0.031615</td>\n",
       "      <td>-0.093638</td>\n",
       "      <td>0.007464</td>\n",
       "      <td>...</td>\n",
       "      <td>-0.014779</td>\n",
       "      <td>0.057923</td>\n",
       "      <td>-0.015743</td>\n",
       "      <td>-0.048929</td>\n",
       "      <td>0.000438</td>\n",
       "      <td>-0.043618</td>\n",
       "      <td>-0.137103</td>\n",
       "      <td>-0.019580</td>\n",
       "      <td>0.025585</td>\n",
       "      <td>0.028937</td>\n",
       "    </tr>\n",
       "  </tbody>\n",
       "</table>\n",
       "<p>5 rows × 65 columns</p>\n",
       "</div>"
      ],
      "text/plain": [
       "   item_id         0         1         2         3         4         5  \\\n",
       "0        1 -0.034885 -0.000131  0.018455  0.037430  0.026332  0.012729   \n",
       "1        2  0.021357 -0.026375  0.069090 -0.011445  0.025277 -0.010337   \n",
       "2        3 -0.018197  0.017502  0.002263  0.008534  0.015912  0.006360   \n",
       "3        4 -0.018756 -0.057435  0.027142  0.069214 -0.014137  0.063484   \n",
       "4        5  0.044985  0.015847 -0.041081 -0.006620 -0.003196 -0.045210   \n",
       "\n",
       "          6         7         8  ...        54        55        56        57  \\\n",
       "0  0.006760  0.069112  0.044133  ... -0.027153 -0.029950 -0.020070 -0.067773   \n",
       "1  0.008437  0.042574  0.060663  ... -0.037270 -0.039209  0.013558 -0.006484   \n",
       "2 -0.001660  0.007613  0.054932  ... -0.045789  0.033707 -0.025606 -0.020231   \n",
       "3  0.049648 -0.000459  0.041440  ... -0.050948 -0.007804  0.001069 -0.059237   \n",
       "4 -0.031615 -0.093638  0.007464  ... -0.014779  0.057923 -0.015743 -0.048929   \n",
       "\n",
       "         58        59        60        61        62        63  \n",
       "0  0.002420 -0.001353 -0.055582  0.042481  0.013875  0.021228  \n",
       "1 -0.029601  0.073999  0.009857 -0.022534 -0.009440 -0.025069  \n",
       "2  0.068983  0.030158 -0.054312 -0.006741  0.026637 -0.040934  \n",
       "3 -0.018273 -0.005572 -0.017192  0.033178  0.050670  0.040354  \n",
       "4  0.000438 -0.043618 -0.137103 -0.019580  0.025585  0.028937  \n",
       "\n",
       "[5 rows x 65 columns]"
      ]
     },
     "execution_count": 15,
     "metadata": {},
     "output_type": "execute_result"
    }
   ],
   "source": [
    "item_embeddings = Dataset(os.path.join(DATA_DIR, \"item_embeddings.parquet\")).to_ddf().compute()\n",
    "item_embeddings.head()"
   ]
  },
  {
   "cell_type": "code",
   "execution_count": 16,
   "id": "39a58db7-fa15-49a6-a47c-d43a66f86654",
   "metadata": {},
   "outputs": [],
   "source": [
    "import asyncio\n",
    "import redis.asyncio as redis\n",
    "from redis.commands.search.query import Query\n",
    "from redis.commands.search.indexDefinition import IndexDefinition, IndexType\n",
    "from redis.commands.search.field import VectorField\n",
    "\n",
    "# Connect to the Redis client\n",
    "host, port = os.environ[\"FEATURE_STORE_ADDRESS\"].split(\":\")\n",
    "redis_conn = redis.Redis(host=host, port=port)"
   ]
  },
  {
   "cell_type": "code",
   "execution_count": 17,
   "id": "bf71e416-face-4adf-9b5f-579308f495cf",
   "metadata": {
    "tags": []
   },
   "outputs": [
    {
     "data": {
      "text/plain": [
       "b'OK'"
      ]
     },
     "execution_count": 17,
     "metadata": {},
     "output_type": "execute_result"
    }
   ],
   "source": [
    "# Define Redis ANN Index Params and Fields\n",
    "INDEX_NAME = \"candidate_index\"\n",
    "VECTOR_FIELD_NAME = \"item_embedding\"\n",
    "\n",
    "vector_field = VectorField(\n",
    "    VECTOR_FIELD_NAME,\n",
    "    \"HNSW\", {\n",
    "        \"TYPE\": \"FLOAT32\",\n",
    "        \"DIM\": 64,\n",
    "        \"DISTANCE_METRIC\": \"IP\",\n",
    "        \"INITIAL_CAP\": len(item_embeddings),\n",
    "    }\n",
    ")\n",
    "\n",
    "# Create ANN Index\n",
    "await redis_conn.ft(INDEX_NAME).create_index(\n",
    "    fields = [vector_field],\n",
    "    definition= IndexDefinition(prefix=[\"ITEM:\"], index_type=IndexType.HASH)\n",
    ")"
   ]
  },
  {
   "cell_type": "code",
   "execution_count": 18,
   "id": "58199275-78f5-45de-8819-3a081da8d5be",
   "metadata": {},
   "outputs": [],
   "source": [
    "# Function to write item embeddings to Redis\n",
    "async def write_item_embeddings(embs, n: int, redis_conn: redis.Redis):\n",
    "    semaphore = asyncio.Semaphore(n)\n",
    "    async def write(row):\n",
    "        async with semaphore:\n",
    "            item_id = int(row.pop(\"item_id\"))\n",
    "            entry = {\n",
    "                \"item_id\": item_id,\n",
    "                VECTOR_FIELD_NAME: np.array(row.values, dtype=np.float32).tobytes()\n",
    "            }\n",
    "            await redis_conn.hset(f\"ITEM:{item_id}\", mapping=entry)\n",
    "    asyncio.gather(*[write(row[1]) for row in embs.iterrows()])"
   ]
  },
  {
   "cell_type": "code",
   "execution_count": 19,
   "id": "40bdf656-65af-492a-a88f-7aae46581812",
   "metadata": {},
   "outputs": [],
   "source": [
    "# Write embeddings to Redis ANN Index created above\n",
    "await write_item_embeddings(item_embeddings, 100, redis_conn)"
   ]
  },
  {
   "cell_type": "code",
   "execution_count": 20,
   "id": "c74d0ed5-4f11-4312-b5a5-13e74d5cd365",
   "metadata": {
    "tags": []
   },
   "outputs": [
    {
     "data": {
      "text/plain": [
       "{'index_name': 'candidate_index',\n",
       " 'index_options': [],\n",
       " 'index_definition': [b'key_type',\n",
       "  b'HASH',\n",
       "  b'prefixes',\n",
       "  [b'ITEM:'],\n",
       "  b'default_score',\n",
       "  b'1'],\n",
       " 'attributes': [[b'identifier',\n",
       "   b'item_embedding',\n",
       "   b'attribute',\n",
       "   b'item_embedding',\n",
       "   b'type',\n",
       "   b'VECTOR']],\n",
       " 'num_docs': '100',\n",
       " 'max_doc_id': '100',\n",
       " 'num_terms': '0',\n",
       " 'num_records': '100',\n",
       " 'inverted_sz_mb': '0',\n",
       " 'vector_index_sz_mb': '0.28116989135742188',\n",
       " 'total_inverted_index_blocks': '0',\n",
       " 'offset_vectors_sz_mb': '0',\n",
       " 'doc_table_size_mb': '0.006954193115234375',\n",
       " 'sortable_values_size_mb': '0',\n",
       " 'key_table_size_mb': '0.0027933120727539062',\n",
       " 'records_per_doc_avg': '1',\n",
       " 'bytes_per_record_avg': '0',\n",
       " 'offsets_per_term_avg': '0',\n",
       " 'offset_bits_per_record_avg': '-nan',\n",
       " 'hash_indexing_failures': '0',\n",
       " 'total_indexing_time': '1.905',\n",
       " 'indexing': '0',\n",
       " 'percent_indexed': '1',\n",
       " 'number_of_uses': 1,\n",
       " 'gc_stats': [b'bytes_collected',\n",
       "  b'0',\n",
       "  b'total_ms_run',\n",
       "  b'0',\n",
       "  b'total_cycles',\n",
       "  b'0',\n",
       "  b'average_cycle_time_ms',\n",
       "  b'-nan',\n",
       "  b'last_run_time_ms',\n",
       "  b'0',\n",
       "  b'gc_numeric_trees_missed',\n",
       "  b'0',\n",
       "  b'gc_blocks_denied',\n",
       "  b'0'],\n",
       " 'cursor_stats': [b'global_idle',\n",
       "  0,\n",
       "  b'global_total',\n",
       "  0,\n",
       "  b'index_capacity',\n",
       "  128,\n",
       "  b'index_total',\n",
       "  0],\n",
       " 'dialect_stats': [b'dialect_1', 0, b'dialect_2', 0, b'dialect_3', 0]}"
      ]
     },
     "execution_count": 20,
     "metadata": {},
     "output_type": "execute_result"
    }
   ],
   "source": [
    "# Verify Index Construction\n",
    "await redis_conn.ft(INDEX_NAME).info()"
   ]
  },
  {
   "cell_type": "code",
   "execution_count": 21,
   "id": "2fd490e4-04f7-4d92-926c-8474eea2732b",
   "metadata": {},
   "outputs": [],
   "source": [
    "# Fetch an Item ID\n",
    "item_ids = [key for key in await redis_conn.keys() if b\"ITEM:\" in key]\n",
    "item_id = item_ids[0]\n",
    "\n",
    "# Fetch a testing input vector\n",
    "test_vector = await redis_conn.hget(item_id.decode(\"utf\"), VECTOR_FIELD_NAME)\n",
    "\n",
    "# Create a Redis VSS Query\n",
    "query = Query(f\"*=>[KNN 10 @{VECTOR_FIELD_NAME} $vec_param AS vector_score]\")\\\n",
    "    .sort_by(\"vector_score\")\\\n",
    "    .return_fields(\"id\", \"vector_score\")\\\n",
    "    .dialect(2)\n",
    "\n",
    "# Search for KNN\n",
    "k_nearest_neighbors = await redis_conn.ft(INDEX_NAME).search(query, query_params={\"vec_param\": test_vector})"
   ]
  },
  {
   "cell_type": "code",
   "execution_count": 22,
   "id": "fa78686b-e2c5-449c-a9d9-26e0415f8963",
   "metadata": {},
   "outputs": [
    {
     "data": {
      "text/plain": [
       "[Document {'id': 'ITEM:78', 'payload': None, 'vector_score': '0.918215274811'},\n",
       " Document {'id': 'ITEM:51', 'payload': None, 'vector_score': '0.925500392914'},\n",
       " Document {'id': 'ITEM:86', 'payload': None, 'vector_score': '0.92994427681'},\n",
       " Document {'id': 'ITEM:98', 'payload': None, 'vector_score': '0.933368206024'},\n",
       " Document {'id': 'ITEM:175', 'payload': None, 'vector_score': '0.935036063194'},\n",
       " Document {'id': 'ITEM:103', 'payload': None, 'vector_score': '0.940324306488'},\n",
       " Document {'id': 'ITEM:79', 'payload': None, 'vector_score': '0.942311763763'},\n",
       " Document {'id': 'ITEM:64', 'payload': None, 'vector_score': '0.944746255875'},\n",
       " Document {'id': 'ITEM:276', 'payload': None, 'vector_score': '0.945177614689'},\n",
       " Document {'id': 'ITEM:163', 'payload': None, 'vector_score': '0.945328950882'}]"
      ]
     },
     "execution_count": 22,
     "metadata": {},
     "output_type": "execute_result"
    }
   ],
   "source": [
    "# Inspect results\n",
    "k_nearest_neighbors.docs"
   ]
  },
  {
   "cell_type": "markdown",
   "id": "80678ea1-a7fb-4016-9e6f-c905497f4142",
   "metadata": {},
   "source": [
    "### Next Steps\n",
    "In this notebook we created our Feast Feature Store and setup the Redis ANN Index. Next, we will deploy our trained models into [Triton Inference Server (TIS)](https://github.com/triton-inference-server/server).\n",
    "\n",
    "For the next step, move on to the [`02-Deploying-Online-Multi-Stage-Recsys-with-Triton.ipynb`](./02-Deploying-Online-Multi-Stage-Redsys-with-Triton.ipynb) notebook to deploy our saved models as an ensemble to TIS and obtain prediction results for a given request."
   ]
  }
 ],
 "metadata": {
  "kernelspec": {
   "display_name": "Python 3 (ipykernel)",
   "language": "python",
   "name": "python3"
  },
  "language_info": {
   "codemirror_mode": {
    "name": "ipython",
    "version": 3
   },
   "file_extension": ".py",
   "mimetype": "text/x-python",
   "name": "python",
   "nbconvert_exporter": "python",
   "pygments_lexer": "ipython3",
   "version": "3.8.10"
  },
  "merlin": {
   "containers": [
    "nvcr.io/nvidia/merlin/merlin-tensorflow-inference:latest"
   ]
  },
  "vscode": {
   "interpreter": {
    "hash": "31f2aee4e71d21fbe5cf8b01ff0e069b9275f58929596ceb00d14d90e3e16cd6"
   }
  }
 },
 "nbformat": 4,
 "nbformat_minor": 5
}
